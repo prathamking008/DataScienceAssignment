{
 "cells": [
  {
   "cell_type": "markdown",
   "id": "fd994b39",
   "metadata": {},
   "source": [
    "Q.1 Can you explain the logic and working of the Tower of Hanoi algorithm by writing a Java program?\n",
    "How does the recursion work, and how are the movements of disks between rods accomplished?"
   ]
  },
  {
   "cell_type": "markdown",
   "id": "1bb58cc3",
   "metadata": {},
   "source": [
    "The tower of Hanoi is a classical problem that involves moving a stack of disks from one rod to another rod, subject to the following constraints:-\n",
    "\n",
    "1. Only one disk can be moved at a time.\n",
    "2. A disk can only be moved to the top of another rod if it is similar than the disk already on that road.\n",
    "3. No disk may be placed on a top of smaller disk.\n",
    "\n",
    "The problem can be solved using recusive algorithm, below is python program that demonstrate the Tower of Hanoi algorithm:-"
   ]
  },
  {
   "cell_type": "code",
   "execution_count": 4,
   "id": "23ed66e2",
   "metadata": {},
   "outputs": [
    {
     "name": "stdout",
     "output_type": "stream",
     "text": [
      "Move disk 1 from A to C.\n",
      "Move disk 2 from A to B.\n",
      "Move disk 1 from C to B.\n",
      "Move disk 3 from A to C.\n",
      "Move disk 1 from B to A.\n",
      "Move disk 2 from B to C.\n",
      "Move disk 1 from A to C.\n"
     ]
    }
   ],
   "source": [
    "def towerOfHanoi(n, source, target, auxiliary):\n",
    "    if n>0:\n",
    "        #Move n-1 disk from source to auxiliary rod\n",
    "        towerOfHanoi(n-1, source, auxiliary, target)\n",
    "        \n",
    "        #Move the nth disk from source to target rod\n",
    "        print(f'Move disk {n} from {source} to {target}.')\n",
    "        \n",
    "        #Move the n-1 disks from auxiliary rod to target rod\n",
    "        towerOfHanoi(n-1, auxiliary, target, source)\n",
    "        \n",
    "number_of_disks = 3\n",
    "towerOfHanoi(number_of_disks, 'A', 'C', 'B')"
   ]
  },
  {
   "cell_type": "markdown",
   "id": "2607acf0",
   "metadata": {},
   "source": [
    "Q.2 Given two strings word1 and word2, return the minimum number of operations required to convert word1\n",
    "to word2."
   ]
  },
  {
   "cell_type": "code",
   "execution_count": 21,
   "id": "22af8769",
   "metadata": {},
   "outputs": [
    {
     "name": "stdout",
     "output_type": "stream",
     "text": [
      "3\n"
     ]
    }
   ],
   "source": [
    "def minNumberOfOperation(word1, word2):\n",
    "    memo = {}\n",
    "    \n",
    "    def operation(i, j):\n",
    "        if (i, j) in memo:\n",
    "            return memo[(i, j)]\n",
    "        \n",
    "        #Base case\n",
    "        if i == len(word1):\n",
    "            return len(word2) - j\n",
    "        if j == len(word2):\n",
    "            return len(word1) - i\n",
    "        \n",
    "        #Recursive case\n",
    "        if word1[i] == word2[j]:\n",
    "            memo[(i, j)] = operation(i + 1, j + 1)\n",
    "        else:\n",
    "            insert = 1 + operation(i, j + 1)     \n",
    "            delete = 1 + operation(i + 1, j)     \n",
    "            replace = 1 + operation(i + 1, j + 1)  \n",
    "            memo[(i, j)] = min(insert, delete, replace)\n",
    "            \n",
    "        return memo[(i, j)]\n",
    "\n",
    "    return operation(0, 0)\n",
    "\n",
    "word1 = 'horse'\n",
    "word2 = 'ros'\n",
    "result = minNumberOfOperation(word1, word2)\n",
    "print(result)\n",
    "        "
   ]
  },
  {
   "cell_type": "markdown",
   "id": "120d0ef4",
   "metadata": {},
   "source": [
    "Q. 3 Print the max value of the array [ 13, 1, -3, 22, 5]."
   ]
  },
  {
   "cell_type": "code",
   "execution_count": 23,
   "id": "f7938342",
   "metadata": {},
   "outputs": [
    {
     "name": "stdout",
     "output_type": "stream",
     "text": [
      "23\n"
     ]
    }
   ],
   "source": [
    "def findMaxValue(arr, index):\n",
    "    #Base case: If there is only one element, return that element only\n",
    "    if index == 0:\n",
    "        return arr[0]\n",
    "    \n",
    "    #Recurssive case: Compare the current element with the maximum of the rest of the array\n",
    "    current_max = arr[index]\n",
    "    rest_max = findMaxValue(arr, index-1)\n",
    "    \n",
    "    return max(current_max, rest_max)\n",
    "\n",
    "arr = [12, -50, 23, 2, 5]\n",
    "result = findMaxValue(arr, len(arr)-1)\n",
    "print(result)"
   ]
  },
  {
   "cell_type": "markdown",
   "id": "e5b62931",
   "metadata": {},
   "source": [
    "Q.4 Find the sum of the values of the array [92, 23, 15, -20, 10]."
   ]
  },
  {
   "cell_type": "code",
   "execution_count": 26,
   "id": "6c3c4afd",
   "metadata": {},
   "outputs": [
    {
     "name": "stdout",
     "output_type": "stream",
     "text": [
      "50\n"
     ]
    }
   ],
   "source": [
    "def sumOfTheValues(arr, index):\n",
    "    #Base case: If the index is at the end of the array\n",
    "    if index == len(arr):\n",
    "        return 0\n",
    "    \n",
    "    #Recursive case: Add the current element to the sum of the rest of the array\n",
    "    current_sum = arr[index]\n",
    "    reset_sum = sumOfTheValues(arr, index+1)\n",
    "    \n",
    "    return current_sum + reset_sum\n",
    "\n",
    "arr = [12, 23, 4, 11]\n",
    "result = sumOfTheValues(arr, 0)\n",
    "print(result)"
   ]
  },
  {
   "cell_type": "markdown",
   "id": "e2f57bb1",
   "metadata": {},
   "source": [
    "Q.5 Given a number n. Print if it is an armstrong number or not.An armstrong number is a number if the sum\n",
    "of every digit in that number raised to the power of total digits in that number is equal to the number."
   ]
  },
  {
   "cell_type": "code",
   "execution_count": 29,
   "id": "f315b03b",
   "metadata": {},
   "outputs": [
    {
     "name": "stdout",
     "output_type": "stream",
     "text": [
      "Enter a number: 121\n",
      "121 is not an Armstrong number.\n"
     ]
    }
   ],
   "source": [
    "def isArmstrong(n, original_n = None, num_digits = None):\n",
    "    #Initialization on the first call\n",
    "    if original_n is None:\n",
    "        original_n = n\n",
    "        num_digits = 0\n",
    "        temp_n = n\n",
    "        while temp_n > 0:\n",
    "            num_digits+=1\n",
    "            temp_n//=10\n",
    "            \n",
    "    #Base case: if n is 0, its an armstrong number\n",
    "    if n == 0:\n",
    "        return original_n == 0\n",
    "    \n",
    "    #Recursive case: Chcek the sum of digits\n",
    "    digit = n % 10\n",
    "    return (digit**num_digits) + isArmstrong(n//10, original_n, num_digits)\n",
    "\n",
    "\n",
    "number = int(input(\"Enter a number: \"))\n",
    "result = isArmstrong(number)\n",
    "\n",
    "if result == number:\n",
    "    print(f\"{number} is an Armstrong number.\")\n",
    "else:\n",
    "    print(f\"{number} is not an Armstrong number.\")\n",
    "    "
   ]
  }
 ],
 "metadata": {
  "kernelspec": {
   "display_name": "Python 3",
   "language": "python",
   "name": "python3"
  },
  "language_info": {
   "codemirror_mode": {
    "name": "ipython",
    "version": 3
   },
   "file_extension": ".py",
   "mimetype": "text/x-python",
   "name": "python",
   "nbconvert_exporter": "python",
   "pygments_lexer": "ipython3",
   "version": "3.8.8"
  }
 },
 "nbformat": 4,
 "nbformat_minor": 5
}

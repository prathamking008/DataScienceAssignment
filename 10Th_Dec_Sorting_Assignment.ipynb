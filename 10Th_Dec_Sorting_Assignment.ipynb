{
 "cells": [
  {
   "cell_type": "markdown",
   "id": "727cb536",
   "metadata": {},
   "source": [
    "Problem 1.Given an array of n numbers, give an algorithm which gives the element appearing maximum\n",
    "number of times?"
   ]
  },
  {
   "cell_type": "code",
   "execution_count": 1,
   "id": "19840ca2",
   "metadata": {},
   "outputs": [],
   "source": [
    "arr = [2, 3, 5, 2, 3, 1, 3, 3]"
   ]
  },
  {
   "cell_type": "code",
   "execution_count": 2,
   "id": "b0ff6ed3",
   "metadata": {},
   "outputs": [
    {
     "data": {
      "text/plain": [
       "3"
      ]
     },
     "execution_count": 2,
     "metadata": {},
     "output_type": "execute_result"
    }
   ],
   "source": [
    "def find_max_no_times(arr):\n",
    "    uniqueElements = []\n",
    "    frequnecies = []\n",
    "    \n",
    "    for i in arr:\n",
    "        if i in uniqueElements:\n",
    "            index = uniqueElements.index(i)\n",
    "            frequnecies[index]+=1\n",
    "        else:\n",
    "            uniqueElements.append(i)\n",
    "            frequnecies.append(1)\n",
    "            \n",
    "    maxFrequencyIndex = frequnecies.index(max(frequnecies))\n",
    "    \n",
    "    return uniqueElements[maxFrequencyIndex]\n",
    "\n",
    "find_max_no_times(arr)"
   ]
  },
  {
   "cell_type": "markdown",
   "id": "dfce6067",
   "metadata": {},
   "source": [
    "Problem 2 : We are given a list of n-1 integers and these integers are in the range of 1 to n . There are no\n",
    "duplicates in the list. One of the integers is missing in the list. Give an algorithm to find that element Ex:\n",
    "[1,2,4,6,3,7,8] 5 is the missing num."
   ]
  },
  {
   "cell_type": "code",
   "execution_count": 3,
   "id": "7ccfafe1",
   "metadata": {},
   "outputs": [],
   "source": [
    "arr = [1, 2, 4, 6, 3, 7, 8]"
   ]
  },
  {
   "cell_type": "code",
   "execution_count": 4,
   "id": "ad9f6355",
   "metadata": {},
   "outputs": [
    {
     "name": "stdout",
     "output_type": "stream",
     "text": [
      "5\n"
     ]
    }
   ],
   "source": [
    "def findMissingNum(arr):\n",
    "    arr.sort()\n",
    "    for i in range(1, len(arr)):   \n",
    "        if i == arr[i-1]:\n",
    "            pass\n",
    "        else:\n",
    "            print(i)\n",
    "            break\n",
    "        \n",
    "        \n",
    "findMissingNum(arr)"
   ]
  },
  {
   "cell_type": "code",
   "execution_count": 5,
   "id": "a25c614a",
   "metadata": {},
   "outputs": [
    {
     "data": {
      "text/plain": [
       "5"
      ]
     },
     "execution_count": 5,
     "metadata": {},
     "output_type": "execute_result"
    }
   ],
   "source": [
    "def find_missing_num(arr):\n",
    "    n = len(arr)+1\n",
    "    \n",
    "    expected_sum = (n*(n+1))//2\n",
    "    \n",
    "    actual_sum = sum(arr)\n",
    "    \n",
    "    missing_num = expected_sum - actual_sum\n",
    "    \n",
    "    return missing_num\n",
    "\n",
    "find_missing_num(arr)"
   ]
  },
  {
   "cell_type": "code",
   "execution_count": 6,
   "id": "48b022d1",
   "metadata": {},
   "outputs": [
    {
     "data": {
      "text/plain": [
       "5"
      ]
     },
     "execution_count": 6,
     "metadata": {},
     "output_type": "execute_result"
    }
   ],
   "source": [
    "def find_missing_number(arr):\n",
    "    n = len(arr)+1\n",
    "    \n",
    "    expected_sum = (n*(n+1))//2\n",
    "    \n",
    "    actual_sum = 0\n",
    "    \n",
    "    for i in arr:\n",
    "        actual_sum+=i\n",
    "        \n",
    "    missing_num = expected_sum - actual_sum\n",
    "    \n",
    "    return missing_num\n",
    "\n",
    "find_missing_number(arr)"
   ]
  },
  {
   "cell_type": "markdown",
   "id": "9b438506",
   "metadata": {},
   "source": [
    "Problem 3 : Given an array of n positive numbers. All numbers occurs even number of times except 1 which\n",
    "occurs odd number of times. Find that number in O(n) time and O(1) space. Ex: [1,2,3,2,3,1,3]. 3 is repeats odd\n",
    "times."
   ]
  },
  {
   "cell_type": "code",
   "execution_count": 7,
   "id": "75645dfd",
   "metadata": {},
   "outputs": [],
   "source": [
    "arr = [1,2,3,2,3,1,3]"
   ]
  },
  {
   "cell_type": "code",
   "execution_count": 8,
   "id": "4b72902e",
   "metadata": {},
   "outputs": [
    {
     "data": {
      "text/plain": [
       "3"
      ]
     },
     "execution_count": 8,
     "metadata": {},
     "output_type": "execute_result"
    }
   ],
   "source": [
    "def findOddNumbers(arr):\n",
    "    unique_elements = []\n",
    "    occurances = []\n",
    "    for i in arr:\n",
    "        if i in unique_elements:\n",
    "            index = unique_elements.index(i)\n",
    "            occurances[index]+=1\n",
    "        else:\n",
    "            unique_elements.append(i)\n",
    "            occurances.append(1)        \n",
    "    for j in occurances:\n",
    "        if j%2 == 0:\n",
    "            pass\n",
    "        else:\n",
    "            return unique_elements[occurances.index(j)]\n",
    "            break\n",
    "\n",
    "findOddNumbers(arr)"
   ]
  },
  {
   "cell_type": "code",
   "execution_count": 9,
   "id": "b335e04e",
   "metadata": {},
   "outputs": [
    {
     "data": {
      "text/plain": [
       "3"
      ]
     },
     "execution_count": 9,
     "metadata": {},
     "output_type": "execute_result"
    }
   ],
   "source": [
    "def find_odd_nums(arr):\n",
    "    for i in arr:\n",
    "        if arr.count(i)%2 == 0:\n",
    "            pass\n",
    "        else:\n",
    "            return i\n",
    "            break\n",
    "find_odd_nums([1,2,3,2,3,1,3])"
   ]
  },
  {
   "cell_type": "markdown",
   "id": "7f69ec1c",
   "metadata": {},
   "source": [
    "Problem 4 : Given an array of n elements. Find two elements in the array such that their sum is equal to given\n",
    "element K."
   ]
  },
  {
   "cell_type": "code",
   "execution_count": 10,
   "id": "c0d89771",
   "metadata": {},
   "outputs": [],
   "source": [
    "arr = [1, 2, 3, 4, 5, 6]\n",
    "k = 4\n",
    "\n",
    "def find_two_elements(arr, k):\n",
    "    for i in range(0, len(arr)):\n",
    "        if k == arr[i] + arr[i-1]:\n",
    "            return arr[i], arr[i-1]\n",
    "        \n",
    "find_two_elements(arr, k)"
   ]
  },
  {
   "cell_type": "code",
   "execution_count": 11,
   "id": "d1aae40e",
   "metadata": {},
   "outputs": [
    {
     "data": {
      "text/plain": [
       "(5, 6)"
      ]
     },
     "execution_count": 11,
     "metadata": {},
     "output_type": "execute_result"
    }
   ],
   "source": [
    "arr = [1, 2, 3, 4, 5, 6]\n",
    "k = 11\n",
    "\n",
    "def findTwoNums(arr, k):\n",
    "    for i in range(0, len(arr)):\n",
    "        for j in range(1, len(arr)):\n",
    "            if arr[i] + arr[j] == k:\n",
    "                return arr[i], arr[j]\n",
    "findTwoNums(arr, k)    \n",
    "\n",
    "#Time complexity is O(n**2)"
   ]
  },
  {
   "cell_type": "code",
   "execution_count": 12,
   "id": "d96d41bf",
   "metadata": {},
   "outputs": [
    {
     "data": {
      "text/plain": [
       "(5, 6)"
      ]
     },
     "execution_count": 12,
     "metadata": {},
     "output_type": "execute_result"
    }
   ],
   "source": [
    "arr = [1, 2, 3, 4, 5, 6]\n",
    "k = 11\n",
    "\n",
    "def find_two_nums(arr, k):\n",
    "    unique_nums = set()\n",
    "    \n",
    "    for i in arr:\n",
    "        complement = k - i\n",
    "        if complement in unique_nums:\n",
    "            return complement, i\n",
    "        unique_nums.add(i)\n",
    "        \n",
    "    return None\n",
    "\n",
    "find_two_nums(arr, k)\n",
    "\n",
    "#Time complexity is O(n)"
   ]
  },
  {
   "cell_type": "markdown",
   "id": "c08328bb",
   "metadata": {},
   "source": [
    "Problem 5 : Given an array of both positive and negative numbers, find two numbers such that their sum is\n",
    "closest to 0. Ex: [ 1 ,60 ,-10, 70, -80, 85]. Ans : -80,85."
   ]
  },
  {
   "cell_type": "code",
   "execution_count": 13,
   "id": "da4c4101",
   "metadata": {},
   "outputs": [
    {
     "data": {
      "text/plain": [
       "(-80, 85)"
      ]
     },
     "execution_count": 13,
     "metadata": {},
     "output_type": "execute_result"
    }
   ],
   "source": [
    "arr = [1, 60, -10, 70, -80, 85]\n",
    "\n",
    "def sumIsClosest(arr):\n",
    "    result = []\n",
    "    for i in range(0, len(arr)):\n",
    "        for j in range(i+1, len(arr)):\n",
    "            result.append(abs(arr[i]+arr[j]))   \n",
    "    result.sort()\n",
    "    min_value = result[0]\n",
    "    \n",
    "    for k in arr:\n",
    "        compliment = min_value-k\n",
    "        if compliment in arr[1:]:\n",
    "            return k, compliment\n",
    "  \n",
    "sumIsClosest(arr)       "
   ]
  },
  {
   "cell_type": "markdown",
   "id": "6d0f45d5",
   "metadata": {},
   "source": [
    "Problem 6 : Given an array of n elements . Find three elements such that their sum is equal to the given\n",
    "number."
   ]
  },
  {
   "cell_type": "code",
   "execution_count": 14,
   "id": "5308ea10",
   "metadata": {},
   "outputs": [
    {
     "data": {
      "text/plain": [
       "(11, 8, 5)"
      ]
     },
     "execution_count": 14,
     "metadata": {},
     "output_type": "execute_result"
    }
   ],
   "source": [
    "arr = [23, 11, 8, 15, 5, 4, 2]\n",
    "targeted_sum = 24\n",
    "\n",
    "def findThreeNums(arr, k):\n",
    "    for i in range(0, len(arr)):\n",
    "        for j in range(i+1, len(arr)):\n",
    "            for k in range(j+1, len(arr)):\n",
    "                if targeted_sum == arr[i] + arr[j] + arr[k]:\n",
    "                    return arr[i], arr[j], arr[k]\n",
    "                \n",
    "findThreeNums(arr, k)  \n",
    "#Time complexity = O(n**3)"
   ]
  },
  {
   "cell_type": "code",
   "execution_count": 15,
   "id": "087c4033",
   "metadata": {},
   "outputs": [
    {
     "data": {
      "text/plain": [
       "(4, 5, 15)"
      ]
     },
     "execution_count": 15,
     "metadata": {},
     "output_type": "execute_result"
    }
   ],
   "source": [
    "arr = [23, 11, 8, 15, 5, 4, 2]\n",
    "k = 24\n",
    "\n",
    "def findTriplests(arr, k):\n",
    "    arr.sort()\n",
    "    for i in range(len(arr)):\n",
    "        left, right = i+1, len(arr)-1\n",
    "        while left < right:\n",
    "            current_sum = arr[i] + arr[left] + arr[right]\n",
    "            if current_sum == k:\n",
    "                return arr[i], arr[left], arr[right]\n",
    "            elif current_sum < k:\n",
    "                left +=1\n",
    "            else:\n",
    "                right -=1\n",
    "                \n",
    "findTriplests(arr, k)"
   ]
  },
  {
   "cell_type": "markdown",
   "id": "99610099",
   "metadata": {},
   "source": [
    "Problem 7 : Given an array of n elements . Find three elements i, j, k in the array such that\n",
    "i * i + j * j = k*k."
   ]
  },
  {
   "cell_type": "code",
   "execution_count": 16,
   "id": "64927d19",
   "metadata": {},
   "outputs": [
    {
     "data": {
      "text/plain": [
       "(3, 4, 5)"
      ]
     },
     "execution_count": 16,
     "metadata": {},
     "output_type": "execute_result"
    }
   ],
   "source": [
    "arr = [2, 5, 3, 1, 4]\n",
    "\n",
    "def findPythogoreanTriplets(arr):\n",
    "    arr.sort()\n",
    "    \n",
    "    for i in range(len(arr)):\n",
    "        left, right = i+1, len(arr)-1\n",
    "        while left<right:\n",
    "            current_sum = arr[left]*arr[left] + arr[i]*arr[i]\n",
    "            if arr[right]*arr[right] == current_sum:\n",
    "                return arr[i], arr[left], arr[right]\n",
    "            elif current_sum < arr[right]*arr[right]:\n",
    "                left +=1\n",
    "            else:\n",
    "                right -=1\n",
    " \n",
    "\n",
    "findPythogoreanTriplets(arr)"
   ]
  },
  {
   "cell_type": "markdown",
   "id": "1f85cb48",
   "metadata": {},
   "source": [
    "Problem 8 : An element is a majority if it appears more than n/2 times. Give an algorithm takes an array of n\n",
    "element as argument and identifies a majority (if it exists)."
   ]
  },
  {
   "cell_type": "code",
   "execution_count": 17,
   "id": "566e7916",
   "metadata": {},
   "outputs": [
    {
     "data": {
      "text/plain": [
       "2"
      ]
     },
     "execution_count": 17,
     "metadata": {},
     "output_type": "execute_result"
    }
   ],
   "source": [
    "arr = [2, 3, 2, 5, 4, 2, 2]\n",
    "\n",
    "def findMajorityElements(arr):\n",
    "    unique_elements = []\n",
    "    occurance = []\n",
    "    for i in arr:\n",
    "        if i in unique_elements:\n",
    "            occurance[unique_elements.index(i)]+=1\n",
    "        else:\n",
    "            unique_elements.append(i)\n",
    "            occurance.append(1)\n",
    "            \n",
    "    for j in range(0, len(occurance)):\n",
    "        if occurance[j] > int(len(arr)/2):\n",
    "            return arr[j]\n",
    "        \n",
    "    return None\n",
    "            \n",
    "\n",
    "findMajorityElements(arr)"
   ]
  },
  {
   "cell_type": "markdown",
   "id": "148b66b1",
   "metadata": {},
   "source": [
    "Problem 9 : Given n × n matrix, and in each row all 1’s are followed by 0’s. Find the row with the maximum\n",
    "number of 0’s."
   ]
  },
  {
   "cell_type": "code",
   "execution_count": 18,
   "id": "fff2611c",
   "metadata": {},
   "outputs": [
    {
     "data": {
      "text/plain": [
       "[1, 0, 0, 0, 0]"
      ]
     },
     "execution_count": 18,
     "metadata": {},
     "output_type": "execute_result"
    }
   ],
   "source": [
    "matrix = [\n",
    "    [1, 1, 0, 0, 0],\n",
    "    [1, 0, 0, 0, 0], \n",
    "    [1, 1, 1, 0, 0],\n",
    "    [1, 1, 1, 1, 0],\n",
    "    [1, 1, 0, 0, 0]\n",
    "]\n",
    "\n",
    "def findRowWithMaxZero(matrix):\n",
    "    max_zeros_rows = -1\n",
    "    max_zeros_count = -1\n",
    "    \n",
    "    for i in range(len(matrix)):\n",
    "        zeros_count = matrix[i].count(0)\n",
    "        \n",
    "        if zeros_count > max_zeros_count:\n",
    "            max_zeros_count = zeros_count\n",
    "            max_zeros_rows = i\n",
    "    return matrix[max_zeros_rows]\n",
    "\n",
    "findRowWithMaxZero(matrix)  "
   ]
  },
  {
   "cell_type": "markdown",
   "id": "fc6d12e2",
   "metadata": {},
   "source": [
    "Problem 10 : Sort an array of 0’s, 1’s and 2’s [or R’s, G’s and B’s]: Given an array A[] consisting of 0’s, 1’s and\n",
    "2’s, give an algorithm for sorting A[].The algorithm should put all 0’s first, then all 1’s and finally all 2’s at the\n",
    "end. Example Input = {0,1,1,0,1,2,1,2,0,0,0,1}, Output = {0,0,0,0,0,1,1,1,1,1,2,2}"
   ]
  },
  {
   "cell_type": "code",
   "execution_count": 19,
   "id": "02a20baa",
   "metadata": {},
   "outputs": [
    {
     "data": {
      "text/plain": [
       "[0, 0, 0, 0, 0, 1, 1, 1, 1, 1, 2, 2]"
      ]
     },
     "execution_count": 19,
     "metadata": {},
     "output_type": "execute_result"
    }
   ],
   "source": [
    "Input = [0,1,1,0,1,2,1,2,0,0,0,1]\n",
    "Output = [0,0,0,0,0,1,1,1,1,1,2,2]\n",
    "\n",
    "\n",
    "def zeroFirstThenOne(arr):\n",
    "    output = []\n",
    "    for i in arr:\n",
    "        if i == 0:\n",
    "            output.append(i)\n",
    "    for i in arr:\n",
    "        if i == 1:\n",
    "           output.append(i)\n",
    "    for i in arr:\n",
    "        if i == 2:\n",
    "           output.append(i)  \n",
    "    return output\n",
    "            \n",
    "zeroFirstThenOne(Input)   "
   ]
  }
 ],
 "metadata": {
  "kernelspec": {
   "display_name": "Python 3",
   "language": "python",
   "name": "python3"
  },
  "language_info": {
   "codemirror_mode": {
    "name": "ipython",
    "version": 3
   },
   "file_extension": ".py",
   "mimetype": "text/x-python",
   "name": "python",
   "nbconvert_exporter": "python",
   "pygments_lexer": "ipython3",
   "version": "3.8.8"
  }
 },
 "nbformat": 4,
 "nbformat_minor": 5
}

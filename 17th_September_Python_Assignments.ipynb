{
 "cells": [
  {
   "cell_type": "code",
   "execution_count": 1,
   "id": "e2526080",
   "metadata": {},
   "outputs": [
    {
     "data": {
      "text/plain": [
       "'1. Write a Python program to print numbers from 1 to 10 using a for loop.'"
      ]
     },
     "execution_count": 1,
     "metadata": {},
     "output_type": "execute_result"
    }
   ],
   "source": [
    "'''1. Write a Python program to print numbers from 1 to 10 using a for loop.'''"
   ]
  },
  {
   "cell_type": "code",
   "execution_count": 2,
   "id": "7e0f66af",
   "metadata": {},
   "outputs": [
    {
     "name": "stdout",
     "output_type": "stream",
     "text": [
      "1\n",
      "2\n",
      "3\n",
      "4\n",
      "5\n",
      "6\n",
      "7\n",
      "8\n",
      "9\n",
      "10\n"
     ]
    }
   ],
   "source": [
    "for i in range(1,11):\n",
    "    print(i)"
   ]
  },
  {
   "cell_type": "code",
   "execution_count": 3,
   "id": "d57b0e43",
   "metadata": {},
   "outputs": [
    {
     "data": {
      "text/plain": [
       "'2. Explain the difference between a for loop and a while loop in Python.'"
      ]
     },
     "execution_count": 3,
     "metadata": {},
     "output_type": "execute_result"
    }
   ],
   "source": [
    "'''2. Explain the difference between a for loop and a while loop in Python.'''"
   ]
  },
  {
   "cell_type": "code",
   "execution_count": 4,
   "id": "7cae3c14",
   "metadata": {},
   "outputs": [
    {
     "data": {
      "text/plain": [
       "'For loop is used when we know how many times we need to iterate this loop.\\nWe use counter varuable to iterate the for loop.\\n\\nWhile lpp is used when we dont know, number of rounds to perform. \\nIt will continue to iterate the loop till particular condition will be getting true.\\nIt doesnt require any iterator variable.'"
      ]
     },
     "execution_count": 4,
     "metadata": {},
     "output_type": "execute_result"
    }
   ],
   "source": [
    "'''For loop is used when we know how many times we need to iterate this loop.\n",
    "We use counter varuable to iterate the for loop.\n",
    "\n",
    "While lpp is used when we dont know, number of rounds to perform. \n",
    "It will continue to iterate the loop till particular condition will be getting true.\n",
    "It doesnt require any iterator variable.'''"
   ]
  },
  {
   "cell_type": "code",
   "execution_count": 5,
   "id": "5dc74683",
   "metadata": {},
   "outputs": [
    {
     "data": {
      "text/plain": [
       "'3. Write a Python program to calculate the sum of all numbers from 1 to 100 using a for loop.'"
      ]
     },
     "execution_count": 5,
     "metadata": {},
     "output_type": "execute_result"
    }
   ],
   "source": [
    "'''3. Write a Python program to calculate the sum of all numbers from 1 to 100 using a for loop.'''"
   ]
  },
  {
   "cell_type": "code",
   "execution_count": 6,
   "id": "2253f010",
   "metadata": {},
   "outputs": [
    {
     "name": "stdout",
     "output_type": "stream",
     "text": [
      "5050\n"
     ]
    }
   ],
   "source": [
    "sum = 0\n",
    "\n",
    "for i in range(1, 101):\n",
    "    sum +=i\n",
    "print(sum)"
   ]
  },
  {
   "cell_type": "code",
   "execution_count": 7,
   "id": "f52cebe2",
   "metadata": {},
   "outputs": [
    {
     "data": {
      "text/plain": [
       "'4. How do you iterate through a list using a for loop in Python?'"
      ]
     },
     "execution_count": 7,
     "metadata": {},
     "output_type": "execute_result"
    }
   ],
   "source": [
    "'''4. How do you iterate through a list using a for loop in Python?'''"
   ]
  },
  {
   "cell_type": "code",
   "execution_count": 8,
   "id": "fbdca0fa",
   "metadata": {},
   "outputs": [
    {
     "name": "stdout",
     "output_type": "stream",
     "text": [
      "1\n",
      "2\n",
      "3\n",
      "4\n"
     ]
    }
   ],
   "source": [
    "list4 = [1, 2, 3, 4]\n",
    "\n",
    "for i in list4:\n",
    "    print(i)"
   ]
  },
  {
   "cell_type": "code",
   "execution_count": 9,
   "id": "532679ef",
   "metadata": {},
   "outputs": [
    {
     "data": {
      "text/plain": [
       "'5. Write a Python program to find the product of all elements in a list using a for loop.'"
      ]
     },
     "execution_count": 9,
     "metadata": {},
     "output_type": "execute_result"
    }
   ],
   "source": [
    "'''5. Write a Python program to find the product of all elements in a list using a for loop.'''"
   ]
  },
  {
   "cell_type": "code",
   "execution_count": 19,
   "id": "3f6b5a37",
   "metadata": {},
   "outputs": [
    {
     "name": "stdout",
     "output_type": "stream",
     "text": [
      "Enter the number till where you want to create a list: 5\n",
      "[1, 2, 3, 4, 5]\n",
      "120\n"
     ]
    }
   ],
   "source": [
    "product_of_all = 1\n",
    "\n",
    "list5 = [i for i in range(1, int(input('Enter the number till where you want to create a list: '))+1)]\n",
    "print(list5)\n",
    "for i in list5:\n",
    "    product_of_all *=i\n",
    "    \n",
    "print(product_of_all)"
   ]
  },
  {
   "cell_type": "code",
   "execution_count": 20,
   "id": "16b873b9",
   "metadata": {},
   "outputs": [
    {
     "data": {
      "text/plain": [
       "'6. Create a Python program that prints all even numbers from 1 to 20 using a for loop.'"
      ]
     },
     "execution_count": 20,
     "metadata": {},
     "output_type": "execute_result"
    }
   ],
   "source": [
    "'''6. Create a Python program that prints all even numbers from 1 to 20 using a for loop.'''"
   ]
  },
  {
   "cell_type": "code",
   "execution_count": 21,
   "id": "5aa3818f",
   "metadata": {},
   "outputs": [
    {
     "name": "stdout",
     "output_type": "stream",
     "text": [
      "2\n",
      "4\n",
      "6\n",
      "8\n",
      "10\n",
      "12\n",
      "14\n",
      "16\n",
      "18\n",
      "20\n"
     ]
    }
   ],
   "source": [
    "for i in range(1, 21):\n",
    "    if i%2 == 0:\n",
    "        print(i)"
   ]
  },
  {
   "cell_type": "code",
   "execution_count": 23,
   "id": "3836e8fd",
   "metadata": {},
   "outputs": [
    {
     "name": "stdout",
     "output_type": "stream",
     "text": [
      "[2, 4, 6, 8, 10, 12, 14, 16, 18, 20]\n"
     ]
    }
   ],
   "source": [
    "print([i for i in range(1, 21) if i%2==0])"
   ]
  },
  {
   "cell_type": "code",
   "execution_count": 24,
   "id": "9a26c508",
   "metadata": {},
   "outputs": [
    {
     "data": {
      "text/plain": [
       "'7. Write a Python program that calculates the factorial of a number using a for loop.'"
      ]
     },
     "execution_count": 24,
     "metadata": {},
     "output_type": "execute_result"
    }
   ],
   "source": [
    "'''7. Write a Python program that calculates the factorial of a number using a for loop.'''"
   ]
  },
  {
   "cell_type": "code",
   "execution_count": 30,
   "id": "94a92439",
   "metadata": {},
   "outputs": [
    {
     "name": "stdout",
     "output_type": "stream",
     "text": [
      "Enter any number.0\n",
      "Factorial of 0 is 1.\n"
     ]
    }
   ],
   "source": [
    "num7 = int(input('Enter any number.'))\n",
    "\n",
    "fact = 1\n",
    "\n",
    "for i in range(1, num7+1):\n",
    "    fact *=i\n",
    "print(f'Factorial of {num7} is {fact}.')"
   ]
  },
  {
   "cell_type": "code",
   "execution_count": 40,
   "id": "f65e8e19",
   "metadata": {},
   "outputs": [
    {
     "name": "stdout",
     "output_type": "stream",
     "text": [
      "Enter any number:5\n",
      "Factorial value is:  120\n"
     ]
    }
   ],
   "source": [
    "fact = 1\n",
    "print(f'Factorial value is: ', max([fact:= fact*i for i in range(1, int(input('Enter any number:'))+1)]))"
   ]
  },
  {
   "cell_type": "code",
   "execution_count": 41,
   "id": "77034ccd",
   "metadata": {},
   "outputs": [
    {
     "data": {
      "text/plain": [
       "'8. How can you iterate through the characters of a string using a for loop in Python?'"
      ]
     },
     "execution_count": 41,
     "metadata": {},
     "output_type": "execute_result"
    }
   ],
   "source": [
    "'''8. How can you iterate through the characters of a string using a for loop in Python?'''"
   ]
  },
  {
   "cell_type": "code",
   "execution_count": 46,
   "id": "0e91904b",
   "metadata": {},
   "outputs": [
    {
     "name": "stdout",
     "output_type": "stream",
     "text": [
      "Enter ant text:pratham\n",
      "['p', 'r', 'a', 't', 'h', 'a', 'm']\n"
     ]
    }
   ],
   "source": [
    "print([i for i in input('Enter ant text:')])"
   ]
  },
  {
   "cell_type": "code",
   "execution_count": 47,
   "id": "36b05724",
   "metadata": {},
   "outputs": [
    {
     "name": "stdout",
     "output_type": "stream",
     "text": [
      "P\n",
      "r\n",
      "a\n",
      "t\n",
      "h\n",
      "a\n",
      "m\n"
     ]
    }
   ],
   "source": [
    "for i in 'Pratham':\n",
    "    print(i)"
   ]
  },
  {
   "cell_type": "code",
   "execution_count": 48,
   "id": "2a03769e",
   "metadata": {},
   "outputs": [
    {
     "data": {
      "text/plain": [
       "'9. Write a Python program to find the largest number in a list using a for loop.'"
      ]
     },
     "execution_count": 48,
     "metadata": {},
     "output_type": "execute_result"
    }
   ],
   "source": [
    "'''9. Write a Python program to find the largest number in a list using a for loop.'''"
   ]
  },
  {
   "cell_type": "code",
   "execution_count": 51,
   "id": "3de50f7c",
   "metadata": {},
   "outputs": [
    {
     "name": "stdout",
     "output_type": "stream",
     "text": [
      "52\n"
     ]
    }
   ],
   "source": [
    "list9 = [34, 52, 12]\n",
    "max_number = list9[0]\n",
    "for i in list9:\n",
    "    if i > max_number:\n",
    "        max_number = i\n",
    "print(max_number)\n",
    "    "
   ]
  },
  {
   "cell_type": "code",
   "execution_count": 59,
   "id": "02d8db6e",
   "metadata": {},
   "outputs": [
    {
     "name": "stdout",
     "output_type": "stream",
     "text": [
      "52\n"
     ]
    }
   ],
   "source": [
    "list9 = [34, 52, 44]\n",
    "max_number = list9[0]\n",
    "\n",
    "print(max([i for i in list9 if i>max_number]))"
   ]
  },
  {
   "cell_type": "code",
   "execution_count": 64,
   "id": "1e506bb2",
   "metadata": {},
   "outputs": [
    {
     "name": "stdout",
     "output_type": "stream",
     "text": [
      "Enter a list of numbers seperated by spaces: 23 12 45 456\n",
      "456\n"
     ]
    }
   ],
   "source": [
    "list99 = input('Enter a list of numbers seperated by spaces: ').split()\n",
    "\n",
    "print(max([int(num) for num in list99]))"
   ]
  },
  {
   "cell_type": "code",
   "execution_count": 66,
   "id": "ca6054b6",
   "metadata": {},
   "outputs": [
    {
     "data": {
      "text/plain": [
       "'10. Create a Python program that prints the Fibonacci sequence up to a specified limit using a for loop.'"
      ]
     },
     "execution_count": 66,
     "metadata": {},
     "output_type": "execute_result"
    }
   ],
   "source": [
    "'''10. Create a Python program that prints the Fibonacci sequence up to a specified limit using a for loop.'''"
   ]
  },
  {
   "cell_type": "code",
   "execution_count": 84,
   "id": "31d4c620",
   "metadata": {},
   "outputs": [
    {
     "name": "stdout",
     "output_type": "stream",
     "text": [
      "Enter the limit for fibonacci sequence: 5\n",
      "Fibonacci sequence up to 5 is:  [0, 1, 1, 2, 3]\n"
     ]
    }
   ],
   "source": [
    "limit = int(input('Enter the limit for fibonacci sequence: '))\n",
    "\n",
    "fib_seq = [0, 1]\n",
    "\n",
    "for i in range(2, limit):\n",
    "    fib_seq.append(fib_seq[-1] + fib_seq[-2])\n",
    "print(f'Fibonacci sequence up to {limit} is: ', fib_seq)\n",
    "    \n",
    "    "
   ]
  },
  {
   "cell_type": "code",
   "execution_count": 85,
   "id": "8deef04d",
   "metadata": {},
   "outputs": [
    {
     "data": {
      "text/plain": [
       "'11. Write a Python program to count the number of vowels in a given string using a for loop.'"
      ]
     },
     "execution_count": 85,
     "metadata": {},
     "output_type": "execute_result"
    }
   ],
   "source": [
    "'''11. Write a Python program to count the number of vowels in a given string using a for loop.'''"
   ]
  },
  {
   "cell_type": "code",
   "execution_count": 86,
   "id": "fd0e94d9",
   "metadata": {},
   "outputs": [
    {
     "name": "stdout",
     "output_type": "stream",
     "text": [
      "Enter any string: praatham singh\n",
      "The total number of vowels in praatham singh is 4.\n"
     ]
    }
   ],
   "source": [
    "text11 = input('Enter any string: ')\n",
    "count = 0\n",
    "for i in text11:\n",
    "    if i in 'aeiouAEIOU':\n",
    "        count +=1\n",
    "print(f'The total number of vowels in {text11} is {count}.')"
   ]
  },
  {
   "cell_type": "code",
   "execution_count": 87,
   "id": "bd360637",
   "metadata": {},
   "outputs": [
    {
     "data": {
      "text/plain": [
       "'12. Create a Python program that generates a multiplication table for a given number using a for loop.'"
      ]
     },
     "execution_count": 87,
     "metadata": {},
     "output_type": "execute_result"
    }
   ],
   "source": [
    "'''12. Create a Python program that generates a multiplication table for a given number using a for loop.'''"
   ]
  },
  {
   "cell_type": "code",
   "execution_count": 89,
   "id": "a5ca8e74",
   "metadata": {},
   "outputs": [
    {
     "name": "stdout",
     "output_type": "stream",
     "text": [
      "Enter any number for which you want to generate table: 3\n",
      "3\n",
      "6\n",
      "9\n",
      "12\n",
      "15\n",
      "18\n",
      "21\n",
      "24\n",
      "27\n",
      "30\n"
     ]
    }
   ],
   "source": [
    "num12 = int(input('Enter any number for which you want to generate table: '))\n",
    "\n",
    "for i in range(1, 11):\n",
    "    print(num12*i)"
   ]
  },
  {
   "cell_type": "code",
   "execution_count": 90,
   "id": "9462daaf",
   "metadata": {},
   "outputs": [
    {
     "data": {
      "text/plain": [
       "'13. Write a Python program to reverse a list using a for loop.'"
      ]
     },
     "execution_count": 90,
     "metadata": {},
     "output_type": "execute_result"
    }
   ],
   "source": [
    "'''13. Write a Python program to reverse a list using a for loop.'''"
   ]
  },
  {
   "cell_type": "code",
   "execution_count": 113,
   "id": "c0b6aff9",
   "metadata": {},
   "outputs": [
    {
     "name": "stdout",
     "output_type": "stream",
     "text": [
      "Enter number with spaces: 1 2 3 4 5\n",
      "Reverse list is:  ['5', '4', '3', '2', '1']\n"
     ]
    }
   ],
   "source": [
    "list13 = input('Enter number with spaces: ').split()\n",
    "reverse_list = []\n",
    "for i in range(len(list13)-1,-1, -1 ):\n",
    "    reverse_list.append(list13[i])\n",
    "print('Reverse list is: ', reverse_list)\n",
    "    "
   ]
  },
  {
   "cell_type": "code",
   "execution_count": 114,
   "id": "4a769bea",
   "metadata": {},
   "outputs": [
    {
     "data": {
      "text/plain": [
       "'14. Write a Python program to find the common elements between two lists using a for loop.'"
      ]
     },
     "execution_count": 114,
     "metadata": {},
     "output_type": "execute_result"
    }
   ],
   "source": [
    "'''14. Write a Python program to find the common elements between two lists using a for loop.'''"
   ]
  },
  {
   "cell_type": "code",
   "execution_count": 116,
   "id": "f8f74259",
   "metadata": {},
   "outputs": [
    {
     "name": "stdout",
     "output_type": "stream",
     "text": [
      "Enter number with spaces: 1 2 3 4 5 6 7 8 9 10\n",
      "Enter number with spaces: 2 4 6 8 10\n",
      "Common element between these two list is ['2', '4', '6', '8', '10'].\n"
     ]
    }
   ],
   "source": [
    "list1 = input('Enter number with spaces: ').split()\n",
    "list2 = input('Enter number with spaces: ').split()\n",
    "\n",
    "common_element = []\n",
    "\n",
    "for i in list1:\n",
    "    for j in list2:\n",
    "        if i == j:\n",
    "            common_element.append(i)\n",
    "print(f'Common element between these two list is {common_element}.')"
   ]
  },
  {
   "cell_type": "code",
   "execution_count": 117,
   "id": "e24aa058",
   "metadata": {},
   "outputs": [
    {
     "data": {
      "text/plain": [
       "'15. Explain how to use a for loop to iterate through the keys and values of a dictionary in Python.'"
      ]
     },
     "execution_count": 117,
     "metadata": {},
     "output_type": "execute_result"
    }
   ],
   "source": [
    "'''15. Explain how to use a for loop to iterate through the keys and values of a dictionary in Python.'''"
   ]
  },
  {
   "cell_type": "code",
   "execution_count": 119,
   "id": "25afad64",
   "metadata": {},
   "outputs": [
    {
     "name": "stdout",
     "output_type": "stream",
     "text": [
      "The key is:  name\n",
      "The value is:  Pratham\n",
      "The key is:  age\n",
      "The value is:  32\n",
      "The key is:  city\n",
      "The value is:  New Delhi\n",
      "The key is:  country\n",
      "The value is:  India\n"
     ]
    }
   ],
   "source": [
    "dict15 = {'name': 'Pratham', 'age': 32, 'city': 'New Delhi', 'country': 'India'}\n",
    "\n",
    "for i, j in dict15.items():\n",
    "    print('The key is: ', i)\n",
    "    print('The value is: ', j)"
   ]
  },
  {
   "cell_type": "code",
   "execution_count": 120,
   "id": "02d3966b",
   "metadata": {},
   "outputs": [
    {
     "data": {
      "text/plain": [
       "'16. Write a Python program to find the GCD (Greatest Common Divisor) of two numbers using a for loop.'"
      ]
     },
     "execution_count": 120,
     "metadata": {},
     "output_type": "execute_result"
    }
   ],
   "source": [
    "'''16. Write a Python program to find the GCD (Greatest Common Divisor) of two numbers using a for loop.'''"
   ]
  },
  {
   "cell_type": "code",
   "execution_count": 125,
   "id": "270b9bfc",
   "metadata": {},
   "outputs": [
    {
     "name": "stdout",
     "output_type": "stream",
     "text": [
      "Enter first number: 200\n",
      "Enter 2nd number: 30\n",
      "The coommon greatest factor from 200 and 30 is:  10\n"
     ]
    }
   ],
   "source": [
    "num1 = int(input('Enter first number: '))\n",
    "num2 = int(input('Enter 2nd number: '))\n",
    "num1_factor = []\n",
    "num2_factor = []\n",
    "common_factor = []\n",
    "\n",
    "for i in range(1, num1):\n",
    "    if num1%i == 0:\n",
    "        num1_factor.append(i)\n",
    "        \n",
    "for i in range(1, num2):\n",
    "    if num2%i == 0:\n",
    "        num2_factor.append(i)\n",
    "        \n",
    "for i in num1_factor:\n",
    "    for j in num2_factor:\n",
    "        if i == j:\n",
    "            common_factor.append(i)\n",
    "\n",
    "print(f'The coommon greatest factor from {num1} and {num2} is: ', max(common_factor))\n",
    "            "
   ]
  },
  {
   "cell_type": "code",
   "execution_count": 124,
   "id": "7066e3bc",
   "metadata": {},
   "outputs": [
    {
     "name": "stdout",
     "output_type": "stream",
     "text": [
      "Enter 1st number: 200\n",
      "Enter 2nd number: 30\n",
      "The coommon greatest factor from 200 and 30 is 10.\n"
     ]
    }
   ],
   "source": [
    "num1 = int(input('Enter 1st number: '))\n",
    "num2 = int(input('Enter 2nd number: '))\n",
    "\n",
    "gcd = 1\n",
    "smaller = num1\n",
    "\n",
    "if num1 > num2:\n",
    "    smaller = num2\n",
    "for i in range(1, smaller+1):\n",
    "    if num1%i == 0 and num2%i == 0:\n",
    "        gcd = i\n",
    "print(f'The coommon greatest factor from {num1} and {num2} is {gcd}.')   "
   ]
  },
  {
   "cell_type": "code",
   "execution_count": 126,
   "id": "f4d8a1c5",
   "metadata": {},
   "outputs": [
    {
     "data": {
      "text/plain": [
       "'17. Create a Python program that checks if a string is a palindrome using a for loop.'"
      ]
     },
     "execution_count": 126,
     "metadata": {},
     "output_type": "execute_result"
    }
   ],
   "source": [
    "'''17. Create a Python program that checks if a string is a palindrome using a for loop.'''"
   ]
  },
  {
   "cell_type": "code",
   "execution_count": 143,
   "id": "be868d7c",
   "metadata": {},
   "outputs": [
    {
     "name": "stdout",
     "output_type": "stream",
     "text": [
      "Enter any string: Apa e apa\n",
      "Given string is a palindrome.\n"
     ]
    }
   ],
   "source": [
    "text17 = input('Enter any string: ')\n",
    "text17 = text17.replace(' ', '').lower()\n",
    "reverse_text = []\n",
    "\n",
    "for i in range(len(text17)-1, -1, -1): \n",
    "    reverse_text.append(text17[i])\n",
    "\n",
    "if text17 == ''.join(reverse_text):\n",
    "    print('Given string is a palindrome.')\n",
    "else:\n",
    "    print('Given string is not a palindrome.')\n"
   ]
  },
  {
   "cell_type": "code",
   "execution_count": 144,
   "id": "2dbf9168",
   "metadata": {},
   "outputs": [
    {
     "data": {
      "text/plain": [
       "'18. Write a Python program to remove duplicates from a list using a for loop.'"
      ]
     },
     "execution_count": 144,
     "metadata": {},
     "output_type": "execute_result"
    }
   ],
   "source": [
    "'''18. Write a Python program to remove duplicates from a list using a for loop.'''"
   ]
  },
  {
   "cell_type": "code",
   "execution_count": 169,
   "id": "49f2a120",
   "metadata": {},
   "outputs": [
    {
     "name": "stdout",
     "output_type": "stream",
     "text": [
      "Enter number by space: 1 2 3 4 5 6 2 5 8 9 \n",
      "['1', '2', '3', '4', '5', '6', '8', '9']\n"
     ]
    }
   ],
   "source": [
    "list18 = input('Enter number by space: ').split()\n",
    "unique_list = []\n",
    "\n",
    "for i in list18:\n",
    "    if i not in unique_list:\n",
    "        unique_list.append(i)\n",
    "print(unique_list)"
   ]
  },
  {
   "cell_type": "code",
   "execution_count": 171,
   "id": "cfbc379f",
   "metadata": {},
   "outputs": [
    {
     "data": {
      "text/plain": [
       "'19. Create a Python program that counts the number of words in a sentence using a for loop.'"
      ]
     },
     "execution_count": 171,
     "metadata": {},
     "output_type": "execute_result"
    }
   ],
   "source": [
    "'''19. Create a Python program that counts the number of words in a sentence using a for loop.'''  "
   ]
  },
  {
   "cell_type": "code",
   "execution_count": 175,
   "id": "da0033e2",
   "metadata": {},
   "outputs": [
    {
     "name": "stdout",
     "output_type": "stream",
     "text": [
      "Enter any sentence: My name is pratham singh.\n",
      "Total number of words in My name is pratham singh. is 5.\n"
     ]
    }
   ],
   "source": [
    "string19 = input('Enter any sentence: ')\n",
    "string_split = string19.split()\n",
    "count = 0\n",
    "\n",
    "for i in string_split:\n",
    "    count +=1\n",
    "print(f'Total number of words in {string19} is {count}.')\n",
    "\n"
   ]
  },
  {
   "cell_type": "code",
   "execution_count": 176,
   "id": "a8988deb",
   "metadata": {},
   "outputs": [
    {
     "data": {
      "text/plain": [
       "'20. Write a Python program to find the sum of all odd numbers from 1 to 50 using a for loop.'"
      ]
     },
     "execution_count": 176,
     "metadata": {},
     "output_type": "execute_result"
    }
   ],
   "source": [
    "'''20. Write a Python program to find the sum of all odd numbers from 1 to 50 using a for loop.'''"
   ]
  },
  {
   "cell_type": "code",
   "execution_count": 180,
   "id": "299a1b9e",
   "metadata": {},
   "outputs": [
    {
     "name": "stdout",
     "output_type": "stream",
     "text": [
      "Sum of all odd numbers from 1 to 500 is 62500.\n"
     ]
    }
   ],
   "source": [
    "sum_of_odd = 0\n",
    "for i in range(1,501):\n",
    "    if i%2 !=0:\n",
    "        sum_of_odd +=i\n",
    "print(f'Sum of all odd numbers from 1 to 500 is {sum_of_odd}.')\n",
    "    "
   ]
  },
  {
   "cell_type": "code",
   "execution_count": 184,
   "id": "74a23318",
   "metadata": {},
   "outputs": [
    {
     "data": {
      "text/plain": [
       "'21. Write a Python program that checks if a given year is a leap year using a for loop.'"
      ]
     },
     "execution_count": 184,
     "metadata": {},
     "output_type": "execute_result"
    }
   ],
   "source": [
    "'''21. Write a Python program that checks if a given year is a leap year using a for loop.'''"
   ]
  },
  {
   "cell_type": "code",
   "execution_count": 194,
   "id": "fc1dd19d",
   "metadata": {},
   "outputs": [
    {
     "name": "stdout",
     "output_type": "stream",
     "text": [
      "Enter any year: 1800\n",
      "Given year 1800 is not a leap year.\n"
     ]
    }
   ],
   "source": [
    "year21 = int(input('Enter any year: '))\n",
    "\n",
    "if (year21%4 == 0 and year21%100 != 0) or (year21%400 == 0):\n",
    "    print(f'Given year {year21} is a leap year.')\n",
    "else:\n",
    "    print(f'Given year {year21} is not a leap year.')"
   ]
  },
  {
   "cell_type": "code",
   "execution_count": 201,
   "id": "d700b4a2",
   "metadata": {},
   "outputs": [
    {
     "data": {
      "text/plain": [
       "'22. Create a Python program that calculates the square root of a number using a for loop.'"
      ]
     },
     "execution_count": 201,
     "metadata": {},
     "output_type": "execute_result"
    }
   ],
   "source": [
    "'''22. Create a Python program that calculates the square root of a number using a for loop.'''"
   ]
  },
  {
   "cell_type": "code",
   "execution_count": 211,
   "id": "60b1565c",
   "metadata": {},
   "outputs": [
    {
     "name": "stdout",
     "output_type": "stream",
     "text": [
      "Enter any number: 16\n",
      "The square root of 16 is 4.0\n"
     ]
    }
   ],
   "source": [
    "num22 = (input('Enter any number: '))\n",
    "add = '0'\n",
    "for i in num22:\n",
    "    add +=i   \n",
    "print(f'The square root of {num22} is {int(add)**0.5}')"
   ]
  },
  {
   "cell_type": "code",
   "execution_count": 213,
   "id": "03998abe",
   "metadata": {},
   "outputs": [
    {
     "data": {
      "text/plain": [
       "'23. Write a Python program to find the LCM (Least Common Multiple) of two numbers using a for loop.'"
      ]
     },
     "execution_count": 213,
     "metadata": {},
     "output_type": "execute_result"
    }
   ],
   "source": [
    "'''23. Write a Python program to find the LCM (Least Common Multiple) of two numbers using a for loop.'''"
   ]
  },
  {
   "cell_type": "code",
   "execution_count": 229,
   "id": "c3c706fc",
   "metadata": {},
   "outputs": [
    {
     "name": "stdout",
     "output_type": "stream",
     "text": [
      "Enter first number: 20\n",
      "Enter second number: 5\n",
      "The LCM of 20 and 5 is 20.\n"
     ]
    }
   ],
   "source": [
    "num1 = int(input('Enter first number: '))\n",
    "num2 = int(input('Enter second number: '))\n",
    "\n",
    "max_num = max(num1, num2)\n",
    "\n",
    "lcm_result = 0\n",
    "\n",
    "for i in range(max_num, num1*num2+1):\n",
    "    if i%num1 == 0 and i%num2 == 0:\n",
    "        lcm_result = i\n",
    "        break\n",
    "print(f'The LCM of {num1} and {num2} is {lcm_result}.')"
   ]
  },
  {
   "cell_type": "code",
   "execution_count": 230,
   "id": "3df14d94",
   "metadata": {},
   "outputs": [],
   "source": [
    "#if else"
   ]
  },
  {
   "cell_type": "code",
   "execution_count": 231,
   "id": "f68279db",
   "metadata": {},
   "outputs": [
    {
     "data": {
      "text/plain": [
       "'1. Write a Python program to check if a number is positive, negative, or zero using an if-else statement.'"
      ]
     },
     "execution_count": 231,
     "metadata": {},
     "output_type": "execute_result"
    }
   ],
   "source": [
    "'''1. Write a Python program to check if a number is positive, negative, or zero using an if-else statement.'''"
   ]
  },
  {
   "cell_type": "code",
   "execution_count": 233,
   "id": "a9364832",
   "metadata": {},
   "outputs": [
    {
     "name": "stdout",
     "output_type": "stream",
     "text": [
      "Enter any number.-1\n",
      "Given number -1 is negative.\n"
     ]
    }
   ],
   "source": [
    "num1 = int(input('Enter any number.'))\n",
    "\n",
    "if num1 == 0:\n",
    "    print(f'Given number {num1} is zero.')\n",
    "elif num1 > 0:\n",
    "    print(f'Given number {num1} is positive.')\n",
    "else:\n",
    "    print(f'Given number {num1} is negative.')"
   ]
  },
  {
   "cell_type": "code",
   "execution_count": 234,
   "id": "798688b6",
   "metadata": {},
   "outputs": [
    {
     "data": {
      "text/plain": [
       "'2. Create a Python program that checks if a given number is even or odd using an if-else statement.'"
      ]
     },
     "execution_count": 234,
     "metadata": {},
     "output_type": "execute_result"
    }
   ],
   "source": [
    "'''2. Create a Python program that checks if a given number is even or odd using an if-else statement.'''"
   ]
  },
  {
   "cell_type": "code",
   "execution_count": 236,
   "id": "5d9d165f",
   "metadata": {},
   "outputs": [
    {
     "name": "stdout",
     "output_type": "stream",
     "text": [
      "Enter any number: 23\n",
      "Given numbwe 23 is odd.\n"
     ]
    }
   ],
   "source": [
    "num2 = int(input('Enter any number: '))\n",
    "\n",
    "if num2%2 == 0:\n",
    "    print(f'Given number {num2} is even.')\n",
    "else:\n",
    "    print(f'Given numbwe {num2} is odd.')"
   ]
  },
  {
   "cell_type": "code",
   "execution_count": 237,
   "id": "be9c96f8",
   "metadata": {},
   "outputs": [
    {
     "data": {
      "text/plain": [
       "'3. How can you use nested if-else statements in Python, and provide an example?'"
      ]
     },
     "execution_count": 237,
     "metadata": {},
     "output_type": "execute_result"
    }
   ],
   "source": [
    "'''3. How can you use nested if-else statements in Python, and provide an example?'''"
   ]
  },
  {
   "cell_type": "code",
   "execution_count": 246,
   "id": "e50093b2",
   "metadata": {},
   "outputs": [
    {
     "name": "stdout",
     "output_type": "stream",
     "text": [
      "Enter 1st side of a triangle: 2\n",
      "Enter 2nd side of a triangle: 2\n",
      "Enter 3rd side of triangle: 2\n",
      "Given triangle is equilateral triangle.\n"
     ]
    }
   ],
   "source": [
    "'''Nested if-else statements is one if-else statement inside another if-else statement.\n",
    "\n",
    "This is used when we have to create more complex decision making trees.'''\n",
    "\n",
    "'''Below is an example of nested if-else:'''\n",
    "\n",
    "side1 = int(input('Enter 1st side of a triangle: '))\n",
    "side2 = int(input('Enter 2nd side of a triangle: '))\n",
    "side3 = int(input('Enter 3rd side of triangle: '))\n",
    "\n",
    "if side1 == side2 == side3:\n",
    "    print('Given triangle is equilateral triangle.')\n",
    "elif side1 == side2 or side1 == side3 or side2 == side3:\n",
    "    print('Given triangle is isoceles triangle.')\n",
    "else:\n",
    "    print('Given triangle is scalene triangle.')"
   ]
  },
  {
   "cell_type": "code",
   "execution_count": 247,
   "id": "aeb75a3d",
   "metadata": {},
   "outputs": [
    {
     "data": {
      "text/plain": [
       "'4. Write a Python program to determine the largest of three numbers using if-else.'"
      ]
     },
     "execution_count": 247,
     "metadata": {},
     "output_type": "execute_result"
    }
   ],
   "source": [
    "'''4. Write a Python program to determine the largest of three numbers using if-else.'''"
   ]
  },
  {
   "cell_type": "code",
   "execution_count": 257,
   "id": "7dfbedb4",
   "metadata": {},
   "outputs": [
    {
     "name": "stdout",
     "output_type": "stream",
     "text": [
      "Enter 1st number: 1\n",
      "Enter 2nd number: 1\n",
      "Enter 3rd number: 2\n",
      "Largest number among all three is 2.0.\n"
     ]
    }
   ],
   "source": [
    "num1 = float(input('Enter 1st number: '))\n",
    "num2 = float(input('Enter 2nd number: '))\n",
    "num3 = float(input('Enter 3rd number: '))\n",
    "\n",
    "if num1 > num2 and num1 > num3:\n",
    "    print(f'Largest number among all three is {num1}.')\n",
    "elif num2 > num3 and num2 > num1:\n",
    "    print(f'Largest number among all three is {num2}.')\n",
    "elif num3 > num1 and num3 > num2:\n",
    "    print(f'Largest number among all three is {num3}.')\n",
    "else:\n",
    "    print('All three numbers are equal.')"
   ]
  },
  {
   "cell_type": "code",
   "execution_count": 258,
   "id": "312d6c89",
   "metadata": {},
   "outputs": [
    {
     "data": {
      "text/plain": [
       "'5. Write a Python program that calculates the absolute value of a number using if-else.'"
      ]
     },
     "execution_count": 258,
     "metadata": {},
     "output_type": "execute_result"
    }
   ],
   "source": [
    "'''5. Write a Python program that calculates the absolute value of a number using if-else.'''"
   ]
  },
  {
   "cell_type": "code",
   "execution_count": 263,
   "id": "4b4ae160",
   "metadata": {},
   "outputs": [
    {
     "name": "stdout",
     "output_type": "stream",
     "text": [
      "Enter any number: -1\n",
      "Absolute value for -1.0 is 1.0.\n"
     ]
    }
   ],
   "source": [
    "num5 = float(input('Enter any number: '))\n",
    "\n",
    "if num5 >= 0:\n",
    "    print(f'Absolute value for {num5} is {num5}.')\n",
    "else:\n",
    "    if num5 < 0:\n",
    "        print(f'Absolute value for {num5} is {-num5}.')\n"
   ]
  },
  {
   "cell_type": "code",
   "execution_count": 264,
   "id": "d5f63aa0",
   "metadata": {},
   "outputs": [
    {
     "data": {
      "text/plain": [
       "'6. Create a Python program that checks if a given character is a vowel or consonant using if-else.'"
      ]
     },
     "execution_count": 264,
     "metadata": {},
     "output_type": "execute_result"
    }
   ],
   "source": [
    "'''6. Create a Python program that checks if a given character is a vowel or consonant using if-else.'''"
   ]
  },
  {
   "cell_type": "code",
   "execution_count": 269,
   "id": "07fa9583",
   "metadata": {},
   "outputs": [
    {
     "name": "stdout",
     "output_type": "stream",
     "text": [
      "Enter any character between A to Z.: d\n",
      "Given character d is constant.\n"
     ]
    }
   ],
   "source": [
    "char6 = input('Enter any character between A to Z.: ').lower()\n",
    "\n",
    "if char6 in 'aeiouAEIOU':\n",
    "    print(f'Given character {char6} is vowel.')\n",
    "else:\n",
    "    if char6 not in 'aeiouAEIOU':\n",
    "        print(f'Given character {char6} is constant.')"
   ]
  },
  {
   "cell_type": "code",
   "execution_count": 278,
   "id": "e9c32ed5",
   "metadata": {},
   "outputs": [
    {
     "name": "stdout",
     "output_type": "stream",
     "text": [
      "Enter any character: 1\n",
      "Invalid input! Please enter value between A to Z.\n"
     ]
    }
   ],
   "source": [
    "char = input('Enter any character: ').lower()\n",
    "\n",
    "if char.isalpha() and len(char) == 1:\n",
    "    if char in 'aeiou':\n",
    "        print(f'Given charcater {char} is vowel.')\n",
    "    else:\n",
    "        print(f'Given character {char} is consonant.')\n",
    "else:\n",
    "    print('Invalid input! Please enter value between A to Z.')"
   ]
  },
  {
   "cell_type": "code",
   "execution_count": 279,
   "id": "f9e07c33",
   "metadata": {},
   "outputs": [
    {
     "data": {
      "text/plain": [
       "'7. Write a Python program to determine if a user is eligible to vote based on their age using if-else.'"
      ]
     },
     "execution_count": 279,
     "metadata": {},
     "output_type": "execute_result"
    }
   ],
   "source": [
    "'''7. Write a Python program to determine if a user is eligible to vote based on their age using if-else.'''"
   ]
  },
  {
   "cell_type": "code",
   "execution_count": 285,
   "id": "57db9fa7",
   "metadata": {},
   "outputs": [
    {
     "name": "stdout",
     "output_type": "stream",
     "text": [
      "Enter your age: 12\n",
      "You are not eligible for vote.\n"
     ]
    }
   ],
   "source": [
    "age7 = int(input('Enter your age: '))\n",
    "\n",
    "if age7 >= 18:\n",
    "    print('You are eligible for vote.')\n",
    "else:\n",
    "    print('You are not eligible for vote.')"
   ]
  },
  {
   "cell_type": "code",
   "execution_count": 286,
   "id": "81fd17eb",
   "metadata": {},
   "outputs": [
    {
     "data": {
      "text/plain": [
       "'8. Create a Python program that calculates the discount amount based on the purchase amount using if-else.'"
      ]
     },
     "execution_count": 286,
     "metadata": {},
     "output_type": "execute_result"
    }
   ],
   "source": [
    "'''8. Create a Python program that calculates the discount amount based on the purchase amount using if-else.'''"
   ]
  },
  {
   "cell_type": "code",
   "execution_count": 291,
   "id": "21bd530b",
   "metadata": {},
   "outputs": [
    {
     "name": "stdout",
     "output_type": "stream",
     "text": [
      "Enter purchased amount: -1\n",
      "Invalid input! Please enter purchased amount greater than zero. \n"
     ]
    }
   ],
   "source": [
    "amount = float(input('Enter purchased amount: '))\n",
    "\n",
    "if amount > 1000:\n",
    "    disc_per = 20\n",
    "    discounted_amt = amount*disc_per/100\n",
    "    print(f'The discounted amonunt is {discounted_amt}.')\n",
    "elif 999>=amount>500:\n",
    "    disc_per = 10\n",
    "    discounted_amt = amount*disc_per/100\n",
    "    print(f'The discounted amonunt is {discounted_amt}.')\n",
    "elif 499>=amount>0:\n",
    "    disc_per = 0\n",
    "    discounted_amt = amount*disc_per/100\n",
    "    print(f'The discounted amonunt is {discounted_amt}.')\n",
    "else:\n",
    "    print('Invalid input! Please enter purchased amount greater than zero. ')\n",
    "    \n",
    "    "
   ]
  },
  {
   "cell_type": "code",
   "execution_count": 293,
   "id": "b6bfd644",
   "metadata": {},
   "outputs": [
    {
     "data": {
      "text/plain": [
       "'9. Write a Python program to check if a number is within a specified range using if-else.'"
      ]
     },
     "execution_count": 293,
     "metadata": {},
     "output_type": "execute_result"
    }
   ],
   "source": [
    "'''9. Write a Python program to check if a number is within a specified range using if-else.'''"
   ]
  },
  {
   "cell_type": "code",
   "execution_count": 294,
   "id": "4e40186f",
   "metadata": {
    "scrolled": true
   },
   "outputs": [
    {
     "name": "stdout",
     "output_type": "stream",
     "text": [
      "Enter any number: 600\n",
      "Given number is within range of 500 to 1000.\n"
     ]
    }
   ],
   "source": [
    "num9 = float(input('Enter any number: '))\n",
    "\n",
    "if 1000 >= num9 >= 500:\n",
    "    print('Given number is within range of 500 to 1000.')\n",
    "else:\n",
    "    print('Given number is not in range of 500 to 1000.')"
   ]
  },
  {
   "cell_type": "code",
   "execution_count": 295,
   "id": "e85a556c",
   "metadata": {},
   "outputs": [
    {
     "name": "stdout",
     "output_type": "stream",
     "text": [
      "Enter any numer: 34\n",
      "Given number is not within the specified range of 30 and 20.\n"
     ]
    }
   ],
   "source": [
    "upper_limit = 30\n",
    "lower_limit = 20\n",
    "\n",
    "num9 = float(input('Enter any numer: '))\n",
    "\n",
    "if upper_limit >= num9 >= lower_limit:\n",
    "    print(f\"Given number is within the specified range of {upper_limit} and {lower_limit}.\")\n",
    "else:\n",
    "    print(f'Given number is not within the specified range of {upper_limit} and {lower_limit}.')"
   ]
  },
  {
   "cell_type": "code",
   "execution_count": 296,
   "id": "8b187f26",
   "metadata": {},
   "outputs": [
    {
     "data": {
      "text/plain": [
       "'10. Create a Python program that determines the grade of a student based on their score using if-else.'"
      ]
     },
     "execution_count": 296,
     "metadata": {},
     "output_type": "execute_result"
    }
   ],
   "source": [
    "'''10. Create a Python program that determines the grade of a student based on their score using if-else.'''"
   ]
  },
  {
   "cell_type": "code",
   "execution_count": 301,
   "id": "4e853982",
   "metadata": {},
   "outputs": [
    {
     "name": "stdout",
     "output_type": "stream",
     "text": [
      "Enter student's marks: 90\n",
      "Student grade is: A\n"
     ]
    }
   ],
   "source": [
    "numbers = float(input('Enter student\\'s marks: '))\n",
    "\n",
    "if numbers > 95:\n",
    "    print('Student grade is: A++')\n",
    "elif numbers > 90:\n",
    "    print('Student grade is: A+')\n",
    "elif numbers > 75:\n",
    "    print('Student grade is: A')\n",
    "elif numbers > 60:\n",
    "    print('Student grade is: B')\n",
    "elif numbers > 45:\n",
    "    print('Student grade is: C')\n",
    "elif numbers > 30:\n",
    "    print('Student grade is: D')\n",
    "else:\n",
    "    print('Student is faill.')"
   ]
  },
  {
   "cell_type": "code",
   "execution_count": 302,
   "id": "220c177e",
   "metadata": {},
   "outputs": [
    {
     "data": {
      "text/plain": [
       "'11. Write a Python program to check if a string is empty or not using if-else.'"
      ]
     },
     "execution_count": 302,
     "metadata": {},
     "output_type": "execute_result"
    }
   ],
   "source": [
    "'''11. Write a Python program to check if a string is empty or not using if-else.'''"
   ]
  },
  {
   "cell_type": "code",
   "execution_count": 304,
   "id": "ff469c9f",
   "metadata": {},
   "outputs": [
    {
     "name": "stdout",
     "output_type": "stream",
     "text": [
      "Enter any string: \n",
      "Given string is empty.\n"
     ]
    }
   ],
   "source": [
    "string11 = input('Enter any string: ')\n",
    "\n",
    "if len(string11) > 0:\n",
    "    print('Given string is not empty.')\n",
    "else:\n",
    "    print('Given string is empty.')"
   ]
  },
  {
   "cell_type": "code",
   "execution_count": 307,
   "id": "14588535",
   "metadata": {},
   "outputs": [
    {
     "name": "stdout",
     "output_type": "stream",
     "text": [
      "Enter any string: \n",
      "Given string is empty.\n"
     ]
    }
   ],
   "source": [
    "string11 = input('Enter any string: ')\n",
    "\n",
    "if string11:\n",
    "    print('Given string is not empty.')\n",
    "else:\n",
    "    print('Given string is empty.')"
   ]
  },
  {
   "cell_type": "code",
   "execution_count": 305,
   "id": "0001b4bb",
   "metadata": {},
   "outputs": [
    {
     "data": {
      "text/plain": [
       "'12. Create a Python program that identifies the type of a triangle (e.g., equilateral, isosceles, or scalene) based on input values using if-else.'"
      ]
     },
     "execution_count": 305,
     "metadata": {},
     "output_type": "execute_result"
    }
   ],
   "source": [
    "'''12. Create a Python program that identifies the type of a triangle (e.g., equilateral, isosceles, or scalene) based on input values using if-else.'''"
   ]
  },
  {
   "cell_type": "code",
   "execution_count": 308,
   "id": "c8de551b",
   "metadata": {},
   "outputs": [
    {
     "name": "stdout",
     "output_type": "stream",
     "text": [
      "Enter 1st side of a triangle: 23\n",
      "Enter 2nd side of a triangle: 23\n",
      "Enter 3rd side of a triangle: 2\n",
      "Given triangle is isoceles triangle.\n"
     ]
    }
   ],
   "source": [
    "side1 = float(input('Enter 1st side of a triangle: '))\n",
    "side2 = float(input('Enter 2nd side of a triangle: '))\n",
    "side3 = float(input('Enter 3rd side of a triangle: '))\n",
    "\n",
    "if side1 == side2 == side3:\n",
    "    print('Given triangle is equilateral triangle.')\n",
    "elif side1 == side2 or side1 == side3 or side2 == side3:\n",
    "    print('Given triangle is isoceles triangle.')\n",
    "else:\n",
    "    print('Given triangle is scalene triangle.')"
   ]
  },
  {
   "cell_type": "code",
   "execution_count": 309,
   "id": "5042edaf",
   "metadata": {},
   "outputs": [
    {
     "data": {
      "text/plain": [
       "'13. Write a Python program to determine the day of the week based on a user-provided number using if-else'"
      ]
     },
     "execution_count": 309,
     "metadata": {},
     "output_type": "execute_result"
    }
   ],
   "source": [
    "'''13. Write a Python program to determine the day of the week based on a user-provided number using if-else'''"
   ]
  },
  {
   "cell_type": "code",
   "execution_count": 311,
   "id": "c566bf00",
   "metadata": {},
   "outputs": [
    {
     "name": "stdout",
     "output_type": "stream",
     "text": [
      "Enter any number between 1 to 7: 2\n",
      "It's Tuesday.\n"
     ]
    }
   ],
   "source": [
    "day13 = int(input('Enter any number between 1 to 7: '))\n",
    "\n",
    "if day13 == 1:\n",
    "    print('It\\'s Monday.')\n",
    "elif day13 == 2:\n",
    "    print('It\\'s Tuesday.')\n",
    "elif day13 == 3:\n",
    "    print('It\\'s Wednesday.')\n",
    "elif day13 == 4:\n",
    "    print('It\\'s Thursday.')\n",
    "elif day13 == 5:\n",
    "    print('It\\'s Friday.')\n",
    "elif day13 == 6:\n",
    "    print('It\\'s Saturday.')\n",
    "elif day13 == 7:\n",
    "    print('It\\'s Sunday.')\n",
    "else:\n",
    "    print('Invalid input. Please enter number between 1 to 7.')"
   ]
  },
  {
   "cell_type": "code",
   "execution_count": 312,
   "id": "1e481026",
   "metadata": {},
   "outputs": [
    {
     "data": {
      "text/plain": [
       "'14. Create a Python program that checks if a given year is a leap year using both if-else and a function.'"
      ]
     },
     "execution_count": 312,
     "metadata": {},
     "output_type": "execute_result"
    }
   ],
   "source": [
    "'''14. Create a Python program that checks if a given year is a leap year using both if-else and a function.'''"
   ]
  },
  {
   "cell_type": "code",
   "execution_count": 315,
   "id": "0dd76712",
   "metadata": {},
   "outputs": [
    {
     "name": "stdout",
     "output_type": "stream",
     "text": [
      "Enter any year: 23\n",
      "Given year is not a leap year.\n"
     ]
    }
   ],
   "source": [
    "year14 = int(input('Enter any year: '))\n",
    "\n",
    "if (year14%4 == 0 and year14%100 != 0) or year14%400 == 0:\n",
    "    print('Given year is a leap year.')\n",
    "else:\n",
    "    print('Given year is not a leap year.')"
   ]
  },
  {
   "cell_type": "code",
   "execution_count": 316,
   "id": "0c726cb5",
   "metadata": {},
   "outputs": [
    {
     "data": {
      "text/plain": [
       "'15. How do you use the \"assert\" statement in Python to add debugging checks within if-else blocks?'"
      ]
     },
     "execution_count": 316,
     "metadata": {},
     "output_type": "execute_result"
    }
   ],
   "source": [
    "'''15. How do you use the \"assert\" statement in Python to add debugging checks within if-else blocks?'''"
   ]
  },
  {
   "cell_type": "code",
   "execution_count": 319,
   "id": "10905868",
   "metadata": {},
   "outputs": [
    {
     "data": {
      "text/plain": [
       "\"The assert statement is used to add debugging checks within your code.\\n\\nIf the condition specified in the assert statement evalute True, the program execution will be continue.\\n\\nHowever if the condition specified in the assert statement evalute False, 'AssertionError' will be raised and excution\\nwill be stop.\\n\\nWe used to define error message along with Assertion so that message will print with error.\\n\\nAssert statement is generally use in development and testing phase to catch unexpected conditions and errors.\""
      ]
     },
     "execution_count": 319,
     "metadata": {},
     "output_type": "execute_result"
    }
   ],
   "source": [
    "'''The assert statement is used to add debugging checks within your code.\n",
    "\n",
    "If the condition specified in the assert statement evalute True, the program execution will be continue.\n",
    "\n",
    "However if the condition specified in the assert statement evalute False, 'AssertionError' will be raised and excution\n",
    "will be stop.\n",
    "\n",
    "We used to define error message along with Assertion so that message will print with error.\n",
    "\n",
    "Assert statement is generally use in development and testing phase to catch unexpected conditions and errors.'''\n",
    "\n"
   ]
  },
  {
   "cell_type": "code",
   "execution_count": 320,
   "id": "c83a4b27",
   "metadata": {},
   "outputs": [
    {
     "name": "stdout",
     "output_type": "stream",
     "text": [
      "Enter any number: 15\n"
     ]
    },
    {
     "ename": "AssertionError",
     "evalue": "Number should be even.",
     "output_type": "error",
     "traceback": [
      "\u001b[0;31m---------------------------------------------------------------------------\u001b[0m",
      "\u001b[0;31mAssertionError\u001b[0m                            Traceback (most recent call last)",
      "\u001b[0;32m<ipython-input-320-116c8dcc5717>\u001b[0m in \u001b[0;36m<module>\u001b[0;34m\u001b[0m\n\u001b[1;32m      2\u001b[0m \u001b[0;34m\u001b[0m\u001b[0m\n\u001b[1;32m      3\u001b[0m \u001b[0;32mif\u001b[0m \u001b[0mnum15\u001b[0m \u001b[0;34m>\u001b[0m \u001b[0;36m5\u001b[0m\u001b[0;34m:\u001b[0m\u001b[0;34m\u001b[0m\u001b[0;34m\u001b[0m\u001b[0m\n\u001b[0;32m----> 4\u001b[0;31m     \u001b[0;32massert\u001b[0m \u001b[0mnum15\u001b[0m\u001b[0;34m%\u001b[0m\u001b[0;36m2\u001b[0m \u001b[0;34m==\u001b[0m \u001b[0;36m0\u001b[0m\u001b[0;34m,\u001b[0m \u001b[0;34m'Number should be even.'\u001b[0m\u001b[0;34m\u001b[0m\u001b[0;34m\u001b[0m\u001b[0m\n\u001b[0m\u001b[1;32m      5\u001b[0m \u001b[0;32melse\u001b[0m\u001b[0;34m:\u001b[0m\u001b[0;34m\u001b[0m\u001b[0;34m\u001b[0m\u001b[0m\n\u001b[1;32m      6\u001b[0m     \u001b[0mprint\u001b[0m\u001b[0;34m(\u001b[0m\u001b[0;34mf'{num15} is not greater than 5.'\u001b[0m\u001b[0;34m)\u001b[0m\u001b[0;34m\u001b[0m\u001b[0;34m\u001b[0m\u001b[0m\n",
      "\u001b[0;31mAssertionError\u001b[0m: Number should be even."
     ]
    }
   ],
   "source": [
    "num15 = int(input('Enter any number: '))\n",
    "\n",
    "if num15 > 5:\n",
    "    assert num15%2 == 0, 'Number should be even.'\n",
    "else:\n",
    "    print(f'{num15} is not greater than 5.')\n",
    "print('Program continues.')"
   ]
  },
  {
   "cell_type": "code",
   "execution_count": 321,
   "id": "f65e84b9",
   "metadata": {},
   "outputs": [
    {
     "data": {
      "text/plain": [
       "'16. Create a Python program that determines the eligibility of a person for a senior citizen discount based on age using if-else.'"
      ]
     },
     "execution_count": 321,
     "metadata": {},
     "output_type": "execute_result"
    }
   ],
   "source": [
    "'''16. Create a Python program that determines the eligibility of a person for a senior citizen discount based on age using if-else.'''"
   ]
  },
  {
   "cell_type": "code",
   "execution_count": 323,
   "id": "913c467a",
   "metadata": {},
   "outputs": [
    {
     "name": "stdout",
     "output_type": "stream",
     "text": [
      "Enter person's age: 88\n",
      "Person is a senior citizen and he is eligible for discount.\n"
     ]
    }
   ],
   "source": [
    "age16 = int(input('Enter person\\'s age: '))\n",
    "\n",
    "if age16 >= 60:\n",
    "    print('Person is a senior citizen and he is eligible for discount.')\n",
    "else:\n",
    "    print('Person is not a senior citizen and he is not eligible for disdcount.')"
   ]
  },
  {
   "cell_type": "code",
   "execution_count": 324,
   "id": "261c92ca",
   "metadata": {},
   "outputs": [
    {
     "data": {
      "text/plain": [
       "'17. Write a Python program to categorize a given character as uppercase, lowercase, or neither using if-else.'"
      ]
     },
     "execution_count": 324,
     "metadata": {},
     "output_type": "execute_result"
    }
   ],
   "source": [
    "'''17. Write a Python program to categorize a given character as uppercase, lowercase, or neither using if-else.'''"
   ]
  },
  {
   "cell_type": "code",
   "execution_count": 347,
   "id": "cb80dd14",
   "metadata": {},
   "outputs": [
    {
     "name": "stdout",
     "output_type": "stream",
     "text": [
      "Enter any character: A\n",
      "Given character A is uppercase.\n"
     ]
    }
   ],
   "source": [
    "char17 = input('Enter any character: ')\n",
    "\n",
    "if len(char17) > 0 and char17.isalpha():\n",
    "    if char17.isupper():\n",
    "        print(f'Given character {char17} is uppercase.')\n",
    "    elif char17.islower():\n",
    "        print(f'Given character {char17} is lowercase.')\n",
    "elif len(char17) > 0:\n",
    "    print(f'Given character {char17} is neither uppercase or lowercase.')\n",
    "else:\n",
    "    print('Invalid entry. Please enter any character.')"
   ]
  },
  {
   "cell_type": "code",
   "execution_count": 348,
   "id": "521bc24c",
   "metadata": {},
   "outputs": [
    {
     "data": {
      "text/plain": [
       "'18. Write a Python program to determine the roots of a quadratic equation using if-else.'"
      ]
     },
     "execution_count": 348,
     "metadata": {},
     "output_type": "execute_result"
    }
   ],
   "source": [
    "'''18. Write a Python program to determine the roots of a quadratic equation using if-else.'''"
   ]
  },
  {
   "cell_type": "code",
   "execution_count": 349,
   "id": "7d354edd",
   "metadata": {},
   "outputs": [
    {
     "name": "stdout",
     "output_type": "stream",
     "text": [
      "Enter coefficient of X^2: 2\n",
      "Enter coefficient of X: 1\n",
      "Enter value for constant: 4\n",
      "First root of quardatic equation is -0.25 + 1.37i\n",
      "Second root of quardatic equation is -0.25 - 1.37i\n"
     ]
    }
   ],
   "source": [
    "a = float(input('Enter coefficient of X^2: '))\n",
    "b = float(input('Enter coefficient of X: '))\n",
    "c = float(input('Enter value for constant: '))\n",
    "\n",
    "d = (b*2) - (4*a*c)\n",
    "\n",
    "if d == 0:\n",
    "    root1 = root2 = (-b)/(2*a)\n",
    "    print('Both roots will be equal i.e.:', root1)\n",
    "elif d > 0:\n",
    "    root1 = round((-b + d**0.5)/(2*a), 2)\n",
    "    root2 = round((-b - d**0.5)/(2*a), 2)\n",
    "    print(f'First root of quardatic equation is {root1}.')\n",
    "    print(f'Second root of quardatic equation is {root2}.')\n",
    "else:\n",
    "    real_part = round((-b)/(2*a), 2)\n",
    "    imag_part = round(((abs(d))**0.5)/(2*a), 2)\n",
    "    print(f'First root of quardatic equation is {real_part} + {imag_part}i')\n",
    "    print(f'Second root of quardatic equation is {real_part} - {imag_part}i')"
   ]
  },
  {
   "cell_type": "code",
   "execution_count": 350,
   "id": "84fdaf49",
   "metadata": {},
   "outputs": [
    {
     "data": {
      "text/plain": [
       "'19. Create a Python program that checks if a given year is a century year or not using if-else.'"
      ]
     },
     "execution_count": 350,
     "metadata": {},
     "output_type": "execute_result"
    }
   ],
   "source": [
    "'''19. Create a Python program that checks if a given year is a century year or not using if-else.'''"
   ]
  },
  {
   "cell_type": "code",
   "execution_count": 351,
   "id": "4d54d266",
   "metadata": {},
   "outputs": [
    {
     "name": "stdout",
     "output_type": "stream",
     "text": [
      "Enter any year: 200\n",
      "Given year 200 is a century year.\n"
     ]
    }
   ],
   "source": [
    "year19 = int(input('Enter any year: '))\n",
    "\n",
    "if year19%100 == 0:\n",
    "    print(f'Given year {year19} is a century year.')\n",
    "else:\n",
    "    print(f'Given year {year19} is not a century year.')"
   ]
  },
  {
   "cell_type": "code",
   "execution_count": 352,
   "id": "06447ffb",
   "metadata": {},
   "outputs": [
    {
     "data": {
      "text/plain": [
       "'20. Write a Python program to determine if a given number is a perfect square using if-else.'"
      ]
     },
     "execution_count": 352,
     "metadata": {},
     "output_type": "execute_result"
    }
   ],
   "source": [
    "'''20. Write a Python program to determine if a given number is a perfect square using if-else.'''"
   ]
  },
  {
   "cell_type": "code",
   "execution_count": 370,
   "id": "18161992",
   "metadata": {},
   "outputs": [
    {
     "name": "stdout",
     "output_type": "stream",
     "text": [
      "Enter any number: 4\n",
      "Given number 4 is a perfect square.\n"
     ]
    }
   ],
   "source": [
    "num20 = int(input('Enter any number: '))\n",
    "\n",
    "sq_root = num20**0.5\n",
    "if num20 > 0:\n",
    "    if int(sq_root) == sq_root:\n",
    "        print(f'Given number {num20} is a perfect square.')\n",
    "    else:\n",
    "        print(f'Given number {num20} is not a perfect square.')\n",
    "else:\n",
    "    print('Please enter number which is greater than 0.')"
   ]
  },
  {
   "cell_type": "code",
   "execution_count": 367,
   "id": "d8484e21",
   "metadata": {},
   "outputs": [
    {
     "data": {
      "text/plain": [
       "'21. Explain the purpose of the \"continue\" and \"break\" statements within if-else loops.'"
      ]
     },
     "execution_count": 367,
     "metadata": {},
     "output_type": "execute_result"
    }
   ],
   "source": [
    "'''21. Explain the purpose of the \"continue\" and \"break\" statements within if-else loops.'''"
   ]
  },
  {
   "cell_type": "code",
   "execution_count": 371,
   "id": "f7709647",
   "metadata": {},
   "outputs": [
    {
     "data": {
      "text/plain": [
       "'Continue statement:-\\n    1. Continue statement is used to skip the current iteration of the loop and move to the next iteration.\\nBreak statement:-\\n    1. Break statement is used to exit a loop permamently when a certain condition meet.'"
      ]
     },
     "execution_count": 371,
     "metadata": {},
     "output_type": "execute_result"
    }
   ],
   "source": [
    "'''Continue statement:-\n",
    "    1. Continue statement is used to skip the current iteration of the loop and move to the next iteration.\n",
    "Break statement:-\n",
    "    1. Break statement is used to exit a loop permamently when a certain condition meet.'''"
   ]
  },
  {
   "cell_type": "code",
   "execution_count": 372,
   "id": "fb374284",
   "metadata": {},
   "outputs": [
    {
     "data": {
      "text/plain": [
       "'22. Create a Python program that calculates the BMI (Body Mass Index) of a person based on their weight and height using if-else.'"
      ]
     },
     "execution_count": 372,
     "metadata": {},
     "output_type": "execute_result"
    }
   ],
   "source": [
    "'''22. Create a Python program that calculates the BMI (Body Mass Index) of a person based on their weight and height using if-else.'''"
   ]
  },
  {
   "cell_type": "code",
   "execution_count": 375,
   "id": "f91d3f66",
   "metadata": {},
   "outputs": [
    {
     "name": "stdout",
     "output_type": "stream",
     "text": [
      "Enter person's height in meter: 4\n",
      "Enter person's weight in KG: 72\n",
      "Your bmi score is 9.0.\n",
      "You are categorized as Obese.\n"
     ]
    }
   ],
   "source": [
    "height = float(input('Enter person\\'s height in meter: '))\n",
    "weight = float(input('Enter person\\'s weight in KG: '))\n",
    "\n",
    "bmi = weight/(height*2)\n",
    "\n",
    "if bmi < 18.5:\n",
    "    category = 'Underweight'\n",
    "if 18.5 <= bmi < 24.9:\n",
    "    category = 'Normal Wight'\n",
    "if 24.9 <= bmi < 29.9:\n",
    "    category = 'Overweight'\n",
    "else:\n",
    "    category = 'Obese'\n",
    "    \n",
    "print(f'Your bmi score is {bmi}.')\n",
    "print(f'You are categorized as {category}.')"
   ]
  },
  {
   "cell_type": "code",
   "execution_count": 376,
   "id": "ef669556",
   "metadata": {},
   "outputs": [
    {
     "data": {
      "text/plain": [
       "'23. How can you use the \"filter()\" function with if-else statements to filter elements from a list?'"
      ]
     },
     "execution_count": 376,
     "metadata": {},
     "output_type": "execute_result"
    }
   ],
   "source": [
    "'''23. How can you use the \"filter()\" function with if-else statements to filter elements from a list?'''"
   ]
  },
  {
   "cell_type": "code",
   "execution_count": 390,
   "id": "cde709a5",
   "metadata": {},
   "outputs": [
    {
     "name": "stdout",
     "output_type": "stream",
     "text": [
      "Filetered element list is [2, 4, 6, 8, 10].\n"
     ]
    }
   ],
   "source": [
    "list23 = [1, 2, 3, 4, 5, 6, 7, 8, 9, 10]\n",
    "\n",
    "condition = lambda x: x%2 ==0\n",
    "\n",
    "filter_elements = filter(condition, list23)\n",
    "\n",
    "filter_elements_list = list(filter_elements)\n",
    "\n",
    "print(f'Filetered element list is {filter_elements_list}.')"
   ]
  },
  {
   "cell_type": "code",
   "execution_count": 377,
   "id": "d75873ca",
   "metadata": {},
   "outputs": [
    {
     "data": {
      "text/plain": [
       "'24. Write a Python program to determine if a given number is prime or not using if-else.'"
      ]
     },
     "execution_count": 377,
     "metadata": {},
     "output_type": "execute_result"
    }
   ],
   "source": [
    "'''24. Write a Python program to determine if a given number is prime or not using if-else.'''"
   ]
  },
  {
   "cell_type": "code",
   "execution_count": 380,
   "id": "222b2402",
   "metadata": {},
   "outputs": [
    {
     "name": "stdout",
     "output_type": "stream",
     "text": [
      "Enter any number: 22\n",
      "Given number 22 is not a prime number.\n"
     ]
    }
   ],
   "source": [
    "num24 = int(input('Enter any number: '))\n",
    "\n",
    "is_prime = True\n",
    "\n",
    "if num24 <= 1:\n",
    "    is_prime = False\n",
    "elif num24 == 2:\n",
    "    is_prime = True\n",
    "else:\n",
    "    for i in range(2, int(num24**0.5)+1):\n",
    "        if num24%i == 0:\n",
    "            is_prime = False\n",
    "            break\n",
    "        is_prime = True\n",
    "if is_prime:\n",
    "    print(f'Given number {num24} is a prime number.')\n",
    "else:\n",
    "    print(f'Given number {num24} is not a prime number.')"
   ]
  },
  {
   "cell_type": "code",
   "execution_count": 391,
   "id": "4aeb724d",
   "metadata": {},
   "outputs": [
    {
     "data": {
      "text/plain": [
       "'1. Explain the purpose of the `map()` function in Python and provide an example of how it can be used to apply a function to each element of an iterable.'"
      ]
     },
     "execution_count": 391,
     "metadata": {},
     "output_type": "execute_result"
    }
   ],
   "source": [
    "'''1. Explain the purpose of the `map()` function in Python and provide an example of how it can be used to apply a function to each element of an iterable.'''"
   ]
  },
  {
   "cell_type": "code",
   "execution_count": 392,
   "id": "196b906c",
   "metadata": {},
   "outputs": [
    {
     "data": {
      "text/plain": [
       "'Map function is used to apply a given function to each element of iterable i.e. list, tuple, set and dict.\\n\\nThe map function return map object, which can be converted into list, set, tuple and dict.\\n\\nsyntax: map(function, iterable)'"
      ]
     },
     "execution_count": 392,
     "metadata": {},
     "output_type": "execute_result"
    }
   ],
   "source": [
    "'''Map function is used to apply a given function to each element of iterable i.e. list, tuple, set and dict.\n",
    "\n",
    "The map function return map object, which can be converted into list, set, tuple and dict.\n",
    "\n",
    "syntax: map(function, iterable)'''"
   ]
  },
  {
   "cell_type": "code",
   "execution_count": 400,
   "id": "f0427d7a",
   "metadata": {},
   "outputs": [
    {
     "name": "stdout",
     "output_type": "stream",
     "text": [
      "[1, 4, 9, 16, 25, 36, 49, 64, 81]\n"
     ]
    }
   ],
   "source": [
    "list1 = [1, 2, 3, 4, 5, 6, 7, 8, 9]\n",
    "\n",
    "def sq_num(n):\n",
    "    return n**2\n",
    "iterable_object = map(sq_num, list1)\n",
    "\n",
    "iterable_object_list = list(iterable_object)\n",
    "\n",
    "print(iterable_object_list)"
   ]
  },
  {
   "cell_type": "code",
   "execution_count": 402,
   "id": "d356775a",
   "metadata": {},
   "outputs": [
    {
     "data": {
      "text/plain": [
       "'2. Write a Python program that uses the `map()` function to square each element of a list of numbers.'"
      ]
     },
     "execution_count": 402,
     "metadata": {},
     "output_type": "execute_result"
    }
   ],
   "source": [
    "'''2. Write a Python program that uses the `map()` function to square each element of a list of numbers.'''"
   ]
  },
  {
   "cell_type": "code",
   "execution_count": 404,
   "id": "467a75bf",
   "metadata": {},
   "outputs": [
    {
     "name": "stdout",
     "output_type": "stream",
     "text": [
      "[100, 121, 144, 169, 196, 225]\n"
     ]
    }
   ],
   "source": [
    "list2 = [10, 11, 12, 13, 14, 15]\n",
    "\n",
    "def square(num):\n",
    "    return num**2\n",
    "print(list(map(square, list2)))"
   ]
  },
  {
   "cell_type": "code",
   "execution_count": 405,
   "id": "f62c4d09",
   "metadata": {},
   "outputs": [
    {
     "data": {
      "text/plain": [
       "'3. How does the `map()` function differ from a list comprehension in Python, and when would you choose one over the other?'"
      ]
     },
     "execution_count": 405,
     "metadata": {},
     "output_type": "execute_result"
    }
   ],
   "source": [
    "'''3. How does the `map()` function differ from a list comprehension in Python, and when would you choose one over the other?'''"
   ]
  },
  {
   "cell_type": "code",
   "execution_count": 412,
   "id": "44f27e22",
   "metadata": {},
   "outputs": [
    {
     "name": "stdout",
     "output_type": "stream",
     "text": [
      "[1, 4, 9, 16, 25]\n",
      "[1, 4, 9, 16, 25]\n"
     ]
    }
   ],
   "source": [
    "list3 = [1, 2, 3, 4, 5]\n",
    "\n",
    "def sq(n):\n",
    "    return n**2\n",
    "\n",
    "num_map = map(sq, list3)\n",
    "print(list(num_map))\n",
    "\n",
    "result = [x**2 for x in list3]\n",
    "print(result)\n"
   ]
  },
  {
   "cell_type": "code",
   "execution_count": 413,
   "id": "cb58118e",
   "metadata": {},
   "outputs": [
    {
     "data": {
      "text/plain": [
       "'Map function - \\n    1. We can not give condition inside map function.\\n    2. It will apply result.\\n    3. In some cases, Map have slightly performance advantage over list comprehension.\\n    4. Its suitable when you want to perform action on every element.\\n\\nList comprehension -\\n    1. We can also give condition inside list comprehension.\\n    2. List comprehension create a new iterable.\\n    3. In some cases, List run slightly slower than map.\\n    4. List comprehension is more concise and redable.\\n    5. List comprehension are geberally efficient and fast.\\n    6. List comprehension are more verstile and can be used for mapping and filtering operations.\\n    \\nWhen to choose one over other: -\\n    \\n    1. Use map(), when you want a simple transaformation and functional approach with seperate function.\\n    2. Use list comprehension, when you need more flexibility, readibility and concise code.'"
      ]
     },
     "execution_count": 413,
     "metadata": {},
     "output_type": "execute_result"
    }
   ],
   "source": [
    "'''Map function - \n",
    "    1. We can not give condition inside map function.\n",
    "    2. It will apply result.\n",
    "    3. In some cases, Map have slightly performance advantage over list comprehension.\n",
    "    4. Its suitable when you want to perform action on every element.\n",
    "\n",
    "List comprehension -\n",
    "    1. We can also give condition inside list comprehension.\n",
    "    2. List comprehension create a new iterable.\n",
    "    3. In some cases, List run slightly slower than map.\n",
    "    4. List comprehension is more concise and redable.\n",
    "    5. List comprehension are geberally efficient and fast.\n",
    "    6. List comprehension are more verstile and can be used for mapping and filtering operations.\n",
    "    \n",
    "When to choose one over other: -\n",
    "    \n",
    "    1. Use map(), when you want a simple transaformation and functional approach with seperate function.\n",
    "    2. Use list comprehension, when you need more flexibility, readibility and concise code.'''\n",
    "    "
   ]
  },
  {
   "cell_type": "code",
   "execution_count": 415,
   "id": "28a1a47a",
   "metadata": {},
   "outputs": [
    {
     "data": {
      "text/plain": [
       "'4. Create a Python program that uses the `map()` function to convert a list of names to uppercase.'"
      ]
     },
     "execution_count": 415,
     "metadata": {},
     "output_type": "execute_result"
    }
   ],
   "source": [
    "'''4. Create a Python program that uses the `map()` function to convert a list of names to uppercase.'''"
   ]
  },
  {
   "cell_type": "code",
   "execution_count": 422,
   "id": "e2a0a08d",
   "metadata": {},
   "outputs": [
    {
     "name": "stdout",
     "output_type": "stream",
     "text": [
      "['PRATHAM', 'DHIRAJ', 'RAUNAK']\n"
     ]
    }
   ],
   "source": [
    "list4 = ['pratham', 'dhiraj', 'raunak']\n",
    "\n",
    "def uppercase_conv(n):\n",
    "    return n.upper()\n",
    "\n",
    "elements = map(uppercase_conv, list4)\n",
    "elements_list = list(elements)\n",
    "print(elements_list)"
   ]
  },
  {
   "cell_type": "code",
   "execution_count": 423,
   "id": "ae95bd2e",
   "metadata": {},
   "outputs": [
    {
     "data": {
      "text/plain": [
       "'5. Write a Python program that uses the `map()` function to calculate the length of each word in a list of strings.'"
      ]
     },
     "execution_count": 423,
     "metadata": {},
     "output_type": "execute_result"
    }
   ],
   "source": [
    "'''5. Write a Python program that uses the `map()` function to calculate the length of each word in a list of strings.'''"
   ]
  },
  {
   "cell_type": "code",
   "execution_count": 427,
   "id": "e8875e51",
   "metadata": {},
   "outputs": [
    {
     "name": "stdout",
     "output_type": "stream",
     "text": [
      "[5, 6, 8, 6, 9]\n"
     ]
    }
   ],
   "source": [
    "list5 = ['Patna', 'Ranchi', 'Varanasi', 'Mumbai', 'New Delhi']\n",
    "\n",
    "def func(n):\n",
    "    return len(n)\n",
    "elements = map(func, list5)\n",
    "elements_list = list(elements)\n",
    "print(elements_list)"
   ]
  },
  {
   "cell_type": "code",
   "execution_count": 428,
   "id": "f7adf1d4",
   "metadata": {},
   "outputs": [
    {
     "data": {
      "text/plain": [
       "'6. How can you use the `map()` function to apply a custom function to elements of multiple lists simultaneously in Python?'"
      ]
     },
     "execution_count": 428,
     "metadata": {},
     "output_type": "execute_result"
    }
   ],
   "source": [
    "'''6. How can you use the `map()` function to apply a custom function to elements of multiple lists simultaneously in Python?'''"
   ]
  },
  {
   "cell_type": "code",
   "execution_count": 437,
   "id": "2c2c062c",
   "metadata": {},
   "outputs": [
    {
     "name": "stdout",
     "output_type": "stream",
     "text": [
      "['prathamPatna', 'dhirajRanchi', 'raunakVaranasi']\n"
     ]
    }
   ],
   "source": [
    "list4 = ['pratham', 'dhiraj', 'raunak']\n",
    "list5 = ['Patna', 'Ranchi', 'Varanasi', 'Mumbai', 'New Delhi']\n",
    "\n",
    "def func1(a, b):\n",
    "    return (a+b)\n",
    "\n",
    "elements_1 = map(func1, list4, list5)\n",
    "\n",
    "elements_list_1 = list(elements_1)\n",
    "print(elements_list_1)"
   ]
  },
  {
   "cell_type": "code",
   "execution_count": 438,
   "id": "212ce26b",
   "metadata": {},
   "outputs": [
    {
     "data": {
      "text/plain": [
       "'7. Create a Python program that uses `map()` to convert a list of temperatures from Celsius to Fahrenheit.'"
      ]
     },
     "execution_count": 438,
     "metadata": {},
     "output_type": "execute_result"
    }
   ],
   "source": [
    "'''7. Create a Python program that uses `map()` to convert a list of temperatures from Celsius to Fahrenheit.'''"
   ]
  },
  {
   "cell_type": "code",
   "execution_count": 440,
   "id": "c5cc2b79",
   "metadata": {},
   "outputs": [
    {
     "name": "stdout",
     "output_type": "stream",
     "text": [
      "[212.0, 68.0, 122.0, 140.0]\n"
     ]
    }
   ],
   "source": [
    "temp_c = [100, 20, 50, 60]\n",
    "\n",
    "def temp_conv(n):\n",
    "    return ((n*(9/5))+32)\n",
    "\n",
    "elements = map(temp_conv, temp_c)\n",
    "elements_list = list(elements)\n",
    "print(elements_list)"
   ]
  },
  {
   "cell_type": "code",
   "execution_count": 441,
   "id": "a94b6c89",
   "metadata": {},
   "outputs": [
    {
     "data": {
      "text/plain": [
       "'8. Write a Python program that uses the `map()` function to round each element of a list of floating-point numbers to the nearest integer.'"
      ]
     },
     "execution_count": 441,
     "metadata": {},
     "output_type": "execute_result"
    }
   ],
   "source": [
    "'''8. Write a Python program that uses the `map()` function to round each element of a list of floating-point numbers to the nearest integer.'''"
   ]
  },
  {
   "cell_type": "code",
   "execution_count": 443,
   "id": "10b767b6",
   "metadata": {},
   "outputs": [
    {
     "name": "stdout",
     "output_type": "stream",
     "text": [
      "[23, 33, 56, 67]\n"
     ]
    }
   ],
   "source": [
    "list8 = [23.3, 33.2, 56.0, 66.89]\n",
    "\n",
    "def func8(n):\n",
    "    return round(n)\n",
    "\n",
    "result = map(func8, list8)\n",
    "result_list = list(result)\n",
    "print(result_list)"
   ]
  },
  {
   "cell_type": "code",
   "execution_count": 445,
   "id": "94bf63fb",
   "metadata": {},
   "outputs": [
    {
     "data": {
      "text/plain": [
       "'1. What is the `reduce()` function in Python, and what module should you import to use it? Provide an example of its basic usage.'"
      ]
     },
     "execution_count": 445,
     "metadata": {},
     "output_type": "execute_result"
    }
   ],
   "source": [
    "'''1. What is the `reduce()` function in Python, and what module should you import to use it? Provide an example of its basic usage.'''"
   ]
  },
  {
   "cell_type": "code",
   "execution_count": 446,
   "id": "fb1a3352",
   "metadata": {},
   "outputs": [
    {
     "data": {
      "text/plain": [
       "'Reduce() function is a part of a functools module in python. It is used for applying a binary function cumalitavely to\\nthe elements of a iterable from left to right.\\n\\nThe result of each step is as an argument to the next step.\\n\\nIt reduce an iterable to single accumaleted result.'"
      ]
     },
     "execution_count": 446,
     "metadata": {},
     "output_type": "execute_result"
    }
   ],
   "source": [
    "'''Reduce() function is a part of a functools module in python. It is used for applying a binary function cumalitavely to\n",
    "the elements of a iterable from left to right.\n",
    "\n",
    "The result of each step is as an argument to the next step.\n",
    "\n",
    "It reduce an iterable to single accumaleted result.'''"
   ]
  },
  {
   "cell_type": "code",
   "execution_count": 447,
   "id": "75e7ec67",
   "metadata": {},
   "outputs": [
    {
     "name": "stdout",
     "output_type": "stream",
     "text": [
      "55\n"
     ]
    }
   ],
   "source": [
    "from functools import reduce\n",
    "\n",
    "list1 = [1, 2, 3, 4, 5, 6, 7, 8, 9 ,10]\n",
    "\n",
    "def add_nums(a, b):\n",
    "    return a+b\n",
    "\n",
    "result = reduce(add_nums, list1)\n",
    "print(result)"
   ]
  },
  {
   "cell_type": "code",
   "execution_count": 448,
   "id": "f0930948",
   "metadata": {},
   "outputs": [
    {
     "data": {
      "text/plain": [
       "'2. Write a Python program that uses the `reduce()` function to find the product of all elements in a list.'"
      ]
     },
     "execution_count": 448,
     "metadata": {},
     "output_type": "execute_result"
    }
   ],
   "source": [
    "'''2. Write a Python program that uses the `reduce()` function to find the product of all elements in a list.'''"
   ]
  },
  {
   "cell_type": "code",
   "execution_count": 450,
   "id": "819cccce",
   "metadata": {},
   "outputs": [
    {
     "name": "stdout",
     "output_type": "stream",
     "text": [
      "3628800\n"
     ]
    }
   ],
   "source": [
    "from functools import reduce\n",
    "\n",
    "list1 = [1, 2, 3, 4, 5, 6, 7, 8, 9 ,10]\n",
    "\n",
    "def mul_nums(a, b):\n",
    "    return a*b\n",
    "\n",
    "result = reduce(mul_nums, list1)\n",
    "print(result)"
   ]
  },
  {
   "cell_type": "code",
   "execution_count": 451,
   "id": "45898f6b",
   "metadata": {},
   "outputs": [
    {
     "data": {
      "text/plain": [
       "'3. Create a Python program that uses `reduce()` to find the maximum element in a list of numbers.'"
      ]
     },
     "execution_count": 451,
     "metadata": {},
     "output_type": "execute_result"
    }
   ],
   "source": [
    "'''3. Create a Python program that uses `reduce()` to find the maximum element in a list of numbers.'''"
   ]
  },
  {
   "cell_type": "code",
   "execution_count": 453,
   "id": "11e03c30",
   "metadata": {},
   "outputs": [
    {
     "name": "stdout",
     "output_type": "stream",
     "text": [
      "78\n"
     ]
    }
   ],
   "source": [
    "from functools import reduce\n",
    "\n",
    "list1 = [1, 62, 3, 4, 15, 26, 78, 28, 9 ,10]\n",
    "\n",
    "def max_nums(a, b):\n",
    "    if a > b:\n",
    "        return a\n",
    "    else:\n",
    "        return b\n",
    "    \n",
    "result = reduce(max_nums, list1)\n",
    "\n",
    "print(result)"
   ]
  },
  {
   "cell_type": "code",
   "execution_count": 454,
   "id": "18321f17",
   "metadata": {},
   "outputs": [
    {
     "data": {
      "text/plain": [
       "'4. How can you use the `reduce()` function to concatenate a list of strings into a single string?'"
      ]
     },
     "execution_count": 454,
     "metadata": {},
     "output_type": "execute_result"
    }
   ],
   "source": [
    "'''4. How can you use the `reduce()` function to concatenate a list of strings into a single string?'''"
   ]
  },
  {
   "cell_type": "code",
   "execution_count": 457,
   "id": "2b574a0b",
   "metadata": {},
   "outputs": [
    {
     "name": "stdout",
     "output_type": "stream",
     "text": [
      "IlovemyIndia.\n"
     ]
    }
   ],
   "source": [
    "from functools import reduce\n",
    "\n",
    "list4 = ['I', 'love', 'my', 'India.']\n",
    "\n",
    "def concat_strings(a, b):\n",
    "    return a+b\n",
    "    \n",
    "result = reduce(concat_strings, list4)\n",
    "\n",
    "print(result)"
   ]
  },
  {
   "cell_type": "code",
   "execution_count": 458,
   "id": "df9fc254",
   "metadata": {},
   "outputs": [
    {
     "data": {
      "text/plain": [
       "'5. Write a Python program that calculates the factorial of a number using the `reduce()` function.'"
      ]
     },
     "execution_count": 458,
     "metadata": {},
     "output_type": "execute_result"
    }
   ],
   "source": [
    "'''5. Write a Python program that calculates the factorial of a number using the `reduce()` function.'''"
   ]
  },
  {
   "cell_type": "code",
   "execution_count": 462,
   "id": "b01e4882",
   "metadata": {},
   "outputs": [
    {
     "name": "stdout",
     "output_type": "stream",
     "text": [
      "Enter any number for which you want to calculate factorial: 3\n",
      "6\n"
     ]
    }
   ],
   "source": [
    "from functools import reduce\n",
    "\n",
    "num5 = int(input('Enter any number for which you want to calculate factorial: '))\n",
    "\n",
    "list5 = [i for i in range(1, num5+1)]\n",
    "\n",
    "def fact_nums(a, b):\n",
    "    return a*b\n",
    "\n",
    "result = reduce(fact_nums, list5)\n",
    "print(result)\n"
   ]
  },
  {
   "cell_type": "code",
   "execution_count": 461,
   "id": "6361380b",
   "metadata": {},
   "outputs": [
    {
     "data": {
      "text/plain": [
       "'6. Create a Python program that uses `reduce()` to find the GCD (Greatest Common Divisor) of a list of numbers.'"
      ]
     },
     "execution_count": 461,
     "metadata": {},
     "output_type": "execute_result"
    }
   ],
   "source": [
    "'''6. Create a Python program that uses `reduce()` to find the GCD (Greatest Common Divisor) of a list of numbers.'''"
   ]
  },
  {
   "cell_type": "code",
   "execution_count": 465,
   "id": "614f012d",
   "metadata": {},
   "outputs": [
    {
     "name": "stdout",
     "output_type": "stream",
     "text": [
      "8\n"
     ]
    }
   ],
   "source": [
    "from functools import reduce\n",
    "\n",
    "list6 = [24, 16, 32, 56]\n",
    "\n",
    "gcd = 1\n",
    "\n",
    "def func6(a, b):\n",
    "    if a > b:\n",
    "        for i in range(1, b+1):\n",
    "            if a%i == 0 and b%i == 0:\n",
    "                gcd = i\n",
    "        return gcd\n",
    "    else:\n",
    "        for i in range(1, a+1):\n",
    "            if a%i == 0 and b%i == 0:\n",
    "                gcd = i\n",
    "        return gcd  \n",
    "    \n",
    "result = reduce(func6, list6)\n",
    "print(result)"
   ]
  },
  {
   "cell_type": "code",
   "execution_count": 466,
   "id": "d4c30fdc",
   "metadata": {},
   "outputs": [
    {
     "data": {
      "text/plain": [
       "'7. Write a Python program that uses the `reduce()` function to find the sum of the digits of a given number.'"
      ]
     },
     "execution_count": 466,
     "metadata": {},
     "output_type": "execute_result"
    }
   ],
   "source": [
    "'''7. Write a Python program that uses the `reduce()` function to find the sum of the digits of a given number.'''"
   ]
  },
  {
   "cell_type": "code",
   "execution_count": 469,
   "id": "9cd02143",
   "metadata": {},
   "outputs": [
    {
     "name": "stdout",
     "output_type": "stream",
     "text": [
      "Enter any number: 1234\n",
      "10\n"
     ]
    }
   ],
   "source": [
    "from functools import reduce\n",
    "\n",
    "num7 = input('Enter any number: ')\n",
    "\n",
    "list7 = []\n",
    "\n",
    "for i in num7:\n",
    "    list7.append(i)\n",
    "\n",
    "def sum_of_digits(a, b):\n",
    "    return int(a)+int(b)\n",
    "\n",
    "result = reduce(sum_of_digits, list7)\n",
    "\n",
    "print(result)"
   ]
  },
  {
   "cell_type": "code",
   "execution_count": 472,
   "id": "a44f5f4f",
   "metadata": {},
   "outputs": [
    {
     "data": {
      "text/plain": [
       "'1. Explain the purpose of the `filter()` function in Python and provide an example of how it can be used to filter elements from an iterable.'"
      ]
     },
     "execution_count": 472,
     "metadata": {},
     "output_type": "execute_result"
    }
   ],
   "source": [
    "'''1. Explain the purpose of the `filter()` function in Python and provide an example of how it can be used to filter elements from an iterable.'''"
   ]
  },
  {
   "cell_type": "code",
   "execution_count": 471,
   "id": "3c298dd7",
   "metadata": {},
   "outputs": [
    {
     "data": {
      "text/plain": [
       "'The filter() function in python is used to filter elements from iterable based on given condition or criteria.\\n\\nIt returns an iterator containing only the elements that specify the specified condition.'"
      ]
     },
     "execution_count": 471,
     "metadata": {},
     "output_type": "execute_result"
    }
   ],
   "source": [
    "'''The filter() function in python is used to filter elements from iterable based on given condition or criteria.\n",
    "\n",
    "It returns an iterator containing only the elements that specify the specified condition.'''"
   ]
  },
  {
   "cell_type": "code",
   "execution_count": 474,
   "id": "4a1141e6",
   "metadata": {},
   "outputs": [
    {
     "name": "stdout",
     "output_type": "stream",
     "text": [
      "[2, 4, 6, 8, 10]\n"
     ]
    }
   ],
   "source": [
    "list1 = [1, 2, 3, 4, 5, 6, 7, 8, 9, 10]\n",
    "\n",
    "def even_nums(n):\n",
    "    if n%2 == 0:\n",
    "        return n\n",
    "    \n",
    "result = filter(even_nums, list1)\n",
    "\n",
    "print(list(result))"
   ]
  },
  {
   "cell_type": "code",
   "execution_count": 475,
   "id": "cf9941a7",
   "metadata": {},
   "outputs": [
    {
     "data": {
      "text/plain": [
       "'2. Write a Python program that uses the `filter()` function to select even numbers from a list of integers.'"
      ]
     },
     "execution_count": 475,
     "metadata": {},
     "output_type": "execute_result"
    }
   ],
   "source": [
    "'''2. Write a Python program that uses the `filter()` function to select even numbers from a list of integers.'''"
   ]
  },
  {
   "cell_type": "code",
   "execution_count": 476,
   "id": "532e6791",
   "metadata": {},
   "outputs": [
    {
     "name": "stdout",
     "output_type": "stream",
     "text": [
      "[2, 4, 6, 8, 10]\n"
     ]
    }
   ],
   "source": [
    "list1 = [1, 2, 3, 4, 5, 6, 7, 8, 9, 10]\n",
    "\n",
    "def even_nums(n):\n",
    "    if n%2 == 0:\n",
    "        return n\n",
    "    \n",
    "result = filter(even_nums, list1)\n",
    "\n",
    "print(list(result))"
   ]
  },
  {
   "cell_type": "code",
   "execution_count": 477,
   "id": "ee79a32f",
   "metadata": {},
   "outputs": [
    {
     "data": {
      "text/plain": [
       "'3. Create a Python program that uses the `filter()` function to select names that start with a specific letter from a list of strings.'"
      ]
     },
     "execution_count": 477,
     "metadata": {},
     "output_type": "execute_result"
    }
   ],
   "source": [
    "'''3. Create a Python program that uses the `filter()` function to select names that start with a specific letter from a list of strings.'''"
   ]
  },
  {
   "cell_type": "code",
   "execution_count": 480,
   "id": "740c7fa4",
   "metadata": {},
   "outputs": [
    {
     "name": "stdout",
     "output_type": "stream",
     "text": [
      "['India', 'Israil', 'Indonesia']\n"
     ]
    }
   ],
   "source": [
    "list3 = ['India', 'USA', 'China', 'Israil', 'Japan', 'Indonesia', 'Germany', 'Russia', 'UK', 'Jorden']\n",
    "\n",
    "def func3(a):\n",
    "    if a[0] in 'iI':\n",
    "        return a\n",
    "    \n",
    "result = filter(func3, list3)\n",
    "\n",
    "print(list(result))"
   ]
  },
  {
   "cell_type": "code",
   "execution_count": 481,
   "id": "88271047",
   "metadata": {},
   "outputs": [
    {
     "data": {
      "text/plain": [
       "'4. Write a Python program that uses the `filter()` function to select prime numbers from a list of integers.'"
      ]
     },
     "execution_count": 481,
     "metadata": {},
     "output_type": "execute_result"
    }
   ],
   "source": [
    "'''4. Write a Python program that uses the `filter()` function to select prime numbers from a list of integers.'''"
   ]
  },
  {
   "cell_type": "code",
   "execution_count": 506,
   "id": "ae5131ee",
   "metadata": {},
   "outputs": [
    {
     "name": "stdout",
     "output_type": "stream",
     "text": [
      "[23, 31, 53, 37, 29]\n"
     ]
    }
   ],
   "source": [
    "list4 = [23, 4, 56, 31, 53, 45, 37, 14, 29, 30]\n",
    "\n",
    "def check_prime(n):\n",
    "    if n <= 1:\n",
    "        return False\n",
    "    for i in range(2, int(n**0.5)+1):\n",
    "        if n%i == 0:\n",
    "            return False\n",
    "    return True\n",
    "\n",
    "result = filter(check_prime, list4)\n",
    "\n",
    "print(list(result))"
   ]
  },
  {
   "cell_type": "code",
   "execution_count": 507,
   "id": "750a71bc",
   "metadata": {},
   "outputs": [
    {
     "data": {
      "text/plain": [
       "'5. How can you use the `filter()` function to remove None values from a list in Python?'"
      ]
     },
     "execution_count": 507,
     "metadata": {},
     "output_type": "execute_result"
    }
   ],
   "source": [
    "'''5. How can you use the `filter()` function to remove None values from a list in Python?'''"
   ]
  },
  {
   "cell_type": "code",
   "execution_count": 554,
   "id": "59f7be18",
   "metadata": {},
   "outputs": [
    {
     "name": "stdout",
     "output_type": "stream",
     "text": [
      "['pratham', 23, 'dhiraj', 'raunak']\n"
     ]
    }
   ],
   "source": [
    "list5 = ['pratham', None, 23, 'dhiraj', None, 'raunak']\n",
    "\n",
    "def remove_none(n):\n",
    "    if n is None:\n",
    "        return False\n",
    "    return True\n",
    "\n",
    "result = filter(remove_none, list5)\n",
    "\n",
    "print(list(result))"
   ]
  },
  {
   "cell_type": "code",
   "execution_count": 555,
   "id": "4cccf51d",
   "metadata": {},
   "outputs": [
    {
     "data": {
      "text/plain": [
       "'6. Create a Python program that uses `filter()` to select words longer than a certain length from a list of strings.'"
      ]
     },
     "execution_count": 555,
     "metadata": {},
     "output_type": "execute_result"
    }
   ],
   "source": [
    "'''6. Create a Python program that uses `filter()` to select words longer than a certain length from a list of strings.'''"
   ]
  },
  {
   "cell_type": "code",
   "execution_count": 556,
   "id": "d5602077",
   "metadata": {},
   "outputs": [
    {
     "name": "stdout",
     "output_type": "stream",
     "text": [
      "['Pratham', 'Varanasi']\n"
     ]
    }
   ],
   "source": [
    "list6 = ['Pratham', 'Dhiraj', 'Raunak', 'Varanasi', 'Patna' ]\n",
    "\n",
    "def func6(n):\n",
    "    if len(n) > 6:\n",
    "        return True\n",
    "\n",
    "result = filter(func6, list6)\n",
    "\n",
    "print(list(result))"
   ]
  },
  {
   "cell_type": "code",
   "execution_count": 557,
   "id": "ec648521",
   "metadata": {},
   "outputs": [
    {
     "data": {
      "text/plain": [
       "'7. Write a Python program that uses the `filter()` function to select elements greater than a specified threshold from a list of values.'"
      ]
     },
     "execution_count": 557,
     "metadata": {},
     "output_type": "execute_result"
    }
   ],
   "source": [
    "'''7. Write a Python program that uses the `filter()` function to select elements greater than a specified threshold from a list of values.'''"
   ]
  },
  {
   "cell_type": "code",
   "execution_count": 558,
   "id": "7686ebb9",
   "metadata": {},
   "outputs": [
    {
     "name": "stdout",
     "output_type": "stream",
     "text": [
      "[65, 45, 86]\n"
     ]
    }
   ],
   "source": [
    "list7 = [23, 34, 65, 13, 39, 45, 86, 16]\n",
    "\n",
    "def func7(n):\n",
    "    if n > 40:\n",
    "        return True\n",
    "\n",
    "result = filter(func7, list7)\n",
    "\n",
    "print(list(result))"
   ]
  },
  {
   "cell_type": "code",
   "execution_count": 559,
   "id": "557db09d",
   "metadata": {},
   "outputs": [
    {
     "data": {
      "text/plain": [
       "'1. Explain the concept of recursion in Python. How does it differ from iteration?'"
      ]
     },
     "execution_count": 559,
     "metadata": {},
     "output_type": "execute_result"
    }
   ],
   "source": [
    "'''1. Explain the concept of recursion in Python. How does it differ from iteration?'''"
   ]
  },
  {
   "cell_type": "code",
   "execution_count": 560,
   "id": "6e685137",
   "metadata": {},
   "outputs": [
    {
     "data": {
      "text/plain": [
       "'Recursion and iteration are two concepts in python programming that involve repition or looping.\\n\\nRecursion is a programming technique in which program calls itself to solve a problem.\\n\\nIn recursion, a problem is divided into smaller subproblem that are solved recursively.\\n\\nRecursion involves breaking down a problem into simpler, similat subproblems until a base case is reached.\\n\\nThe base case is a condition where a function returns result without making a recusive call, effectily ending the recursion.\\n\\nRecursion function has two main components: The base case and recursive case.\\n    \\nDIFFERERNCES:\\n    1. Recursion uses a function calls to repeat a problem divided into subproblems.\\n    1. Iteration uses a loop to repeat a block of code.\\n    \\n    2. Recursion relies on reaching a base case to terminate the repition.\\n    2. Iteration relies on a loop condition or fixed number of iteration.\\n    \\n    3. Recursive solutions may use more memory because each recursive call create a new stack frame.\\n    3. Iterative solutions typically use a constant amount of memory.\\n    \\n    4. Recursive solutions may be elegant and concise for problems with inheret recursive structure.\\n    4. Iteration solutions may be stright forward and east to understand for linear reptition tasks.'"
      ]
     },
     "execution_count": 560,
     "metadata": {},
     "output_type": "execute_result"
    }
   ],
   "source": [
    "'''Recursion and iteration are two concepts in python programming that involve repition or looping.\n",
    "\n",
    "Recursion is a programming technique in which program calls itself to solve a problem.\n",
    "\n",
    "In recursion, a problem is divided into smaller subproblem that are solved recursively.\n",
    "\n",
    "Recursion involves breaking down a problem into simpler, similat subproblems until a base case is reached.\n",
    "\n",
    "The base case is a condition where a function returns result without making a recusive call, effectily ending the recursion.\n",
    "\n",
    "Recursion function has two main components: The base case and recursive case.\n",
    "    \n",
    "DIFFERERNCES:\n",
    "    1. Recursion uses a function calls to repeat a problem divided into subproblems.\n",
    "    1. Iteration uses a loop to repeat a block of code.\n",
    "    \n",
    "    2. Recursion relies on reaching a base case to terminate the repition.\n",
    "    2. Iteration relies on a loop condition or fixed number of iteration.\n",
    "    \n",
    "    3. Recursive solutions may use more memory because each recursive call create a new stack frame.\n",
    "    3. Iterative solutions typically use a constant amount of memory.\n",
    "    \n",
    "    4. Recursive solutions may be elegant and concise for problems with inheret recursive structure.\n",
    "    4. Iteration solutions may be stright forward and east to understand for linear reptition tasks.'''"
   ]
  },
  {
   "cell_type": "code",
   "execution_count": 561,
   "id": "b1c67824",
   "metadata": {},
   "outputs": [
    {
     "data": {
      "text/plain": [
       "'2. Write a Python program to calculate the factorial of a number using recursion.'"
      ]
     },
     "execution_count": 561,
     "metadata": {},
     "output_type": "execute_result"
    }
   ],
   "source": [
    "'''2. Write a Python program to calculate the factorial of a number using recursion.'''"
   ]
  },
  {
   "cell_type": "code",
   "execution_count": 571,
   "id": "b8bd1de5",
   "metadata": {},
   "outputs": [
    {
     "name": "stdout",
     "output_type": "stream",
     "text": [
      "Enter any number for which you want to calculate factoriall: 3\n",
      "Factorial of 3 is 6.\n"
     ]
    }
   ],
   "source": [
    "num2 = int(input('Enter any number for which you want to calculate factoriall: '))\n",
    "\n",
    "def factorial(n):\n",
    "    if n == 0 or n == 1:\n",
    "        return 1\n",
    "    else:\n",
    "        return n*factorial(n-1)\n",
    "if num2 < 0:\n",
    "    print('Factorial can not be determined.')\n",
    "else:\n",
    "    result = factorial(num2)\n",
    "    print(f'Factorial of {num2} is {result}.')"
   ]
  },
  {
   "cell_type": "code",
   "execution_count": 572,
   "id": "4e378015",
   "metadata": {},
   "outputs": [
    {
     "data": {
      "text/plain": [
       "'3. Create a recursive Python function to find the nth Fibonacci number.'"
      ]
     },
     "execution_count": 572,
     "metadata": {},
     "output_type": "execute_result"
    }
   ],
   "source": [
    "'''3. Create a recursive Python function to find the nth Fibonacci number.'''"
   ]
  },
  {
   "cell_type": "code",
   "execution_count": 581,
   "id": "481ee314",
   "metadata": {},
   "outputs": [
    {
     "name": "stdout",
     "output_type": "stream",
     "text": [
      "Enter any number for which you want to find nth Fibonacci number: 3\n",
      "The 3th Fibonacci number is 2.\n"
     ]
    }
   ],
   "source": [
    "num3 = int(input('Enter any number for which you want to find nth Fibonacci number: '))\n",
    "\n",
    "def fibo(n):\n",
    "    if n ==0:\n",
    "        return 0\n",
    "    elif n == 1:\n",
    "        return 1\n",
    "    else:\n",
    "        return fibo(n-1)+fibo(n-2)\n",
    "    \n",
    "result = fibo(num3)\n",
    "\n",
    "print(f'The {num3}th Fibonacci number is {result}.')"
   ]
  },
  {
   "cell_type": "code",
   "execution_count": 578,
   "id": "b3ad47fe",
   "metadata": {},
   "outputs": [
    {
     "data": {
      "text/plain": [
       "'4. Write a recursive Python function to calculate the sum of all elements in a list.'"
      ]
     },
     "execution_count": 578,
     "metadata": {},
     "output_type": "execute_result"
    }
   ],
   "source": [
    "'''4. Write a recursive Python function to calculate the sum of all elements in a list.'''"
   ]
  },
  {
   "cell_type": "code",
   "execution_count": 585,
   "id": "c43afd53",
   "metadata": {},
   "outputs": [
    {
     "name": "stdout",
     "output_type": "stream",
     "text": [
      "The sum of all number in list is 55.\n"
     ]
    }
   ],
   "source": [
    "list4 = [1, 2, 3, 4, 5, 6, 7, 8 ,9 ,10]\n",
    "\n",
    "def sum_of_all(n):\n",
    "    if not n:\n",
    "        return 0\n",
    "    else:\n",
    "        return n[0] + sum_of_all(n[1:])\n",
    "  \n",
    "result = sum_of_all(list4)\n",
    "\n",
    "print(f'The sum of all number in list is {result}.')"
   ]
  },
  {
   "cell_type": "code",
   "execution_count": 586,
   "id": "92f8fff1",
   "metadata": {},
   "outputs": [
    {
     "data": {
      "text/plain": [
       "'5. How can you prevent a recursive function from running indefinitely, causing a stack overflow error?'"
      ]
     },
     "execution_count": 586,
     "metadata": {},
     "output_type": "execute_result"
    }
   ],
   "source": [
    "'''5. How can you prevent a recursive function from running indefinitely, causing a stack overflow error?'''"
   ]
  },
  {
   "cell_type": "code",
   "execution_count": 587,
   "id": "5f4f2108",
   "metadata": {},
   "outputs": [
    {
     "data": {
      "text/plain": [
       "\"Preventinh a recursive function from running indefinitely and causing a stack overflow error typically involves\\nimplementing a termination condition also known as base case.\\n\\nA base case is a condition under which the recursion stops, ensuring that the function eventually returns a result.\\n\\nHere's how you can prevent infinite recursion:-\\n\\n    1. Define a base case: Identify a condition that, when met, signals the function to stop recursing and a return a\\n    result.\\n    2. Ensure progress towards base case: In each recursive call, make sure that the input parameters are modified in\\n    a way that brings you towards the base class. This ensure that the function makes progress towards termination.\\n    3. Test for the base case: At the begining ofthe recursive function, check if base condition is met.\\n    If it is, return a result or perform a specific action to terminate the recursion.\""
      ]
     },
     "execution_count": 587,
     "metadata": {},
     "output_type": "execute_result"
    }
   ],
   "source": [
    "'''Preventinh a recursive function from running indefinitely and causing a stack overflow error typically involves\n",
    "implementing a termination condition also known as base case.\n",
    "\n",
    "A base case is a condition under which the recursion stops, ensuring that the function eventually returns a result.\n",
    "\n",
    "Here's how you can prevent infinite recursion:-\n",
    "\n",
    "    1. Define a base case: Identify a condition that, when met, signals the function to stop recursing and a return a\n",
    "    result.\n",
    "    2. Ensure progress towards base case: In each recursive call, make sure that the input parameters are modified in\n",
    "    a way that brings you towards the base class. This ensure that the function makes progress towards termination.\n",
    "    3. Test for the base case: At the begining ofthe recursive function, check if base condition is met.\n",
    "    If it is, return a result or perform a specific action to terminate the recursion.'''"
   ]
  },
  {
   "cell_type": "code",
   "execution_count": 589,
   "id": "7c3b8375",
   "metadata": {},
   "outputs": [
    {
     "name": "stdout",
     "output_type": "stream",
     "text": [
      "120\n"
     ]
    }
   ],
   "source": [
    "def factorial_n(n):\n",
    "    if n == 0 or n == 1:\n",
    "        return 1\n",
    "    else:\n",
    "        return n * factorial_n(n-1)\n",
    "results = factorial_n(5)\n",
    "\n",
    "print(results)"
   ]
  },
  {
   "cell_type": "code",
   "execution_count": 590,
   "id": "b63ed9c8",
   "metadata": {},
   "outputs": [
    {
     "data": {
      "text/plain": [
       "'6. Create a recursive Python function to find the greatest common divisor (GCD) of two numbers using the Euclidean algorithm.'"
      ]
     },
     "execution_count": 590,
     "metadata": {},
     "output_type": "execute_result"
    }
   ],
   "source": [
    "'''6. Create a recursive Python function to find the greatest common divisor (GCD) of two numbers using the Euclidean algorithm.'''"
   ]
  },
  {
   "cell_type": "code",
   "execution_count": 592,
   "id": "78bc2794",
   "metadata": {},
   "outputs": [
    {
     "name": "stdout",
     "output_type": "stream",
     "text": [
      "Enter 1st number: 200\n",
      "Enter 2nd number: 40\n",
      "The greatest common divisor of two numbers 200 and 40 is 40.\n"
     ]
    }
   ],
   "source": [
    "num1 = int(input('Enter 1st number: '))\n",
    "num2 = int(input('Enter 2nd number: '))\n",
    "\n",
    "def func6(a,b):\n",
    "    if b == 0:\n",
    "        return a\n",
    "    else:\n",
    "        return func6(b, a%b)\n",
    "\n",
    "result = func6(num1, num2)\n",
    "\n",
    "print(f'The greatest common divisor of two numbers {num1} and {num2} is {result}.')"
   ]
  },
  {
   "cell_type": "code",
   "execution_count": 595,
   "id": "162996e6",
   "metadata": {},
   "outputs": [
    {
     "data": {
      "text/plain": [
       "'7. Write a recursive Python function to reverse a string.'"
      ]
     },
     "execution_count": 595,
     "metadata": {},
     "output_type": "execute_result"
    }
   ],
   "source": [
    "'''7. Write a recursive Python function to reverse a string.'''"
   ]
  },
  {
   "cell_type": "code",
   "execution_count": 596,
   "id": "44a04993",
   "metadata": {},
   "outputs": [
    {
     "name": "stdout",
     "output_type": "stream",
     "text": [
      "Enter any string: pratham\n",
      "The reverse string for pratham is mahtarp.\n"
     ]
    }
   ],
   "source": [
    "str7 = input('Enter any string: ')\n",
    "\n",
    "def rev_string(n):\n",
    "    return n[::-1]\n",
    "\n",
    "result = rev_string(str7)\n",
    "\n",
    "print(f'The reverse string for {str7} is {result}.')"
   ]
  },
  {
   "cell_type": "code",
   "execution_count": 597,
   "id": "9e2d3dd5",
   "metadata": {},
   "outputs": [
    {
     "data": {
      "text/plain": [
       "'8. Create a recursive Python function to calculate the power of a number (x^n).'"
      ]
     },
     "execution_count": 597,
     "metadata": {},
     "output_type": "execute_result"
    }
   ],
   "source": [
    "'''8. Create a recursive Python function to calculate the power of a number (x^n).'''"
   ]
  },
  {
   "cell_type": "code",
   "execution_count": 598,
   "id": "84b6c49c",
   "metadata": {},
   "outputs": [
    {
     "name": "stdout",
     "output_type": "stream",
     "text": [
      "Enter any number: 10\n",
      "Enter any number that will be power: 2\n",
      "100\n"
     ]
    }
   ],
   "source": [
    "num8 = int(input('Enter any number: '))\n",
    "power = int(input('Enter any number that will be power: '))\n",
    "\n",
    "def func8(a, b):\n",
    "    return a**b\n",
    "\n",
    "result = func8(num8, power)\n",
    "\n",
    "print(result)"
   ]
  },
  {
   "cell_type": "code",
   "execution_count": 599,
   "id": "f87b3a96",
   "metadata": {},
   "outputs": [
    {
     "data": {
      "text/plain": [
       "'9. Write a recursive Python function to find all permutations of a given string.'"
      ]
     },
     "execution_count": 599,
     "metadata": {},
     "output_type": "execute_result"
    }
   ],
   "source": [
    "'''9. Write a recursive Python function to find all permutations of a given string.'''"
   ]
  },
  {
   "cell_type": "code",
   "execution_count": 600,
   "id": "b2c3e65f",
   "metadata": {},
   "outputs": [
    {
     "data": {
      "text/plain": [
       "'10. Write a recursive Python function to check if a string is a palindrome.'"
      ]
     },
     "execution_count": 600,
     "metadata": {},
     "output_type": "execute_result"
    }
   ],
   "source": [
    "'''10. Write a recursive Python function to check if a string is a palindrome.'''"
   ]
  },
  {
   "cell_type": "code",
   "execution_count": 603,
   "id": "40033d41",
   "metadata": {},
   "outputs": [
    {
     "name": "stdout",
     "output_type": "stream",
     "text": [
      "Enter any string: apa\n",
      "Given string apa is a palindrome i.e. apa.\n"
     ]
    }
   ],
   "source": [
    "str10 = input('Enter any string: ')\n",
    "\n",
    "def func10(n):\n",
    "    if n == n[::-1]:\n",
    "        return n\n",
    "    else:\n",
    "        print(f'Given string {str10} is not a palindrome.')\n",
    "result = func10(str10)\n",
    "\n",
    "print(f'Given string {str10} is a palindrome i.e. {result}.')"
   ]
  },
  {
   "cell_type": "code",
   "execution_count": 604,
   "id": "b981faac",
   "metadata": {},
   "outputs": [
    {
     "data": {
      "text/plain": [
       "'11. Create a recursive Python function to generate all possible combinations of a list of elements.'"
      ]
     },
     "execution_count": 604,
     "metadata": {},
     "output_type": "execute_result"
    }
   ],
   "source": [
    "'''11. Create a recursive Python function to generate all possible combinations of a list of elements.'''"
   ]
  },
  {
   "cell_type": "code",
   "execution_count": 605,
   "id": "52a43fe5",
   "metadata": {},
   "outputs": [
    {
     "data": {
      "text/plain": [
       "'1. What is a function in Python, and why is it used?'"
      ]
     },
     "execution_count": 605,
     "metadata": {},
     "output_type": "execute_result"
    }
   ],
   "source": [
    "'''1. What is a function in Python, and why is it used?'''"
   ]
  },
  {
   "cell_type": "code",
   "execution_count": 607,
   "id": "f5bf5938",
   "metadata": {},
   "outputs": [
    {
     "name": "stdout",
     "output_type": "stream",
     "text": [
      "Hello, Pratham\n"
     ]
    }
   ],
   "source": [
    "'''A function is a blocl of organized and reusable code that performs a specific task or set of tasks.\n",
    "\n",
    "Function is used to encapsulate a piece of code into single logical unit that can be easily called and reused\n",
    "throughout your program.'''\n",
    "\n",
    "def greet(name):\n",
    "    print(f'Hello, {name}')\n",
    "    \n",
    "greet('Pratham')"
   ]
  },
  {
   "cell_type": "code",
   "execution_count": 608,
   "id": "7c11a798",
   "metadata": {},
   "outputs": [
    {
     "data": {
      "text/plain": [
       "'2. How do you define a function in Python? Provide an example.'"
      ]
     },
     "execution_count": 608,
     "metadata": {},
     "output_type": "execute_result"
    }
   ],
   "source": [
    "'''2. How do you define a function in Python? Provide an example.'''"
   ]
  },
  {
   "cell_type": "code",
   "execution_count": 611,
   "id": "740e21a7",
   "metadata": {},
   "outputs": [
    {
     "name": "stdout",
     "output_type": "stream",
     "text": [
      "You can vote.\n"
     ]
    }
   ],
   "source": [
    "def voting(n):\n",
    "    if n >= 18:\n",
    "        print('You can vote.')\n",
    "    else:\n",
    "        print('You can not vote.')\n",
    "        \n",
    "voting(20)"
   ]
  },
  {
   "cell_type": "code",
   "execution_count": 612,
   "id": "47ca0fab",
   "metadata": {},
   "outputs": [
    {
     "data": {
      "text/plain": [
       "'3. Explain the difference between a function definition and a function call.'"
      ]
     },
     "execution_count": 612,
     "metadata": {},
     "output_type": "execute_result"
    }
   ],
   "source": [
    "'''3. Explain the difference between a function definition and a function call.'''"
   ]
  },
  {
   "cell_type": "code",
   "execution_count": 613,
   "id": "f7c69bf9",
   "metadata": {},
   "outputs": [
    {
     "data": {
      "text/plain": [
       "\"Function definition and function call are two different distinct concepts that serves different purpose within a\\nprogram.\\n\\nFunction Definition:\\n    1. A function definition is where you creare and specify behaviour of a function.\\n    \\n    2. It begins with keyword 'def'.\\n    \\n    3. It may or may not return anything.\\n    \\n    4. The purpose of defining function is to encapsulate a set of instruction within block of code.\\n    \\n    5. The function definition does not excute code inside the function, it only define what function should do.\\n    \\n    6. The function definition can be reused with or without arguments.\\n    \\ndef add_nums(a, b):\\n    return a+b\\n\\n\\nFunction calls:\\n    1. A function call also known as invoking or using function, is the action of executing code within functio body.\\n    \\n    2. It involves writing the function name with or without function name.\\n    \\n    3. When you call any funtion, the program jumps to the code inside the function definition, excute it and return\\n    to the point in the program where the function was called.\\n    \\nadd_nums(10, 20)\""
      ]
     },
     "execution_count": 613,
     "metadata": {},
     "output_type": "execute_result"
    }
   ],
   "source": [
    "'''Function definition and function call are two different distinct concepts that serves different purpose within a\n",
    "program.\n",
    "\n",
    "Function Definition:\n",
    "    1. A function definition is where you creare and specify behaviour of a function.\n",
    "    \n",
    "    2. It begins with keyword 'def'.\n",
    "    \n",
    "    3. It may or may not return anything.\n",
    "    \n",
    "    4. The purpose of defining function is to encapsulate a set of instruction within block of code.\n",
    "    \n",
    "    5. The function definition does not excute code inside the function, it only define what function should do.\n",
    "    \n",
    "    6. The function definition can be reused with or without arguments.\n",
    "    \n",
    "def add_nums(a, b):\n",
    "    return a+b\n",
    "\n",
    "\n",
    "Function calls:\n",
    "    1. A function call also known as invoking or using function, is the action of executing code within functio body.\n",
    "    \n",
    "    2. It involves writing the function name with or without function name.\n",
    "    \n",
    "    3. When you call any funtion, the program jumps to the code inside the function definition, excute it and return\n",
    "    to the point in the program where the function was called.\n",
    "    \n",
    "add_nums(10, 20)'''"
   ]
  },
  {
   "cell_type": "code",
   "execution_count": 614,
   "id": "52b2cc03",
   "metadata": {},
   "outputs": [
    {
     "data": {
      "text/plain": [
       "'4. Write a Python program that defines a function to calculate the sum of two numbers and then calls the function.'"
      ]
     },
     "execution_count": 614,
     "metadata": {},
     "output_type": "execute_result"
    }
   ],
   "source": [
    "'''4. Write a Python program that defines a function to calculate the sum of two numbers and then calls the function.'''"
   ]
  },
  {
   "cell_type": "code",
   "execution_count": 616,
   "id": "c79ac5f1",
   "metadata": {},
   "outputs": [
    {
     "data": {
      "text/plain": [
       "30"
      ]
     },
     "execution_count": 616,
     "metadata": {},
     "output_type": "execute_result"
    }
   ],
   "source": [
    "def cal_sum(a, b):\n",
    "    return a+b\n",
    "cal_sum(10, 20)"
   ]
  },
  {
   "cell_type": "code",
   "execution_count": 617,
   "id": "2c113a01",
   "metadata": {},
   "outputs": [
    {
     "data": {
      "text/plain": [
       "'5. What is a function signature, and what information does it typically include?'"
      ]
     },
     "execution_count": 617,
     "metadata": {},
     "output_type": "execute_result"
    }
   ],
   "source": [
    "'''5. What is a function signature, and what information does it typically include?'''"
   ]
  },
  {
   "cell_type": "code",
   "execution_count": 618,
   "id": "db7ebf93",
   "metadata": {},
   "outputs": [
    {
     "data": {
      "text/plain": [
       "'A functio signature, also known as a function prototype or function header, is a key part in function definition\\nprogramming.\\n\\nIt provide essential information about function interface such as name, return type and parameter list.\\n\\nFunctions signature generally include following information:-\\n    \\n    1. Function name: - This is the name which used to call the function in the code.\\n        It should be meaningful and descriptive name that describe purpose of a function.\\n        \\n    2. Return Type: - It specifies the data type of the value that retuen the function when it complete the execution.\\n        In python, function can return any data type including custom objects or None if there is no explicit return\\n        statement.\\n    \\n    3. Parameter List(Arguments): - This part of the signature lists the parameter also called arguments that the\\n        function accepts.\\n        Each parameter consists of name and a data type.'"
      ]
     },
     "execution_count": 618,
     "metadata": {},
     "output_type": "execute_result"
    }
   ],
   "source": [
    "'''A functio signature, also known as a function prototype or function header, is a key part in function definition\n",
    "programming.\n",
    "\n",
    "It provide essential information about function interface such as name, return type and parameter list.\n",
    "\n",
    "Functions signature generally include following information:-\n",
    "    \n",
    "    1. Function name: - This is the name which used to call the function in the code.\n",
    "        It should be meaningful and descriptive name that describe purpose of a function.\n",
    "        \n",
    "    2. Return Type: - It specifies the data type of the value that retuen the function when it complete the execution.\n",
    "        In python, function can return any data type including custom objects or None if there is no explicit return\n",
    "        statement.\n",
    "    \n",
    "    3. Parameter List(Arguments): - This part of the signature lists the parameter also called arguments that the\n",
    "        function accepts.\n",
    "        Each parameter consists of name and a data type.'''"
   ]
  },
  {
   "cell_type": "code",
   "execution_count": 619,
   "id": "8167df9a",
   "metadata": {},
   "outputs": [
    {
     "data": {
      "text/plain": [
       "15.0"
      ]
     },
     "execution_count": 619,
     "metadata": {},
     "output_type": "execute_result"
    }
   ],
   "source": [
    "def aver(a, b):\n",
    "    return (a+b)/2\n",
    "aver(10, 20)"
   ]
  },
  {
   "cell_type": "code",
   "execution_count": 620,
   "id": "260b4e54",
   "metadata": {},
   "outputs": [
    {
     "data": {
      "text/plain": [
       "'6. Create a Python function that takes two arguments and returns their product.'"
      ]
     },
     "execution_count": 620,
     "metadata": {},
     "output_type": "execute_result"
    }
   ],
   "source": [
    "'''6. Create a Python function that takes two arguments and returns their product.'''"
   ]
  },
  {
   "cell_type": "code",
   "execution_count": 621,
   "id": "080715fe",
   "metadata": {},
   "outputs": [
    {
     "data": {
      "text/plain": [
       "200"
      ]
     },
     "execution_count": 621,
     "metadata": {},
     "output_type": "execute_result"
    }
   ],
   "source": [
    "def products(a, b):\n",
    "    return a*b\n",
    "\n",
    "products(10, 20)"
   ]
  },
  {
   "cell_type": "code",
   "execution_count": 622,
   "id": "cb5d84ab",
   "metadata": {},
   "outputs": [
    {
     "data": {
      "text/plain": [
       "'1. Explain the concepts of formal parameters and actual arguments in Python functions.'"
      ]
     },
     "execution_count": 622,
     "metadata": {},
     "output_type": "execute_result"
    }
   ],
   "source": [
    "'''1. Explain the concepts of formal parameters and actual arguments in Python functions.'''"
   ]
  },
  {
   "cell_type": "code",
   "execution_count": 624,
   "id": "5353847c",
   "metadata": {},
   "outputs": [
    {
     "data": {
      "text/plain": [
       "\"Formal parameters: -\\n    \\n    1. Definitions - Formal parameters is a placeholder or varible declared inside the function's definition to accept\\n        values that will be pass to a function when it is called.\\n    \\n    2. Location - where arguments define under function definition.\\n    \\n    3. Purpose - They serve as local variables inside the function.\\n    \\n    \\nActual arguments:-\\n    \\n    1. Definition - Actual arguments is the value which is passed inside the function name while calling the function.\\n    \\n    2. Location - Actual arguments are passed inside the parentheses when the function is called.\\n    \\n    3. Purpose - To perform action on to excute tasks.\""
      ]
     },
     "execution_count": 624,
     "metadata": {},
     "output_type": "execute_result"
    }
   ],
   "source": [
    "'''Formal parameters: -\n",
    "    \n",
    "    1. Definitions - Formal parameters is a placeholder or varible declared inside the function's definition to accept\n",
    "        values that will be pass to a function when it is called.\n",
    "    \n",
    "    2. Location - where arguments define under function definition.\n",
    "    \n",
    "    3. Purpose - They serve as local variables inside the function.\n",
    "    \n",
    "    \n",
    "Actual arguments:-\n",
    "    \n",
    "    1. Definition - Actual arguments is the value which is passed inside the function name while calling the function.\n",
    "    \n",
    "    2. Location - Actual arguments are passed inside the parentheses when the function is called.\n",
    "    \n",
    "    3. Purpose - To perform action on to excute tasks.'''"
   ]
  },
  {
   "cell_type": "code",
   "execution_count": 625,
   "id": "e60374c6",
   "metadata": {},
   "outputs": [
    {
     "data": {
      "text/plain": [
       "'2. Write a Python program that defines a function with default argument values.'"
      ]
     },
     "execution_count": 625,
     "metadata": {},
     "output_type": "execute_result"
    }
   ],
   "source": [
    "'''2. Write a Python program that defines a function with default argument values.'''"
   ]
  },
  {
   "cell_type": "code",
   "execution_count": 627,
   "id": "35186c9a",
   "metadata": {},
   "outputs": [
    {
     "name": "stdout",
     "output_type": "stream",
     "text": [
      "Hello, Pratham\n"
     ]
    }
   ],
   "source": [
    "def func2(name, greet = 'Hello'):\n",
    "    print(f'{greet}, {name}')\n",
    "    \n",
    "func2('Pratham')"
   ]
  },
  {
   "cell_type": "code",
   "execution_count": 628,
   "id": "79ce6c51",
   "metadata": {},
   "outputs": [
    {
     "data": {
      "text/plain": [
       "'3. How do you use keyword arguments in Python function calls? Provide an example.'"
      ]
     },
     "execution_count": 628,
     "metadata": {},
     "output_type": "execute_result"
    }
   ],
   "source": [
    "'''3. How do you use keyword arguments in Python function calls? Provide an example.'''"
   ]
  },
  {
   "cell_type": "code",
   "execution_count": 629,
   "id": "2d6715a6",
   "metadata": {},
   "outputs": [
    {
     "data": {
      "text/plain": [
       "'In python, You can use keyword arguments in function call by specifying the arguments name along with their values.\\n\\nThis allow you to pass arguments in any order. Which can make your code more readable and maintainable.'"
      ]
     },
     "execution_count": 629,
     "metadata": {},
     "output_type": "execute_result"
    }
   ],
   "source": [
    "'''In python, You can use keyword arguments in function call by specifying the arguments name along with their values.\n",
    "\n",
    "This allow you to pass arguments in any order. Which can make your code more readable and maintainable.'''"
   ]
  },
  {
   "cell_type": "code",
   "execution_count": 630,
   "id": "0809344d",
   "metadata": {},
   "outputs": [
    {
     "name": "stdout",
     "output_type": "stream",
     "text": [
      "Hello, Pratham\n",
      "Good morning, Raunak\n",
      "Hi, Dhiraj\n"
     ]
    }
   ],
   "source": [
    "def func3(name, greeting = 'Hello'):\n",
    "    print(f'{greeting}, {name}')\n",
    "    \n",
    "func3(name = 'Pratham')\n",
    "func3(greeting = 'Good morning', name = 'Raunak')\n",
    "func3(name = 'Dhiraj', greeting = 'Hi')"
   ]
  },
  {
   "cell_type": "code",
   "execution_count": 631,
   "id": "6236ea92",
   "metadata": {},
   "outputs": [
    {
     "data": {
      "text/plain": [
       "'4. Create a Python function that accepts a variable number of arguments and calculates their sum.'"
      ]
     },
     "execution_count": 631,
     "metadata": {},
     "output_type": "execute_result"
    }
   ],
   "source": [
    "'''4. Create a Python function that accepts a variable number of arguments and calculates their sum.'''"
   ]
  },
  {
   "cell_type": "code",
   "execution_count": 633,
   "id": "036a3b50",
   "metadata": {},
   "outputs": [
    {
     "data": {
      "text/plain": [
       "15"
      ]
     },
     "execution_count": 633,
     "metadata": {},
     "output_type": "execute_result"
    }
   ],
   "source": [
    "def calculate_sums(*args):\n",
    "    total = 0\n",
    "    for i in args:\n",
    "        total +=i\n",
    "    return total\n",
    "    \n",
    "calculate_sums(1, 2, 3, 4, 5)"
   ]
  },
  {
   "cell_type": "code",
   "execution_count": 634,
   "id": "b8ead2f1",
   "metadata": {},
   "outputs": [
    {
     "data": {
      "text/plain": [
       "'5. What is the purpose of the `*args` and `**kwargs` syntax in function parameter lists?'"
      ]
     },
     "execution_count": 634,
     "metadata": {},
     "output_type": "execute_result"
    }
   ],
   "source": [
    "'''5. What is the purpose of the `*args` and `**kwargs` syntax in function parameter lists?'''"
   ]
  },
  {
   "cell_type": "code",
   "execution_count": 635,
   "id": "c7649191",
   "metadata": {},
   "outputs": [
    {
     "data": {
      "text/plain": [
       "\"The *args and **kwargs syntax in function parameter list in python serve the purpose of allowing functions to accept\\na variable number of arguments.\\n\\n\\n1. *args:- This allow function to accept any number of positional arguments.\\n    \\n    When we use *args in function definition, it collects all the positional arguments passed to the function into a \\n    tuple.\\n    \\n    You can access all these positional arguments using the tuple name 'args' and use within a fucntion name.\""
      ]
     },
     "execution_count": 635,
     "metadata": {},
     "output_type": "execute_result"
    }
   ],
   "source": [
    "'''The *args and **kwargs syntax in function parameter list in python serve the purpose of allowing functions to accept\n",
    "a variable number of arguments.\n",
    "\n",
    "\n",
    "1. *args:- This allow function to accept any number of positional arguments.\n",
    "    \n",
    "    When we use *args in function definition, it collects all the positional arguments passed to the function into a \n",
    "    tuple.\n",
    "    \n",
    "    You can access all these positional arguments using the tuple name 'args' and use within a fucntion name.'''"
   ]
  },
  {
   "cell_type": "code",
   "execution_count": 638,
   "id": "04cf6035",
   "metadata": {},
   "outputs": [
    {
     "name": "stdout",
     "output_type": "stream",
     "text": [
      "1\n",
      "2\n",
      "3\n",
      "Hello\n"
     ]
    }
   ],
   "source": [
    "def func5(*args):\n",
    "    for i in args:\n",
    "        print(i)\n",
    "        \n",
    "func5(1, 2, 3, 'Hello')"
   ]
  },
  {
   "cell_type": "code",
   "execution_count": 639,
   "id": "316adff8",
   "metadata": {},
   "outputs": [
    {
     "data": {
      "text/plain": [
       "\"**kwargs:-\\n    1. This allow to accept any number of arguments but its in form of key - value pair.\\n    \\n    2. When you use **kwargs in a function definition, it collect the all the arguments passed to the function into\\n        dictionary.\\n        \\n    3. You can use these arguments using the dictionary name 'kwargs' and use them within function.\""
      ]
     },
     "execution_count": 639,
     "metadata": {},
     "output_type": "execute_result"
    }
   ],
   "source": [
    "'''**kwargs:-\n",
    "    1. This allow to accept any number of arguments but its in form of key - value pair.\n",
    "    \n",
    "    2. When you use **kwargs in a function definition, it collect the all the arguments passed to the function into\n",
    "        dictionary.\n",
    "        \n",
    "    3. You can use these arguments using the dictionary name 'kwargs' and use them within function.'''"
   ]
  },
  {
   "cell_type": "code",
   "execution_count": 642,
   "id": "8fd8681a",
   "metadata": {},
   "outputs": [
    {
     "name": "stdout",
     "output_type": "stream",
     "text": [
      "name Pratham\n",
      "Age 30\n",
      "city Patna\n"
     ]
    }
   ],
   "source": [
    "def func5(**kwargs):\n",
    "    for key, value in kwargs.items():\n",
    "        print(key, value)\n",
    "        \n",
    "func5(name = 'Pratham', Age = 30, city = 'Patna')"
   ]
  },
  {
   "cell_type": "code",
   "execution_count": 643,
   "id": "329c3224",
   "metadata": {},
   "outputs": [
    {
     "data": {
      "text/plain": [
       "'1. Describe the role of the `return` statement in Python functions and provide examples.'"
      ]
     },
     "execution_count": 643,
     "metadata": {},
     "output_type": "execute_result"
    }
   ],
   "source": [
    "'''1. Describe the role of the `return` statement in Python functions and provide examples.'''"
   ]
  },
  {
   "cell_type": "code",
   "execution_count": 651,
   "id": "a5e2217a",
   "metadata": {},
   "outputs": [
    {
     "data": {
      "text/plain": [
       "\"The return statement in python function serves the role of specifying what value or objects that function should\\nproduce its results or output.\\n\\nWhen a return statement is encountered within a function, the function immediately exits and specified value is\\nreturned to the caller.\\n\\nBelow are some keypoints about the return statement:-\\n\\n1. Returning a value: - \\n                You can use return statement to send single value to the caller.\\n                This value can be string, number, lists, dictionary or even functions.\\n2. Exiting the function:-\\n                When a return statement encountered, its immediately exits the function, even there are more statments\\n                after it.\\n                This is why its often used to specify the function's result as last statement.\\n            \\n3. Multiple return statements:-\\n                You can have multiple return statements in a function, but only one of them will be executed.\\n                Which one will be executed based on conditions.\\n    \\n4. No return value:- \\n                If you dont use a return statement in a function, or use it without specifying a value, the function\\n                will implicitly return 'None', which represents the absence of a value.\""
      ]
     },
     "execution_count": 651,
     "metadata": {},
     "output_type": "execute_result"
    }
   ],
   "source": [
    "'''The return statement in python function serves the role of specifying what value or objects that function should\n",
    "produce its results or output.\n",
    "\n",
    "When a return statement is encountered within a function, the function immediately exits and specified value is\n",
    "returned to the caller.\n",
    "\n",
    "Below are some keypoints about the return statement:-\n",
    "\n",
    "1. Returning a value: - \n",
    "                You can use return statement to send single value to the caller.\n",
    "                This value can be string, number, lists, dictionary or even functions.\n",
    "2. Exiting the function:-\n",
    "                When a return statement encountered, its immediately exits the function, even there are more statments\n",
    "                after it.\n",
    "                This is why its often used to specify the function's result as last statement.\n",
    "            \n",
    "3. Multiple return statements:-\n",
    "                You can have multiple return statements in a function, but only one of them will be executed.\n",
    "                Which one will be executed based on conditions.\n",
    "    \n",
    "4. No return value:- \n",
    "                If you dont use a return statement in a function, or use it without specifying a value, the function\n",
    "                will implicitly return 'None', which represents the absence of a value.'''\n",
    "                "
   ]
  },
  {
   "cell_type": "code",
   "execution_count": 647,
   "id": "3bd6c05e",
   "metadata": {},
   "outputs": [
    {
     "data": {
      "text/plain": [
       "3"
      ]
     },
     "execution_count": 647,
     "metadata": {},
     "output_type": "execute_result"
    }
   ],
   "source": [
    "# Example of Returning a value\n",
    "\n",
    "def add_nums(a, b):\n",
    "    result = a + b\n",
    "    return result\n",
    "\n",
    "add_nums(1, 2)"
   ]
  },
  {
   "cell_type": "code",
   "execution_count": 649,
   "id": "197a3f43",
   "metadata": {},
   "outputs": [
    {
     "data": {
      "text/plain": [
       "False"
      ]
     },
     "execution_count": 649,
     "metadata": {},
     "output_type": "execute_result"
    }
   ],
   "source": [
    "# Exiting the function\n",
    "\n",
    "def is_even(n):\n",
    "    if n%2 == 0:\n",
    "        return True\n",
    "    else:\n",
    "        return False\n",
    "\n",
    "is_even(5)"
   ]
  },
  {
   "cell_type": "code",
   "execution_count": 650,
   "id": "7297d7f6",
   "metadata": {},
   "outputs": [
    {
     "data": {
      "text/plain": [
       "2.4"
      ]
     },
     "execution_count": 650,
     "metadata": {},
     "output_type": "execute_result"
    }
   ],
   "source": [
    "#Multiple return statements\n",
    "\n",
    "def divide(a, b):\n",
    "    if b == 0:\n",
    "        return 'Error: Division by zero.'\n",
    "    else:\n",
    "        return a/b\n",
    "divide(12, 5)"
   ]
  },
  {
   "cell_type": "code",
   "execution_count": 652,
   "id": "8884e0fc",
   "metadata": {},
   "outputs": [
    {
     "name": "stdout",
     "output_type": "stream",
     "text": [
      "Hello, Pratham\n"
     ]
    }
   ],
   "source": [
    "#No return value\n",
    "\n",
    "def greet(name):\n",
    "    print(f'Hello, {name}')\n",
    "    \n",
    "greet('Pratham')"
   ]
  },
  {
   "cell_type": "code",
   "execution_count": 653,
   "id": "955f5e7c",
   "metadata": {},
   "outputs": [
    {
     "data": {
      "text/plain": [
       "'2. Explain the concept of variable scope in Python, including local and global variables.'"
      ]
     },
     "execution_count": 653,
     "metadata": {},
     "output_type": "execute_result"
    }
   ],
   "source": [
    "'''2. Explain the concept of variable scope in Python, including local and global variables.G"
   ]
  },
  {
   "cell_type": "code",
   "execution_count": 665,
   "id": "0d32698f",
   "metadata": {},
   "outputs": [
    {
     "data": {
      "text/plain": [
       "\"Varible scope in python refers to the region or context within which a varible is visible and can be accessed.\\n\\nPython has two main types of varible scope: Local scope and global scope.\\n    \\n\\nLocal scope:-\\n    \\n    1. Varibles define inside function are said to have local scope. They are accessible within the function in which\\n    they are defined.\\n    \\n    2. Local variables are called when the function is called and destroy when the function exits.\\n    \\n    3. They are temporary and exist only while the function is excuting.\\n    \\nGlobal scope:-\\n    \\n    1. Variables define outside the function or at the top level of script have global scope.\\n    \\n    2. Global variables is accessible throughout the program.\\n    \\n    3. Global variables are created when the program starts and persist until the program ends.\\n    \\n    4. They are available for the entire program duration.\\n    \\nVariable Lookup: -\\n    \\n    1. When a variable is rerfrenced within scope e.g. function, python first checks if the variable exists in local \\n        scope. If found, it use the local variable.\\n    2. If the variable is not found in local scope, python looks in the enclosing function scope(If applicable).\\n    3. If still not found in function scope, it continue to search in higher scope including the global scope.\\n    4. If the variable is not found in any scope, python raise a NameError.\\n    \\nModifying Global Variables: -\\n    1. While you can access global variables within a function, if you want to modify a global variable within a\\n        function, you need to use the 'global' keyword.\""
      ]
     },
     "execution_count": 665,
     "metadata": {},
     "output_type": "execute_result"
    }
   ],
   "source": [
    "'''Varible scope in python refers to the region or context within which a varible is visible and can be accessed.\n",
    "\n",
    "Python has two main types of varible scope: Local scope and global scope.\n",
    "    \n",
    "\n",
    "Local scope:-\n",
    "    \n",
    "    1. Varibles define inside function are said to have local scope. They are accessible within the function in which\n",
    "    they are defined.\n",
    "    \n",
    "    2. Local variables are called when the function is called and destroy when the function exits.\n",
    "    \n",
    "    3. They are temporary and exist only while the function is excuting.\n",
    "    \n",
    "Global scope:-\n",
    "    \n",
    "    1. Variables define outside the function or at the top level of script have global scope.\n",
    "    \n",
    "    2. Global variables is accessible throughout the program.\n",
    "    \n",
    "    3. Global variables are created when the program starts and persist until the program ends.\n",
    "    \n",
    "    4. They are available for the entire program duration.\n",
    "    \n",
    "Variable Lookup: -\n",
    "    \n",
    "    1. When a variable is rerfrenced within scope e.g. function, python first checks if the variable exists in local \n",
    "        scope. If found, it use the local variable.\n",
    "    2. If the variable is not found in local scope, python looks in the enclosing function scope(If applicable).\n",
    "    3. If still not found in function scope, it continue to search in higher scope including the global scope.\n",
    "    4. If the variable is not found in any scope, python raise a NameError.\n",
    "    \n",
    "Modifying Global Variables: -\n",
    "    1. While you can access global variables within a function, if you want to modify a global variable within a\n",
    "        function, you need to use the 'global' keyword.'''"
   ]
  },
  {
   "cell_type": "code",
   "execution_count": 666,
   "id": "e5a0a082",
   "metadata": {},
   "outputs": [
    {
     "data": {
      "text/plain": [
       "'3. Write a Python program that demonstrates the use of global variables within functions.'"
      ]
     },
     "execution_count": 666,
     "metadata": {},
     "output_type": "execute_result"
    }
   ],
   "source": [
    "'''3. Write a Python program that demonstrates the use of global variables within functions.'''"
   ]
  },
  {
   "cell_type": "code",
   "execution_count": 670,
   "id": "edc3e8c4",
   "metadata": {},
   "outputs": [
    {
     "name": "stdout",
     "output_type": "stream",
     "text": [
      "200\n",
      "100\n"
     ]
    }
   ],
   "source": [
    "global_variable = 100\n",
    "\n",
    "def func3():\n",
    "    local_variable = 200\n",
    "    print(local_variable)\n",
    "    print(global_variable)\n",
    "    \n",
    "func3()"
   ]
  },
  {
   "cell_type": "code",
   "execution_count": 671,
   "id": "04dfc627",
   "metadata": {},
   "outputs": [
    {
     "data": {
      "text/plain": [
       "'4. Create a Python function that calculates the factorial of a number and returns it.'"
      ]
     },
     "execution_count": 671,
     "metadata": {},
     "output_type": "execute_result"
    }
   ],
   "source": [
    "'''4. Create a Python function that calculates the factorial of a number and returns it.'''"
   ]
  },
  {
   "cell_type": "code",
   "execution_count": 674,
   "id": "697a88be",
   "metadata": {},
   "outputs": [
    {
     "name": "stdout",
     "output_type": "stream",
     "text": [
      "Enter number for which you want to calculate factorial: 5\n"
     ]
    },
    {
     "data": {
      "text/plain": [
       "120"
      ]
     },
     "execution_count": 674,
     "metadata": {},
     "output_type": "execute_result"
    }
   ],
   "source": [
    "num = int(input('Enter number for which you want to calculate factorial: '))\n",
    "\n",
    "def fact4(n):\n",
    "    if n == 0 or n ==1:\n",
    "        return 1\n",
    "    else:\n",
    "        return n*fact4(n-1)\n",
    "fact4(num)"
   ]
  },
  {
   "cell_type": "code",
   "execution_count": 675,
   "id": "06fd2c77",
   "metadata": {},
   "outputs": [
    {
     "data": {
      "text/plain": [
       "'5. How can you access variables defined outside a function from within the function?'"
      ]
     },
     "execution_count": 675,
     "metadata": {},
     "output_type": "execute_result"
    }
   ],
   "source": [
    "'''5. How can you access variables defined outside a function from within the function?'''"
   ]
  },
  {
   "cell_type": "code",
   "execution_count": 678,
   "id": "9d84e856",
   "metadata": {},
   "outputs": [
    {
     "name": "stdout",
     "output_type": "stream",
     "text": [
      "30\n"
     ]
    }
   ],
   "source": [
    "a = 10\n",
    "\n",
    "def fun5():\n",
    "    global a\n",
    "    a = 30\n",
    "    print(a)\n",
    "    \n",
    "fun5()"
   ]
  },
  {
   "cell_type": "code",
   "execution_count": 679,
   "id": "06bc7252",
   "metadata": {},
   "outputs": [
    {
     "data": {
      "text/plain": [
       "'1. What are lambda functions in Python, and when are they typically used?'"
      ]
     },
     "execution_count": 679,
     "metadata": {},
     "output_type": "execute_result"
    }
   ],
   "source": [
    "'''1. What are lambda functions in Python, and when are they typically used?'''"
   ]
  },
  {
   "cell_type": "code",
   "execution_count": null,
   "id": "567d7e9a",
   "metadata": {},
   "outputs": [],
   "source": [
    "Lambda function is a small, anonymous function defined using the lambda keyword. They are also known as lambda\n",
    "expressions or lambda forms.\n",
    "\n",
    "Lambda function can take any number of arguments but only one expression.\n",
    "\n",
    "The result of expression is returned when lambda function get call.\n",
    "\n",
    "Lambda function generally used in situations where you need a simple, sort, disposable function for short period of\n",
    "time.\n",
    "\n",
    "Some common use cases for lambda functions include:-\n",
    "\n",
    "1. Pasing as arguments: -\n",
    "            Lambda functions are often used as arguments to higher order function like map(), filter(), and sorted().\n",
    "            \n",
    "            These functions expect function as argument and using lambda function can be concise and convenient.\n",
    "            \n",
    "2. Filtering Data: -\n",
    "            Lambda functions are useful for filtering elements from a collection based on a condition.`\n",
    "        \n",
    "3. Sorting:- \n",
    "            Lambda function can be used to sort list of objects.\n",
    "        \n",
    "4. Short Funtions:-\n",
    "            Lambda functions are suitable for defining short and simple functions."
   ]
  },
  {
   "cell_type": "code",
   "execution_count": 680,
   "id": "2046223c",
   "metadata": {},
   "outputs": [
    {
     "name": "stdout",
     "output_type": "stream",
     "text": [
      "[1, 4, 9, 16, 25, 36, 49, 64, 81, 100]\n"
     ]
    }
   ],
   "source": [
    "#Passing as arguments\n",
    "\n",
    "numbers = [1, 2, 3, 4, 5, 6, 7, 8, 9, 10]\n",
    "\n",
    "print(list(map(lambda x : x**2, numbers)))"
   ]
  },
  {
   "cell_type": "code",
   "execution_count": 683,
   "id": "29d8da80",
   "metadata": {},
   "outputs": [
    {
     "name": "stdout",
     "output_type": "stream",
     "text": [
      "[2, 4, 6, 8, 10]\n"
     ]
    }
   ],
   "source": [
    "#Flitering data\n",
    "\n",
    "numbers = [1, 2, 3, 4, 5, 6, 7, 8, 9, 10]\n",
    "\n",
    "print(list(filter(lambda x: x%2 ==0, numbers)))"
   ]
  },
  {
   "cell_type": "code",
   "execution_count": 684,
   "id": "3b269485",
   "metadata": {},
   "outputs": [
    {
     "name": "stdout",
     "output_type": "stream",
     "text": [
      "[{'name': 'Raunak', 'age': 28}, {'name': 'Pratham', 'age': 30}, {'name': 'Dhiraj', 'age': 32}]\n"
     ]
    }
   ],
   "source": [
    "#Sort\n",
    "\n",
    "students = [\n",
    "    {'name': 'Pratham', 'age': 30},\n",
    "    {'name': 'Raunak', 'age': 28},\n",
    "    {'name': 'Dhiraj', 'age': 32}\n",
    "]\n",
    "\n",
    "sorted_students = sorted(students, key = lambda student: student['age'])\n",
    "\n",
    "print(sorted_students)"
   ]
  },
  {
   "cell_type": "code",
   "execution_count": 685,
   "id": "2f42be88",
   "metadata": {},
   "outputs": [
    {
     "name": "stdout",
     "output_type": "stream",
     "text": [
      "5\n"
     ]
    }
   ],
   "source": [
    "#Short Fubctions\n",
    "\n",
    "add = lambda x,y: x+y\n",
    "\n",
    "print(add(2,3))"
   ]
  },
  {
   "cell_type": "code",
   "execution_count": 686,
   "id": "7338f947",
   "metadata": {},
   "outputs": [
    {
     "data": {
      "text/plain": [
       "'2. Write a Python program that uses lambda functions to sort a list of tuples based on the second element.'"
      ]
     },
     "execution_count": 686,
     "metadata": {},
     "output_type": "execute_result"
    }
   ],
   "source": [
    "'''2. Write a Python program that uses lambda functions to sort a list of tuples based on the second element.'''"
   ]
  },
  {
   "cell_type": "code",
   "execution_count": 691,
   "id": "3e10b0da",
   "metadata": {},
   "outputs": [
    {
     "name": "stdout",
     "output_type": "stream",
     "text": [
      "('Pratham', 28)\n",
      "('Raunak', 30)\n",
      "('Dhiraj', 32)\n"
     ]
    }
   ],
   "source": [
    "students = [\n",
    "    ('Pratham', 28),\n",
    "    ('Dhiraj', 32), \n",
    "    ('Raunak', 30)\n",
    "]\n",
    "\n",
    "\n",
    "sorted_students = sorted(students, key = lambda i: i[1])\n",
    "\n",
    "for student in sorted_students:\n",
    "    print(student)"
   ]
  },
  {
   "cell_type": "code",
   "execution_count": 692,
   "id": "8e74b592",
   "metadata": {},
   "outputs": [
    {
     "data": {
      "text/plain": [
       "'3. Explain the concept of higher-order functions in Python, and provide an example.'"
      ]
     },
     "execution_count": 692,
     "metadata": {},
     "output_type": "execute_result"
    }
   ],
   "source": [
    "'''3. Explain the concept of higher-order functions in Python, and provide an example.'''"
   ]
  },
  {
   "cell_type": "code",
   "execution_count": 693,
   "id": "7cca429e",
   "metadata": {},
   "outputs": [
    {
     "data": {
      "text/plain": [
       "'In python, a higher order functions is a function that take other function as arguments or return them as result.\\n\\nEssentially, it treats function as first class citizens, allowing you to work with function just like other data types\\nsuch as numbers, strings.'"
      ]
     },
     "execution_count": 693,
     "metadata": {},
     "output_type": "execute_result"
    }
   ],
   "source": [
    "'''In python, a higher order functions is a function that take other function as arguments or return them as result.\n",
    "\n",
    "Essentially, it treats function as first class citizens, allowing you to work with function just like other data types\n",
    "such as numbers, strings.'''"
   ]
  },
  {
   "cell_type": "code",
   "execution_count": 694,
   "id": "7831682b",
   "metadata": {},
   "outputs": [
    {
     "name": "stdout",
     "output_type": "stream",
     "text": [
      "30\n",
      "10\n",
      "200\n",
      "2.0\n"
     ]
    }
   ],
   "source": [
    "# Higher-order function that takes function as an argument\n",
    "\n",
    "def apply_operation(func, x, y):\n",
    "    result = func(x, y)\n",
    "    return result\n",
    "\n",
    "def add(x, y):\n",
    "    return x+y\n",
    "def subtract(x, y):\n",
    "    return x-y\n",
    "def multi(x, y):\n",
    "    return x*y\n",
    "def div(x, y):\n",
    "    if y == 0:\n",
    "        return 'Error: Division by zero.'\n",
    "    else:\n",
    "        return x/y\n",
    "    \n",
    "result1 = apply_operation(add, 20, 10)\n",
    "print(result1)\n",
    "\n",
    "result2 = apply_operation(subtract, 20, 10)\n",
    "print(result2)\n",
    "\n",
    "result3 = apply_operation(multi, 20, 10)\n",
    "print(result3)\n",
    "\n",
    "result4 = apply_operation(div, 20, 10)\n",
    "print(result4)"
   ]
  },
  {
   "cell_type": "code",
   "execution_count": 695,
   "id": "078d6bf4",
   "metadata": {},
   "outputs": [
    {
     "data": {
      "text/plain": [
       "'4. Create a Python function that takes a list of numbers and a function as arguments, applying the function to each element in the list.'"
      ]
     },
     "execution_count": 695,
     "metadata": {},
     "output_type": "execute_result"
    }
   ],
   "source": [
    "'''4. Create a Python function that takes a list of numbers and a function as arguments, applying the function to each element in the list.'''"
   ]
  },
  {
   "cell_type": "code",
   "execution_count": 697,
   "id": "28c0dad7",
   "metadata": {},
   "outputs": [
    {
     "name": "stdout",
     "output_type": "stream",
     "text": [
      "[1, 4, 9, 16, 25, 36, 49, 64, 81, 100]\n"
     ]
    }
   ],
   "source": [
    "list4 = [1, 2, 3, 4, 5, 6, 7, 8, 9, 10]\n",
    "\n",
    "def fun4(fun, list_num):\n",
    "    result_list = []\n",
    "    \n",
    "    for i in list_num:\n",
    "        result_list.append(fun(i))\n",
    "    return result_list\n",
    "\n",
    "def square(c):\n",
    "    return c**2\n",
    "\n",
    "result = fun4(square, list4)\n",
    "print(result)"
   ]
  },
  {
   "cell_type": "code",
   "execution_count": 698,
   "id": "b2ebdfbc",
   "metadata": {},
   "outputs": [
    {
     "data": {
      "text/plain": [
       "'1. Describe the role of built-in functions like `len()`, `max()`, and `min()` in Python.'"
      ]
     },
     "execution_count": 698,
     "metadata": {},
     "output_type": "execute_result"
    }
   ],
   "source": [
    "'''1. Describe the role of built-in functions like `len()`, `max()`, and `min()` in Python.'''"
   ]
  },
  {
   "cell_type": "code",
   "execution_count": 699,
   "id": "03ee3caf",
   "metadata": {},
   "outputs": [
    {
     "data": {
      "text/plain": [
       "'len(): - This function is used to find the length of elements in an iterable such as list, set, tuple, dictionary. \\n    \\nmax(): - This function is used to find the maximum value among set of values of elements.\\n    \\nmin(): - This function is used to find the minimum value among set of values of elements.'"
      ]
     },
     "execution_count": 699,
     "metadata": {},
     "output_type": "execute_result"
    }
   ],
   "source": [
    "'''len(): - This function is used to find the length of elements in an iterable such as list, set, tuple, dictionary. \n",
    "    \n",
    "max(): - This function is used to find the maximum value among set of values of elements.\n",
    "    \n",
    "min(): - This function is used to find the minimum value among set of values of elements.'''"
   ]
  },
  {
   "cell_type": "code",
   "execution_count": 700,
   "id": "0261741b",
   "metadata": {},
   "outputs": [
    {
     "data": {
      "text/plain": [
       "'2. Write a Python program that uses the `map()` function to apply a function to each element of a list.'"
      ]
     },
     "execution_count": 700,
     "metadata": {},
     "output_type": "execute_result"
    }
   ],
   "source": [
    "'''2. Write a Python program that uses the `map()` function to apply a function to each element of a list.'''"
   ]
  },
  {
   "cell_type": "code",
   "execution_count": 701,
   "id": "6ce671cc",
   "metadata": {},
   "outputs": [
    {
     "name": "stdout",
     "output_type": "stream",
     "text": [
      "[1, 4, 9, 16, 25]\n"
     ]
    }
   ],
   "source": [
    "list2 = [1, 2, 3, 4, 5]\n",
    "def square(n):\n",
    "    return n**2\n",
    "result = map(square, list2)\n",
    "\n",
    "print(list(result))"
   ]
  },
  {
   "cell_type": "code",
   "execution_count": 702,
   "id": "acc8ea0d",
   "metadata": {},
   "outputs": [
    {
     "data": {
      "text/plain": [
       "'3. How does the `filter()` function work in Python, and when would you use it?'"
      ]
     },
     "execution_count": 702,
     "metadata": {},
     "output_type": "execute_result"
    }
   ],
   "source": [
    "'''3. How does the `filter()` function work in Python, and when would you use it?'''"
   ]
  },
  {
   "cell_type": "code",
   "execution_count": 703,
   "id": "1ca30c77",
   "metadata": {},
   "outputs": [
    {
     "data": {
      "text/plain": [
       "'The filter function in python used to filter elements from an iterable based on given function.\\n\\nEssentially it create another iterable containing only those elements that meet a certain criteria.'"
      ]
     },
     "execution_count": 703,
     "metadata": {},
     "output_type": "execute_result"
    }
   ],
   "source": [
    "'''The filter function in python used to filter elements from an iterable based on given function.\n",
    "\n",
    "Essentially it create another iterable containing only those elements that meet a certain criteria.'''"
   ]
  },
  {
   "cell_type": "code",
   "execution_count": 704,
   "id": "0423b8ed",
   "metadata": {},
   "outputs": [
    {
     "name": "stdout",
     "output_type": "stream",
     "text": [
      "[2, 4, 6, 8, 10]\n"
     ]
    }
   ],
   "source": [
    "list3 = [1, 2, 3, 4, 5, 6, 7, 8, 9, 10]\n",
    "\n",
    "def even_num(n):\n",
    "    if n%2 == 0:\n",
    "        return n\n",
    "\n",
    "result = filter(even_num, list3)\n",
    "\n",
    "print(list(result))"
   ]
  },
  {
   "cell_type": "code",
   "execution_count": 705,
   "id": "099bb632",
   "metadata": {},
   "outputs": [
    {
     "data": {
      "text/plain": [
       "'4. Create a Python program that uses the `reduce()` function to find the product of all elements in a list.'"
      ]
     },
     "execution_count": 705,
     "metadata": {},
     "output_type": "execute_result"
    }
   ],
   "source": [
    "'''4. Create a Python program that uses the `reduce()` function to find the product of all elements in a list.'''"
   ]
  },
  {
   "cell_type": "code",
   "execution_count": 706,
   "id": "61879cb6",
   "metadata": {},
   "outputs": [
    {
     "name": "stdout",
     "output_type": "stream",
     "text": [
      "3628800\n"
     ]
    }
   ],
   "source": [
    "list4 = [1, 2, 3, 4, 5, 6, 7, 8, 9, 10]\n",
    "\n",
    "def prod(a, b):\n",
    "    return a*b\n",
    "\n",
    "result = reduce(prod, list4)\n",
    "print(result)"
   ]
  },
  {
   "cell_type": "code",
   "execution_count": 707,
   "id": "f86b4dc2",
   "metadata": {},
   "outputs": [
    {
     "data": {
      "text/plain": [
       "'1. Explain the purpose of docstrings in Python functions and how to write them.'"
      ]
     },
     "execution_count": 707,
     "metadata": {},
     "output_type": "execute_result"
    }
   ],
   "source": [
    "'''1. Explain the purpose of docstrings in Python functions and how to write them.'''"
   ]
  },
  {
   "cell_type": "code",
   "execution_count": 708,
   "id": "d4803436",
   "metadata": {},
   "outputs": [
    {
     "data": {
      "text/plain": [
       "\"In python, docstrings is used to provide information about a function, method, class, object or module.\\n\\nDocstrings served as human readable documentaion that can be accessed useing various tools, including python's built\\nfunction 'help'.\\n\\nThe main purpose of using docstring in python are as follows:-\\n    \\n    1. Documentation -- Docstring provide a way to document about what function or object does.\\n    \\n    2. Code exploration -- Developers can use the help() function to access docstrings interactively within function.\\n    \\n    3. Automatic generation -- Docstrings can be processed by documentation generation tools like Sphinx to produce\\n        user friendly documentation for your codebase including HTML, PDF or other formats.\\n\\nHere's how you write docstrings in python:-\\n\\n    1. Module level docstring -- At the begining of python module, you can involve a docstring enclosed within \\n        brackets.\\n        This docstring provide information or overview about that particular module.\\n        \\n    2. Function level docstring -- Inside function or method, you can include a docstring immediately after the \\n        function definition.\\n        \\n        This docstring explains about what function does, arguments and return type.\\n    \\n    3. Class level docstring -- At the begining of a class definition, you can include a docstring that provides an\\n        overview about the class, its purpose and usage.\\n        \\n    4. Method level docstring -- Indide class methods, you can include docstring that describe what method does, its\\n        parameters and return values similar to function level docstring.\""
      ]
     },
     "execution_count": 708,
     "metadata": {},
     "output_type": "execute_result"
    }
   ],
   "source": [
    "'''In python, docstrings is used to provide information about a function, method, class, object or module.\n",
    "\n",
    "Docstrings served as human readable documentaion that can be accessed useing various tools, including python's built\n",
    "function 'help'.\n",
    "\n",
    "The main purpose of using docstring in python are as follows:-\n",
    "    \n",
    "    1. Documentation -- Docstring provide a way to document about what function or object does.\n",
    "    \n",
    "    2. Code exploration -- Developers can use the help() function to access docstrings interactively within function.\n",
    "    \n",
    "    3. Automatic generation -- Docstrings can be processed by documentation generation tools like Sphinx to produce\n",
    "        user friendly documentation for your codebase including HTML, PDF or other formats.\n",
    "\n",
    "Here's how you write docstrings in python:-\n",
    "\n",
    "    1. Module level docstring -- At the begining of python module, you can involve a docstring enclosed within ''''''\n",
    "        brackets.\n",
    "        This docstring provide information or overview about that particular module.\n",
    "        \n",
    "    2. Function level docstring -- Inside function or method, you can include a docstring immediately after the \n",
    "        function definition.\n",
    "        \n",
    "        This docstring explains about what function does, arguments and return type.\n",
    "    \n",
    "    3. Class level docstring -- At the begining of a class definition, you can include a docstring that provides an\n",
    "        overview about the class, its purpose and usage.\n",
    "        \n",
    "    4. Method level docstring -- Indide class methods, you can include docstring that describe what method does, its\n",
    "        parameters and return values similar to function level docstring.'''"
   ]
  },
  {
   "cell_type": "code",
   "execution_count": 709,
   "id": "47ded088",
   "metadata": {},
   "outputs": [
    {
     "data": {
      "text/plain": [
       "5"
      ]
     },
     "execution_count": 709,
     "metadata": {},
     "output_type": "execute_result"
    }
   ],
   "source": [
    "def add(a, b):\n",
    "    '''\n",
    "    Add two numbers and return the result.\n",
    "    \n",
    "    Parameters:\n",
    "    a (int): The first number\n",
    "    b (int): The second number\n",
    "    \n",
    "    Returns:\n",
    "    int: The sum of a and b\n",
    "    '''\n",
    "    \n",
    "    return a+b\n",
    "\n",
    "add(2, 3)"
   ]
  },
  {
   "cell_type": "code",
   "execution_count": 710,
   "id": "22ac02e9",
   "metadata": {},
   "outputs": [
    {
     "data": {
      "text/plain": [
       "'2. Describe some best practices for naming functions and variables in Python, including naming conventions and guidelines.'"
      ]
     },
     "execution_count": 710,
     "metadata": {},
     "output_type": "execute_result"
    }
   ],
   "source": [
    "'''2. Describe some best practices for naming functions and variables in Python, including naming conventions and guidelines.'''"
   ]
  },
  {
   "cell_type": "code",
   "execution_count": 711,
   "id": "c717c532",
   "metadata": {},
   "outputs": [
    {
     "data": {
      "text/plain": [
       "'Naming function and variables in python is an important aspect of writing clean and maintainable code.\\n\\nFollowing best practice for naming can make your code more redable and understable by both you and other developers.\\n\\n\\n1. Use descriptive Names --\\n                Choose names that clearly convey the purpose and meaning of function or variable.\\n    \\n2. Follow naming convention --\\n                a. Camel case for function and methods -- Start with lowercase letters and capitalize the first letter\\n    of each subsequent word.\\n    \\n    This convention is mainly used for creating function, methods and variable names.\\n    \\n                b. Snake case for variables and function arguments -- Use lowercase letters with underscore between\\n    letters.\\n    \\n    This conventio is mainly used for variable names, arguments and module level constants.\\n    \\n                c. Capwords for classes -- Start each word with uppercase letter without underscores. \\n    This is typically used for class name.\\n    \\n\\n3. Be consistent -- Maintin consistenct in your naming conventions throughout your codebase.\\n\\n4. Avoid ambiguous Abbreviation -- While abbereviation can be used for long words.\\n\\n5. Use meaningful variable names -- Make sure variable names reflect the data that store or role they play in the code.\\n\\n6. Avoid reserve words -- Do not use python reserve keywords or built in function names.\\n\\n7. Use verb-noun naming for functions -- Function name generally start with verb.\\n\\n8. Avoid overly long name -- Avoid long word for naming convention.\\n\\n9. Use comments for clarification -- If name is not sufficient, use comments for further clarification.\\n\\n10. Update names when code change -- If the purpose of function change, plese update names accordingly.\\n\\n11. Use singularUse singular names for variables representing individual items and plural names for \\ncollections or lists of items.\\n\\n12. Avoid redundancy -- Avoid repeating infomration in names that is already clear for context or data type.'"
      ]
     },
     "execution_count": 711,
     "metadata": {},
     "output_type": "execute_result"
    }
   ],
   "source": [
    "'''Naming function and variables in python is an important aspect of writing clean and maintainable code.\n",
    "\n",
    "Following best practice for naming can make your code more redable and understable by both you and other developers.\n",
    "\n",
    "\n",
    "1. Use descriptive Names --\n",
    "                Choose names that clearly convey the purpose and meaning of function or variable.\n",
    "    \n",
    "2. Follow naming convention --\n",
    "                a. Camel case for function and methods -- Start with lowercase letters and capitalize the first letter\n",
    "    of each subsequent word.\n",
    "    \n",
    "    This convention is mainly used for creating function, methods and variable names.\n",
    "    \n",
    "                b. Snake case for variables and function arguments -- Use lowercase letters with underscore between\n",
    "    letters.\n",
    "    \n",
    "    This conventio is mainly used for variable names, arguments and module level constants.\n",
    "    \n",
    "                c. Capwords for classes -- Start each word with uppercase letter without underscores. \n",
    "    This is typically used for class name.\n",
    "    \n",
    "\n",
    "3. Be consistent -- Maintin consistenct in your naming conventions throughout your codebase.\n",
    "\n",
    "4. Avoid ambiguous Abbreviation -- While abbereviation can be used for long words.\n",
    "\n",
    "5. Use meaningful variable names -- Make sure variable names reflect the data that store or role they play in the code.\n",
    "\n",
    "6. Avoid reserve words -- Do not use python reserve keywords or built in function names.\n",
    "\n",
    "7. Use verb-noun naming for functions -- Function name generally start with verb.\n",
    "\n",
    "8. Avoid overly long name -- Avoid long word for naming convention.\n",
    "\n",
    "9. Use comments for clarification -- If name is not sufficient, use comments for further clarification.\n",
    "\n",
    "10. Update names when code change -- If the purpose of function change, plese update names accordingly.\n",
    "\n",
    "11. Use singularUse singular names for variables representing individual items and plural names for \n",
    "collections or lists of items.\n",
    "\n",
    "12. Avoid redundancy -- Avoid repeating infomration in names that is already clear for context or data type.'''"
   ]
  }
 ],
 "metadata": {
  "kernelspec": {
   "display_name": "Python 3",
   "language": "python",
   "name": "python3"
  },
  "language_info": {
   "codemirror_mode": {
    "name": "ipython",
    "version": 3
   },
   "file_extension": ".py",
   "mimetype": "text/x-python",
   "name": "python",
   "nbconvert_exporter": "python",
   "pygments_lexer": "ipython3",
   "version": "3.8.8"
  }
 },
 "nbformat": 4,
 "nbformat_minor": 5
}

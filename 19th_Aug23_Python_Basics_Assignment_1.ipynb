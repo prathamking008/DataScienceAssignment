{
 "cells": [
  {
   "cell_type": "code",
   "execution_count": 1,
   "id": "492da52d",
   "metadata": {},
   "outputs": [
    {
     "data": {
      "text/plain": [
       "'1. Declare two variables, `x` and `y`, and assign them integer values. Swap the\\nvalues of these variables without using any temporary variable.'"
      ]
     },
     "execution_count": 1,
     "metadata": {},
     "output_type": "execute_result"
    }
   ],
   "source": [
    "'''1. Declare two variables, `x` and `y`, and assign them integer values. Swap the\n",
    "values of these variables without using any temporary variable.'''"
   ]
  },
  {
   "cell_type": "code",
   "execution_count": 6,
   "id": "3081cfb9",
   "metadata": {},
   "outputs": [
    {
     "name": "stdout",
     "output_type": "stream",
     "text": [
      "Original value of a is 1.\n",
      "Original value of b is 20.\n",
      "Value of a after swapping is 20.\n",
      "Value of b after swapping is 1.\n"
     ]
    }
   ],
   "source": [
    "a = 1\n",
    "b = 20\n",
    "print(f'Original value of a is {a}.')\n",
    "print(f'Original value of b is {b}.')\n",
    "a = a+b\n",
    "b = a-b\n",
    "a = a-b\n",
    "print(f'Value of a after swapping is {a}.')\n",
    "print(f'Value of b after swapping is {b}.')"
   ]
  },
  {
   "cell_type": "code",
   "execution_count": 7,
   "id": "3f4219c2",
   "metadata": {},
   "outputs": [
    {
     "name": "stdout",
     "output_type": "stream",
     "text": [
      "Before swap a: 10 and b: 20\n",
      "After swap a: 20 and b: 10\n"
     ]
    }
   ],
   "source": [
    "def swap_variable(a, b):\n",
    "    print(f'Before swap a: {a} and b: {b}')\n",
    "    a,b = b,a\n",
    "    print(f'After swap a: {a} and b: {b}')\n",
    "swap_variable(10, 20)    "
   ]
  },
  {
   "cell_type": "code",
   "execution_count": 8,
   "id": "31e9d5ea",
   "metadata": {},
   "outputs": [
    {
     "data": {
      "text/plain": [
       "'Create a program that calculates the area of a rectangle. Take the length and\\nwidth as inputs from the user and store them in variables. Calculate and\\ndisplay the area.'"
      ]
     },
     "execution_count": 8,
     "metadata": {},
     "output_type": "execute_result"
    }
   ],
   "source": [
    "'''Create a program that calculates the area of a rectangle. Take the length and\n",
    "width as inputs from the user and store them in variables. Calculate and\n",
    "display the area.'''"
   ]
  },
  {
   "cell_type": "code",
   "execution_count": 9,
   "id": "f2e4d7b8",
   "metadata": {},
   "outputs": [
    {
     "name": "stdout",
     "output_type": "stream",
     "text": [
      "Enter the length of a rectangle: 2\n",
      "Enter the width of a rectangle: 3\n",
      "Area of rectangle is 6.0.\n"
     ]
    }
   ],
   "source": [
    "length = float(input('Enter the length of a rectangle: '))\n",
    "width = float(input('Enter the width of a rectangle: '))\n",
    "\n",
    "area = length*width\n",
    "\n",
    "print(f'Area of rectangle is {area}.')"
   ]
  },
  {
   "cell_type": "code",
   "execution_count": 10,
   "id": "08a9cee7",
   "metadata": {},
   "outputs": [
    {
     "name": "stdout",
     "output_type": "stream",
     "text": [
      "Enter length of a rectangle: 33\n",
      "Enter width of a rectangle: 2\n",
      "Area of a rectangle is 66.0.\n"
     ]
    }
   ],
   "source": [
    "def area(a, b):\n",
    "    return a*b\n",
    "x = float(input('Enter length of a rectangle: '))\n",
    "y = float(input('Enter width of a rectangle: '))\n",
    "\n",
    "print(f'Area of a rectangle is {area(x, y)}.')"
   ]
  },
  {
   "cell_type": "code",
   "execution_count": 11,
   "id": "cb4e3d03",
   "metadata": {},
   "outputs": [
    {
     "data": {
      "text/plain": [
       "'3. Write a Python program that converts temperatures from Celsius to\\nFahrenheit. Take the temperature in Celsius as input, store it in a variable,\\nconvert it to Fahrenheit, and display the result.'"
      ]
     },
     "execution_count": 11,
     "metadata": {},
     "output_type": "execute_result"
    }
   ],
   "source": [
    "'''3. Write a Python program that converts temperatures from Celsius to\n",
    "Fahrenheit. Take the temperature in Celsius as input, store it in a variable,\n",
    "convert it to Fahrenheit, and display the result.'''"
   ]
  },
  {
   "cell_type": "code",
   "execution_count": 15,
   "id": "b57c5117",
   "metadata": {},
   "outputs": [
    {
     "name": "stdout",
     "output_type": "stream",
     "text": [
      "Enter temperature in celsius: 2\n",
      "2.0 celsius is equal to 35.6 fahrenhiet.\n"
     ]
    }
   ],
   "source": [
    "celsius_temp = float(input('Enter temperature in celsius: '))\n",
    "\n",
    "fahrenheit_temp = (celsius_temp*9/5) + 32\n",
    "\n",
    "print(f'{celsius_temp} celsius is equal to {fahrenheit_temp} fahrenhiet.')"
   ]
  },
  {
   "cell_type": "code",
   "execution_count": 18,
   "id": "5195e18e",
   "metadata": {},
   "outputs": [
    {
     "name": "stdout",
     "output_type": "stream",
     "text": [
      "Enter temperature in celcius: 2\n",
      "2.0 celsius is equal to 35.6 fahrenheit.\n"
     ]
    }
   ],
   "source": [
    "def cel_to_fah(x):\n",
    "    return (x*9/5) + 32\n",
    "x = float(input('Enter temperature in celcius: '))\n",
    "print(f'{x} celsius is equal to {cel_to_fah(x)} fahrenheit.')  "
   ]
  },
  {
   "cell_type": "code",
   "execution_count": 19,
   "id": "0ed329d1",
   "metadata": {},
   "outputs": [
    {
     "data": {
      "text/plain": [
       "'1. Write a Python program that takes a string as input and prints the length of\\nthe string.'"
      ]
     },
     "execution_count": 19,
     "metadata": {},
     "output_type": "execute_result"
    }
   ],
   "source": [
    "'''1. Write a Python program that takes a string as input and prints the length of\n",
    "the string.'''"
   ]
  },
  {
   "cell_type": "code",
   "execution_count": 21,
   "id": "7bb25ff8",
   "metadata": {},
   "outputs": [
    {
     "name": "stdout",
     "output_type": "stream",
     "text": [
      "Enter any string: pratham\n",
      "The length of pratham is 7\n"
     ]
    }
   ],
   "source": [
    "string_1 = input('Enter any string: ')\n",
    "print(f'The length of {string_1} is {len(string_1)}')"
   ]
  },
  {
   "cell_type": "code",
   "execution_count": 24,
   "id": "00e35884",
   "metadata": {},
   "outputs": [
    {
     "name": "stdout",
     "output_type": "stream",
     "text": [
      "Enter any string: pratham\n",
      "The length of string pratham is 7.\n"
     ]
    }
   ],
   "source": [
    "def length_of_string(x):\n",
    "    return len(x)\n",
    "x = input('Enter any string: ')\n",
    "print(f'The length of string {x} is {length_of_string(x)}.')"
   ]
  },
  {
   "cell_type": "code",
   "execution_count": 25,
   "id": "62f90f0b",
   "metadata": {},
   "outputs": [
    {
     "data": {
      "text/plain": [
       "'2. Create a program that takes a sentence from the user and counts the number\\nof vowels (a, e, i, o, u) in the string.'"
      ]
     },
     "execution_count": 25,
     "metadata": {},
     "output_type": "execute_result"
    }
   ],
   "source": [
    "'''2. Create a program that takes a sentence from the user and counts the number\n",
    "of vowels (a, e, i, o, u) in the string.'''"
   ]
  },
  {
   "cell_type": "code",
   "execution_count": 27,
   "id": "af5c4c9b",
   "metadata": {},
   "outputs": [
    {
     "name": "stdout",
     "output_type": "stream",
     "text": [
      "Enter any sentence: pratham\n",
      "The vowels count in sentence pratham is 2.\n"
     ]
    }
   ],
   "source": [
    "sentence_1 = input('Enter any sentence: ').lower()\n",
    "vowels_count = 0\n",
    "vowels_list = 'aeiou'\n",
    "\n",
    "for i in sentence_1:\n",
    "    if i in vowels_list:\n",
    "        vowels_count +=1\n",
    "print(f'The vowels count in sentence {sentence_1} is {vowels_count}.')"
   ]
  },
  {
   "cell_type": "code",
   "execution_count": 35,
   "id": "48164c8c",
   "metadata": {},
   "outputs": [
    {
     "name": "stdout",
     "output_type": "stream",
     "text": [
      "Enter any sentence: \n",
      "The total count of vowels in sentence \"\"\" is 0.\n"
     ]
    }
   ],
   "source": [
    "def count_vowels(x):\n",
    "    count =0\n",
    "    for i in x:\n",
    "        if i in 'aeiou':\n",
    "            count+=1\n",
    "    return count\n",
    "x = input('Enter any sentence: ').lower()\n",
    "print(f'The total count of vowels in sentence \"{x}\"\" is {count_vowels(x)}.')"
   ]
  },
  {
   "cell_type": "code",
   "execution_count": 36,
   "id": "dfe9b458",
   "metadata": {},
   "outputs": [
    {
     "data": {
      "text/plain": [
       "'3. Given a string, reverse the order of characters using string slicing and print\\nthe reversed string.'"
      ]
     },
     "execution_count": 36,
     "metadata": {},
     "output_type": "execute_result"
    }
   ],
   "source": [
    "'''3. Given a string, reverse the order of characters using string slicing and print\n",
    "the reversed string.'''"
   ]
  },
  {
   "cell_type": "code",
   "execution_count": 37,
   "id": "1ad153fd",
   "metadata": {},
   "outputs": [
    {
     "name": "stdout",
     "output_type": "stream",
     "text": [
      "Enter any string: Pratham Singh\n",
      "The reverse of the string \"Pratham Singh\" is \"hgniS mahtarP.\"\n"
     ]
    }
   ],
   "source": [
    "string_2 = input('Enter any string: ')\n",
    "print(f'The reverse of the string \"{string_2}\" is \"{string_2[::-1]}.\"')"
   ]
  },
  {
   "cell_type": "code",
   "execution_count": 38,
   "id": "a41bf450",
   "metadata": {},
   "outputs": [
    {
     "name": "stdout",
     "output_type": "stream",
     "text": [
      "Enter any string: Pratham SIngh\n",
      "The reverse of the string Pratham SIngh is hgnIS mahtarP.\n"
     ]
    }
   ],
   "source": [
    "def reverse_string(x):\n",
    "    return x[::-1]\n",
    "x = input('Enter any string: ')\n",
    "print(f'The reverse of the string {x} is {reverse_string(x)}.')"
   ]
  },
  {
   "cell_type": "code",
   "execution_count": 39,
   "id": "416d56c7",
   "metadata": {},
   "outputs": [
    {
     "data": {
      "text/plain": [
       "'4. Write a program that takes a string as input and checks if it is a palindrome\\n(reads the same forwards and backwards).'"
      ]
     },
     "execution_count": 39,
     "metadata": {},
     "output_type": "execute_result"
    }
   ],
   "source": [
    "'''4. Write a program that takes a string as input and checks if it is a palindrome\n",
    "(reads the same forwards and backwards).'''"
   ]
  },
  {
   "cell_type": "code",
   "execution_count": 53,
   "id": "802eddfd",
   "metadata": {},
   "outputs": [
    {
     "name": "stdout",
     "output_type": "stream",
     "text": [
      "Enter any string: apa\n",
      "Given string \"apa\" is a palindrome.\n"
     ]
    }
   ],
   "source": [
    "string_input = input('Enter any string: ')\n",
    "\n",
    "cleaned_input = string_input.replace(' ', '').lower()\n",
    "\n",
    "reversed_input = cleaned_input[::-1]\n",
    "\n",
    "if cleaned_input == reversed_input:\n",
    "    print(f'Given string \"{cleaned_input}\" is a palindrome.')\n",
    "else:\n",
    "    print(f'Given string \"{cleaned_input}\" is not a palindrome.')"
   ]
  },
  {
   "cell_type": "code",
   "execution_count": 52,
   "id": "01904395",
   "metadata": {},
   "outputs": [
    {
     "name": "stdout",
     "output_type": "stream",
     "text": [
      "Enter any string: radar\n",
      "Given string \"radar\" is a palindrome.\n"
     ]
    }
   ],
   "source": [
    "string_input = input('Enter any string: ')\n",
    "\n",
    "if string_input == string_input[::-1]:\n",
    "    print(f'Given string \"{string_input}\" is a palindrome.')\n",
    "else:\n",
    "    print(f'Given string \"{string_input}\" is not a palindrome.')\n"
   ]
  },
  {
   "cell_type": "code",
   "execution_count": 54,
   "id": "83d08b50",
   "metadata": {},
   "outputs": [
    {
     "data": {
      "text/plain": [
       "'5. Create a program that takes a string as input and removes all the spaces from\\nit. Print the modified string without spaces.'"
      ]
     },
     "execution_count": 54,
     "metadata": {},
     "output_type": "execute_result"
    }
   ],
   "source": [
    "'''5. Create a program that takes a string as input and removes all the spaces from\n",
    "it. Print the modified string without spaces.'''"
   ]
  },
  {
   "cell_type": "code",
   "execution_count": 60,
   "id": "c5ab34e5",
   "metadata": {},
   "outputs": [
    {
     "name": "stdout",
     "output_type": "stream",
     "text": [
      "Enter any string: p ratham\n",
      "Modified string is pratham\n"
     ]
    }
   ],
   "source": [
    "string_5 = input('Enter any string: ')\n",
    "\n",
    "print(f'Modified string is {string_5.replace(\" \", \"\")}')"
   ]
  },
  {
   "cell_type": "code",
   "execution_count": 61,
   "id": "59a07425",
   "metadata": {},
   "outputs": [
    {
     "name": "stdout",
     "output_type": "stream",
     "text": [
      "Enter any string: p ar atha\n",
      "Modified string is \"paratha\"\n"
     ]
    }
   ],
   "source": [
    "input_string = input('Enter any string: ')\n",
    "\n",
    "modified_string = ''\n",
    "\n",
    "for char in input_string:\n",
    "    if char !=' ':\n",
    "        modified_string +=char\n",
    "print(f'Modified string is \"{modified_string}\"')"
   ]
  },
  {
   "cell_type": "code",
   "execution_count": 64,
   "id": "be83efc5",
   "metadata": {},
   "outputs": [
    {
     "name": "stdout",
     "output_type": "stream",
     "text": [
      "Enter any stringp ra tham\n",
      "Modified string is \"pratham\".\n"
     ]
    }
   ],
   "source": [
    "def remove_spaces(x):\n",
    "    modified_string = ''\n",
    "    for i in x:\n",
    "        if i !=' ':\n",
    "            modified_string +=i\n",
    "    return modified_string\n",
    "x = input('Enter any string')\n",
    "print(f'Modified string is \"{remove_spaces(x)}\".')\n",
    "            "
   ]
  }
 ],
 "metadata": {
  "kernelspec": {
   "display_name": "Python 3",
   "language": "python",
   "name": "python3"
  },
  "language_info": {
   "codemirror_mode": {
    "name": "ipython",
    "version": 3
   },
   "file_extension": ".py",
   "mimetype": "text/x-python",
   "name": "python",
   "nbconvert_exporter": "python",
   "pygments_lexer": "ipython3",
   "version": "3.8.8"
  }
 },
 "nbformat": 4,
 "nbformat_minor": 5
}

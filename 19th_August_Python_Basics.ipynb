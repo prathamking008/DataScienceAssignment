{
 "cells": [
  {
   "cell_type": "code",
   "execution_count": 1,
   "id": "c0a1cc03",
   "metadata": {},
   "outputs": [
    {
     "data": {
      "text/plain": [
       "'Declare two variables, `x` and `y`, and assign them integer values. Swap the\\nvalues of these variables without using any temporary variable.'"
      ]
     },
     "execution_count": 1,
     "metadata": {},
     "output_type": "execute_result"
    }
   ],
   "source": [
    "'''Declare two variables, `x` and `y`, and assign them integer values. Swap the\n",
    "values of these variables without using any temporary variable.'''"
   ]
  },
  {
   "cell_type": "code",
   "execution_count": 2,
   "id": "5a73f284",
   "metadata": {},
   "outputs": [
    {
     "name": "stdout",
     "output_type": "stream",
     "text": [
      "Value of x before swaping: 10\n",
      "Value of y before swaping: 20\n",
      "Value of x after swaping: 20\n",
      "Value of y after swaping: 10\n"
     ]
    }
   ],
   "source": [
    "x = 10 \n",
    "y = 20\n",
    "print('Value of x before swaping:', x)\n",
    "print('Value of y before swaping:', y)\n",
    "x = x+y\n",
    "y = x-y\n",
    "x = 2*y\n",
    "print('Value of x after swaping:', x)\n",
    "print('Value of y after swaping:', y)"
   ]
  },
  {
   "cell_type": "code",
   "execution_count": 3,
   "id": "a3e8eb59",
   "metadata": {},
   "outputs": [
    {
     "data": {
      "text/plain": [
       "'Create a program that calculates the area of a rectangle. Take the length and\\nwidth as inputs from the user and store them in variables. Calculate and\\ndisplay the area.'"
      ]
     },
     "execution_count": 3,
     "metadata": {},
     "output_type": "execute_result"
    }
   ],
   "source": [
    "'''Create a program that calculates the area of a rectangle. Take the length and\n",
    "width as inputs from the user and store them in variables. Calculate and\n",
    "display the area.'''"
   ]
  },
  {
   "cell_type": "code",
   "execution_count": 4,
   "id": "937ba9e3",
   "metadata": {},
   "outputs": [
    {
     "name": "stdout",
     "output_type": "stream",
     "text": [
      "Enter length of a rectangle.100\n",
      "Enter width of a rectangle.2\n",
      "The area of rectangle is:  200\n"
     ]
    }
   ],
   "source": [
    "length = int(input('Enter length of a rectangle.'))\n",
    "width = int(input('Enter width of a rectangle.'))\n",
    "print('The area of rectangle is: ', length*width)"
   ]
  },
  {
   "cell_type": "code",
   "execution_count": 5,
   "id": "45b3c9c4",
   "metadata": {},
   "outputs": [
    {
     "data": {
      "text/plain": [
       "'Write a Python program that converts temperatures from Celsius to\\nFahrenheit. Take the temperature in Celsius as input, store it in a variable,\\nconvert it to Fahrenheit, and display the result.'"
      ]
     },
     "execution_count": 5,
     "metadata": {},
     "output_type": "execute_result"
    }
   ],
   "source": [
    "'''Write a Python program that converts temperatures from Celsius to\n",
    "Fahrenheit. Take the temperature in Celsius as input, store it in a variable,\n",
    "convert it to Fahrenheit, and display the result.'''"
   ]
  },
  {
   "cell_type": "code",
   "execution_count": 6,
   "id": "f238886d",
   "metadata": {},
   "outputs": [
    {
     "name": "stdout",
     "output_type": "stream",
     "text": [
      "Enter temperature in Celsius: 20\n",
      "The temperature in Fahrenheit is:  68.0\n"
     ]
    }
   ],
   "source": [
    "temp = float(input('Enter temperature in Celsius: '))\n",
    "print('The temperature in Fahrenheit is: ', (temp*9/5)+32)"
   ]
  },
  {
   "cell_type": "code",
   "execution_count": 7,
   "id": "466a10ee",
   "metadata": {},
   "outputs": [
    {
     "data": {
      "text/plain": [
       "'Write a Python program that takes a string as input and prints the length of\\nthe string.'"
      ]
     },
     "execution_count": 7,
     "metadata": {},
     "output_type": "execute_result"
    }
   ],
   "source": [
    "'''Write a Python program that takes a string as input and prints the length of\n",
    "the string.'''"
   ]
  },
  {
   "cell_type": "code",
   "execution_count": 8,
   "id": "f7f7dd0e",
   "metadata": {},
   "outputs": [
    {
     "name": "stdout",
     "output_type": "stream",
     "text": [
      "Enter any string value.pratham\n",
      "7\n"
     ]
    }
   ],
   "source": [
    "text = input('Enter any string value.')\n",
    "print(len(text))"
   ]
  },
  {
   "cell_type": "code",
   "execution_count": 9,
   "id": "2eff6aca",
   "metadata": {},
   "outputs": [
    {
     "data": {
      "text/plain": [
       "'Create a program that takes a sentence from the user and counts the number\\nof vowels (a, e, i, o, u) in the string.'"
      ]
     },
     "execution_count": 9,
     "metadata": {},
     "output_type": "execute_result"
    }
   ],
   "source": [
    "'''Create a program that takes a sentence from the user and counts the number\n",
    "of vowels (a, e, i, o, u) in the string.'''"
   ]
  },
  {
   "cell_type": "code",
   "execution_count": 10,
   "id": "44b72b5d",
   "metadata": {},
   "outputs": [
    {
     "name": "stdout",
     "output_type": "stream",
     "text": [
      "Enter a sentenceMy name is pratham singh\n",
      "The occurance of vowel a is: 3\n",
      "The occurance of vowel e is: 1\n",
      "The occurance of vowel i is: 2\n",
      "The occurance of vowel o is: 0\n",
      "The occurance of vowel u is: 0\n"
     ]
    }
   ],
   "source": [
    "text = input('Enter a sentence')\n",
    "print('The occurance of vowel a is:', text.count('a'))\n",
    "print('The occurance of vowel e is:', text.count('e'))\n",
    "print('The occurance of vowel i is:', text.count('i'))\n",
    "print('The occurance of vowel o is:', text.count('o'))\n",
    "print('The occurance of vowel u is:', text.count('u'))"
   ]
  },
  {
   "cell_type": "code",
   "execution_count": 11,
   "id": "db5e0452",
   "metadata": {},
   "outputs": [
    {
     "data": {
      "text/plain": [
       "'Given a string, reverse the order of characters using string slicing and print\\nthe reversed string.'"
      ]
     },
     "execution_count": 11,
     "metadata": {},
     "output_type": "execute_result"
    }
   ],
   "source": [
    "'''Given a string, reverse the order of characters using string slicing and print\n",
    "the reversed string.'''"
   ]
  },
  {
   "cell_type": "code",
   "execution_count": 12,
   "id": "461a98f4",
   "metadata": {},
   "outputs": [
    {
     "name": "stdout",
     "output_type": "stream",
     "text": [
      "hgniS mahtarP si eman yM\n"
     ]
    }
   ],
   "source": [
    "text = 'My name is Pratham Singh'\n",
    "print(text[::-1])"
   ]
  },
  {
   "cell_type": "code",
   "execution_count": 13,
   "id": "0657ef95",
   "metadata": {},
   "outputs": [
    {
     "data": {
      "text/plain": [
       "'Write a program that takes a string as input and checks if it is a palindrome\\n(reads the same forwards and backwards).'"
      ]
     },
     "execution_count": 13,
     "metadata": {},
     "output_type": "execute_result"
    }
   ],
   "source": [
    "'''Write a program that takes a string as input and checks if it is a palindrome\n",
    "(reads the same forwards and backwards).'''"
   ]
  },
  {
   "cell_type": "code",
   "execution_count": 14,
   "id": "fc85ee5b",
   "metadata": {},
   "outputs": [
    {
     "name": "stdout",
     "output_type": "stream",
     "text": [
      "Enter any string: radar\n",
      "Given text is a palindrome.\n"
     ]
    }
   ],
   "source": [
    "text = input('Enter any string: ')\n",
    "if text == text[::-1]:\n",
    "    print('Given text is a palindrome.')\n",
    "else:\n",
    "    print('Given string is not a palindrome.')"
   ]
  },
  {
   "cell_type": "code",
   "execution_count": 15,
   "id": "53fb10a8",
   "metadata": {},
   "outputs": [
    {
     "data": {
      "text/plain": [
       "'Create a program that takes a string as input and removes all the spaces from\\nit. Print the modified string without spaces.'"
      ]
     },
     "execution_count": 15,
     "metadata": {},
     "output_type": "execute_result"
    }
   ],
   "source": [
    "'''Create a program that takes a string as input and removes all the spaces from\n",
    "it. Print the modified string without spaces.'''"
   ]
  },
  {
   "cell_type": "code",
   "execution_count": 16,
   "id": "c50ba477",
   "metadata": {},
   "outputs": [
    {
     "name": "stdout",
     "output_type": "stream",
     "text": [
      "Enter any stringMy name is pratham Singh\n",
      "Sentence after removing all spaces is:  MynameisprathamSingh\n"
     ]
    }
   ],
   "source": [
    "text = input('Enter any string')\n",
    "print('Sentence after removing all spaces is: ', text.replace(' ', ''))"
   ]
  },
  {
   "cell_type": "code",
   "execution_count": null,
   "id": "3e376017",
   "metadata": {},
   "outputs": [],
   "source": []
  }
 ],
 "metadata": {
  "kernelspec": {
   "display_name": "Python 3",
   "language": "python",
   "name": "python3"
  },
  "language_info": {
   "codemirror_mode": {
    "name": "ipython",
    "version": 3
   },
   "file_extension": ".py",
   "mimetype": "text/x-python",
   "name": "python",
   "nbconvert_exporter": "python",
   "pygments_lexer": "ipython3",
   "version": "3.8.8"
  }
 },
 "nbformat": 4,
 "nbformat_minor": 5
}

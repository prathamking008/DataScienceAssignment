{
 "cells": [
  {
   "cell_type": "code",
   "execution_count": 1,
   "id": "24b3abfd",
   "metadata": {},
   "outputs": [
    {
     "data": {
      "text/plain": [
       "'1. Write a program to reverse a string.'"
      ]
     },
     "execution_count": 1,
     "metadata": {},
     "output_type": "execute_result"
    }
   ],
   "source": [
    "'''1. Write a program to reverse a string.'''"
   ]
  },
  {
   "cell_type": "code",
   "execution_count": 3,
   "id": "984f91df",
   "metadata": {},
   "outputs": [
    {
     "name": "stdout",
     "output_type": "stream",
     "text": [
      "mahtarp\n"
     ]
    }
   ],
   "source": [
    "str1 = 'pratham'\n",
    "print(str1[::-1])"
   ]
  },
  {
   "cell_type": "code",
   "execution_count": 4,
   "id": "8a008825",
   "metadata": {},
   "outputs": [
    {
     "data": {
      "text/plain": [
       "'2. Check if a string is a palindrome.'"
      ]
     },
     "execution_count": 4,
     "metadata": {},
     "output_type": "execute_result"
    }
   ],
   "source": [
    "'''2. Check if a string is a palindrome.'''"
   ]
  },
  {
   "cell_type": "code",
   "execution_count": 7,
   "id": "7c2e8716",
   "metadata": {},
   "outputs": [
    {
     "name": "stdout",
     "output_type": "stream",
     "text": [
      "Enter any string: apa\n",
      "Given string apa is a palindrome.\n"
     ]
    }
   ],
   "source": [
    "str2 = input('Enter any string: ')\n",
    "\n",
    "if str2 == str2[::-1]:\n",
    "    print(f'Given string {str2} is a palindrome.')\n",
    "else:\n",
    "    print(f'Given string {str2} is not a palindrome.')"
   ]
  },
  {
   "cell_type": "code",
   "execution_count": 8,
   "id": "b4791e80",
   "metadata": {},
   "outputs": [
    {
     "data": {
      "text/plain": [
       "'3. Convert a string to uppercase.'"
      ]
     },
     "execution_count": 8,
     "metadata": {},
     "output_type": "execute_result"
    }
   ],
   "source": [
    "'''3. Convert a string to uppercase.'''"
   ]
  },
  {
   "cell_type": "code",
   "execution_count": 9,
   "id": "cc8c3213",
   "metadata": {},
   "outputs": [
    {
     "name": "stdout",
     "output_type": "stream",
     "text": [
      "Enput any string: pratham\n",
      "PRATHAM\n"
     ]
    }
   ],
   "source": [
    "str3 = input('Enput any string: ')\n",
    "\n",
    "print(str3.upper())"
   ]
  },
  {
   "cell_type": "code",
   "execution_count": 10,
   "id": "4547a466",
   "metadata": {},
   "outputs": [
    {
     "data": {
      "text/plain": [
       "'4. Convert a string to lowercase.'"
      ]
     },
     "execution_count": 10,
     "metadata": {},
     "output_type": "execute_result"
    }
   ],
   "source": [
    "'''4. Convert a string to lowercase.'''"
   ]
  },
  {
   "cell_type": "code",
   "execution_count": 11,
   "id": "bc07741b",
   "metadata": {},
   "outputs": [
    {
     "name": "stdout",
     "output_type": "stream",
     "text": [
      "Enter any string: PrAtham\n",
      "pratham\n"
     ]
    }
   ],
   "source": [
    "str4 = input('Enter any string: ')\n",
    "\n",
    "print(str4.lower())"
   ]
  },
  {
   "cell_type": "code",
   "execution_count": 12,
   "id": "aa381b63",
   "metadata": {},
   "outputs": [
    {
     "data": {
      "text/plain": [
       "'5. Count the number of vowels in a string.'"
      ]
     },
     "execution_count": 12,
     "metadata": {},
     "output_type": "execute_result"
    }
   ],
   "source": [
    "'''5. Count the number of vowels in a string.'''"
   ]
  },
  {
   "cell_type": "code",
   "execution_count": 14,
   "id": "eb66d4ec",
   "metadata": {},
   "outputs": [
    {
     "name": "stdout",
     "output_type": "stream",
     "text": [
      "Enter any string: pratham singh\n",
      "Total number of vowels in pratham singh is 3.\n"
     ]
    }
   ],
   "source": [
    "str5 = input('Enter any string: ')\n",
    "count = 0\n",
    "for i in str5:\n",
    "    if i in 'aeiouAEIOU':\n",
    "        count +=1\n",
    "    else:\n",
    "        pass\n",
    "print(f'Total number of vowels in {str5} is {count}.')"
   ]
  },
  {
   "cell_type": "code",
   "execution_count": 15,
   "id": "9b1d1895",
   "metadata": {},
   "outputs": [
    {
     "data": {
      "text/plain": [
       "'6. Count the number of consonants in a string.'"
      ]
     },
     "execution_count": 15,
     "metadata": {},
     "output_type": "execute_result"
    }
   ],
   "source": [
    "'''6. Count the number of consonants in a string.'''"
   ]
  },
  {
   "cell_type": "code",
   "execution_count": 17,
   "id": "c57bbcd6",
   "metadata": {},
   "outputs": [
    {
     "name": "stdout",
     "output_type": "stream",
     "text": [
      "Enter any string: pratham singh\n",
      "The total number of constants is 9.\n"
     ]
    }
   ],
   "source": [
    "str6 = input('Enter any string: ')\n",
    "count = 0\n",
    "\n",
    "for i in str6:\n",
    "    if i in 'aeiouAEIOU':\n",
    "        pass\n",
    "    elif i in ' ':\n",
    "        pass\n",
    "    else:\n",
    "        count +=1\n",
    "print(f'The total number of consonants is {count}.')"
   ]
  },
  {
   "cell_type": "code",
   "execution_count": 20,
   "id": "25ffc452",
   "metadata": {},
   "outputs": [
    {
     "name": "stdout",
     "output_type": "stream",
     "text": [
      "Enter any string: pratham singh\n",
      "The total number of constonants is 9.\n"
     ]
    }
   ],
   "source": [
    "str6 = input('Enter any string: ')\n",
    "count = 0\n",
    "\n",
    "for i in str6:\n",
    "    if i.isalpha() and i not in 'aeiouAEIOU':\n",
    "        count +=1\n",
    "    else:\n",
    "        pass\n",
    "print(f'The total number of constonants is {count}.')"
   ]
  },
  {
   "cell_type": "code",
   "execution_count": 21,
   "id": "06a3d538",
   "metadata": {},
   "outputs": [
    {
     "data": {
      "text/plain": [
       "'7. Remove all whitespaces from a string.'"
      ]
     },
     "execution_count": 21,
     "metadata": {},
     "output_type": "execute_result"
    }
   ],
   "source": [
    "'''7. Remove all whitespaces from a string.'''"
   ]
  },
  {
   "cell_type": "code",
   "execution_count": 25,
   "id": "881e1d01",
   "metadata": {},
   "outputs": [
    {
     "name": "stdout",
     "output_type": "stream",
     "text": [
      "Enter any string: pratham singh\n",
      "prathamsingh\n"
     ]
    }
   ],
   "source": [
    "str7 = input('Enter any string: ')\n",
    "\n",
    "print(str7.replace(' ', ''))"
   ]
  },
  {
   "cell_type": "code",
   "execution_count": 26,
   "id": "dc2a4a44",
   "metadata": {},
   "outputs": [
    {
     "data": {
      "text/plain": [
       "'8. Find the length of a string without using the `len()` function.'"
      ]
     },
     "execution_count": 26,
     "metadata": {},
     "output_type": "execute_result"
    }
   ],
   "source": [
    "'''8. Find the length of a string without using the `len()` function.'''"
   ]
  },
  {
   "cell_type": "code",
   "execution_count": 28,
   "id": "e4f7aa4b",
   "metadata": {},
   "outputs": [
    {
     "name": "stdout",
     "output_type": "stream",
     "text": [
      "Enter any string: pratham singh\n",
      "The length of given string pratham singh is 13.\n"
     ]
    }
   ],
   "source": [
    "str8 = input('Enter any string: ')\n",
    "length = 0\n",
    "\n",
    "for i in str8:\n",
    "    length +=1\n",
    "print(f'The length of given string {str8} is {length}.')"
   ]
  },
  {
   "cell_type": "code",
   "execution_count": 29,
   "id": "a82a04b0",
   "metadata": {},
   "outputs": [
    {
     "data": {
      "text/plain": [
       "'9. Check if a string contains a specific word.'"
      ]
     },
     "execution_count": 29,
     "metadata": {},
     "output_type": "execute_result"
    }
   ],
   "source": [
    "'''9. Check if a string contains a specific word.'''"
   ]
  },
  {
   "cell_type": "code",
   "execution_count": 36,
   "id": "cb62d8c7",
   "metadata": {},
   "outputs": [
    {
     "name": "stdout",
     "output_type": "stream",
     "text": [
      "Enter any string: pratham singh is a good boy.\n",
      "Enter that specific word: boy\n",
      "Given string does contain specific word boy.\n"
     ]
    }
   ],
   "source": [
    "str9 = input('Enter any string: ')\n",
    "\n",
    "specific_word = input('Enter that specific word: ').strip()\n",
    "\n",
    "if specific_word in str9:\n",
    "    print(f'Given string does contain specific word {specific_word}.')"
   ]
  },
  {
   "cell_type": "code",
   "execution_count": 35,
   "id": "e2821dfd",
   "metadata": {},
   "outputs": [
    {
     "name": "stdout",
     "output_type": "stream",
     "text": [
      "Enter a string: pratham singh is good boy\n",
      "Enter the word to check: boy\n",
      "The string contains the word 'boy'.\n"
     ]
    }
   ],
   "source": [
    "input_string = input(\"Enter a string: \")\n",
    "search_word = input(\"Enter the word to check: \")\n",
    "\n",
    "if search_word in input_string:\n",
    "    print(f\"The string contains the word '{search_word}'.\")\n",
    "else:\n",
    "    print(f\"The string does not contain the word '{search_word}'.\")"
   ]
  },
  {
   "cell_type": "code",
   "execution_count": 37,
   "id": "e0476d3b",
   "metadata": {},
   "outputs": [
    {
     "data": {
      "text/plain": [
       "'10. Replace a word in a string with another word.'"
      ]
     },
     "execution_count": 37,
     "metadata": {},
     "output_type": "execute_result"
    }
   ],
   "source": [
    "'''10. Replace a word in a string with another word.'''"
   ]
  },
  {
   "cell_type": "code",
   "execution_count": 38,
   "id": "6070146a",
   "metadata": {},
   "outputs": [
    {
     "name": "stdout",
     "output_type": "stream",
     "text": [
      "Dhiraj is a good boy.\n"
     ]
    }
   ],
   "source": [
    "str10 = 'Pratham is a good boy.'\n",
    "\n",
    "print(str10.replace('Pratham', 'Dhiraj'))"
   ]
  },
  {
   "cell_type": "code",
   "execution_count": 39,
   "id": "e6ed5747",
   "metadata": {},
   "outputs": [
    {
     "data": {
      "text/plain": [
       "'11. Count the occurrences of a word in a string.'"
      ]
     },
     "execution_count": 39,
     "metadata": {},
     "output_type": "execute_result"
    }
   ],
   "source": [
    "'''11. Count the occurrences of a word in a string.'''"
   ]
  },
  {
   "cell_type": "code",
   "execution_count": 41,
   "id": "8df25351",
   "metadata": {},
   "outputs": [
    {
     "name": "stdout",
     "output_type": "stream",
     "text": [
      "2\n"
     ]
    }
   ],
   "source": [
    "str11 = 'Pratham is a good boy and he is from Patna Bihar. Pratham is a software enginner and he is too god in maths.'\n",
    "\n",
    "word11 = 'Pratham'\n",
    "\n",
    "print(str11.count(word11))"
   ]
  },
  {
   "cell_type": "code",
   "execution_count": 42,
   "id": "56621c89",
   "metadata": {},
   "outputs": [
    {
     "data": {
      "text/plain": [
       "'12. Find the first occurrence of a word in a string.'"
      ]
     },
     "execution_count": 42,
     "metadata": {},
     "output_type": "execute_result"
    }
   ],
   "source": [
    "'''12. Find the first occurrence of a word in a string.'''"
   ]
  },
  {
   "cell_type": "code",
   "execution_count": 57,
   "id": "5f14d737",
   "metadata": {},
   "outputs": [
    {
     "name": "stdout",
     "output_type": "stream",
     "text": [
      "Word he is found in given string at index 6.\n"
     ]
    }
   ],
   "source": [
    "str12 = 'Pratham is a good boy and he is from Patna Bihar. Pratham is a software enginner and he is too god in maths.'\n",
    "\n",
    "word12 = 'he'\n",
    "\n",
    "str12_list = str12.split()\n",
    "\n",
    "if word12 in str12_list:\n",
    "    print(f'Word {word12} is found in given string at index {str12_list.index(word12)}.')\n",
    "else:\n",
    "    print(f'Word {word12} is not found in given string.')"
   ]
  },
  {
   "cell_type": "code",
   "execution_count": 58,
   "id": "3371a43f",
   "metadata": {},
   "outputs": [
    {
     "name": "stdout",
     "output_type": "stream",
     "text": [
      "Enter a string: pratham is a good boy. He is good in maths.\n",
      "Enter the word to find: he\n",
      "The word 'he' was found at index 23.\n"
     ]
    }
   ],
   "source": [
    "input_string = input(\"Enter a string: \")\n",
    "search_word = input(\"Enter the word to find: \")\n",
    "\n",
    "# Use str.find() to find the first occurrence of the word\n",
    "index = input_string.lower().find(search_word.lower())\n",
    "\n",
    "if index != -1:\n",
    "    print(f\"The word '{search_word}' was found at index {index}.\")\n",
    "else:\n",
    "    print(f\"The word '{search_word}' was not found in the string.\")"
   ]
  },
  {
   "cell_type": "code",
   "execution_count": 61,
   "id": "e90efec2",
   "metadata": {},
   "outputs": [
    {
     "name": "stdout",
     "output_type": "stream",
     "text": [
      "Enter any string: Pratham is a good boy and he is good in maths.\n",
      "Enter the words to find: is\n",
      "The word is was found at index 8 in the string.\n"
     ]
    }
   ],
   "source": [
    "input_string = input('Enter any string: ')\n",
    "search_word = input('Enter the words to find: ')\n",
    "\n",
    "index = input_string.lower().find(search_word.lower())\n",
    "\n",
    "if index != -1:\n",
    "    print(f'The word {search_word} was found at index {index} in the string.')\n",
    "else:\n",
    "    print(f'The word {search_word} was not found in the string.')"
   ]
  },
  {
   "cell_type": "code",
   "execution_count": 62,
   "id": "a2f70cd4",
   "metadata": {},
   "outputs": [
    {
     "data": {
      "text/plain": [
       "'13. Find the last occurrence of a word in a string.'"
      ]
     },
     "execution_count": 62,
     "metadata": {},
     "output_type": "execute_result"
    }
   ],
   "source": [
    "'''13. Find the last occurrence of a word in a string.'''"
   ]
  },
  {
   "cell_type": "code",
   "execution_count": 72,
   "id": "d963cacf",
   "metadata": {},
   "outputs": [
    {
     "name": "stdout",
     "output_type": "stream",
     "text": [
      "Enter any string: Mt name is pratham singh. he is a good man.\n",
      "Enter the words to find: he\n",
      "The word he was found at index 26 in the string.\n"
     ]
    }
   ],
   "source": [
    "str13 = input('Enter any string: ')\n",
    "word13 = input('Enter the words to find: ')\n",
    "\n",
    "index = str13.lower().rfind(word13.lower())\n",
    "\n",
    "if index !=-1:\n",
    "    print(f'The word {word13} was found at index {index} in the string.')\n",
    "else:\n",
    "    print(f'The word {word13} was not found in the string.')"
   ]
  },
  {
   "cell_type": "code",
   "execution_count": 73,
   "id": "352c65b0",
   "metadata": {},
   "outputs": [
    {
     "data": {
      "text/plain": [
       "'14. Split a string into a list of words.'"
      ]
     },
     "execution_count": 73,
     "metadata": {},
     "output_type": "execute_result"
    }
   ],
   "source": [
    "'''14. Split a string into a list of words.'''"
   ]
  },
  {
   "cell_type": "code",
   "execution_count": 74,
   "id": "e07c7912",
   "metadata": {},
   "outputs": [
    {
     "name": "stdout",
     "output_type": "stream",
     "text": [
      "Enter any string: pratham is a good boy\n",
      "['pratham', 'is', 'a', 'good', 'boy']\n"
     ]
    }
   ],
   "source": [
    "str14 = input('Enter any string: ')\n",
    "\n",
    "print(str14.split())"
   ]
  },
  {
   "cell_type": "code",
   "execution_count": 75,
   "id": "ad06d0c9",
   "metadata": {},
   "outputs": [
    {
     "data": {
      "text/plain": [
       "'15. Join a list of words into a string.'"
      ]
     },
     "execution_count": 75,
     "metadata": {},
     "output_type": "execute_result"
    }
   ],
   "source": [
    "'''15. Join a list of words into a string.'''"
   ]
  },
  {
   "cell_type": "code",
   "execution_count": 79,
   "id": "83322579",
   "metadata": {},
   "outputs": [
    {
     "name": "stdout",
     "output_type": "stream",
     "text": [
      "Prathamisagoodman.\n"
     ]
    }
   ],
   "source": [
    "list15 = ['Pratham', 'is', 'a', 'good', 'man.']\n",
    "\n",
    "str = ''\n",
    "\n",
    "for i in list15:\n",
    "    str =str+i\n",
    "print(str)"
   ]
  },
  {
   "cell_type": "code",
   "execution_count": 81,
   "id": "9b52bc7c",
   "metadata": {},
   "outputs": [
    {
     "name": "stdout",
     "output_type": "stream",
     "text": [
      "Hello!Howareyoudoing?\n"
     ]
    }
   ],
   "source": [
    "word15 = ['Hello!', 'How', 'are', 'you', 'doing?']\n",
    "\n",
    "print(''.join(word15))"
   ]
  },
  {
   "cell_type": "code",
   "execution_count": 85,
   "id": "617b0545",
   "metadata": {},
   "outputs": [
    {
     "data": {
      "text/plain": [
       "'16. Convert a string where words are separated by spaces to one where words\\nare separated by underscores.'"
      ]
     },
     "execution_count": 85,
     "metadata": {},
     "output_type": "execute_result"
    }
   ],
   "source": [
    "'''16. Convert a string where words are separated by spaces to one where words\n",
    "are separated by underscores.'''"
   ]
  },
  {
   "cell_type": "code",
   "execution_count": 88,
   "id": "6cb83d7e",
   "metadata": {},
   "outputs": [
    {
     "name": "stdout",
     "output_type": "stream",
     "text": [
      "Enter any string: My name is Pratham Singh.\n",
      "My_name_is_Pratham_Singh.\n"
     ]
    }
   ],
   "source": [
    "str16 = input('Enter any string: ')\n",
    "\n",
    "result = str16.replace(' ', '_')\n",
    "print(result)"
   ]
  },
  {
   "cell_type": "code",
   "execution_count": 89,
   "id": "03f62417",
   "metadata": {},
   "outputs": [
    {
     "data": {
      "text/plain": [
       "'17. Check if a string starts with a specific word or phrase.'"
      ]
     },
     "execution_count": 89,
     "metadata": {},
     "output_type": "execute_result"
    }
   ],
   "source": [
    "'''17. Check if a string starts with a specific word or phrase.'''"
   ]
  },
  {
   "cell_type": "code",
   "execution_count": 98,
   "id": "fe4919bb",
   "metadata": {},
   "outputs": [
    {
     "name": "stdout",
     "output_type": "stream",
     "text": [
      "Enter any string: Pratham is a good boy.\n",
      "Enter the words: Pratham\n",
      "Pratham \n",
      "Given string starts with word Pratham.\n"
     ]
    }
   ],
   "source": [
    "str17 = input('Enter any string: ')\n",
    "\n",
    "word17 = input('Enter the words: ')\n",
    "print(str17[0:len(word17)+1])\n",
    "\n",
    "if word17.lower().strip() == str17[0:len(word17)+1].lower().strip():\n",
    "    print(f'Given string starts with word {word17}.')\n",
    "else:\n",
    "    print(f'Given string doe not start with word {word17}.')"
   ]
  },
  {
   "cell_type": "code",
   "execution_count": 102,
   "id": "bc4248e6",
   "metadata": {},
   "outputs": [
    {
     "name": "stdout",
     "output_type": "stream",
     "text": [
      "Enter any string: Pratham is a good boy.\n",
      "Enter the words: pratham\n",
      "Given string starts with word pratham.\n"
     ]
    }
   ],
   "source": [
    "str117 = input('Enter any string: ')\n",
    "\n",
    "word117 = input('Enter the words: ')\n",
    "\n",
    "if str117.split()[0].lower().strip() == word117.lower().strip():\n",
    "    print(f'Given string starts with word {word117}.')\n",
    "else:\n",
    "    print(f'Given string doe not start with word {word117}.')"
   ]
  },
  {
   "cell_type": "code",
   "execution_count": 103,
   "id": "a1b91713",
   "metadata": {},
   "outputs": [
    {
     "data": {
      "text/plain": [
       "'18. Check if a string ends with a specific word or phrase.'"
      ]
     },
     "execution_count": 103,
     "metadata": {},
     "output_type": "execute_result"
    }
   ],
   "source": [
    "'''18. Check if a string ends with a specific word or phrase.'''"
   ]
  },
  {
   "cell_type": "code",
   "execution_count": 104,
   "id": "06ee1605",
   "metadata": {},
   "outputs": [
    {
     "name": "stdout",
     "output_type": "stream",
     "text": [
      "Enter any strings: My name is Pratham Singh\n",
      "Enter the words: Singh\n",
      "Given string ends with word Singh.\n"
     ]
    }
   ],
   "source": [
    "str18 = input('Enter any strings: ')\n",
    "word18 = input('Enter the words: ')\n",
    "\n",
    "if str18.split()[-1].lower().strip() == word18.lower().strip():\n",
    "    print(f'Given string ends with word {word18}.')\n",
    "else:\n",
    "    print(f'Given string does not end with word {word18}.')"
   ]
  },
  {
   "cell_type": "code",
   "execution_count": 105,
   "id": "8c01d692",
   "metadata": {},
   "outputs": [
    {
     "data": {
      "text/plain": [
       "'19. Convert a string to title case (e.g., \"hello world\" to \"Hello World\").'"
      ]
     },
     "execution_count": 105,
     "metadata": {},
     "output_type": "execute_result"
    }
   ],
   "source": [
    "'''19. Convert a string to title case (e.g., \"hello world\" to \"Hello World\").'''"
   ]
  },
  {
   "cell_type": "code",
   "execution_count": 106,
   "id": "6b0e6eaf",
   "metadata": {},
   "outputs": [
    {
     "name": "stdout",
     "output_type": "stream",
     "text": [
      "Enter any string: Pratham singh is a good boy.\n",
      "Pratham Singh Is A Good Boy.\n"
     ]
    }
   ],
   "source": [
    "str19 = input('Enter any string: ')\n",
    "\n",
    "print(str19.title())"
   ]
  },
  {
   "cell_type": "code",
   "execution_count": 107,
   "id": "81c90ae3",
   "metadata": {},
   "outputs": [
    {
     "data": {
      "text/plain": [
       "'20. Find the longest word in a string.'"
      ]
     },
     "execution_count": 107,
     "metadata": {},
     "output_type": "execute_result"
    }
   ],
   "source": [
    "'''20. Find the longest word in a string.'''"
   ]
  },
  {
   "cell_type": "code",
   "execution_count": 113,
   "id": "668d5652",
   "metadata": {},
   "outputs": [
    {
     "name": "stdout",
     "output_type": "stream",
     "text": [
      "Enter any string: Pratham Singh is a software engineer.\n",
      "['Pratham', 'Singh', 'is', 'a', 'software', 'engineer.']\n"
     ]
    },
    {
     "data": {
      "text/plain": [
       "'engineer.'"
      ]
     },
     "execution_count": 113,
     "metadata": {},
     "output_type": "execute_result"
    }
   ],
   "source": [
    "str20 = input('Enter any string: ')\n",
    "str20_list = str20.split()\n",
    "print(str20_list)\n",
    "max(str20_list, key = len)"
   ]
  },
  {
   "cell_type": "code",
   "execution_count": 114,
   "id": "f6b6928d",
   "metadata": {},
   "outputs": [
    {
     "data": {
      "text/plain": [
       "'21. Find the shortest word in a string.'"
      ]
     },
     "execution_count": 114,
     "metadata": {},
     "output_type": "execute_result"
    }
   ],
   "source": [
    "'''21. Find the shortest word in a string.'''"
   ]
  },
  {
   "cell_type": "code",
   "execution_count": 115,
   "id": "b0528f38",
   "metadata": {},
   "outputs": [
    {
     "name": "stdout",
     "output_type": "stream",
     "text": [
      "Enter any string: I am a software engineer.\n",
      "['I', 'am', 'a', 'software', 'engineer.']\n"
     ]
    },
    {
     "data": {
      "text/plain": [
       "'I'"
      ]
     },
     "execution_count": 115,
     "metadata": {},
     "output_type": "execute_result"
    }
   ],
   "source": [
    "str21 = input('Enter any string: ')\n",
    "str21_list = str21.split()\n",
    "print(str21_list)\n",
    "min(str21_list, key = len)"
   ]
  },
  {
   "cell_type": "code",
   "execution_count": 117,
   "id": "16d747be",
   "metadata": {},
   "outputs": [
    {
     "data": {
      "text/plain": [
       "'22. Reverse the order of words in a string.'"
      ]
     },
     "execution_count": 117,
     "metadata": {},
     "output_type": "execute_result"
    }
   ],
   "source": [
    "'''22. Reverse the order of words in a string.'''"
   ]
  },
  {
   "cell_type": "code",
   "execution_count": 122,
   "id": "9218fad6",
   "metadata": {},
   "outputs": [
    {
     "name": "stdout",
     "output_type": "stream",
     "text": [
      "India of capital the is Delhi New\n"
     ]
    }
   ],
   "source": [
    "str22 = 'New Delhi is the capital of India'\n",
    "\n",
    "str22_list = str22.split()\n",
    "\n",
    "str22_list_reverse = str22_list[::-1]\n",
    "\n",
    "print(' '.join(str22_list_reverse))"
   ]
  },
  {
   "cell_type": "code",
   "execution_count": 123,
   "id": "4aa4205a",
   "metadata": {},
   "outputs": [
    {
     "data": {
      "text/plain": [
       "'23. Check if a string is alphanumeric.'"
      ]
     },
     "execution_count": 123,
     "metadata": {},
     "output_type": "execute_result"
    }
   ],
   "source": [
    "'''23. Check if a string is alphanumeric.'''"
   ]
  },
  {
   "cell_type": "code",
   "execution_count": 127,
   "id": "d4390365",
   "metadata": {},
   "outputs": [
    {
     "name": "stdout",
     "output_type": "stream",
     "text": [
      "Enter any string: pratham2301\n",
      "Given string is alphanumeric.\n"
     ]
    }
   ],
   "source": [
    "str23 = input('Enter any string: ')\n",
    "\n",
    "if str23.isalnum():\n",
    "    print('Given string is alphanumeric.')\n",
    "else:\n",
    "    print('Given string is not a alphanumeric.')"
   ]
  },
  {
   "cell_type": "code",
   "execution_count": 128,
   "id": "646fc02f",
   "metadata": {},
   "outputs": [
    {
     "data": {
      "text/plain": [
       "'24. Extract all digits from a string.'"
      ]
     },
     "execution_count": 128,
     "metadata": {},
     "output_type": "execute_result"
    }
   ],
   "source": [
    "'''24. Extract all digits from a string.'''"
   ]
  },
  {
   "cell_type": "code",
   "execution_count": 136,
   "id": "2f24b81e",
   "metadata": {},
   "outputs": [
    {
     "name": "stdout",
     "output_type": "stream",
     "text": [
      "2\n",
      "3\n",
      "0\n",
      "1\n"
     ]
    }
   ],
   "source": [
    "str24 = 'pratham2301'\n",
    "\n",
    "for i in str24:\n",
    "    if i.isdigit():\n",
    "        print(i)"
   ]
  },
  {
   "cell_type": "code",
   "execution_count": 137,
   "id": "f93ce729",
   "metadata": {},
   "outputs": [
    {
     "data": {
      "text/plain": [
       "'25. Extract all alphabets from a string.'"
      ]
     },
     "execution_count": 137,
     "metadata": {},
     "output_type": "execute_result"
    }
   ],
   "source": [
    "'''25. Extract all alphabets from a string.'''"
   ]
  },
  {
   "cell_type": "code",
   "execution_count": 138,
   "id": "bbdf4480",
   "metadata": {},
   "outputs": [
    {
     "name": "stdout",
     "output_type": "stream",
     "text": [
      "P\n",
      "r\n",
      "a\n",
      "t\n",
      "h\n",
      "a\n",
      "m\n",
      "S\n",
      "i\n",
      "n\n",
      "g\n",
      "h\n"
     ]
    }
   ],
   "source": [
    "str25 = 'Pratham2301Singh'\n",
    "\n",
    "for i in str25:\n",
    "    if i.isalpha():\n",
    "        print(i)\n",
    "    else:\n",
    "        pass"
   ]
  },
  {
   "cell_type": "code",
   "execution_count": 139,
   "id": "344428e7",
   "metadata": {},
   "outputs": [
    {
     "data": {
      "text/plain": [
       "'26. Count the number of uppercase letters in a string.'"
      ]
     },
     "execution_count": 139,
     "metadata": {},
     "output_type": "execute_result"
    }
   ],
   "source": [
    "'''26. Count the number of uppercase letters in a string.'''"
   ]
  },
  {
   "cell_type": "code",
   "execution_count": 142,
   "id": "7dd39764",
   "metadata": {},
   "outputs": [
    {
     "name": "stdout",
     "output_type": "stream",
     "text": [
      "2\n"
     ]
    }
   ],
   "source": [
    "str26 = 'Pratham Singh is 23 years old.'\n",
    "count = 0\n",
    "for i in str26:\n",
    "    if i.isupper():\n",
    "        count+=1\n",
    "    else:\n",
    "        pass\n",
    "print(count)"
   ]
  },
  {
   "cell_type": "code",
   "execution_count": 141,
   "id": "25d69c17",
   "metadata": {},
   "outputs": [
    {
     "data": {
      "text/plain": [
       "'27. Count the number of lowercase letters in a string.'"
      ]
     },
     "execution_count": 141,
     "metadata": {},
     "output_type": "execute_result"
    }
   ],
   "source": [
    "'''27. Count the number of lowercase letters in a string.'''"
   ]
  },
  {
   "cell_type": "code",
   "execution_count": 143,
   "id": "bb4e4d38",
   "metadata": {},
   "outputs": [
    {
     "name": "stdout",
     "output_type": "stream",
     "text": [
      "20\n"
     ]
    }
   ],
   "source": [
    "str27 = 'Pratham Singh is 23 years old.'\n",
    "\n",
    "count = 0\n",
    "\n",
    "for i in str27:\n",
    "    if i.islower():\n",
    "        count +=1\n",
    "    else:\n",
    "        pass\n",
    "print(count)"
   ]
  },
  {
   "cell_type": "code",
   "execution_count": 144,
   "id": "d12afe60",
   "metadata": {},
   "outputs": [
    {
     "data": {
      "text/plain": [
       "'28. Swap the case of each character in a string.'"
      ]
     },
     "execution_count": 144,
     "metadata": {},
     "output_type": "execute_result"
    }
   ],
   "source": [
    "'''28. Swap the case of each character in a string.'''"
   ]
  },
  {
   "cell_type": "code",
   "execution_count": 149,
   "id": "2d9a9e08",
   "metadata": {},
   "outputs": [
    {
     "name": "stdout",
     "output_type": "stream",
     "text": [
      "['p', 'R', 'A', 'T', 'H', 'A', 'M', 's', 'I', 'N', 'G', 'H', 'I', 'S', 'A', 'G', 'O', 'O', 'D', 'B', 'O', 'Y']\n",
      "p R A T H A M s I N G H I S A G O O D B O Y\n"
     ]
    }
   ],
   "source": [
    "str28 = 'Pratham Singh is a good boy.'\n",
    "str28_new = []\n",
    "for i in str28:\n",
    "    if i.isupper():\n",
    "        i = i.lower()\n",
    "        str28_new.append(i)\n",
    "        \n",
    "    elif i.islower():\n",
    "        i = i.upper()\n",
    "        str28_new.append(i)\n",
    "print(str28_new)\n",
    "print(' '.join(str28_new))"
   ]
  },
  {
   "cell_type": "code",
   "execution_count": 150,
   "id": "cdaec739",
   "metadata": {},
   "outputs": [
    {
     "name": "stdout",
     "output_type": "stream",
     "text": [
      "nEW dELHI IS THE CAPITAL OF iNDIA.\n"
     ]
    }
   ],
   "source": [
    "str28 = 'New Delhi is the capital of India.'\n",
    "\n",
    "print(str28.swapcase())"
   ]
  },
  {
   "cell_type": "code",
   "execution_count": 151,
   "id": "387d1ed0",
   "metadata": {},
   "outputs": [
    {
     "data": {
      "text/plain": [
       "'29. Remove a specific word from a string.'"
      ]
     },
     "execution_count": 151,
     "metadata": {},
     "output_type": "execute_result"
    }
   ],
   "source": [
    "'''29. Remove a specific word from a string.'''"
   ]
  },
  {
   "cell_type": "code",
   "execution_count": 154,
   "id": "4d2ece12",
   "metadata": {},
   "outputs": [
    {
     "name": "stdout",
     "output_type": "stream",
     "text": [
      "I love India, India is heaven.\n"
     ]
    }
   ],
   "source": [
    "str29 = 'I love my India, India is heaven.'\n",
    "\n",
    "str29_list = str29.split()\n",
    "\n",
    "for i in str29_list:\n",
    "    if i.lower() == 'my':\n",
    "        str29_list.remove(i)\n",
    "print(' '.join(str29_list))"
   ]
  },
  {
   "cell_type": "code",
   "execution_count": 155,
   "id": "4f6ce395",
   "metadata": {},
   "outputs": [
    {
     "name": "stdout",
     "output_type": "stream",
     "text": [
      "My name is Pratham  Singh.\n"
     ]
    }
   ],
   "source": [
    "str29 = 'My name is Pratham Kumar Singh.'\n",
    "\n",
    "result = str29.replace('Kumar', '')\n",
    "print(result)"
   ]
  },
  {
   "cell_type": "code",
   "execution_count": 156,
   "id": "dfbffc1d",
   "metadata": {},
   "outputs": [
    {
     "data": {
      "text/plain": [
       "'30. Check if a string is a valid email address.'"
      ]
     },
     "execution_count": 156,
     "metadata": {},
     "output_type": "execute_result"
    }
   ],
   "source": [
    "'''30. Check if a string is a valid email address.'''"
   ]
  },
  {
   "cell_type": "code",
   "execution_count": 165,
   "id": "88c23284",
   "metadata": {},
   "outputs": [
    {
     "name": "stdout",
     "output_type": "stream",
     "text": [
      "Enter any email address: dsd\n",
      "Given email address dsd is not a valid email address.\n"
     ]
    }
   ],
   "source": [
    "str30 = input('Enter any email address: ')\n",
    "\n",
    "if str30.count('@') == 1:\n",
    "    local_part, domain_part = str30.split('@')\n",
    "    \n",
    "    if local_part != '' and domain_part != '':\n",
    "        if domain_part.count('.') == 1:\n",
    "            print(f'Given email address {str30} is a valid email address.')\n",
    "        else:\n",
    "            print(f'Given email address {str30} is not a valid email address.')\n",
    "    else:\n",
    "        print(f'Given email address {str30} is not a valid email address.')\n",
    "else:\n",
    "    print(f'Given email address {str30} is not a valid email address.')"
   ]
  },
  {
   "cell_type": "code",
   "execution_count": 164,
   "id": "c1226022",
   "metadata": {},
   "outputs": [
    {
     "data": {
      "text/plain": [
       "'31. Extract the username from an email address string.'"
      ]
     },
     "execution_count": 164,
     "metadata": {},
     "output_type": "execute_result"
    }
   ],
   "source": [
    "'''31. Extract the username from an email address string.'''"
   ]
  },
  {
   "cell_type": "code",
   "execution_count": 166,
   "id": "6195ce4f",
   "metadata": {},
   "outputs": [
    {
     "name": "stdout",
     "output_type": "stream",
     "text": [
      "Enter your email address: peatha@gmail.com\n",
      "The username from given email address peatha@gmail.com is peatha.\n"
     ]
    }
   ],
   "source": [
    "str31 = input('Enter your email address: ')\n",
    "\n",
    "if str31.count('@') == 1:\n",
    "    local_part, domain_part = str31.split('@')\n",
    "    if local_part != '' and domain_part !='':\n",
    "        print(f'The username from given email address {str31} is {local_part}.')\n",
    "    else:\n",
    "        print('Invalid email address. Please enter a valid email address.')"
   ]
  },
  {
   "cell_type": "code",
   "execution_count": 167,
   "id": "c87a4650",
   "metadata": {},
   "outputs": [
    {
     "name": "stdout",
     "output_type": "stream",
     "text": [
      "prathamking8\n"
     ]
    }
   ],
   "source": [
    "str31 = 'prathamking8@gmail.com'\n",
    "\n",
    "print(str31.split('@')[0])"
   ]
  },
  {
   "cell_type": "code",
   "execution_count": 168,
   "id": "4ab688fb",
   "metadata": {},
   "outputs": [
    {
     "data": {
      "text/plain": [
       "'32. Extract the domain name from an email address string.'"
      ]
     },
     "execution_count": 168,
     "metadata": {},
     "output_type": "execute_result"
    }
   ],
   "source": [
    "'''32. Extract the domain name from an email address string.'''"
   ]
  },
  {
   "cell_type": "code",
   "execution_count": 170,
   "id": "1a851934",
   "metadata": {},
   "outputs": [
    {
     "name": "stdout",
     "output_type": "stream",
     "text": [
      "gmail.com\n"
     ]
    }
   ],
   "source": [
    "str32 = 'prathamking8@gmail.com'\n",
    "\n",
    "print(str32.split('@')[1])"
   ]
  },
  {
   "cell_type": "code",
   "execution_count": 171,
   "id": "008fbf32",
   "metadata": {},
   "outputs": [
    {
     "data": {
      "text/plain": [
       "'33. Replace multiple spaces in a string with a single space.'"
      ]
     },
     "execution_count": 171,
     "metadata": {},
     "output_type": "execute_result"
    }
   ],
   "source": [
    "'''33. Replace multiple spaces in a string with a single space.'''"
   ]
  },
  {
   "cell_type": "code",
   "execution_count": 172,
   "id": "578430a1",
   "metadata": {},
   "outputs": [
    {
     "name": "stdout",
     "output_type": "stream",
     "text": [
      "This is my book.\n"
     ]
    }
   ],
   "source": [
    "str33 = 'This   is      my book.'\n",
    "\n",
    "str33_list = str33.split()\n",
    "\n",
    "print(' '.join(str33_list))"
   ]
  },
  {
   "cell_type": "code",
   "execution_count": 173,
   "id": "dffb9018",
   "metadata": {},
   "outputs": [
    {
     "data": {
      "text/plain": [
       "'34. Check if a string is a valid URL.'"
      ]
     },
     "execution_count": 173,
     "metadata": {},
     "output_type": "execute_result"
    }
   ],
   "source": [
    "'''34. Check if a string is a valid URL.'''"
   ]
  },
  {
   "cell_type": "code",
   "execution_count": 178,
   "id": "1346f43d",
   "metadata": {},
   "outputs": [
    {
     "name": "stdout",
     "output_type": "stream",
     "text": [
      "Enter any valid URL:www.facebook.com\n",
      "Given URL www.facebook.com is a valid URL.\n"
     ]
    }
   ],
   "source": [
    "str34 = input('Enter any valid URL:')\n",
    "\n",
    "if str34.count('.') >= 2:\n",
    "    www_part, domain_part, com_part = str34.split('.')\n",
    "    if www_part.lower() == 'www' and com_part.lower() == 'com' and domain_part != '':\n",
    "        print(f'Given URL {str34} is a valid URL.')\n",
    "    else:\n",
    "        print(f'Given URL {str34} is not a valid URL.')\n",
    "else:\n",
    "    print(f'Given URL {str34} is not a valid URL.')"
   ]
  },
  {
   "cell_type": "code",
   "execution_count": 179,
   "id": "4d4542b6",
   "metadata": {},
   "outputs": [
    {
     "data": {
      "text/plain": [
       "'35. Extract the protocol (http or https) from a URL string.'"
      ]
     },
     "execution_count": 179,
     "metadata": {},
     "output_type": "execute_result"
    }
   ],
   "source": [
    "'''35. Extract the protocol (http or https) from a URL string.'''"
   ]
  },
  {
   "cell_type": "code",
   "execution_count": 182,
   "id": "2db69532",
   "metadata": {},
   "outputs": [
    {
     "name": "stdout",
     "output_type": "stream",
     "text": [
      "https\n"
     ]
    }
   ],
   "source": [
    "str35 = 'https://www.example.com/path/to/page'\n",
    "\n",
    "colon_index = str35.find(':')\n",
    "\n",
    "print(str35[0:colon_index])"
   ]
  },
  {
   "cell_type": "code",
   "execution_count": 183,
   "id": "f5461511",
   "metadata": {},
   "outputs": [
    {
     "data": {
      "text/plain": [
       "'36. Find the frequency of each character in a string.'"
      ]
     },
     "execution_count": 183,
     "metadata": {},
     "output_type": "execute_result"
    }
   ],
   "source": [
    "'''36. Find the frequency of each character in a string.'''"
   ]
  },
  {
   "cell_type": "code",
   "execution_count": 236,
   "id": "06b5e532",
   "metadata": {},
   "outputs": [
    {
     "name": "stdout",
     "output_type": "stream",
     "text": [
      "The occurance of m is 1\n",
      "The occurance of n is 1\n",
      "The occurance of h is 2\n",
      "The occurance of p is 1\n",
      "The occurance of g is 1\n",
      "The occurance of t is 1\n",
      "The occurance of a is 2\n",
      "The occurance of s is 1\n",
      "The occurance of r is 1\n",
      "The occurance of i is 1\n"
     ]
    }
   ],
   "source": [
    "str36 = 'Pratham Singh'.lower()\n",
    "str36 = str36.replace(' ', '')\n",
    "count = 0\n",
    "str36_list =[]\n",
    "for i in str36:\n",
    "    str36_list.append(i)\n",
    "    \n",
    "str36_set = set(str36_list)\n",
    "str36_list_from_set = list(str36_set)\n",
    "\n",
    "for j in str36_list_from_set:\n",
    "    print(f'The occurance of {j} is', str36_list.count(j))"
   ]
  },
  {
   "cell_type": "code",
   "execution_count": 237,
   "id": "4e1ae936",
   "metadata": {},
   "outputs": [
    {
     "data": {
      "text/plain": [
       "'37. Remove all punctuation from a string.'"
      ]
     },
     "execution_count": 237,
     "metadata": {},
     "output_type": "execute_result"
    }
   ],
   "source": [
    "'''37. Remove all punctuation from a string.'''"
   ]
  },
  {
   "cell_type": "code",
   "execution_count": 248,
   "id": "4aa69a99",
   "metadata": {},
   "outputs": [
    {
     "name": "stdout",
     "output_type": "stream",
     "text": [
      "Text without punctuation is: my name is pratham singh i am from india i work in it sector.\n"
     ]
    }
   ],
   "source": [
    "str37 = 'My name is Pratham Singh. I am from India. I work in IT sector.'.lower()\n",
    "\n",
    "str37_without_P = ''\n",
    "\n",
    "punctuation_list = '''!()-[]{};:'\"\\,<>./?@#$%^&*_~'''\n",
    "\n",
    "for i in str37:\n",
    "    if i not in punctuation_list:\n",
    "        str37_without_P +=i\n",
    "print(f'Text without punctuation is: {str37_without_P}.')\n",
    "        \n",
    "        "
   ]
  },
  {
   "cell_type": "code",
   "execution_count": 249,
   "id": "f5e85f52",
   "metadata": {},
   "outputs": [
    {
     "data": {
      "text/plain": [
       "'38. Check if a string contains only digits.'"
      ]
     },
     "execution_count": 249,
     "metadata": {},
     "output_type": "execute_result"
    }
   ],
   "source": [
    "'''38. Check if a string contains only digits.'''"
   ]
  },
  {
   "cell_type": "code",
   "execution_count": 259,
   "id": "b82c050e",
   "metadata": {},
   "outputs": [
    {
     "name": "stdout",
     "output_type": "stream",
     "text": [
      "Enter any string: 12\n",
      "Given string 12 contains only digits.\n"
     ]
    }
   ],
   "source": [
    "str38 = input('Enter any string: ')\n",
    "\n",
    "if str38.isdigit():\n",
    "    print(f'Given string {str38} contains only digits.')\n",
    "else:\n",
    "    print(f'Given string {str38} does not contains only digits.')"
   ]
  },
  {
   "cell_type": "code",
   "execution_count": 260,
   "id": "f5397543",
   "metadata": {},
   "outputs": [
    {
     "data": {
      "text/plain": [
       "'39. Check if a string contains only alphabets.'"
      ]
     },
     "execution_count": 260,
     "metadata": {},
     "output_type": "execute_result"
    }
   ],
   "source": [
    "'''39. Check if a string contains only alphabets.'''"
   ]
  },
  {
   "cell_type": "code",
   "execution_count": 268,
   "id": "d7032c43",
   "metadata": {},
   "outputs": [
    {
     "name": "stdout",
     "output_type": "stream",
     "text": [
      "Enter any string: adsd\n",
      "Given string adsd contains only alphabets.\n"
     ]
    }
   ],
   "source": [
    "str39 = input('Enter any string: ')\n",
    "\n",
    "if str39.isalpha():\n",
    "    print(f'Given string {str39} contains only alphabets.')\n",
    "else:\n",
    "    print(f'Given string {str39} does not contains only alphabets.')"
   ]
  },
  {
   "cell_type": "code",
   "execution_count": 269,
   "id": "43d1a104",
   "metadata": {},
   "outputs": [
    {
     "data": {
      "text/plain": [
       "'40. Convert a string to a list of characters.'"
      ]
     },
     "execution_count": 269,
     "metadata": {},
     "output_type": "execute_result"
    }
   ],
   "source": [
    "'''40. Convert a string to a list of characters.'''"
   ]
  },
  {
   "cell_type": "code",
   "execution_count": 274,
   "id": "74aba371",
   "metadata": {},
   "outputs": [
    {
     "name": "stdout",
     "output_type": "stream",
     "text": [
      "Enter any string: My name is Pratham Singh.\n",
      "MynameisPrathamSingh.\n",
      "['M', 'y', 'n', 'a', 'm', 'e', 'i', 's', 'P', 'r', 'a', 't', 'h', 'a', 'm', 'S', 'i', 'n', 'g', 'h', '.']\n"
     ]
    }
   ],
   "source": [
    "str40 = input('Enter any string: ')\n",
    "str40 = str40.replace(' ', '')\n",
    "print(str40)\n",
    "str40_list = []\n",
    "\n",
    "for i in str40:\n",
    "    str40_list.append(i)\n",
    "print(str40_list)"
   ]
  },
  {
   "cell_type": "code",
   "execution_count": 278,
   "id": "28300113",
   "metadata": {},
   "outputs": [
    {
     "name": "stdout",
     "output_type": "stream",
     "text": [
      "Enter any string: My name is pratham Singh.\n",
      "My name is pratham Singh.\n",
      "['m', 'y', 'n', 'a', 'm', 'e', 'i', 's', 'p', 'r', 'a', 't', 'h', 'a', 'm', 's', 'i', 'n', 'g', 'h']\n"
     ]
    }
   ],
   "source": [
    "str40 = input('Enter any string: ')\n",
    "print(str40)\n",
    "str40_list = []\n",
    "\n",
    "for i in str40:\n",
    "    if i.isalpha():\n",
    "        str40_list.append(i.lower())\n",
    "\n",
    "print(str40_list)"
   ]
  },
  {
   "cell_type": "code",
   "execution_count": 279,
   "id": "dba48f24",
   "metadata": {},
   "outputs": [
    {
     "data": {
      "text/plain": [
       "'41. Check if two strings are anagrams.'"
      ]
     },
     "execution_count": 279,
     "metadata": {},
     "output_type": "execute_result"
    }
   ],
   "source": [
    "'''41. Check if two strings are anagrams.'''"
   ]
  },
  {
   "cell_type": "code",
   "execution_count": 290,
   "id": "bcc71ad3",
   "metadata": {},
   "outputs": [
    {
     "name": "stdout",
     "output_type": "stream",
     "text": [
      "Enter 1st string.apad\n",
      "Enter 2nd string.dapa\n",
      "Given string apad and dapa are anagrams.\n"
     ]
    }
   ],
   "source": [
    "str1 = input('Enter 1st string.')\n",
    "str2 = input('Enter 2nd string.')\n",
    "\n",
    "anargs = False\n",
    "\n",
    "if len(str1) == len(str2):\n",
    "    for i in str1:\n",
    "        if str1.count(i) == str2.count(i):\n",
    "            anargs = True\n",
    "        else:\n",
    "            anargs = False\n",
    "else:\n",
    "    False\n",
    "if anargs == True:\n",
    "    print(f'Given string {str1} and {str2} are anagrams.')\n",
    "else:\n",
    "    print(f'Given string {str1} and {str2} are not anagrams.')    "
   ]
  },
  {
   "cell_type": "code",
   "execution_count": 297,
   "id": "9d522e46",
   "metadata": {},
   "outputs": [
    {
     "name": "stdout",
     "output_type": "stream",
     "text": [
      "Enter 1st string: prath am\n",
      "Enter 2nd string: marh apt\n",
      "Both string pratham and marhapt are anagrams.\n"
     ]
    }
   ],
   "source": [
    "str11 = input('Enter 1st string: ').replace(' ', '').lower()\n",
    "str22 = input('Enter 2nd string: ').replace(' ', '').lower()\n",
    "\n",
    "if sorted(str11) == sorted(str22):\n",
    "    print(f'Both string {str11} and {str22} are anagrams.')\n",
    "else:\n",
    "    print(f'Both string {str11} and {str22} are not anagrams.')"
   ]
  },
  {
   "cell_type": "code",
   "execution_count": 298,
   "id": "5484f0f4",
   "metadata": {},
   "outputs": [
    {
     "data": {
      "text/plain": [
       "'42. Encode a string using a Caesar cipher.'"
      ]
     },
     "execution_count": 298,
     "metadata": {},
     "output_type": "execute_result"
    }
   ],
   "source": [
    "'''42. Encode a string using a Caesar cipher.'''"
   ]
  },
  {
   "cell_type": "code",
   "execution_count": 301,
   "id": "d3f0497f",
   "metadata": {},
   "outputs": [
    {
     "name": "stdout",
     "output_type": "stream",
     "text": [
      "Encoded text: Khoor, Zruog!\n"
     ]
    }
   ],
   "source": [
    "text = \"Hello, World!\"\n",
    "shift = 3\n",
    "encoded_text = \"\"\n",
    "\n",
    "for char in text:\n",
    "    if char.isalpha():\n",
    "        if char.isupper():\n",
    "            start = ord('A')\n",
    "        else:\n",
    "            start = ord('a')\n",
    "        \n",
    "        shifted_char = chr(((ord(char) - start + shift) % 26) + start)\n",
    "        encoded_text += shifted_char\n",
    "    else:\n",
    "        encoded_text += char\n",
    "\n",
    "print(\"Encoded text:\", encoded_text)"
   ]
  },
  {
   "cell_type": "code",
   "execution_count": 302,
   "id": "c20cd45a",
   "metadata": {},
   "outputs": [
    {
     "data": {
      "text/plain": [
       "'43. Decode a Caesar cipher encoded string.'"
      ]
     },
     "execution_count": 302,
     "metadata": {},
     "output_type": "execute_result"
    }
   ],
   "source": [
    "'''43. Decode a Caesar cipher encoded string.'''"
   ]
  },
  {
   "cell_type": "code",
   "execution_count": 305,
   "id": "0634700c",
   "metadata": {},
   "outputs": [
    {
     "name": "stdout",
     "output_type": "stream",
     "text": [
      "Decoded Text: Tachis iacs aapap teacpst maaesxxsage.\n"
     ]
    }
   ],
   "source": [
    "def caesar_cipher_decode(encoded_text, shift):\n",
    "    decoded_text = \"\"\n",
    "\n",
    "    for char in encoded_text:\n",
    "        if char.isalpha():\n",
    "            is_upper = char.isupper()\n",
    "            char = char.lower()\n",
    "            decoded_char_code = ord(char) - shift\n",
    "            if decoded_char_code < ord('a'):\n",
    "                decoded_char_code += 26\n",
    "            if is_upper:\n",
    "                decoded_char_code -= 32\n",
    "\n",
    "            decoded_char = chr(decoded_char_code)\n",
    "            decoded_text += decoded_char\n",
    "        else:\n",
    "            decoded_text += char\n",
    "\n",
    "    return decoded_text\n",
    "\n",
    "encoded_text = \"Wdfklv ldfv ddsds whdfsvw pddhvaavdjh.\"\n",
    "shift = 3\n",
    "decoded_text = caesar_cipher_decode(encoded_text, shift)\n",
    "print(\"Decoded Text:\", decoded_text)"
   ]
  },
  {
   "cell_type": "code",
   "execution_count": 306,
   "id": "78fab130",
   "metadata": {},
   "outputs": [
    {
     "data": {
      "text/plain": [
       "'44. Find the most frequent word in a string.'"
      ]
     },
     "execution_count": 306,
     "metadata": {},
     "output_type": "execute_result"
    }
   ],
   "source": [
    "'''44. Find the most frequent word in a string.'''"
   ]
  },
  {
   "cell_type": "code",
   "execution_count": 315,
   "id": "1787bddd",
   "metadata": {},
   "outputs": [
    {
     "name": "stdout",
     "output_type": "stream",
     "text": [
      "{'Pratham': 2, 'is': 3, 'a': 2, 'good': 2, 'citizen.': 1, 'in': 1, 'mathematics': 1, 'and': 1, 'he': 1, 'software': 1, 'engineer.': 1}\n",
      "is\n",
      "3\n"
     ]
    }
   ],
   "source": [
    "str44 = 'Pratham is a good citizen. Pratham is good in mathematics and he is a software engineer.'.split()\n",
    "\n",
    "word_freq = {}\n",
    "\n",
    "for i in str44:\n",
    "    if i in word_freq:\n",
    "        word_freq[i] +=1\n",
    "    else:\n",
    "        word_freq[i] = 1\n",
    "print(word_freq)\n",
    "\n",
    "max_word = max(word_freq, key=word_freq.get)\n",
    "max_freq = word_freq[max_word]\n",
    "print(max_word)\n",
    "print(max_freq)"
   ]
  },
  {
   "cell_type": "code",
   "execution_count": 326,
   "id": "f2870107",
   "metadata": {},
   "outputs": [
    {
     "name": "stdout",
     "output_type": "stream",
     "text": [
      "Word with maximum frequency is: is\n",
      "Maxumum frequency is 3\n"
     ]
    }
   ],
   "source": [
    "str44 = 'Pratham is a good citizen. Pratham is good in mathematics and he is a software engineer.'.split()\n",
    "\n",
    "max_word = ''\n",
    "max_freq = 0\n",
    "dict1 = {}\n",
    "for i in str44:\n",
    "    word_freq = str44.count(i)\n",
    "    \n",
    "    if word_freq >max_freq:\n",
    "        max_word = i\n",
    "        max_freq = word_freq\n",
    "        \n",
    "print(f'Word with maximum frequency is: {max_word}')\n",
    "print(f'Maxumum frequency is {max_freq}')"
   ]
  },
  {
   "cell_type": "code",
   "execution_count": 327,
   "id": "fa187443",
   "metadata": {},
   "outputs": [
    {
     "data": {
      "text/plain": [
       "'45. Find all unique words in a string.'"
      ]
     },
     "execution_count": 327,
     "metadata": {},
     "output_type": "execute_result"
    }
   ],
   "source": [
    "'''45. Find all unique words in a string.'''"
   ]
  },
  {
   "cell_type": "code",
   "execution_count": 332,
   "id": "12f540f3",
   "metadata": {},
   "outputs": [
    {
     "name": "stdout",
     "output_type": "stream",
     "text": [
      "{'good', 'citizen.', 'he', 'software', 'and', 'engineer.', 'a', 'mathematics', 'in', 'is', 'Pratham'}\n",
      "['good', 'citizen.', 'he', 'software', 'and', 'engineer.', 'a', 'mathematics', 'in', 'is', 'Pratham']\n"
     ]
    }
   ],
   "source": [
    "str45 = 'Pratham is a good citizen. Pratham is good in mathematics and he is a software engineer.'\n",
    "\n",
    "str45_list = str45.split()\n",
    "str45_list_set = set(str45_list)\n",
    "print(str45_list_set)\n",
    "print(list(str45_list_set))"
   ]
  },
  {
   "cell_type": "code",
   "execution_count": 333,
   "id": "ba131065",
   "metadata": {},
   "outputs": [
    {
     "data": {
      "text/plain": [
       "'46. Count the number of syllables in a string.'"
      ]
     },
     "execution_count": 333,
     "metadata": {},
     "output_type": "execute_result"
    }
   ],
   "source": [
    "'''46. Count the number of syllables in a string.'''"
   ]
  },
  {
   "cell_type": "code",
   "execution_count": 334,
   "id": "b4886593",
   "metadata": {},
   "outputs": [
    {
     "data": {
      "text/plain": [
       "'47. Check if a string contains any special characters.'"
      ]
     },
     "execution_count": 334,
     "metadata": {},
     "output_type": "execute_result"
    }
   ],
   "source": [
    "'''47. Check if a string contains any special characters.'''"
   ]
  },
  {
   "cell_type": "code",
   "execution_count": 338,
   "id": "296a7201",
   "metadata": {},
   "outputs": [
    {
     "name": "stdout",
     "output_type": "stream",
     "text": [
      "Enter any string: aa\n",
      "Given string does not contains special character.\n"
     ]
    }
   ],
   "source": [
    "str47 = input('Enter any string: ').split()\n",
    "contain_special_character = False\n",
    "\n",
    "for i in str47:  \n",
    "    if not i.isalnum():\n",
    "        contain_special_character = True\n",
    "        break\n",
    "if contain_special_character:\n",
    "    print('Given string contains special character.')\n",
    "else:\n",
    "    print('Given string does not contains special character.')\n",
    "        "
   ]
  },
  {
   "cell_type": "code",
   "execution_count": 339,
   "id": "812c43d8",
   "metadata": {},
   "outputs": [
    {
     "data": {
      "text/plain": [
       "'48. Remove the nth word from a string.'"
      ]
     },
     "execution_count": 339,
     "metadata": {},
     "output_type": "execute_result"
    }
   ],
   "source": [
    "'''48. Remove the nth word from a string.'''"
   ]
  },
  {
   "cell_type": "code",
   "execution_count": 392,
   "id": "0e821aab",
   "metadata": {},
   "outputs": [
    {
     "name": "stdout",
     "output_type": "stream",
     "text": [
      "Enter nth number, character at that position will remove: 2\n",
      "is\n",
      "The 2th term has been removed from string:\n",
      " My name Pratham Singh.\n"
     ]
    }
   ],
   "source": [
    "str48 = 'My name is Pratham Singh.'.split()\n",
    "\n",
    "nth = int(input('Enter nth number, character at that position will remove: '))\n",
    "print(str48[nth])\n",
    "\n",
    "str48.remove(str48[nth])\n",
    "print(f'The {nth}th term has been removed from string:\\n', ' '.join(str48))\n"
   ]
  },
  {
   "cell_type": "code",
   "execution_count": 358,
   "id": "ffe4c1ee",
   "metadata": {},
   "outputs": [
    {
     "data": {
      "text/plain": [
       "'49. Insert a word at the nth position in a string.'"
      ]
     },
     "execution_count": 358,
     "metadata": {},
     "output_type": "execute_result"
    }
   ],
   "source": [
    "'''49. Insert a word at the nth position in a string.'''"
   ]
  },
  {
   "cell_type": "code",
   "execution_count": 402,
   "id": "828c4ed0",
   "metadata": {},
   "outputs": [
    {
     "name": "stdout",
     "output_type": "stream",
     "text": [
      "Enter nth position: 4\n",
      "New string after adding element at 4th position in string. My name is Pratham Kumar Singh\n"
     ]
    }
   ],
   "source": [
    "str49 = 'My name is Pratham Singh'.split()\n",
    "\n",
    "nth = int(input('Enter nth position: '))\n",
    "\n",
    "str49.insert(nth, 'Kumar')\n",
    "\n",
    "print(f'New string after adding element at {nth}th position in string.', ' '.join(str49))"
   ]
  },
  {
   "cell_type": "code",
   "execution_count": 403,
   "id": "277b7984",
   "metadata": {},
   "outputs": [
    {
     "data": {
      "text/plain": [
       "'50. Convert a CSV string to a list of lists.'"
      ]
     },
     "execution_count": 403,
     "metadata": {},
     "output_type": "execute_result"
    }
   ],
   "source": [
    "'''50. Convert a CSV string to a list of lists.'''"
   ]
  },
  {
   "cell_type": "code",
   "execution_count": 411,
   "id": "04935b4e",
   "metadata": {},
   "outputs": [
    {
     "name": "stdout",
     "output_type": "stream",
     "text": [
      "[['Pratham', ' Singh', ' 30'], ['Dhiraj', ' Singh', ' 32'], ['Rauank', ' Singh', ' 34']]\n"
     ]
    }
   ],
   "source": [
    "csv_string = 'Pratham, Singh, 30\\nDhiraj, Singh, 32\\nRauank, Singh, 34'\n",
    "csv_data = []\n",
    "\n",
    "lines = csv_string.split('\\n')\n",
    "\n",
    "for i in lines:\n",
    "    if i:\n",
    "        values = i.split(',')\n",
    "        csv_data.append(values)\n",
    "        \n",
    "print(csv_data)"
   ]
  },
  {
   "cell_type": "code",
   "execution_count": 413,
   "id": "e1dfeded",
   "metadata": {},
   "outputs": [
    {
     "data": {
      "text/plain": [
       "'1. Create a list with integers from 1 to 10.'"
      ]
     },
     "execution_count": 413,
     "metadata": {},
     "output_type": "execute_result"
    }
   ],
   "source": [
    "'''1. Create a list with integers from 1 to 10.'''"
   ]
  },
  {
   "cell_type": "code",
   "execution_count": 414,
   "id": "3789c8c0",
   "metadata": {},
   "outputs": [
    {
     "name": "stdout",
     "output_type": "stream",
     "text": [
      "[1, 2, 3, 4, 5, 6, 7, 8, 9, 10]\n"
     ]
    }
   ],
   "source": [
    "list1 = []\n",
    "\n",
    "for i in range(1, 11):\n",
    "    list1.append(i)\n",
    "print(list1)"
   ]
  },
  {
   "cell_type": "code",
   "execution_count": 415,
   "id": "0e2d1e7f",
   "metadata": {},
   "outputs": [
    {
     "data": {
      "text/plain": [
       "'2. Find the length of a list without using the `len()` function.'"
      ]
     },
     "execution_count": 415,
     "metadata": {},
     "output_type": "execute_result"
    }
   ],
   "source": [
    "'''2. Find the length of a list without using the `len()` function.'''"
   ]
  },
  {
   "cell_type": "code",
   "execution_count": 417,
   "id": "fcf58347",
   "metadata": {},
   "outputs": [
    {
     "name": "stdout",
     "output_type": "stream",
     "text": [
      "7\n"
     ]
    }
   ],
   "source": [
    "list2 = [23, 4, 4, 45, 2, 34, 5]\n",
    "count = 0\n",
    "for i in list2:\n",
    "    count +=1\n",
    "print(count)"
   ]
  },
  {
   "cell_type": "code",
   "execution_count": 418,
   "id": "7c21697f",
   "metadata": {},
   "outputs": [
    {
     "data": {
      "text/plain": [
       "'3. Append an element to the end of a list.'"
      ]
     },
     "execution_count": 418,
     "metadata": {},
     "output_type": "execute_result"
    }
   ],
   "source": [
    "'''3. Append an element to the end of a list.'''"
   ]
  },
  {
   "cell_type": "code",
   "execution_count": 419,
   "id": "9c82705b",
   "metadata": {},
   "outputs": [
    {
     "name": "stdout",
     "output_type": "stream",
     "text": [
      "['pratham', 'dhiraj', 'rauank', 'niraj', 'manish']\n"
     ]
    }
   ],
   "source": [
    "list3 = ['pratham', 'dhiraj', 'rauank', 'niraj']\n",
    "\n",
    "list3.append('manish')\n",
    "\n",
    "print(list3)"
   ]
  },
  {
   "cell_type": "code",
   "execution_count": 420,
   "id": "4a208699",
   "metadata": {},
   "outputs": [
    {
     "data": {
      "text/plain": [
       "'4. Insert an element at a specific index in a list.'"
      ]
     },
     "execution_count": 420,
     "metadata": {},
     "output_type": "execute_result"
    }
   ],
   "source": [
    "'''4. Insert an element at a specific index in a list.'''"
   ]
  },
  {
   "cell_type": "code",
   "execution_count": 425,
   "id": "d5ba782a",
   "metadata": {},
   "outputs": [
    {
     "name": "stdout",
     "output_type": "stream",
     "text": [
      "['pratham', 'dhiraj', 23, 'raunak']\n"
     ]
    }
   ],
   "source": [
    "list4 = ['pratham', 'dhiraj', 'raunak']\n",
    "\n",
    "list4.insert(2, 23)\n",
    "print(list4)"
   ]
  },
  {
   "cell_type": "code",
   "execution_count": 426,
   "id": "c1b2ac29",
   "metadata": {},
   "outputs": [
    {
     "data": {
      "text/plain": [
       "'5. Remove an element from a list by its value.'"
      ]
     },
     "execution_count": 426,
     "metadata": {},
     "output_type": "execute_result"
    }
   ],
   "source": [
    "'''5. Remove an element from a list by its value.'''"
   ]
  },
  {
   "cell_type": "code",
   "execution_count": 432,
   "id": "22016374",
   "metadata": {},
   "outputs": [
    {
     "name": "stdout",
     "output_type": "stream",
     "text": [
      "['Patna', 'Varanasi', 'Ranchi']\n"
     ]
    }
   ],
   "source": [
    "list5 = ['Patna', 'Varanasi', 'Surat', 'Ranchi']\n",
    "\n",
    "list5.remove('Surat')\n",
    "\n",
    "print(list5)"
   ]
  },
  {
   "cell_type": "code",
   "execution_count": 430,
   "id": "fdfd62fe",
   "metadata": {},
   "outputs": [
    {
     "data": {
      "text/plain": [
       "'6. Remove an element from a list by its index.'"
      ]
     },
     "execution_count": 430,
     "metadata": {},
     "output_type": "execute_result"
    }
   ],
   "source": [
    "'''6. Remove an element from a list by its index.'''"
   ]
  },
  {
   "cell_type": "code",
   "execution_count": 431,
   "id": "d624c21c",
   "metadata": {},
   "outputs": [
    {
     "name": "stdout",
     "output_type": "stream",
     "text": [
      "['Patna', 'Varanasi', 'Ranchi']\n"
     ]
    }
   ],
   "source": [
    "list6 = ['Patna', 'Varanasi', 'Surat', 'Ranchi']\n",
    "\n",
    "list6.pop(2)\n",
    "\n",
    "print(list6)"
   ]
  },
  {
   "cell_type": "code",
   "execution_count": 433,
   "id": "de9c8397",
   "metadata": {},
   "outputs": [
    {
     "data": {
      "text/plain": [
       "'7. Check if an element exists in a list.'"
      ]
     },
     "execution_count": 433,
     "metadata": {},
     "output_type": "execute_result"
    }
   ],
   "source": [
    "'''7. Check if an element exists in a list.'''"
   ]
  },
  {
   "cell_type": "code",
   "execution_count": 435,
   "id": "b3a77636",
   "metadata": {},
   "outputs": [
    {
     "name": "stdout",
     "output_type": "stream",
     "text": [
      "apple exists in a list.\n"
     ]
    }
   ],
   "source": [
    "list7 = ['apple', 'orange', 'mango', 'kiwi']\n",
    "\n",
    "if 'apple' in list7:\n",
    "    print(f'apple exists in a list.')\n",
    "else:\n",
    "    print('apple does not exist.')"
   ]
  },
  {
   "cell_type": "code",
   "execution_count": 436,
   "id": "9a29ab0e",
   "metadata": {},
   "outputs": [
    {
     "data": {
      "text/plain": [
       "'8. Find the index of the first occurrence of an element in a list.'"
      ]
     },
     "execution_count": 436,
     "metadata": {},
     "output_type": "execute_result"
    }
   ],
   "source": [
    "'''8. Find the index of the first occurrence of an element in a list.'''"
   ]
  },
  {
   "cell_type": "code",
   "execution_count": 439,
   "id": "f21fe476",
   "metadata": {},
   "outputs": [
    {
     "data": {
      "text/plain": [
       "1"
      ]
     },
     "execution_count": 439,
     "metadata": {},
     "output_type": "execute_result"
    }
   ],
   "source": [
    "list8 = ['singh', 'raunak', 'singh', 'pratham', 'rauank']\n",
    "\n",
    "list8.index('raunak')"
   ]
  },
  {
   "cell_type": "code",
   "execution_count": 440,
   "id": "5fda2043",
   "metadata": {},
   "outputs": [
    {
     "data": {
      "text/plain": [
       "'9. Count the occurrences of an element in a list.'"
      ]
     },
     "execution_count": 440,
     "metadata": {},
     "output_type": "execute_result"
    }
   ],
   "source": [
    "'''9. Count the occurrences of an element in a list.'''"
   ]
  },
  {
   "cell_type": "code",
   "execution_count": 441,
   "id": "d8d3f5f0",
   "metadata": {},
   "outputs": [
    {
     "name": "stdout",
     "output_type": "stream",
     "text": [
      "3\n"
     ]
    }
   ],
   "source": [
    "list9 = ['apple', 'mango', 'apple', 'kiwi', 'orange', 'mango', 'apple']\n",
    "\n",
    "print(list9.count('apple'))"
   ]
  },
  {
   "cell_type": "code",
   "execution_count": 442,
   "id": "b699af59",
   "metadata": {},
   "outputs": [
    {
     "data": {
      "text/plain": [
       "'10. Reverse the order of elements in a list.'"
      ]
     },
     "execution_count": 442,
     "metadata": {},
     "output_type": "execute_result"
    }
   ],
   "source": [
    "'''10. Reverse the order of elements in a list.'''"
   ]
  },
  {
   "cell_type": "code",
   "execution_count": 443,
   "id": "d4a63e4d",
   "metadata": {},
   "outputs": [
    {
     "name": "stdout",
     "output_type": "stream",
     "text": [
      "[10, 9, 8, 7, 6, 5, 4, 3, 2, 1]\n"
     ]
    }
   ],
   "source": [
    "list10 = [1, 2, 3, 4, 5, 6, 7, 8, 9, 10]\n",
    "print(list10[::-1])"
   ]
  },
  {
   "cell_type": "code",
   "execution_count": 444,
   "id": "ebf053d4",
   "metadata": {},
   "outputs": [
    {
     "data": {
      "text/plain": [
       "'11. Sort a list in ascending order.'"
      ]
     },
     "execution_count": 444,
     "metadata": {},
     "output_type": "execute_result"
    }
   ],
   "source": [
    "'''11. Sort a list in ascending order.'''"
   ]
  },
  {
   "cell_type": "code",
   "execution_count": 452,
   "id": "7153370f",
   "metadata": {},
   "outputs": [
    {
     "name": "stdout",
     "output_type": "stream",
     "text": [
      "[3, 22, 23, 24, 24, 34, 36, 46, 75, 75, 86]\n"
     ]
    }
   ],
   "source": [
    "list11 = [3, 24, 24, 22, 46, 75 ,34 ,75, 23, 86, 36]\n",
    "list11.sort()\n",
    "print(list11)"
   ]
  },
  {
   "cell_type": "code",
   "execution_count": 453,
   "id": "3625b1a2",
   "metadata": {},
   "outputs": [
    {
     "data": {
      "text/plain": [
       "'12. Sort a list in descending order.'"
      ]
     },
     "execution_count": 453,
     "metadata": {},
     "output_type": "execute_result"
    }
   ],
   "source": [
    "'''12. Sort a list in descending order.'''"
   ]
  },
  {
   "cell_type": "code",
   "execution_count": 457,
   "id": "3c3d954c",
   "metadata": {},
   "outputs": [
    {
     "name": "stdout",
     "output_type": "stream",
     "text": [
      "[86, 75, 75, 46, 36, 34, 24, 24, 23, 22, 3]\n"
     ]
    }
   ],
   "source": [
    "list12 = [3, 24, 24, 22, 46, 75 ,34 ,75, 23, 86, 36]\n",
    "list12.sort(reverse=True)\n",
    "print(list12)"
   ]
  },
  {
   "cell_type": "code",
   "execution_count": 458,
   "id": "6f09869b",
   "metadata": {},
   "outputs": [
    {
     "data": {
      "text/plain": [
       "'13. Create a list of even numbers from 1 to 20.'"
      ]
     },
     "execution_count": 458,
     "metadata": {},
     "output_type": "execute_result"
    }
   ],
   "source": [
    "'''13. Create a list of even numbers from 1 to 20.'''"
   ]
  },
  {
   "cell_type": "code",
   "execution_count": 459,
   "id": "76e085a8",
   "metadata": {},
   "outputs": [
    {
     "name": "stdout",
     "output_type": "stream",
     "text": [
      "[2, 4, 6, 8, 10, 12, 14, 16, 18, 20]\n"
     ]
    }
   ],
   "source": [
    "list_even = []\n",
    "\n",
    "for i in range(1, 21):\n",
    "    if i%2 == 0:\n",
    "        list_even.append(i)\n",
    "print(list_even)"
   ]
  },
  {
   "cell_type": "code",
   "execution_count": null,
   "id": "d0b3dd66",
   "metadata": {},
   "outputs": [],
   "source": [
    "'''14. Create a list of odd numbers from 1 to 20.'''"
   ]
  },
  {
   "cell_type": "code",
   "execution_count": 460,
   "id": "bc49e2c2",
   "metadata": {},
   "outputs": [
    {
     "name": "stdout",
     "output_type": "stream",
     "text": [
      "[1, 3, 5, 7, 9, 11, 13, 15, 17, 19]\n"
     ]
    }
   ],
   "source": [
    "list_odd = []\n",
    "\n",
    "for i in range(1, 21):\n",
    "    if i%2 != 0:\n",
    "        list_odd.append(i)\n",
    "print(list_odd)"
   ]
  },
  {
   "cell_type": "code",
   "execution_count": 461,
   "id": "4a5bca0f",
   "metadata": {},
   "outputs": [
    {
     "data": {
      "text/plain": [
       "'15. Find the sum of all elements in a list.'"
      ]
     },
     "execution_count": 461,
     "metadata": {},
     "output_type": "execute_result"
    }
   ],
   "source": [
    "'''15. Find the sum of all elements in a list.'''"
   ]
  },
  {
   "cell_type": "code",
   "execution_count": 462,
   "id": "794401a7",
   "metadata": {},
   "outputs": [
    {
     "name": "stdout",
     "output_type": "stream",
     "text": [
      "55\n"
     ]
    }
   ],
   "source": [
    "list15 = [1, 2, 3, 4, 5, 6, 7, 8, 9, 10]\n",
    "sum = 0\n",
    "\n",
    "for i in list15:\n",
    "    sum +=i\n",
    "print(sum)"
   ]
  },
  {
   "cell_type": "code",
   "execution_count": 463,
   "id": "e3e592aa",
   "metadata": {},
   "outputs": [
    {
     "data": {
      "text/plain": [
       "'16. Find the maximum value in a list.'"
      ]
     },
     "execution_count": 463,
     "metadata": {},
     "output_type": "execute_result"
    }
   ],
   "source": [
    "'''16. Find the maximum value in a list.'''"
   ]
  },
  {
   "cell_type": "code",
   "execution_count": 464,
   "id": "7ad4098b",
   "metadata": {},
   "outputs": [
    {
     "name": "stdout",
     "output_type": "stream",
     "text": [
      "90\n"
     ]
    }
   ],
   "source": [
    "list16 = [3, 23, 23, 54, 25, 67, 90, 34, 56]\n",
    "print(max(list16))"
   ]
  },
  {
   "cell_type": "code",
   "execution_count": 465,
   "id": "57ce663f",
   "metadata": {},
   "outputs": [
    {
     "data": {
      "text/plain": [
       "'17. Find the minimum value in a list.'"
      ]
     },
     "execution_count": 465,
     "metadata": {},
     "output_type": "execute_result"
    }
   ],
   "source": [
    "'''17. Find the minimum value in a list.'''"
   ]
  },
  {
   "cell_type": "code",
   "execution_count": 466,
   "id": "8b10ce85",
   "metadata": {},
   "outputs": [
    {
     "name": "stdout",
     "output_type": "stream",
     "text": [
      "2\n"
     ]
    }
   ],
   "source": [
    "list17 = [3, 23, 23, 2, 54, 25, 67, 90, 34, 56]\n",
    "print(min(list17))"
   ]
  },
  {
   "cell_type": "code",
   "execution_count": 467,
   "id": "4670bb58",
   "metadata": {},
   "outputs": [
    {
     "data": {
      "text/plain": [
       "'18. Create a list of squares of numbers from 1 to 10.'"
      ]
     },
     "execution_count": 467,
     "metadata": {},
     "output_type": "execute_result"
    }
   ],
   "source": [
    "'''18. Create a list of squares of numbers from 1 to 10.'''"
   ]
  },
  {
   "cell_type": "code",
   "execution_count": 469,
   "id": "8af1a2a3",
   "metadata": {},
   "outputs": [
    {
     "name": "stdout",
     "output_type": "stream",
     "text": [
      "[1, 4, 9, 16, 25, 36, 49, 64, 81, 100]\n"
     ]
    }
   ],
   "source": [
    "list_squares = []\n",
    "\n",
    "for i in range(1, 11):\n",
    "    list_squares.append(i**2)\n",
    "print(list_squares)"
   ]
  },
  {
   "cell_type": "code",
   "execution_count": 470,
   "id": "1d7df07d",
   "metadata": {},
   "outputs": [
    {
     "data": {
      "text/plain": [
       "'19. Create a list of random numbers.'"
      ]
     },
     "execution_count": 470,
     "metadata": {},
     "output_type": "execute_result"
    }
   ],
   "source": [
    "'''19. Create a list of random numbers.'''"
   ]
  },
  {
   "cell_type": "code",
   "execution_count": 474,
   "id": "54a73578",
   "metadata": {},
   "outputs": [
    {
     "name": "stdout",
     "output_type": "stream",
     "text": [
      "[10, 64, 48, 97, 21, 27, 64, 85, 32, 41]\n"
     ]
    }
   ],
   "source": [
    "import random\n",
    "\n",
    "list19 = []\n",
    "\n",
    "for i in range(10):\n",
    "    list19.append(random.randint(1, 100))\n",
    "print(list19)"
   ]
  },
  {
   "cell_type": "code",
   "execution_count": 475,
   "id": "83c50026",
   "metadata": {},
   "outputs": [
    {
     "data": {
      "text/plain": [
       "'20. Remove duplicates from a list.'"
      ]
     },
     "execution_count": 475,
     "metadata": {},
     "output_type": "execute_result"
    }
   ],
   "source": [
    "'''20. Remove duplicates from a list.'''"
   ]
  },
  {
   "cell_type": "code",
   "execution_count": 476,
   "id": "73e03991",
   "metadata": {},
   "outputs": [
    {
     "name": "stdout",
     "output_type": "stream",
     "text": [
      "[64, 2, 3, 34, 5, 6, 35, 54, 55, 24]\n"
     ]
    }
   ],
   "source": [
    "list20 = [2, 3, 5, 24, 55, 2, 54, 64, 34, 34, 6, 24, 35, 64]\n",
    "print(list(set(list20)))"
   ]
  },
  {
   "cell_type": "code",
   "execution_count": 477,
   "id": "b404b9b3",
   "metadata": {},
   "outputs": [
    {
     "data": {
      "text/plain": [
       "'21. Find the common elements between two lists.'"
      ]
     },
     "execution_count": 477,
     "metadata": {},
     "output_type": "execute_result"
    }
   ],
   "source": [
    "'''21. Find the common elements between two lists.'''"
   ]
  },
  {
   "cell_type": "code",
   "execution_count": 479,
   "id": "e81afb80",
   "metadata": {},
   "outputs": [
    {
     "name": "stdout",
     "output_type": "stream",
     "text": [
      "[3, 34, 34, 34, 34, 64, 64, 3, 45]\n"
     ]
    }
   ],
   "source": [
    "list1 = [3, 34, 32, 24, 53, 22, 2, 24, 64, 6, 3, 67, 45]\n",
    "list2 = [4, 34, 5, 64, 34, 64, 34, 75, 56, 45, 34, 5, 3]\n",
    "common_list = []\n",
    "for i in list1:\n",
    "    for j in list2:\n",
    "        if i == j:\n",
    "            common_list.append(i)\n",
    "print(common_list)      "
   ]
  },
  {
   "cell_type": "code",
   "execution_count": 480,
   "id": "c201101f",
   "metadata": {},
   "outputs": [
    {
     "data": {
      "text/plain": [
       "'22. Find the difference between two lists.'"
      ]
     },
     "execution_count": 480,
     "metadata": {},
     "output_type": "execute_result"
    }
   ],
   "source": [
    "'''22. Find the difference between two lists.'''"
   ]
  },
  {
   "cell_type": "code",
   "execution_count": 490,
   "id": "ab7b53fe",
   "metadata": {},
   "outputs": [
    {
     "name": "stdout",
     "output_type": "stream",
     "text": [
      "Elements are present in list1 but not in list2 [32, 24, 53, 22, 2, 24, 6, 67]\n",
      "Elements are present in list2 but not in list1 [4, 5, 75, 56, 5]\n"
     ]
    }
   ],
   "source": [
    "list1 = [3, 34, 32, 24, 53, 22, 2, 24, 64, 6, 3, 67, 45]\n",
    "list2 = [4, 34, 5, 64, 34, 64, 34, 75, 56, 45, 34, 5, 3]\n",
    "diff_bet_list = []\n",
    "\n",
    "for i in list1:\n",
    "    if i not in list2:\n",
    "        diff_bet_list.append(i)\n",
    "\n",
    "diff_bet_list1 = []\n",
    "for j in list2:\n",
    "    if j not in list1:\n",
    "        diff_bet_list1.append(j)\n",
    "\n",
    "print('Elements are present in list1 but not in list2', diff_bet_list)\n",
    "print('Elements are present in list2 but not in list1', diff_bet_list1)"
   ]
  },
  {
   "cell_type": "code",
   "execution_count": 492,
   "id": "599a0c01",
   "metadata": {},
   "outputs": [
    {
     "data": {
      "text/plain": [
       "'23. Merge two lists.'"
      ]
     },
     "execution_count": 492,
     "metadata": {},
     "output_type": "execute_result"
    }
   ],
   "source": [
    "'''23. Merge two lists.'''"
   ]
  },
  {
   "cell_type": "code",
   "execution_count": 494,
   "id": "c73e50e1",
   "metadata": {},
   "outputs": [
    {
     "name": "stdout",
     "output_type": "stream",
     "text": [
      "[23, 2, 5, 3, 2, 4, 1, 3, 5, 2, 5, 5]\n"
     ]
    }
   ],
   "source": [
    "list1 = [1, 3, 5, 2, 5, 5]\n",
    "list2 = [23, 2, 5, 3, 2, 4]\n",
    "\n",
    "for i in list1:\n",
    "    list2.append(i)\n",
    "print(list2)"
   ]
  },
  {
   "cell_type": "code",
   "execution_count": 495,
   "id": "4a6e822a",
   "metadata": {},
   "outputs": [
    {
     "data": {
      "text/plain": [
       "'24. Multiply all elements in a list by 2.'"
      ]
     },
     "execution_count": 495,
     "metadata": {},
     "output_type": "execute_result"
    }
   ],
   "source": [
    "'''24. Multiply all elements in a list by 2.'''"
   ]
  },
  {
   "cell_type": "code",
   "execution_count": 507,
   "id": "f94c8fdb",
   "metadata": {},
   "outputs": [
    {
     "name": "stdout",
     "output_type": "stream",
     "text": [
      "[2, 4, 6, 8, 10, 12, 14, 16, 18, 20]\n"
     ]
    }
   ],
   "source": [
    "list24 = [1, 2, 3, 4, 5, 6, 7, 8, 9, 10]\n",
    "list24_mul_2 = []\n",
    "for i in list24:\n",
    "    i *=2\n",
    "    list24_mul_2.append(i)\n",
    "print(list24_mul_2)"
   ]
  },
  {
   "cell_type": "code",
   "execution_count": 508,
   "id": "7302e92a",
   "metadata": {},
   "outputs": [
    {
     "data": {
      "text/plain": [
       "'25. Filter out all even numbers from a list.'"
      ]
     },
     "execution_count": 508,
     "metadata": {},
     "output_type": "execute_result"
    }
   ],
   "source": [
    "'''25. Filter out all even numbers from a list.'''"
   ]
  },
  {
   "cell_type": "code",
   "execution_count": 510,
   "id": "1780f85d",
   "metadata": {},
   "outputs": [
    {
     "name": "stdout",
     "output_type": "stream",
     "text": [
      "[242, 64, 24, 2, 76]\n"
     ]
    }
   ],
   "source": [
    "list25 = [3, 25, 242, 545, 64, 24, 2, 65, 45, 76, 43, 45]\n",
    "\n",
    "list25_even = []\n",
    "\n",
    "for i in list25:\n",
    "    if i%2 == 0:\n",
    "        list25_even.append(i)\n",
    "print(list25_even)"
   ]
  },
  {
   "cell_type": "code",
   "execution_count": 511,
   "id": "7f8532d7",
   "metadata": {},
   "outputs": [
    {
     "data": {
      "text/plain": [
       "'26. Convert a list of strings to a list of integers.'"
      ]
     },
     "execution_count": 511,
     "metadata": {},
     "output_type": "execute_result"
    }
   ],
   "source": [
    "'''26. Convert a list of strings to a list of integers.'''"
   ]
  },
  {
   "cell_type": "code",
   "execution_count": 513,
   "id": "ba4c1009",
   "metadata": {},
   "outputs": [
    {
     "name": "stdout",
     "output_type": "stream",
     "text": [
      "[1, 2, 3, 4, 5, 6, 7, 8, 9, 10]\n"
     ]
    }
   ],
   "source": [
    "list26 = ['1', '2', '3', '4', '5', '6', '7', '8', '9', '10']\n",
    "list26_int = []\n",
    "for i in list26:\n",
    "    i = int(i)\n",
    "    list26_int.append(i)\n",
    "print(list26_int)"
   ]
  },
  {
   "cell_type": "code",
   "execution_count": 514,
   "id": "1029af1d",
   "metadata": {},
   "outputs": [
    {
     "data": {
      "text/plain": [
       "'27. Convert a list of integers to a list of strings.'"
      ]
     },
     "execution_count": 514,
     "metadata": {},
     "output_type": "execute_result"
    }
   ],
   "source": [
    "'''27. Convert a list of integers to a list of strings.'''"
   ]
  },
  {
   "cell_type": "code",
   "execution_count": 4,
   "id": "e02826cc",
   "metadata": {},
   "outputs": [
    {
     "name": "stdout",
     "output_type": "stream",
     "text": [
      "['3', '4', '5', '2', '2', '25', '34', '53']\n"
     ]
    }
   ],
   "source": [
    "list27 = [3, 4, 5, 2, 2, 25, 34, 53]\n",
    "list27_str =[]\n",
    "for i in list27:\n",
    "    list27_str.append(str(i))\n",
    "print(list27_str)"
   ]
  },
  {
   "cell_type": "code",
   "execution_count": 5,
   "id": "30e51e8a",
   "metadata": {},
   "outputs": [
    {
     "data": {
      "text/plain": [
       "'28. Flatten a nested list.'"
      ]
     },
     "execution_count": 5,
     "metadata": {},
     "output_type": "execute_result"
    }
   ],
   "source": [
    "'''28. Flatten a nested list.'''"
   ]
  },
  {
   "cell_type": "code",
   "execution_count": 19,
   "id": "dc57a8da",
   "metadata": {},
   "outputs": [
    {
     "name": "stdout",
     "output_type": "stream",
     "text": [
      "['pratham', 'dhiraj', 'singh', 'pandey', 'rauank']\n"
     ]
    }
   ],
   "source": [
    "list28 = ['pratham', 'dhiraj', ['singh', 'pandey' ], 'rauank']\n",
    "list28_flatten = []\n",
    "for i in list28:\n",
    "    if type(i) == list:\n",
    "        for j in i:\n",
    "            list28_flatten.append(j)\n",
    "    else:\n",
    "        list28_flatten.append(i)\n",
    "print(list28_flatten)        "
   ]
  },
  {
   "cell_type": "code",
   "execution_count": 20,
   "id": "da35faea",
   "metadata": {},
   "outputs": [
    {
     "data": {
      "text/plain": [
       "'29. Create a list of the first 10 Fibonacci numbers.'"
      ]
     },
     "execution_count": 20,
     "metadata": {},
     "output_type": "execute_result"
    }
   ],
   "source": [
    "'''29. Create a list of the first 10 Fibonacci numbers.'''"
   ]
  },
  {
   "cell_type": "code",
   "execution_count": 30,
   "id": "196f074c",
   "metadata": {},
   "outputs": [
    {
     "data": {
      "text/plain": [
       "5"
      ]
     },
     "execution_count": 30,
     "metadata": {},
     "output_type": "execute_result"
    }
   ],
   "source": [
    "def fab(n):\n",
    "    if n<=1:\n",
    "        return 1\n",
    "    else:\n",
    "        return fab(n-1)+fab(n-2)\n",
    "fab(4)"
   ]
  },
  {
   "cell_type": "code",
   "execution_count": 32,
   "id": "1ea80626",
   "metadata": {},
   "outputs": [
    {
     "name": "stdout",
     "output_type": "stream",
     "text": [
      "[0, 1, 1, 2, 3, 5, 8, 13, 21, 34]\n"
     ]
    }
   ],
   "source": [
    "fab_seq = [0, 1]\n",
    "\n",
    "while len(fab_seq) <10:\n",
    "    next_fib = fab_seq[-1] + fab_seq[-2]\n",
    "    fab_seq.append(next_fib)\n",
    "print(fab_seq)   "
   ]
  },
  {
   "cell_type": "code",
   "execution_count": 33,
   "id": "0609946f",
   "metadata": {},
   "outputs": [
    {
     "data": {
      "text/plain": [
       "'30. Check if a list is sorted.'"
      ]
     },
     "execution_count": 33,
     "metadata": {},
     "output_type": "execute_result"
    }
   ],
   "source": [
    "'''30. Check if a list is sorted.'''"
   ]
  },
  {
   "cell_type": "code",
   "execution_count": 47,
   "id": "1bac35b9",
   "metadata": {},
   "outputs": [
    {
     "name": "stdout",
     "output_type": "stream",
     "text": [
      "[1, 3, 4, 5, 12]\n",
      "Given list is not sorted.\n"
     ]
    }
   ],
   "source": [
    "list30 = [1, 12, 3, 4, 5]\n",
    "\n",
    "print(sorted(list30))\n",
    "if list30 == sorted(list30):\n",
    "    print('Given list is sorted.')\n",
    "else:\n",
    "    print('Given list is not sorted.')"
   ]
  },
  {
   "cell_type": "code",
   "execution_count": 48,
   "id": "2af77a87",
   "metadata": {},
   "outputs": [
    {
     "data": {
      "text/plain": [
       "'31. Rotate a list to the left by `n` positions.'"
      ]
     },
     "execution_count": 48,
     "metadata": {},
     "output_type": "execute_result"
    }
   ],
   "source": [
    "'''31. Rotate a list to the left by `n` positions.'''"
   ]
  },
  {
   "cell_type": "code",
   "execution_count": 66,
   "id": "d10cb0db",
   "metadata": {},
   "outputs": [
    {
     "name": "stdout",
     "output_type": "stream",
     "text": [
      "Enter nth position: 3\n",
      "[5, 3, 23, 53, 23, 13, 4]\n"
     ]
    }
   ],
   "source": [
    "list31 = [23, 13, 4, 5, 3, 23, 53]\n",
    "list31_rotate = []\n",
    "nth = int(input('Enter nth position: '))\n",
    "\n",
    "for i in list31[nth:]:\n",
    "    list31_rotate.append(i)\n",
    "for i in list31[:nth]:\n",
    "    list31_rotate.append(i)\n",
    "print(list31_rotate)"
   ]
  },
  {
   "cell_type": "code",
   "execution_count": null,
   "id": "d3f94d44",
   "metadata": {},
   "outputs": [],
   "source": [
    "for i in list31[:nth]:\n",
    "    list31_rotate.append(i)"
   ]
  },
  {
   "cell_type": "code",
   "execution_count": 67,
   "id": "b99ed043",
   "metadata": {},
   "outputs": [
    {
     "data": {
      "text/plain": [
       "'32. Rotate a list to the right by `n` positions.'"
      ]
     },
     "execution_count": 67,
     "metadata": {},
     "output_type": "execute_result"
    }
   ],
   "source": [
    "'''32. Rotate a list to the right by `n` positions.'''"
   ]
  },
  {
   "cell_type": "code",
   "execution_count": 80,
   "id": "924684d7",
   "metadata": {},
   "outputs": [
    {
     "name": "stdout",
     "output_type": "stream",
     "text": [
      "Enter nth number: 4\n",
      "[45, 23, 11, 64, 23, 43, 2, 6]\n"
     ]
    }
   ],
   "source": [
    "list32 = [23, 43, 2, 6, 45, 23, 11, 64]\n",
    "nth = int(input('Enter nth number: '))\n",
    "\n",
    "list32_right = list32[nth:]\n",
    "list32_left = list32[:nth]\n",
    "list32_right.extend(list32_left)\n",
    "print(list32_right)"
   ]
  },
  {
   "cell_type": "code",
   "execution_count": 81,
   "id": "1d4c45e9",
   "metadata": {},
   "outputs": [
    {
     "data": {
      "text/plain": [
       "'33. Create a list of prime numbers up to 50.'"
      ]
     },
     "execution_count": 81,
     "metadata": {},
     "output_type": "execute_result"
    }
   ],
   "source": [
    "'''33. Create a list of prime numbers up to 50.'''"
   ]
  },
  {
   "cell_type": "code",
   "execution_count": 89,
   "id": "28dfaabf",
   "metadata": {},
   "outputs": [
    {
     "name": "stdout",
     "output_type": "stream",
     "text": [
      "[2, 3, 5, 7, 11, 13, 17, 19, 23, 29, 31, 37, 41, 43, 47]\n"
     ]
    }
   ],
   "source": [
    "list_prime = []\n",
    "for i in range(2, 51):\n",
    "    is_prime = True\n",
    "    for j in range(2, int(i**0.5)+1):\n",
    "        if i%j ==0:\n",
    "            is_prime = False\n",
    "            break\n",
    "    if is_prime:\n",
    "        list_prime.append(i)\n",
    "print(list_prime)  "
   ]
  },
  {
   "cell_type": "code",
   "execution_count": 90,
   "id": "6b313492",
   "metadata": {},
   "outputs": [
    {
     "data": {
      "text/plain": [
       "'34. Split a list into chunks of size `n`.'"
      ]
     },
     "execution_count": 90,
     "metadata": {},
     "output_type": "execute_result"
    }
   ],
   "source": [
    "'''34. Split a list into chunks of size `n`.'''"
   ]
  },
  {
   "cell_type": "code",
   "execution_count": 28,
   "id": "a92311c4",
   "metadata": {},
   "outputs": [
    {
     "name": "stdout",
     "output_type": "stream",
     "text": [
      "Enter number for chunk size: 3\n",
      "[[23, 1, 3], [5, 24, 24], [21, 86, 45], [6, 23, 5], [7, 7, 34]]\n"
     ]
    }
   ],
   "source": [
    "list34 = [23, 1, 3, 5, 24, 24, 21, 86, 45, 6, 23, 5, 7, 7, 34]\n",
    "\n",
    "n = int(input('Enter number for chunk size: '))\n",
    "final_list = []\n",
    "for i in range(0, len(list34), n):\n",
    "    new_list = list34[i:i+n]\n",
    "    final_list.append(new_list)\n",
    "print(final_list)"
   ]
  },
  {
   "cell_type": "code",
   "execution_count": 29,
   "id": "8ebf3fc2",
   "metadata": {},
   "outputs": [
    {
     "name": "stdout",
     "output_type": "stream",
     "text": [
      "Enter number by space: 1 2 3 4 5 6 7 8 9 10\n",
      "Enter nth number: 4\n",
      "[['1', '2', '3', '4'], ['5', '6', '7', '8'], ['9', '10']]\n"
     ]
    }
   ],
   "source": [
    "list34 = input('Enter number by space: ').split()\n",
    "final_list = []\n",
    "n = int(input('Enter nth number: '))\n",
    "\n",
    "for i in range(0, len(list34), n):\n",
    "    new_list = list34[i:i+n]\n",
    "    final_list.append(new_list)\n",
    "print(final_list)"
   ]
  },
  {
   "cell_type": "code",
   "execution_count": 30,
   "id": "994a9513",
   "metadata": {},
   "outputs": [
    {
     "data": {
      "text/plain": [
       "'35. Find the second largest number in a list.'"
      ]
     },
     "execution_count": 30,
     "metadata": {},
     "output_type": "execute_result"
    }
   ],
   "source": [
    "'''35. Find the second largest number in a list.'''"
   ]
  },
  {
   "cell_type": "code",
   "execution_count": 39,
   "id": "7d2e4dfe",
   "metadata": {},
   "outputs": [
    {
     "name": "stdout",
     "output_type": "stream",
     "text": [
      "67\n"
     ]
    }
   ],
   "source": [
    "list35 = [23, 1, 34, 67, 43, 24, 75, 37]\n",
    "\n",
    "result = max(list35)\n",
    "list35.remove(result)\n",
    "print(max(list35))"
   ]
  },
  {
   "cell_type": "code",
   "execution_count": 53,
   "id": "1c002393",
   "metadata": {},
   "outputs": [
    {
     "name": "stdout",
     "output_type": "stream",
     "text": [
      "67\n"
     ]
    }
   ],
   "source": [
    "list35 = [23, 1, 34, 67, 43, 24, 75, 37]\n",
    "for i in list35:\n",
    "    if i == max(list35):\n",
    "        list35.remove(i)\n",
    "print(max(list35)) "
   ]
  },
  {
   "cell_type": "code",
   "execution_count": 54,
   "id": "9a5a506f",
   "metadata": {},
   "outputs": [
    {
     "data": {
      "text/plain": [
       "'36. Replace every element in a list with its square.'"
      ]
     },
     "execution_count": 54,
     "metadata": {},
     "output_type": "execute_result"
    }
   ],
   "source": [
    "'''36. Replace every element in a list with its square.'''"
   ]
  },
  {
   "cell_type": "code",
   "execution_count": 2,
   "id": "d5d587fd",
   "metadata": {},
   "outputs": [
    {
     "name": "stdout",
     "output_type": "stream",
     "text": [
      "[1, 4, 9, 16, 25, 36, 49, 64, 81]\n"
     ]
    }
   ],
   "source": [
    "list36 = [1, 2, 3, 4, 5, 6, 7, 8, 9]\n",
    "new_list36 = []\n",
    "for i in list36:\n",
    "    i = i**2\n",
    "    new_list36.append(i)\n",
    "list36 = []\n",
    "list36.extend(new_list36)\n",
    "print(list36)"
   ]
  },
  {
   "cell_type": "code",
   "execution_count": 3,
   "id": "6a3970fa",
   "metadata": {},
   "outputs": [
    {
     "data": {
      "text/plain": [
       "'37. Convert a list to a dictionary where list elements become keys and their\\nindices become values.'"
      ]
     },
     "execution_count": 3,
     "metadata": {},
     "output_type": "execute_result"
    }
   ],
   "source": [
    "'''37. Convert a list to a dictionary where list elements become keys and their\n",
    "indices become values.'''"
   ]
  },
  {
   "cell_type": "code",
   "execution_count": 27,
   "id": "73ac705b",
   "metadata": {},
   "outputs": [
    {
     "name": "stdout",
     "output_type": "stream",
     "text": [
      "{1: 0, 4: 1, 9: 2, 16: 3, 25: 4, 36: 5, 49: 6, 64: 7, 81: 8}\n"
     ]
    }
   ],
   "source": [
    "list37 = [1, 4, 9, 16, 25, 36, 49, 64, 81]\n",
    "new_dict37 = {}\n",
    "for i in list37:\n",
    "    new_dict37[i] = list37.index(i)\n",
    "print(new_dict37)"
   ]
  },
  {
   "cell_type": "code",
   "execution_count": 28,
   "id": "09f73e53",
   "metadata": {},
   "outputs": [
    {
     "data": {
      "text/plain": [
       "'38. Shuffle the elements of a list randomly.'"
      ]
     },
     "execution_count": 28,
     "metadata": {},
     "output_type": "execute_result"
    }
   ],
   "source": [
    "'''38. Shuffle the elements of a list randomly.'''"
   ]
  },
  {
   "cell_type": "code",
   "execution_count": 32,
   "id": "2205e53e",
   "metadata": {},
   "outputs": [
    {
     "name": "stdout",
     "output_type": "stream",
     "text": [
      "[1, 4, 8, 3, 9, 6, 5, 7, 2]\n"
     ]
    }
   ],
   "source": [
    "import random\n",
    "list38 = [1, 2, 3, 4, 5, 6, 7, 8, 9]\n",
    "\n",
    "random.shuffle(list38)\n",
    "print(list38)"
   ]
  },
  {
   "cell_type": "code",
   "execution_count": 33,
   "id": "71a0d10c",
   "metadata": {},
   "outputs": [
    {
     "data": {
      "text/plain": [
       "'39. Create a list of the first 10 factorial numbers.'"
      ]
     },
     "execution_count": 33,
     "metadata": {},
     "output_type": "execute_result"
    }
   ],
   "source": [
    "'''39. Create a list of the first 10 factorial numbers.'''"
   ]
  },
  {
   "cell_type": "code",
   "execution_count": 34,
   "id": "d30c4819",
   "metadata": {},
   "outputs": [
    {
     "name": "stdout",
     "output_type": "stream",
     "text": [
      "[1, 2, 6, 24, 120, 720, 5040, 40320, 362880, 3628800]\n"
     ]
    }
   ],
   "source": [
    "fact_list = []\n",
    "fact = 1\n",
    "for i in range(1, 11):\n",
    "    fact = fact*i\n",
    "    fact_list.append(fact)\n",
    "print(fact_list)"
   ]
  },
  {
   "cell_type": "code",
   "execution_count": 35,
   "id": "135a08a1",
   "metadata": {},
   "outputs": [
    {
     "data": {
      "text/plain": [
       "'40. Check if two lists have at least one element in common.'"
      ]
     },
     "execution_count": 35,
     "metadata": {},
     "output_type": "execute_result"
    }
   ],
   "source": [
    "'''40. Check if two lists have at least one element in common.'''"
   ]
  },
  {
   "cell_type": "code",
   "execution_count": 39,
   "id": "c5e14db3",
   "metadata": {},
   "outputs": [
    {
     "name": "stdout",
     "output_type": "stream",
     "text": [
      "At least one lement is common in both list i.e. 23\n"
     ]
    }
   ],
   "source": [
    "list1 = [23, 34, 13, 5, 2, 5, 35, 53, 46, 3, 24]\n",
    "list2 = [89, 5, 45, 2, 6, 6, 23]\n",
    "\n",
    "for i in list1:\n",
    "    for j in list2:\n",
    "        if i == j:\n",
    "            print(f'At least one lement is common in both list i.e. {i}')\n",
    "    break"
   ]
  },
  {
   "cell_type": "code",
   "execution_count": 40,
   "id": "73defc1d",
   "metadata": {},
   "outputs": [
    {
     "data": {
      "text/plain": [
       "'41. Remove all elements from a list.'"
      ]
     },
     "execution_count": 40,
     "metadata": {},
     "output_type": "execute_result"
    }
   ],
   "source": [
    "'''41. Remove all elements from a list.'''"
   ]
  },
  {
   "cell_type": "code",
   "execution_count": 41,
   "id": "a6bb65bb",
   "metadata": {},
   "outputs": [
    {
     "name": "stdout",
     "output_type": "stream",
     "text": [
      "[]\n"
     ]
    }
   ],
   "source": [
    "list41 = [32, 42, 35, 24, 25, 66, 45]\n",
    "\n",
    "list41.clear()\n",
    "print(list41)"
   ]
  },
  {
   "cell_type": "code",
   "execution_count": 42,
   "id": "55a3dd74",
   "metadata": {},
   "outputs": [
    {
     "data": {
      "text/plain": [
       "'42. Replace negative numbers in a list with 0.'"
      ]
     },
     "execution_count": 42,
     "metadata": {},
     "output_type": "execute_result"
    }
   ],
   "source": [
    "'''42. Replace negative numbers in a list with 0.'''"
   ]
  },
  {
   "cell_type": "code",
   "execution_count": 47,
   "id": "e8d9f410",
   "metadata": {},
   "outputs": [
    {
     "name": "stdout",
     "output_type": "stream",
     "text": [
      "[0, 12, 34, 0, 23, 0, 2, 4, 0, 1]\n"
     ]
    }
   ],
   "source": [
    "list42 = [-4, 12, 34, -34, 23, -19, 2, 4, -3, 1]\n",
    "new_list42 = []\n",
    "for i in list42:\n",
    "    if i < 0:\n",
    "        i = 0\n",
    "        new_list42.append(i)\n",
    "    else:\n",
    "        new_list42.append(i)\n",
    "print(new_list42)"
   ]
  },
  {
   "cell_type": "code",
   "execution_count": 48,
   "id": "e69b6e01",
   "metadata": {},
   "outputs": [
    {
     "data": {
      "text/plain": [
       "'43. Convert a string into a list of words.'"
      ]
     },
     "execution_count": 48,
     "metadata": {},
     "output_type": "execute_result"
    }
   ],
   "source": [
    "'''43. Convert a string into a list of words.'''"
   ]
  },
  {
   "cell_type": "code",
   "execution_count": 49,
   "id": "0da7c6e4",
   "metadata": {},
   "outputs": [
    {
     "name": "stdout",
     "output_type": "stream",
     "text": [
      "['My', 'name', 'is', 'Pratham', 'Singh.']\n"
     ]
    }
   ],
   "source": [
    "str43 = 'My name is Pratham Singh.'\n",
    "str43_list = str43.split()\n",
    "print(str43_list)"
   ]
  },
  {
   "cell_type": "code",
   "execution_count": 50,
   "id": "5dbfdcc0",
   "metadata": {},
   "outputs": [
    {
     "data": {
      "text/plain": [
       "'44. Convert a list of words into a string.'"
      ]
     },
     "execution_count": 50,
     "metadata": {},
     "output_type": "execute_result"
    }
   ],
   "source": [
    "'''44. Convert a list of words into a string.'''"
   ]
  },
  {
   "cell_type": "code",
   "execution_count": 51,
   "id": "7c8fcdff",
   "metadata": {},
   "outputs": [
    {
     "name": "stdout",
     "output_type": "stream",
     "text": [
      "My name is Pratham Singh\n"
     ]
    }
   ],
   "source": [
    "list44 = ['My', 'name', 'is', 'Pratham', 'Singh']\n",
    "str44 = ' '.join(list44)\n",
    "print(str44)"
   ]
  },
  {
   "cell_type": "code",
   "execution_count": 52,
   "id": "1ad36aab",
   "metadata": {},
   "outputs": [
    {
     "data": {
      "text/plain": [
       "'45. Create a list of the first `n` powers of 2.'"
      ]
     },
     "execution_count": 52,
     "metadata": {},
     "output_type": "execute_result"
    }
   ],
   "source": [
    "'''45. Create a list of the first `n` powers of 2.'''"
   ]
  },
  {
   "cell_type": "code",
   "execution_count": 54,
   "id": "5848f664",
   "metadata": {},
   "outputs": [
    {
     "name": "stdout",
     "output_type": "stream",
     "text": [
      "Enter value of n: 5\n",
      "[0, 1, 4, 9, 16]\n"
     ]
    }
   ],
   "source": [
    "n = int(input('Enter value of n: '))\n",
    "\n",
    "list_n = []\n",
    "\n",
    "for i in range(0, n):\n",
    "    list_n.append(i**2)\n",
    "print(list_n)"
   ]
  },
  {
   "cell_type": "code",
   "execution_count": 55,
   "id": "2f4f3b74",
   "metadata": {},
   "outputs": [
    {
     "data": {
      "text/plain": [
       "'46. Find the longest string in a list of strings.'"
      ]
     },
     "execution_count": 55,
     "metadata": {},
     "output_type": "execute_result"
    }
   ],
   "source": [
    "'''46. Find the longest string in a list of strings.'''"
   ]
  },
  {
   "cell_type": "code",
   "execution_count": 56,
   "id": "7dd21c0a",
   "metadata": {},
   "outputs": [
    {
     "name": "stdout",
     "output_type": "stream",
     "text": [
      "Varanasi\n"
     ]
    }
   ],
   "source": [
    "list46 = ['Patna', 'Varanasi', 'Dumraon', 'Kopwaon', 'Buxar', 'Ara']\n",
    "\n",
    "print(max(list46, key = len))"
   ]
  },
  {
   "cell_type": "code",
   "execution_count": 57,
   "id": "6b240fd6",
   "metadata": {},
   "outputs": [
    {
     "data": {
      "text/plain": [
       "'47. Find the shortest string in a list of strings.'"
      ]
     },
     "execution_count": 57,
     "metadata": {},
     "output_type": "execute_result"
    }
   ],
   "source": [
    "'''47. Find the shortest string in a list of strings.'''"
   ]
  },
  {
   "cell_type": "code",
   "execution_count": 58,
   "id": "9990084e",
   "metadata": {},
   "outputs": [
    {
     "name": "stdout",
     "output_type": "stream",
     "text": [
      "Ara\n"
     ]
    }
   ],
   "source": [
    "list47 = ['Patna', 'Varanasi', 'Dumraon', 'Kopwaon', 'Buxar', 'Ara']\n",
    "\n",
    "print(min(list47, key = len))"
   ]
  },
  {
   "cell_type": "code",
   "execution_count": 60,
   "id": "b8e860f3",
   "metadata": {},
   "outputs": [
    {
     "data": {
      "text/plain": [
       "'48. Create a list of the first `n` triangular numbers.'"
      ]
     },
     "execution_count": 60,
     "metadata": {},
     "output_type": "execute_result"
    }
   ],
   "source": [
    "'''48. Create a list of the first `n` triangular numbers.'''"
   ]
  },
  {
   "cell_type": "code",
   "execution_count": 63,
   "id": "0b5d38be",
   "metadata": {},
   "outputs": [
    {
     "name": "stdout",
     "output_type": "stream",
     "text": [
      "Enter the number of triangular numbers to generate: 3\n",
      "List of the first 3 triangular numbers: [1, 3, 6]\n"
     ]
    }
   ],
   "source": [
    "n = int(input(\"Enter the number of triangular numbers to generate: \"))\n",
    "\n",
    "triangular_numbers = []\n",
    "current_sum = 0\n",
    "\n",
    "for i in range(1, n + 1):\n",
    "    current_sum += i  \n",
    "    triangular_numbers.append(current_sum)\n",
    "\n",
    "print(\"List of the first\", n, \"triangular numbers:\", triangular_numbers)\n"
   ]
  },
  {
   "cell_type": "code",
   "execution_count": 64,
   "id": "ce746ecf",
   "metadata": {},
   "outputs": [
    {
     "data": {
      "text/plain": [
       "'49. Check if a list contains another list as a subsequence.'"
      ]
     },
     "execution_count": 64,
     "metadata": {},
     "output_type": "execute_result"
    }
   ],
   "source": [
    "'''49. Check if a list contains another list as a subsequence.'''"
   ]
  },
  {
   "cell_type": "code",
   "execution_count": 70,
   "id": "1da7844c",
   "metadata": {},
   "outputs": [
    {
     "name": "stdout",
     "output_type": "stream",
     "text": [
      "List1 contains list2 as subsequence.\n"
     ]
    }
   ],
   "source": [
    "list1 = [1, 2, 3, 4, 5, 6, 7, 8, 9]\n",
    "list2 = [1, 3, 5, 7, 9]\n",
    "subs = False\n",
    "\n",
    "for i in list2:\n",
    "    if i in list1:\n",
    "        subs = True\n",
    "    else:\n",
    "        subs = False\n",
    "if subs:\n",
    "    print('List1 contains list2 as subsequence.')\n",
    "else:\n",
    "    print('List1 does contains list2 as subsequence.')"
   ]
  },
  {
   "cell_type": "code",
   "execution_count": 71,
   "id": "1b98d1ea",
   "metadata": {},
   "outputs": [
    {
     "data": {
      "text/plain": [
       "'50. Swap two elements in a list by their indices.'"
      ]
     },
     "execution_count": 71,
     "metadata": {},
     "output_type": "execute_result"
    }
   ],
   "source": [
    "'''50. Swap two elements in a list by their indices.'''"
   ]
  },
  {
   "cell_type": "code",
   "execution_count": 75,
   "id": "81a6208b",
   "metadata": {},
   "outputs": [
    {
     "name": "stdout",
     "output_type": "stream",
     "text": [
      "[20, 10]\n"
     ]
    }
   ],
   "source": [
    "list50 = [10, 20]\n",
    "temp = 0\n",
    "temp = list50[0]\n",
    "list50[0] = list50[1]\n",
    "list50[1] = temp\n",
    "\n",
    "print(list50)"
   ]
  },
  {
   "cell_type": "code",
   "execution_count": 76,
   "id": "0939a48f",
   "metadata": {},
   "outputs": [
    {
     "data": {
      "text/plain": [
       "'1. Create a tuple with integers from 1 to 5.'"
      ]
     },
     "execution_count": 76,
     "metadata": {},
     "output_type": "execute_result"
    }
   ],
   "source": [
    "'''1. Create a tuple with integers from 1 to 5.'''\n",
    "    "
   ]
  },
  {
   "cell_type": "code",
   "execution_count": 90,
   "id": "3546fcaa",
   "metadata": {},
   "outputs": [
    {
     "name": "stdout",
     "output_type": "stream",
     "text": [
      "(1, 2, 3, 4, 5)\n"
     ]
    }
   ],
   "source": [
    "tupel_1 = ()\n",
    "for i in range(1, 6):\n",
    "    tupel_1 = tupel_1 + (i,)\n",
    "print(tupel_1) "
   ]
  },
  {
   "cell_type": "code",
   "execution_count": 92,
   "id": "9d33e57d",
   "metadata": {},
   "outputs": [
    {
     "data": {
      "text/plain": [
       "'2. Access the third element of a tuple.'"
      ]
     },
     "execution_count": 92,
     "metadata": {},
     "output_type": "execute_result"
    }
   ],
   "source": [
    "'''2. Access the third element of a tuple.'''"
   ]
  },
  {
   "cell_type": "code",
   "execution_count": 93,
   "id": "d396e6ea",
   "metadata": {},
   "outputs": [
    {
     "name": "stdout",
     "output_type": "stream",
     "text": [
      "30\n"
     ]
    }
   ],
   "source": [
    "tuple2 = (10, 20, 30, 40, 50)\n",
    "\n",
    "print(tuple2[2])"
   ]
  },
  {
   "cell_type": "code",
   "execution_count": 94,
   "id": "63f4bee7",
   "metadata": {},
   "outputs": [
    {
     "data": {
      "text/plain": [
       "'3. Find the length of a tuple without using the `len()` function.'"
      ]
     },
     "execution_count": 94,
     "metadata": {},
     "output_type": "execute_result"
    }
   ],
   "source": [
    "'''3. Find the length of a tuple without using the `len()` function.'''"
   ]
  },
  {
   "cell_type": "code",
   "execution_count": 95,
   "id": "9afb32c2",
   "metadata": {},
   "outputs": [
    {
     "name": "stdout",
     "output_type": "stream",
     "text": [
      "The length of tuple is 5.\n"
     ]
    }
   ],
   "source": [
    "tuple3 = (10, 20, 30, 40, 50)\n",
    "count = 0\n",
    "for i in tuple3:\n",
    "    count+=1\n",
    "print(f'The length of tuple is {count}.')"
   ]
  },
  {
   "cell_type": "code",
   "execution_count": 96,
   "id": "340cbba3",
   "metadata": {},
   "outputs": [
    {
     "data": {
      "text/plain": [
       "'4. Count the occurrences of an element in a tuple.'"
      ]
     },
     "execution_count": 96,
     "metadata": {},
     "output_type": "execute_result"
    }
   ],
   "source": [
    "'''4. Count the occurrences of an element in a tuple.'''"
   ]
  },
  {
   "cell_type": "code",
   "execution_count": 97,
   "id": "4957ff4e",
   "metadata": {},
   "outputs": [
    {
     "name": "stdout",
     "output_type": "stream",
     "text": [
      "3\n"
     ]
    }
   ],
   "source": [
    "tuple4 = (1, 2, 4, 23, 53, 23, 42, 2, 53, 54, 6, 23, 2, 34)\n",
    "\n",
    "print(tuple4.count(2))"
   ]
  },
  {
   "cell_type": "code",
   "execution_count": 98,
   "id": "12f5f91f",
   "metadata": {},
   "outputs": [
    {
     "data": {
      "text/plain": [
       "'5. Find the index of the first occurrence of an element in a tuple.'"
      ]
     },
     "execution_count": 98,
     "metadata": {},
     "output_type": "execute_result"
    }
   ],
   "source": [
    "'''5. Find the index of the first occurrence of an element in a tuple.'''"
   ]
  },
  {
   "cell_type": "code",
   "execution_count": 99,
   "id": "0924b268",
   "metadata": {},
   "outputs": [
    {
     "name": "stdout",
     "output_type": "stream",
     "text": [
      "3\n"
     ]
    }
   ],
   "source": [
    "tuple5 = (1, 2, 4, 23, 53, 23, 42, 2, 53, 54, 6, 23, 2, 34)\n",
    "print(tuple5.index(23))"
   ]
  },
  {
   "cell_type": "code",
   "execution_count": 100,
   "id": "44abf897",
   "metadata": {},
   "outputs": [
    {
     "data": {
      "text/plain": [
       "'6. Check if an element exists in a tuple.'"
      ]
     },
     "execution_count": 100,
     "metadata": {},
     "output_type": "execute_result"
    }
   ],
   "source": [
    "'''6. Check if an element exists in a tuple.'''"
   ]
  },
  {
   "cell_type": "code",
   "execution_count": 105,
   "id": "20390f07",
   "metadata": {},
   "outputs": [
    {
     "name": "stdout",
     "output_type": "stream",
     "text": [
      "142 is not present in tuple.\n"
     ]
    }
   ],
   "source": [
    "tuple6 = (1, 2, 4, 23, 53, 23, 42, 2, 53, 54, 6, 23, 2, 34)\n",
    "element6 = 142\n",
    "if element6 in tuple6:\n",
    "    print(f'{element6} is present in tuple.')\n",
    "else:\n",
    "    print(f'{element6} is not present in tuple.')"
   ]
  },
  {
   "cell_type": "code",
   "execution_count": 106,
   "id": "525a1ca0",
   "metadata": {},
   "outputs": [
    {
     "data": {
      "text/plain": [
       "'7. Convert a tuple to a list.'"
      ]
     },
     "execution_count": 106,
     "metadata": {},
     "output_type": "execute_result"
    }
   ],
   "source": [
    "'''7. Convert a tuple to a list.'''"
   ]
  },
  {
   "cell_type": "code",
   "execution_count": 107,
   "id": "628b8096",
   "metadata": {},
   "outputs": [
    {
     "name": "stdout",
     "output_type": "stream",
     "text": [
      "[1, 2, 4, 23, 53, 23, 42, 2, 53, 54, 6, 23, 2, 34]\n"
     ]
    }
   ],
   "source": [
    "tuple7 = (1, 2, 4, 23, 53, 23, 42, 2, 53, 54, 6, 23, 2, 34)\n",
    "print(list(tuple7))"
   ]
  },
  {
   "cell_type": "code",
   "execution_count": 108,
   "id": "24013129",
   "metadata": {},
   "outputs": [
    {
     "data": {
      "text/plain": [
       "'8. Convert a list to a tuple.'"
      ]
     },
     "execution_count": 108,
     "metadata": {},
     "output_type": "execute_result"
    }
   ],
   "source": [
    "'''8. Convert a list to a tuple.'''"
   ]
  },
  {
   "cell_type": "code",
   "execution_count": 109,
   "id": "76489b13",
   "metadata": {},
   "outputs": [
    {
     "name": "stdout",
     "output_type": "stream",
     "text": [
      "(1, 2, 4, 23, 53, 23, 42, 2, 53, 54, 6, 23, 2, 34)\n"
     ]
    }
   ],
   "source": [
    "list8 = [1, 2, 4, 23, 53, 23, 42, 2, 53, 54, 6, 23, 2, 34]\n",
    "print(tuple(list8))"
   ]
  },
  {
   "cell_type": "code",
   "execution_count": 110,
   "id": "6c158c8d",
   "metadata": {},
   "outputs": [
    {
     "data": {
      "text/plain": [
       "'9. Unpack the elements of a tuple into variables.'"
      ]
     },
     "execution_count": 110,
     "metadata": {},
     "output_type": "execute_result"
    }
   ],
   "source": [
    "'''9. Unpack the elements of a tuple into variables.'''"
   ]
  },
  {
   "cell_type": "code",
   "execution_count": 116,
   "id": "f32051cb",
   "metadata": {},
   "outputs": [
    {
     "name": "stdout",
     "output_type": "stream",
     "text": [
      "1\n",
      "12\n",
      "3\n",
      "4\n"
     ]
    }
   ],
   "source": [
    "tuple9 = (1, 12, 3, 4)\n",
    "\n",
    "a,b,c,d = list(tuple9)\n",
    "print(a)\n",
    "print(b)\n",
    "print(c)\n",
    "print(d)"
   ]
  },
  {
   "cell_type": "code",
   "execution_count": 117,
   "id": "c0712f25",
   "metadata": {},
   "outputs": [
    {
     "data": {
      "text/plain": [
       "'10. Create a tuple of even numbers from 1 to 10.'"
      ]
     },
     "execution_count": 117,
     "metadata": {},
     "output_type": "execute_result"
    }
   ],
   "source": [
    "'''10. Create a tuple of even numbers from 1 to 10.'''"
   ]
  },
  {
   "cell_type": "code",
   "execution_count": 121,
   "id": "8d6127a8",
   "metadata": {},
   "outputs": [
    {
     "name": "stdout",
     "output_type": "stream",
     "text": [
      "(2, 4, 6, 8, 10)\n"
     ]
    }
   ],
   "source": [
    "tuple10 = ()\n",
    "for i in range(1, 11):\n",
    "    if i%2 == 0:\n",
    "        tuple10 = tuple10 +(i,)\n",
    "print(tuple10)"
   ]
  },
  {
   "cell_type": "code",
   "execution_count": 120,
   "id": "e74cf4e5",
   "metadata": {},
   "outputs": [
    {
     "data": {
      "text/plain": [
       "'11. Create a tuple of odd numbers from 1 to 10.'"
      ]
     },
     "execution_count": 120,
     "metadata": {},
     "output_type": "execute_result"
    }
   ],
   "source": [
    "'''11. Create a tuple of odd numbers from 1 to 10.'''"
   ]
  },
  {
   "cell_type": "code",
   "execution_count": 122,
   "id": "ae946487",
   "metadata": {},
   "outputs": [
    {
     "name": "stdout",
     "output_type": "stream",
     "text": [
      "(1, 3, 5, 7, 9)\n"
     ]
    }
   ],
   "source": [
    "tuple11 = ()\n",
    "for i in range(1, 11):\n",
    "    if i%2 != 0:\n",
    "        tuple11 = tuple11 +(i,)\n",
    "print(tuple11)"
   ]
  },
  {
   "cell_type": "code",
   "execution_count": 123,
   "id": "47295d67",
   "metadata": {},
   "outputs": [
    {
     "data": {
      "text/plain": [
       "'12. Concatenate two tuples.'"
      ]
     },
     "execution_count": 123,
     "metadata": {},
     "output_type": "execute_result"
    }
   ],
   "source": [
    "'''12. Concatenate two tuples.'''"
   ]
  },
  {
   "cell_type": "code",
   "execution_count": 124,
   "id": "accf2791",
   "metadata": {},
   "outputs": [
    {
     "name": "stdout",
     "output_type": "stream",
     "text": [
      "(2, 3, 4, 1, 5, 2)\n"
     ]
    }
   ],
   "source": [
    "tuple1 = (2, 3, 4)\n",
    "tuple2 = (1, 5, 2)\n",
    "\n",
    "print(tuple1 +tuple2)"
   ]
  },
  {
   "cell_type": "code",
   "execution_count": 125,
   "id": "aea0c793",
   "metadata": {},
   "outputs": [
    {
     "data": {
      "text/plain": [
       "'13. Repeat a tuple three times.'"
      ]
     },
     "execution_count": 125,
     "metadata": {},
     "output_type": "execute_result"
    }
   ],
   "source": [
    "'''13. Repeat a tuple three times.'''"
   ]
  },
  {
   "cell_type": "code",
   "execution_count": 126,
   "id": "d2761377",
   "metadata": {},
   "outputs": [
    {
     "name": "stdout",
     "output_type": "stream",
     "text": [
      "(23, 1, 24, 2, 23, 1, 24, 2, 23, 1, 24, 2)\n"
     ]
    }
   ],
   "source": [
    "tuple13 = (23, 1, 24, 2)\n",
    "print(tuple13*3)"
   ]
  },
  {
   "cell_type": "code",
   "execution_count": 127,
   "id": "b1ef2f92",
   "metadata": {},
   "outputs": [
    {
     "data": {
      "text/plain": [
       "'14. Check if a tuple is empty.'"
      ]
     },
     "execution_count": 127,
     "metadata": {},
     "output_type": "execute_result"
    }
   ],
   "source": [
    "'''14. Check if a tuple is empty.'''"
   ]
  },
  {
   "cell_type": "code",
   "execution_count": 130,
   "id": "b89d9bcc",
   "metadata": {},
   "outputs": [
    {
     "name": "stdout",
     "output_type": "stream",
     "text": [
      "Tuple is not empty.\n"
     ]
    }
   ],
   "source": [
    "tuple14 = (23, 1, 24, 2)\n",
    "\n",
    "if tuple14:\n",
    "    print('Tuple is not empty.')\n",
    "else:\n",
    "    print('Tuple is an empty.')"
   ]
  },
  {
   "cell_type": "code",
   "execution_count": 138,
   "id": "bd8d9098",
   "metadata": {},
   "outputs": [
    {
     "data": {
      "text/plain": [
       "'15. Create a nested tuple.'"
      ]
     },
     "execution_count": 138,
     "metadata": {},
     "output_type": "execute_result"
    }
   ],
   "source": [
    "'''15. Create a nested tuple.'''"
   ]
  },
  {
   "cell_type": "code",
   "execution_count": 139,
   "id": "e6c1ff6b",
   "metadata": {},
   "outputs": [
    {
     "name": "stdout",
     "output_type": "stream",
     "text": [
      "((1, 2), 2, (3, 4), 4, (5, 6), 6, (7, 8), 8, (9, 10), 10)\n"
     ]
    }
   ],
   "source": [
    "tuple15 = ()\n",
    "\n",
    "for i in range(1, 11):\n",
    "    if i%2 == 0:\n",
    "        tuple15 = tuple15 + (i,)\n",
    "    else:\n",
    "        tuple15 = tuple15 + ((i, i+1,),)\n",
    "print(tuple15)"
   ]
  },
  {
   "cell_type": "code",
   "execution_count": 140,
   "id": "c56e417b",
   "metadata": {},
   "outputs": [
    {
     "data": {
      "text/plain": [
       "'16. Access the first element of a nested tuple.'"
      ]
     },
     "execution_count": 140,
     "metadata": {},
     "output_type": "execute_result"
    }
   ],
   "source": [
    "'''16. Access the first element of a nested tuple.'''"
   ]
  },
  {
   "cell_type": "code",
   "execution_count": 159,
   "id": "d26e0117",
   "metadata": {},
   "outputs": [
    {
     "name": "stdout",
     "output_type": "stream",
     "text": [
      "1\n"
     ]
    }
   ],
   "source": [
    "tuple16 = ((1, 2, 12), (3, 4), (5, 6))\n",
    "\n",
    "\n",
    "for i in tuple16:\n",
    "    if len(str(i)) == 1:\n",
    "        print(tuple16[0])\n",
    "        break\n",
    "    else:\n",
    "        print(tuple16[0][0])\n",
    "        break"
   ]
  },
  {
   "cell_type": "code",
   "execution_count": 161,
   "id": "79ce9233",
   "metadata": {},
   "outputs": [
    {
     "data": {
      "text/plain": [
       "'17. Create a tuple with a single element.'"
      ]
     },
     "execution_count": 161,
     "metadata": {},
     "output_type": "execute_result"
    }
   ],
   "source": [
    "'''17. Create a tuple with a single element.'''"
   ]
  },
  {
   "cell_type": "code",
   "execution_count": 164,
   "id": "576de74f",
   "metadata": {},
   "outputs": [
    {
     "data": {
      "text/plain": [
       "tuple"
      ]
     },
     "execution_count": 164,
     "metadata": {},
     "output_type": "execute_result"
    }
   ],
   "source": [
    "tuple17 = (23,)\n",
    "type(tuple17)"
   ]
  },
  {
   "cell_type": "code",
   "execution_count": 165,
   "id": "a65273fa",
   "metadata": {},
   "outputs": [
    {
     "data": {
      "text/plain": [
       "'18. Compare two tuples.'"
      ]
     },
     "execution_count": 165,
     "metadata": {},
     "output_type": "execute_result"
    }
   ],
   "source": [
    "'''18. Compare two tuples.'''"
   ]
  },
  {
   "cell_type": "code",
   "execution_count": 168,
   "id": "79abfac5",
   "metadata": {},
   "outputs": [
    {
     "name": "stdout",
     "output_type": "stream",
     "text": [
      "tuple11 == tuple22:  False\n",
      "tuple11 != tuple22: True\n",
      "tuple11 > tuple22: True\n",
      "tuple11 < tuple22: False\n",
      "tuple11 >= tuple22: True\n",
      "tuple11 <= tuple22: False\n"
     ]
    }
   ],
   "source": [
    "tuple11 = (23, 13, 4, 1, 5)\n",
    "tuple22 = (12, 3, 2, 1, 45, 4)\n",
    "\n",
    "print('tuple11 == tuple22: ', tuple11 == tuple22)\n",
    "print('tuple11 != tuple22:', tuple11 != tuple22)\n",
    "print('tuple11 > tuple22:', tuple11 > tuple22)\n",
    "print('tuple11 < tuple22:', tuple11 < tuple22)\n",
    "print('tuple11 >= tuple22:', tuple11 >= tuple22)\n",
    "print('tuple11 <= tuple22:', tuple11 <= tuple22)"
   ]
  },
  {
   "cell_type": "code",
   "execution_count": 169,
   "id": "e99d7476",
   "metadata": {},
   "outputs": [
    {
     "data": {
      "text/plain": [
       "'19. Delete a tuple.'"
      ]
     },
     "execution_count": 169,
     "metadata": {},
     "output_type": "execute_result"
    }
   ],
   "source": [
    "'''19. Delete a tuple.'''"
   ]
  },
  {
   "cell_type": "code",
   "execution_count": 170,
   "id": "47d68301",
   "metadata": {},
   "outputs": [
    {
     "ename": "NameError",
     "evalue": "name 'tuple19' is not defined",
     "output_type": "error",
     "traceback": [
      "\u001b[0;31m---------------------------------------------------------------------------\u001b[0m",
      "\u001b[0;31mNameError\u001b[0m                                 Traceback (most recent call last)",
      "\u001b[0;32m<ipython-input-170-33ff3dc65537>\u001b[0m in \u001b[0;36m<module>\u001b[0;34m\u001b[0m\n\u001b[1;32m      3\u001b[0m \u001b[0;32mdel\u001b[0m \u001b[0mtuple19\u001b[0m\u001b[0;34m\u001b[0m\u001b[0;34m\u001b[0m\u001b[0m\n\u001b[1;32m      4\u001b[0m \u001b[0;34m\u001b[0m\u001b[0m\n\u001b[0;32m----> 5\u001b[0;31m \u001b[0mprint\u001b[0m\u001b[0;34m(\u001b[0m\u001b[0mtuple19\u001b[0m\u001b[0;34m)\u001b[0m\u001b[0;34m\u001b[0m\u001b[0;34m\u001b[0m\u001b[0m\n\u001b[0m",
      "\u001b[0;31mNameError\u001b[0m: name 'tuple19' is not defined"
     ]
    }
   ],
   "source": [
    "tuple19 = (23, 13, 4, 1, 5)\n",
    "\n",
    "del tuple19\n",
    "\n",
    "print(tuple19)"
   ]
  },
  {
   "cell_type": "code",
   "execution_count": 171,
   "id": "08f58bbf",
   "metadata": {},
   "outputs": [
    {
     "data": {
      "text/plain": [
       "'20. Slice a tuple.'"
      ]
     },
     "execution_count": 171,
     "metadata": {},
     "output_type": "execute_result"
    }
   ],
   "source": [
    "'''20. Slice a tuple.'''"
   ]
  },
  {
   "cell_type": "code",
   "execution_count": 172,
   "id": "db276ff4",
   "metadata": {},
   "outputs": [],
   "source": [
    "tuple20 = (23, 23, 42, 6, 3, 24, 2, 4)"
   ]
  },
  {
   "cell_type": "code",
   "execution_count": 173,
   "id": "a2a959ed",
   "metadata": {},
   "outputs": [
    {
     "name": "stdout",
     "output_type": "stream",
     "text": [
      "(6, 3)\n"
     ]
    }
   ],
   "source": [
    "print(tuple20[3:5])"
   ]
  },
  {
   "cell_type": "code",
   "execution_count": 174,
   "id": "a582484d",
   "metadata": {},
   "outputs": [
    {
     "data": {
      "text/plain": [
       "'21. Find the maximum value in a tuple.'"
      ]
     },
     "execution_count": 174,
     "metadata": {},
     "output_type": "execute_result"
    }
   ],
   "source": [
    "'''21. Find the maximum value in a tuple.'''"
   ]
  },
  {
   "cell_type": "code",
   "execution_count": 175,
   "id": "c269694c",
   "metadata": {},
   "outputs": [
    {
     "name": "stdout",
     "output_type": "stream",
     "text": [
      "42\n"
     ]
    }
   ],
   "source": [
    "tuple21 = (23, 23, 42, 6, 3, 24, 2, 4)\n",
    "print(max(tuple21))"
   ]
  },
  {
   "cell_type": "code",
   "execution_count": 176,
   "id": "971a8470",
   "metadata": {},
   "outputs": [
    {
     "data": {
      "text/plain": [
       "'22. Find the minimum value in a tuple.'"
      ]
     },
     "execution_count": 176,
     "metadata": {},
     "output_type": "execute_result"
    }
   ],
   "source": [
    "'''22. Find the minimum value in a tuple.'''"
   ]
  },
  {
   "cell_type": "code",
   "execution_count": 177,
   "id": "bc9b90a4",
   "metadata": {},
   "outputs": [
    {
     "name": "stdout",
     "output_type": "stream",
     "text": [
      "2\n"
     ]
    }
   ],
   "source": [
    "tuple22 = (23, 23, 42, 6, 3, 24, 2, 4)\n",
    "print(min(tuple22))"
   ]
  },
  {
   "cell_type": "code",
   "execution_count": 178,
   "id": "fa3a94d5",
   "metadata": {},
   "outputs": [
    {
     "data": {
      "text/plain": [
       "'23. Convert a string to a tuple of characters.'"
      ]
     },
     "execution_count": 178,
     "metadata": {},
     "output_type": "execute_result"
    }
   ],
   "source": [
    "'''23. Convert a string to a tuple of characters.'''"
   ]
  },
  {
   "cell_type": "code",
   "execution_count": 179,
   "id": "3a965750",
   "metadata": {},
   "outputs": [
    {
     "name": "stdout",
     "output_type": "stream",
     "text": [
      "('M', 'y', ' ', 'n', 'a', 'm', 'e', ' ', 'i', 's', ' ', 'P', 'r', 'a', 't', 'h', 'a', 'm', ' ', 'S', 'i', 'n', 'g', 'h', '.')\n"
     ]
    }
   ],
   "source": [
    "str23 = 'My name is Pratham Singh.'\n",
    "\n",
    "print(tuple(str23))"
   ]
  },
  {
   "cell_type": "code",
   "execution_count": 180,
   "id": "aa6cd91b",
   "metadata": {},
   "outputs": [
    {
     "data": {
      "text/plain": [
       "'24. Convert a tuple of characters to a string.'"
      ]
     },
     "execution_count": 180,
     "metadata": {},
     "output_type": "execute_result"
    }
   ],
   "source": [
    "'''24. Convert a tuple of characters to a string.'''"
   ]
  },
  {
   "cell_type": "code",
   "execution_count": 182,
   "id": "1fb56d64",
   "metadata": {},
   "outputs": [
    {
     "name": "stdout",
     "output_type": "stream",
     "text": [
      "My name is Pratham Singh.\n"
     ]
    }
   ],
   "source": [
    "tuple24 = ('M', 'y', ' ', 'n', 'a', 'm', 'e', ' ', 'i', 's', ' ', 'P', 'r', 'a', 't', 'h', 'a', 'm', ' ', 'S', 'i', 'n', 'g', 'h', '.')\n",
    "\n",
    "print(''.join(tuple24))"
   ]
  },
  {
   "cell_type": "code",
   "execution_count": 183,
   "id": "39467334",
   "metadata": {},
   "outputs": [
    {
     "data": {
      "text/plain": [
       "'25. Create a tuple from multiple data types.'"
      ]
     },
     "execution_count": 183,
     "metadata": {},
     "output_type": "execute_result"
    }
   ],
   "source": [
    "'''25. Create a tuple from multiple data types.'''"
   ]
  },
  {
   "cell_type": "code",
   "execution_count": 186,
   "id": "df6e650a",
   "metadata": {},
   "outputs": [
    {
     "name": "stdout",
     "output_type": "stream",
     "text": [
      "<class 'tuple'>\n",
      "(23, 'Pratham', True, 23.2)\n"
     ]
    }
   ],
   "source": [
    "tuple25 = (23, 'Pratham', True, 23.2)\n",
    "print(type(tuple25))\n",
    "print(tuple25)"
   ]
  },
  {
   "cell_type": "code",
   "execution_count": 187,
   "id": "058f6abe",
   "metadata": {},
   "outputs": [
    {
     "data": {
      "text/plain": [
       "'26. Check if two tuples are identical.'"
      ]
     },
     "execution_count": 187,
     "metadata": {},
     "output_type": "execute_result"
    }
   ],
   "source": [
    "'''26. Check if two tuples are identical.'''"
   ]
  },
  {
   "cell_type": "code",
   "execution_count": 195,
   "id": "96470562",
   "metadata": {},
   "outputs": [
    {
     "name": "stdout",
     "output_type": "stream",
     "text": [
      "Both tuple are identical:  True\n",
      "Both tuple are not identical:  False\n",
      "Both tuple are not identical:  False\n"
     ]
    }
   ],
   "source": [
    "tuple1 = (1, 2, 3)\n",
    "tuple2 = (1, 2, 3)\n",
    "tuple3 = (1, 3, 2)\n",
    "tuple4 = (1, 2, 5)\n",
    "\n",
    "print('Both tuple are identical: ', tuple1 == tuple2)\n",
    "print('Both tuple are not identical: ', tuple1 == tuple3)\n",
    "print('Both tuple are not identical: ', tuple4 == tuple2)"
   ]
  },
  {
   "cell_type": "code",
   "execution_count": 196,
   "id": "f9000618",
   "metadata": {},
   "outputs": [
    {
     "data": {
      "text/plain": [
       "'27. Sort the elements of a tuple.'"
      ]
     },
     "execution_count": 196,
     "metadata": {},
     "output_type": "execute_result"
    }
   ],
   "source": [
    "'''27. Sort the elements of a tuple.'''"
   ]
  },
  {
   "cell_type": "code",
   "execution_count": 198,
   "id": "ffa44d8e",
   "metadata": {},
   "outputs": [
    {
     "name": "stdout",
     "output_type": "stream",
     "text": [
      "[2, 5, 22, 23, 57, 64]\n"
     ]
    }
   ],
   "source": [
    "tuple27 = (23, 2, 5, 64, 22, 57)\n",
    "\n",
    "print(sorted(tuple27))"
   ]
  },
  {
   "cell_type": "code",
   "execution_count": 199,
   "id": "965ed3b1",
   "metadata": {},
   "outputs": [
    {
     "data": {
      "text/plain": [
       "'28. Convert a tuple of integers to a tuple of strings.'"
      ]
     },
     "execution_count": 199,
     "metadata": {},
     "output_type": "execute_result"
    }
   ],
   "source": [
    "'''28. Convert a tuple of integers to a tuple of strings.'''"
   ]
  },
  {
   "cell_type": "code",
   "execution_count": 203,
   "id": "9b895579",
   "metadata": {},
   "outputs": [
    {
     "name": "stdout",
     "output_type": "stream",
     "text": [
      "('23', '5', '2', '25', '35', '75', '33')\n"
     ]
    }
   ],
   "source": [
    "tuple28 = (23, 5, 2, 25, 35, 75 ,33)\n",
    "tuple_string = ()\n",
    "\n",
    "for i in tuple28:\n",
    "    i = str(i)\n",
    "    tuple_string += (i,)\n",
    "print(tuple_string)"
   ]
  },
  {
   "cell_type": "code",
   "execution_count": 204,
   "id": "358c656a",
   "metadata": {},
   "outputs": [
    {
     "data": {
      "text/plain": [
       "'29. Convert a tuple of strings to a tuple of integers.'"
      ]
     },
     "execution_count": 204,
     "metadata": {},
     "output_type": "execute_result"
    }
   ],
   "source": [
    "'''29. Convert a tuple of strings to a tuple of integers.'''"
   ]
  },
  {
   "cell_type": "code",
   "execution_count": 206,
   "id": "2478d0d2",
   "metadata": {},
   "outputs": [
    {
     "name": "stdout",
     "output_type": "stream",
     "text": [
      "(23, 5, 2, 25, 35, 75, 33)\n"
     ]
    }
   ],
   "source": [
    "tuple29 = ('23', '5', '2', '25', '35', '75', '33')\n",
    "tuple_int = ()\n",
    "for i in tuple29:\n",
    "    i = int(i)\n",
    "    tuple_int += (i,)\n",
    "print(tuple_int)"
   ]
  },
  {
   "cell_type": "code",
   "execution_count": 207,
   "id": "1b0ad7a8",
   "metadata": {},
   "outputs": [
    {
     "data": {
      "text/plain": [
       "'30. Merge two tuples.'"
      ]
     },
     "execution_count": 207,
     "metadata": {},
     "output_type": "execute_result"
    }
   ],
   "source": [
    "'''30. Merge two tuples.'''"
   ]
  },
  {
   "cell_type": "code",
   "execution_count": 208,
   "id": "a6f35208",
   "metadata": {},
   "outputs": [
    {
     "name": "stdout",
     "output_type": "stream",
     "text": [
      "(43, 2, 24, 5, 3, 57, 4, 23)\n"
     ]
    }
   ],
   "source": [
    "tuple1 = (43, 2, 24, 5)\n",
    "tuple2 = (3, 57, 4, 23)\n",
    "\n",
    "print(tuple1+tuple2)"
   ]
  },
  {
   "cell_type": "code",
   "execution_count": 209,
   "id": "41ce1eb5",
   "metadata": {},
   "outputs": [
    {
     "data": {
      "text/plain": [
       "'31. Flatten a nested tuple.'"
      ]
     },
     "execution_count": 209,
     "metadata": {},
     "output_type": "execute_result"
    }
   ],
   "source": [
    "'''31. Flatten a nested tuple.'''"
   ]
  },
  {
   "cell_type": "code",
   "execution_count": 222,
   "id": "a4778ffd",
   "metadata": {},
   "outputs": [
    {
     "name": "stdout",
     "output_type": "stream",
     "text": [
      "(3, 24, 4, 5, 21, 35, 56)\n"
     ]
    }
   ],
   "source": [
    "tuple31 = (3, 24, (4, 5, 21), 35, 56)\n",
    "flattened = []\n",
    "for i in tuple31:\n",
    "    if isinstance(i, tuple):\n",
    "        for j in i:\n",
    "            flattened.append(j)\n",
    "    else:\n",
    "        flattened.append(i)\n",
    "print(tuple(flattened))"
   ]
  },
  {
   "cell_type": "code",
   "execution_count": 223,
   "id": "02340f01",
   "metadata": {},
   "outputs": [
    {
     "data": {
      "text/plain": [
       "'32. Create a tuple of the first 5 prime numbers.'"
      ]
     },
     "execution_count": 223,
     "metadata": {},
     "output_type": "execute_result"
    }
   ],
   "source": [
    "'''32. Create a tuple of the first 5 prime numbers.'''"
   ]
  },
  {
   "cell_type": "code",
   "execution_count": 245,
   "id": "dd34dbfd",
   "metadata": {},
   "outputs": [
    {
     "name": "stdout",
     "output_type": "stream",
     "text": [
      "[2, 3, 5, 7, 11]\n"
     ]
    }
   ],
   "source": [
    "prime_nums = []\n",
    "\n",
    "def is_prime(num):\n",
    "    if num <= 1:\n",
    "        return False\n",
    "    else:\n",
    "        for i in range(2, int(num**0.5)+1):\n",
    "            if num%i == 0:\n",
    "                return False\n",
    "                break\n",
    "        return True\n",
    "\n",
    "result = [x for x in range(2, 100) if is_prime(x)][:5]\n",
    "print(result)"
   ]
  },
  {
   "cell_type": "code",
   "execution_count": 246,
   "id": "84e6b4f3",
   "metadata": {},
   "outputs": [
    {
     "data": {
      "text/plain": [
       "'33. Check if a tuple is a palindrome.'"
      ]
     },
     "execution_count": 246,
     "metadata": {},
     "output_type": "execute_result"
    }
   ],
   "source": [
    "'''33. Check if a tuple is a palindrome.'''"
   ]
  },
  {
   "cell_type": "code",
   "execution_count": 248,
   "id": "6e01af62",
   "metadata": {},
   "outputs": [
    {
     "data": {
      "text/plain": [
       "(2, 3, 1)"
      ]
     },
     "execution_count": 248,
     "metadata": {},
     "output_type": "execute_result"
    }
   ],
   "source": [
    "tuple33 = (1, 3, 2, 3, 1)\n",
    "\n",
    "if tuple33 == tuple33[::-1]:\n",
    "    print('Given tuple is palindrome')\n",
    "else:"
   ]
  },
  {
   "cell_type": "code",
   "execution_count": 249,
   "id": "4b51b903",
   "metadata": {},
   "outputs": [
    {
     "data": {
      "text/plain": [
       "'34. Create a tuple of squares of numbers from 1 to 5.'"
      ]
     },
     "execution_count": 249,
     "metadata": {},
     "output_type": "execute_result"
    }
   ],
   "source": [
    "'''34. Create a tuple of squares of numbers from 1 to 5.'''"
   ]
  },
  {
   "cell_type": "code",
   "execution_count": 250,
   "id": "973f087b",
   "metadata": {},
   "outputs": [
    {
     "name": "stdout",
     "output_type": "stream",
     "text": [
      "(1, 4, 9, 16, 25)\n"
     ]
    }
   ],
   "source": [
    "tuple34 = ()\n",
    "for i in range(1, 6):\n",
    "    i = i**2\n",
    "    tuple34+= (i,)\n",
    "print(tuple34)"
   ]
  },
  {
   "cell_type": "code",
   "execution_count": 251,
   "id": "c520ede1",
   "metadata": {},
   "outputs": [
    {
     "data": {
      "text/plain": [
       "'35. Filter out all even numbers from a tuple.'"
      ]
     },
     "execution_count": 251,
     "metadata": {},
     "output_type": "execute_result"
    }
   ],
   "source": [
    "'''35. Filter out all even numbers from a tuple.'''"
   ]
  },
  {
   "cell_type": "code",
   "execution_count": 253,
   "id": "471610da",
   "metadata": {},
   "outputs": [
    {
     "name": "stdout",
     "output_type": "stream",
     "text": [
      "(4, 34, 2, 34, 56, 24)\n"
     ]
    }
   ],
   "source": [
    "tuple35 = (4, 34, 5, 2, 5, 34, 56, 24, 45, 45, 63, 23)\n",
    "new_tuple35 = ()\n",
    "for i in tuple35:\n",
    "    if i%2 == 0:\n",
    "        new_tuple35 += (i,)\n",
    "print(new_tuple35)     "
   ]
  },
  {
   "cell_type": "code",
   "execution_count": 254,
   "id": "1a124dc3",
   "metadata": {},
   "outputs": [
    {
     "data": {
      "text/plain": [
       "'36. Multiply all elements in a tuple by 2.'"
      ]
     },
     "execution_count": 254,
     "metadata": {},
     "output_type": "execute_result"
    }
   ],
   "source": [
    "'''36. Multiply all elements in a tuple by 2.'''"
   ]
  },
  {
   "cell_type": "code",
   "execution_count": 256,
   "id": "0f6c5ed2",
   "metadata": {},
   "outputs": [
    {
     "name": "stdout",
     "output_type": "stream",
     "text": [
      "(8, 68, 10, 4, 10, 68, 112, 48, 90, 90, 126, 46)\n"
     ]
    }
   ],
   "source": [
    "tuple36 = (4, 34, 5, 2, 5, 34, 56, 24, 45, 45, 63, 23)\n",
    "new_tuple36 = ()\n",
    "for i in tuple36:\n",
    "    i = i*2\n",
    "    new_tuple36+= (i,)\n",
    "print(new_tuple36)"
   ]
  },
  {
   "cell_type": "code",
   "execution_count": 257,
   "id": "5334f57c",
   "metadata": {},
   "outputs": [
    {
     "data": {
      "text/plain": [
       "'37. Create a tuple of random numbers.'"
      ]
     },
     "execution_count": 257,
     "metadata": {},
     "output_type": "execute_result"
    }
   ],
   "source": [
    "'''37. Create a tuple of random numbers.'''"
   ]
  },
  {
   "cell_type": "code",
   "execution_count": 262,
   "id": "f0ed1d65",
   "metadata": {},
   "outputs": [
    {
     "name": "stdout",
     "output_type": "stream",
     "text": [
      "(55, 42, 97, 23, 62, 49, 39, 19, 24)\n"
     ]
    }
   ],
   "source": [
    "import random\n",
    "\n",
    "tuple36 = ()\n",
    "for i in range(1, 10):\n",
    "    i = random.randint(1, 100)\n",
    "    tuple36+= (i,)\n",
    "print(tuple36)"
   ]
  },
  {
   "cell_type": "code",
   "execution_count": 263,
   "id": "532e3d87",
   "metadata": {},
   "outputs": [
    {
     "data": {
      "text/plain": [
       "'38. Check if a tuple is sorted.'"
      ]
     },
     "execution_count": 263,
     "metadata": {},
     "output_type": "execute_result"
    }
   ],
   "source": [
    "'''38. Check if a tuple is sorted.'''"
   ]
  },
  {
   "cell_type": "code",
   "execution_count": 266,
   "id": "a643679e",
   "metadata": {},
   "outputs": [
    {
     "name": "stdout",
     "output_type": "stream",
     "text": [
      "Given tuple is nor sorted.\n"
     ]
    }
   ],
   "source": [
    "tuple38 = (4, 34, 5, 2, 5, 34, 56, 24, 45, 45, 63, 23)\n",
    "\n",
    "if tuple38 == sorted(tuple38):\n",
    "    print('Given tuple is sorted.')\n",
    "else:\n",
    "    print('Given tuple is nor sorted.')"
   ]
  },
  {
   "cell_type": "code",
   "execution_count": 267,
   "id": "1c337bcb",
   "metadata": {},
   "outputs": [
    {
     "data": {
      "text/plain": [
       "'39. Rotate a tuple to the left by `n` positions.'"
      ]
     },
     "execution_count": 267,
     "metadata": {},
     "output_type": "execute_result"
    }
   ],
   "source": [
    "'''39. Rotate a tuple to the left by `n` positions.'''"
   ]
  },
  {
   "cell_type": "code",
   "execution_count": 280,
   "id": "70f5f781",
   "metadata": {},
   "outputs": [
    {
     "name": "stdout",
     "output_type": "stream",
     "text": [
      "Enter nth number: 4\n",
      "(4, 34, 5, 2)\n",
      "(5, 34, 56, 24, 45, 45, 63, 23)\n",
      "(5, 34, 56, 24, 45, 45, 63, 23, 4, 34, 5, 2)\n"
     ]
    }
   ],
   "source": [
    "tuple39 = (4, 34, 5, 2, 5, 34, 56, 24, 45, 45, 63, 23)\n",
    "n = int(input('Enter nth number: '))\n",
    "new_tuple39 = ()\n",
    "right_part_tuple = tuple39[0:n]\n",
    "print(right_part_tuple)\n",
    "left_part_tuple = tuple39[n:]\n",
    "print(left_part_tuple)\n",
    "new_tuple39+=left_part_tuple\n",
    "new_tuple39+=right_part_tuple\n",
    "print(new_tuple39)"
   ]
  },
  {
   "cell_type": "code",
   "execution_count": 281,
   "id": "1f64e291",
   "metadata": {},
   "outputs": [
    {
     "data": {
      "text/plain": [
       "'40. Rotate a tuple to the right by `n` positions.'"
      ]
     },
     "execution_count": 281,
     "metadata": {},
     "output_type": "execute_result"
    }
   ],
   "source": [
    "'''40. Rotate a tuple to the right by `n` positions.'''"
   ]
  },
  {
   "cell_type": "code",
   "execution_count": 282,
   "id": "f1043e3c",
   "metadata": {},
   "outputs": [
    {
     "name": "stdout",
     "output_type": "stream",
     "text": [
      "Enter nth number: 3\n",
      "(4, 34, 5)\n",
      "(2, 5, 34, 56, 24, 45, 45, 63, 23)\n",
      "(4, 34, 5, 2, 5, 34, 56, 24, 45, 45, 63, 23)\n"
     ]
    }
   ],
   "source": [
    "tuple40 = (4, 34, 5, 2, 5, 34, 56, 24, 45, 45, 63, 23)\n",
    "n = int(input('Enter nth number: '))\n",
    "new_tuple40 = ()\n",
    "right_part_tuple = tuple40[0:n]\n",
    "print(right_part_tuple)\n",
    "left_part_tuple = tuple40[n:]\n",
    "print(left_part_tuple)\n",
    "new_tuple40+=right_part_tuple\n",
    "new_tuple40+=left_part_tuple\n",
    "print(new_tuple40)"
   ]
  },
  {
   "cell_type": "code",
   "execution_count": 283,
   "id": "984e21b9",
   "metadata": {},
   "outputs": [
    {
     "data": {
      "text/plain": [
       "'41. Create a tuple of the first 5 Fibonacci numbers.'"
      ]
     },
     "execution_count": 283,
     "metadata": {},
     "output_type": "execute_result"
    }
   ],
   "source": [
    "'''41. Create a tuple of the first 5 Fibonacci numbers.'''"
   ]
  },
  {
   "cell_type": "code",
   "execution_count": 289,
   "id": "99c58fb9",
   "metadata": {},
   "outputs": [
    {
     "name": "stdout",
     "output_type": "stream",
     "text": [
      "(0, 1, 1, 2, 3)\n"
     ]
    }
   ],
   "source": [
    "def fib(n):\n",
    "    if n <=1:\n",
    "        return n\n",
    "    else:\n",
    "        return fib(n-1) +fib(n-2)\n",
    "result = [fib(x) for x in range(0, 5)]\n",
    "print(tuple(result))"
   ]
  },
  {
   "cell_type": "code",
   "execution_count": 290,
   "id": "7ce8e4f4",
   "metadata": {},
   "outputs": [
    {
     "data": {
      "text/plain": [
       "'42. Create a tuple from user input.'"
      ]
     },
     "execution_count": 290,
     "metadata": {},
     "output_type": "execute_result"
    }
   ],
   "source": [
    "'''42. Create a tuple from user input.'''"
   ]
  },
  {
   "cell_type": "code",
   "execution_count": 293,
   "id": "64c6601b",
   "metadata": {},
   "outputs": [
    {
     "name": "stdout",
     "output_type": "stream",
     "text": [
      "Enter number by space: 1 2 3 4 5 6 7 8\n",
      "('1', '2', '3', '4', '5', '6', '7', '8')\n",
      "<class 'tuple'>\n"
     ]
    }
   ],
   "source": [
    "tuple42 = tuple(input('Enter number by space: ').split())\n",
    "print(tuple42)\n",
    "print(type(tuple42))"
   ]
  },
  {
   "cell_type": "code",
   "execution_count": 294,
   "id": "3a6f6b6b",
   "metadata": {},
   "outputs": [
    {
     "data": {
      "text/plain": [
       "'43. Swap two elements in a tuple.'"
      ]
     },
     "execution_count": 294,
     "metadata": {},
     "output_type": "execute_result"
    }
   ],
   "source": [
    "'''43. Swap two elements in a tuple.'''"
   ]
  },
  {
   "cell_type": "code",
   "execution_count": 303,
   "id": "27547cf3",
   "metadata": {},
   "outputs": [
    {
     "name": "stdout",
     "output_type": "stream",
     "text": [
      "(30, 20)\n"
     ]
    }
   ],
   "source": [
    "tuple43 = (20, 30)\n",
    "tuple43 = (tuple43[1], tuple43[0])\n",
    "print(tuple43)"
   ]
  },
  {
   "cell_type": "code",
   "execution_count": 304,
   "id": "f275d299",
   "metadata": {},
   "outputs": [
    {
     "data": {
      "text/plain": [
       "'44. Reverse the elements of a tuple.'"
      ]
     },
     "execution_count": 304,
     "metadata": {},
     "output_type": "execute_result"
    }
   ],
   "source": [
    "'''44. Reverse the elements of a tuple.'''"
   ]
  },
  {
   "cell_type": "code",
   "execution_count": 305,
   "id": "a7a7973f",
   "metadata": {},
   "outputs": [
    {
     "name": "stdout",
     "output_type": "stream",
     "text": [
      "(3, 6, 34, 55, 4, 1, 23)\n"
     ]
    }
   ],
   "source": [
    "tuple44 = (23, 1, 4, 55, 34, 6, 3)\n",
    "print(tuple44[::-1])"
   ]
  },
  {
   "cell_type": "code",
   "execution_count": 306,
   "id": "8cb8198c",
   "metadata": {},
   "outputs": [
    {
     "data": {
      "text/plain": [
       "'45. Create a tuple of the first `n` powers of 2.'"
      ]
     },
     "execution_count": 306,
     "metadata": {},
     "output_type": "execute_result"
    }
   ],
   "source": [
    "'''45. Create a tuple of the first `n` powers of 2.'''"
   ]
  },
  {
   "cell_type": "code",
   "execution_count": 308,
   "id": "6ce5176b",
   "metadata": {},
   "outputs": [
    {
     "name": "stdout",
     "output_type": "stream",
     "text": [
      "Enter nth value: 4\n",
      "(1, 4, 9)\n"
     ]
    }
   ],
   "source": [
    "n = int(input('Enter nth value: '))\n",
    "tuple45 = ()\n",
    "for i in range(1, n):\n",
    "    i = i**2\n",
    "    tuple45 += (i,)\n",
    "print(tuple45)"
   ]
  },
  {
   "cell_type": "code",
   "execution_count": 309,
   "id": "2017f9a6",
   "metadata": {},
   "outputs": [
    {
     "data": {
      "text/plain": [
       "'46. Find the longest string in a tuple of strings.'"
      ]
     },
     "execution_count": 309,
     "metadata": {},
     "output_type": "execute_result"
    }
   ],
   "source": [
    "'''46. Find the longest string in a tuple of strings.'''"
   ]
  },
  {
   "cell_type": "code",
   "execution_count": 312,
   "id": "20b312be",
   "metadata": {},
   "outputs": [
    {
     "data": {
      "text/plain": [
       "'pratham'"
      ]
     },
     "execution_count": 312,
     "metadata": {},
     "output_type": "execute_result"
    }
   ],
   "source": [
    "tuple46 = ('pratham', 'dhiraj', 'raunak', 'sapna')\n",
    "max(tuple46, key=len)  "
   ]
  },
  {
   "cell_type": "code",
   "execution_count": 313,
   "id": "88242b31",
   "metadata": {},
   "outputs": [
    {
     "data": {
      "text/plain": [
       "'47. Find the shortest string in a tuple of strings.'"
      ]
     },
     "execution_count": 313,
     "metadata": {},
     "output_type": "execute_result"
    }
   ],
   "source": [
    "'''47. Find the shortest string in a tuple of strings.'''"
   ]
  },
  {
   "cell_type": "code",
   "execution_count": 314,
   "id": "79ed1fc6",
   "metadata": {},
   "outputs": [
    {
     "data": {
      "text/plain": [
       "'sapna'"
      ]
     },
     "execution_count": 314,
     "metadata": {},
     "output_type": "execute_result"
    }
   ],
   "source": [
    "tuple47 = ('pratham', 'dhiraj', 'raunak', 'sapna')\n",
    "min(tuple47, key=len) "
   ]
  },
  {
   "cell_type": "code",
   "execution_count": 315,
   "id": "eb4710f4",
   "metadata": {},
   "outputs": [
    {
     "data": {
      "text/plain": [
       "'48. Create a tuple of the first `n` triangular numbers.'"
      ]
     },
     "execution_count": 315,
     "metadata": {},
     "output_type": "execute_result"
    }
   ],
   "source": [
    "'''48. Create a tuple of the first `n` triangular numbers.'''"
   ]
  },
  {
   "cell_type": "code",
   "execution_count": 316,
   "id": "e56bcc38",
   "metadata": {},
   "outputs": [
    {
     "name": "stdout",
     "output_type": "stream",
     "text": [
      "Tuple of the first 5 triangular numbers: (1, 3, 6, 10, 15)\n"
     ]
    }
   ],
   "source": [
    "n = 5\n",
    "\n",
    "triangular_numbers_tuple = tuple((i * (i + 1)) // 2 for i in range(1, n + 1))\n",
    "\n",
    "print(\"Tuple of the first\", n, \"triangular numbers:\", triangular_numbers_tuple)"
   ]
  },
  {
   "cell_type": "code",
   "execution_count": 317,
   "id": "ea285543",
   "metadata": {},
   "outputs": [
    {
     "data": {
      "text/plain": [
       "'49. Check if a tuple contains another tuple as a subsequence.'"
      ]
     },
     "execution_count": 317,
     "metadata": {},
     "output_type": "execute_result"
    }
   ],
   "source": [
    "'''49. Check if a tuple contains another tuple as a subsequence.'''"
   ]
  },
  {
   "cell_type": "code",
   "execution_count": 322,
   "id": "d3636c8e",
   "metadata": {},
   "outputs": [
    {
     "name": "stdout",
     "output_type": "stream",
     "text": [
      "Given tuple contain another subsequence.\n"
     ]
    }
   ],
   "source": [
    "tuple49 = (23, 1, 3, (23, 2, 4), 45, 34)\n",
    "\n",
    "for i in tuple49:\n",
    "    if type(i) == tuple:\n",
    "        print('Given tuple contain another subsequence.')\n",
    "        break"
   ]
  },
  {
   "cell_type": "code",
   "execution_count": 323,
   "id": "65407d94",
   "metadata": {},
   "outputs": [
    {
     "data": {
      "text/plain": [
       "'50. Create a tuple of alternating 1s and 0s of length `n`.'"
      ]
     },
     "execution_count": 323,
     "metadata": {},
     "output_type": "execute_result"
    }
   ],
   "source": [
    "'''50. Create a tuple of alternating 1s and 0s of length `n`.'''"
   ]
  },
  {
   "cell_type": "code",
   "execution_count": 325,
   "id": "19abebb2",
   "metadata": {},
   "outputs": [
    {
     "name": "stdout",
     "output_type": "stream",
     "text": [
      "Enter nth number: 5\n",
      "[0, 1, 0, 1, 0]\n"
     ]
    }
   ],
   "source": [
    "tuple50 = []\n",
    "n = int(input('Enter nth number: '))\n",
    "for i in range(n):\n",
    "    tuple50+= (i%2,)\n",
    "print(tuple50)"
   ]
  },
  {
   "cell_type": "code",
   "execution_count": 326,
   "id": "4cd7f5c7",
   "metadata": {},
   "outputs": [
    {
     "data": {
      "text/plain": [
       "'1. Create a set with integers from 1 to 5.'"
      ]
     },
     "execution_count": 326,
     "metadata": {},
     "output_type": "execute_result"
    }
   ],
   "source": [
    "'''1. Create a set with integers from 1 to 5.'''"
   ]
  },
  {
   "cell_type": "code",
   "execution_count": 339,
   "id": "a754c77d",
   "metadata": {},
   "outputs": [
    {
     "name": "stdout",
     "output_type": "stream",
     "text": [
      "{1, 2, 3, 4, 5}\n"
     ]
    }
   ],
   "source": [
    "set1 = set()\n",
    "for i in range(1, 6):\n",
    "    set1.add(i)\n",
    "print(set1)"
   ]
  },
  {
   "cell_type": "code",
   "execution_count": 340,
   "id": "cb3ec0bd",
   "metadata": {},
   "outputs": [
    {
     "data": {
      "text/plain": [
       "'2. Add an element to a set.'"
      ]
     },
     "execution_count": 340,
     "metadata": {},
     "output_type": "execute_result"
    }
   ],
   "source": [
    "'''2. Add an element to a set.'''"
   ]
  },
  {
   "cell_type": "code",
   "execution_count": 342,
   "id": "e4d5a762",
   "metadata": {},
   "outputs": [
    {
     "name": "stdout",
     "output_type": "stream",
     "text": [
      "{1, 2, 3, 4, 5, 21}\n"
     ]
    }
   ],
   "source": [
    "set2 = {1, 2, 3, 4, 5}\n",
    "set2.add(21)\n",
    "print(set2)"
   ]
  },
  {
   "cell_type": "code",
   "execution_count": 343,
   "id": "8ca26e57",
   "metadata": {},
   "outputs": [
    {
     "data": {
      "text/plain": [
       "'3. Remove an element from a set.'"
      ]
     },
     "execution_count": 343,
     "metadata": {},
     "output_type": "execute_result"
    }
   ],
   "source": [
    "'''3. Remove an element from a set.'''"
   ]
  },
  {
   "cell_type": "code",
   "execution_count": 345,
   "id": "6375c32c",
   "metadata": {},
   "outputs": [
    {
     "name": "stdout",
     "output_type": "stream",
     "text": [
      "{1, 3, 4, 5, 21}\n"
     ]
    }
   ],
   "source": [
    "set3 = {1, 12, 3, 4, 5, 21}\n",
    "\n",
    "set3.remove(12)\n",
    "print(set3)"
   ]
  },
  {
   "cell_type": "code",
   "execution_count": 346,
   "id": "8e127b28",
   "metadata": {},
   "outputs": [
    {
     "data": {
      "text/plain": [
       "'4. Check if an element exists in a set.'"
      ]
     },
     "execution_count": 346,
     "metadata": {},
     "output_type": "execute_result"
    }
   ],
   "source": [
    "'''4. Check if an element exists in a set.'''"
   ]
  },
  {
   "cell_type": "code",
   "execution_count": 350,
   "id": "6b006223",
   "metadata": {},
   "outputs": [
    {
     "name": "stdout",
     "output_type": "stream",
     "text": [
      "21 is exists in set4.\n"
     ]
    }
   ],
   "source": [
    "set4 = {1, 12, 3, 4, 5, 21}\n",
    "\n",
    "if 21 in set4:\n",
    "    print(f'{21} is exists in set4.')\n",
    "else:\n",
    "    print(f'{21} does not exists in set4.')"
   ]
  },
  {
   "cell_type": "code",
   "execution_count": 351,
   "id": "49a27889",
   "metadata": {},
   "outputs": [
    {
     "data": {
      "text/plain": [
       "'5. Find the length of a set without using the `len()` function.'"
      ]
     },
     "execution_count": 351,
     "metadata": {},
     "output_type": "execute_result"
    }
   ],
   "source": [
    "'''5. Find the length of a set without using the `len()` function.'''"
   ]
  },
  {
   "cell_type": "code",
   "execution_count": 353,
   "id": "9831df06",
   "metadata": {},
   "outputs": [
    {
     "name": "stdout",
     "output_type": "stream",
     "text": [
      "6\n"
     ]
    }
   ],
   "source": [
    "set5 = {1, 12, 3, 4, 5, 21}\n",
    "count = 0\n",
    "for i in set5:\n",
    "    count+=1\n",
    "print(count)"
   ]
  },
  {
   "cell_type": "code",
   "execution_count": 354,
   "id": "82dc132c",
   "metadata": {},
   "outputs": [
    {
     "data": {
      "text/plain": [
       "'6. Clear all elements from a set.'"
      ]
     },
     "execution_count": 354,
     "metadata": {},
     "output_type": "execute_result"
    }
   ],
   "source": [
    "'''6. Clear all elements from a set.'''"
   ]
  },
  {
   "cell_type": "code",
   "execution_count": 356,
   "id": "3b030c14",
   "metadata": {},
   "outputs": [
    {
     "name": "stdout",
     "output_type": "stream",
     "text": [
      "set()\n"
     ]
    }
   ],
   "source": [
    "set6 = {1, 12, 3, 4, 5, 21}\n",
    "set6.clear()\n",
    "print(set6)"
   ]
  },
  {
   "cell_type": "code",
   "execution_count": 357,
   "id": "3ab88c67",
   "metadata": {},
   "outputs": [
    {
     "data": {
      "text/plain": [
       "'7. Create a set of even numbers from 1 to 10.'"
      ]
     },
     "execution_count": 357,
     "metadata": {},
     "output_type": "execute_result"
    }
   ],
   "source": [
    "'''7. Create a set of even numbers from 1 to 10.'''"
   ]
  },
  {
   "cell_type": "code",
   "execution_count": 360,
   "id": "17c6e6f3",
   "metadata": {},
   "outputs": [
    {
     "name": "stdout",
     "output_type": "stream",
     "text": [
      "{2, 4, 6, 8, 10}\n"
     ]
    }
   ],
   "source": [
    "set7 = set()\n",
    "\n",
    "for i in range(1, 11):\n",
    "    if i%2 == 0:\n",
    "        set7.add(i)\n",
    "print(set7)"
   ]
  },
  {
   "cell_type": "code",
   "execution_count": 361,
   "id": "39079f1b",
   "metadata": {},
   "outputs": [
    {
     "data": {
      "text/plain": [
       "'8. Create a set of odd numbers from 1 to 10.'"
      ]
     },
     "execution_count": 361,
     "metadata": {},
     "output_type": "execute_result"
    }
   ],
   "source": [
    "'''8. Create a set of odd numbers from 1 to 10.'''"
   ]
  },
  {
   "cell_type": "code",
   "execution_count": 363,
   "id": "91dab6d2",
   "metadata": {},
   "outputs": [
    {
     "name": "stdout",
     "output_type": "stream",
     "text": [
      "{1, 3, 5, 7, 9}\n"
     ]
    }
   ],
   "source": [
    "set8 = set()\n",
    "\n",
    "for i in range(1, 11):\n",
    "    if i%2 != 0:\n",
    "        set8.add(i)\n",
    "print(set8)"
   ]
  },
  {
   "cell_type": "code",
   "execution_count": 364,
   "id": "c415ad3a",
   "metadata": {},
   "outputs": [
    {
     "data": {
      "text/plain": [
       "'9. Find the union of two sets.'"
      ]
     },
     "execution_count": 364,
     "metadata": {},
     "output_type": "execute_result"
    }
   ],
   "source": [
    "'''9. Find the union of two sets.'''"
   ]
  },
  {
   "cell_type": "code",
   "execution_count": 366,
   "id": "65b52d31",
   "metadata": {},
   "outputs": [
    {
     "name": "stdout",
     "output_type": "stream",
     "text": [
      "{1, 2, 3, 4, 5, 6, 7, 9, 10, 18}\n"
     ]
    }
   ],
   "source": [
    "set11 = {1, 3, 5, 7, 9}\n",
    "set22 = {2, 4, 6, 18, 10}\n",
    "print(set11.union(set22))"
   ]
  },
  {
   "cell_type": "code",
   "execution_count": 367,
   "id": "179cc915",
   "metadata": {},
   "outputs": [
    {
     "data": {
      "text/plain": [
       "'10. Find the intersection of two sets.'"
      ]
     },
     "execution_count": 367,
     "metadata": {},
     "output_type": "execute_result"
    }
   ],
   "source": [
    "'''10. Find the intersection of two sets.'''"
   ]
  },
  {
   "cell_type": "code",
   "execution_count": 369,
   "id": "32e31b64",
   "metadata": {},
   "outputs": [
    {
     "name": "stdout",
     "output_type": "stream",
     "text": [
      "{2, 4}\n"
     ]
    }
   ],
   "source": [
    "set11 = {1, 3, 5, 7, 9, 2, 4}\n",
    "set22 = {2, 4, 6, 18, 10}\n",
    "print(set11.intersection(set22))"
   ]
  },
  {
   "cell_type": "code",
   "execution_count": 370,
   "id": "b5abc9d9",
   "metadata": {},
   "outputs": [
    {
     "data": {
      "text/plain": [
       "'11. Find the difference between two sets.'"
      ]
     },
     "execution_count": 370,
     "metadata": {},
     "output_type": "execute_result"
    }
   ],
   "source": [
    "'''11. Find the difference between two sets.'''"
   ]
  },
  {
   "cell_type": "code",
   "execution_count": 372,
   "id": "bec4b799",
   "metadata": {},
   "outputs": [
    {
     "name": "stdout",
     "output_type": "stream",
     "text": [
      "{1, 3, 5, 7, 9}\n"
     ]
    }
   ],
   "source": [
    "set11 = {1, 3, 5, 7, 9, 2, 4}\n",
    "set22 = {2, 4, 6, 18, 10}\n",
    "\n",
    "print(set11.difference(set22))"
   ]
  },
  {
   "cell_type": "code",
   "execution_count": 373,
   "id": "4b1f5b71",
   "metadata": {},
   "outputs": [
    {
     "data": {
      "text/plain": [
       "'12. Check if a set is a subset of another set.'"
      ]
     },
     "execution_count": 373,
     "metadata": {},
     "output_type": "execute_result"
    }
   ],
   "source": [
    "'''12. Check if a set is a subset of another set.'''"
   ]
  },
  {
   "cell_type": "code",
   "execution_count": 376,
   "id": "ac5f229f",
   "metadata": {},
   "outputs": [
    {
     "name": "stdout",
     "output_type": "stream",
     "text": [
      "{2, 4} is subset of {1, 2, 3, 4, 5, 7, 9}.\n"
     ]
    }
   ],
   "source": [
    "set11 = {1, 3, 5, 7, 9, 2, 4}\n",
    "set22 = {2, 4}\n",
    "if set22.issubset(set11):\n",
    "    print(f'{set22} is subset of {set11}.')"
   ]
  },
  {
   "cell_type": "code",
   "execution_count": 377,
   "id": "b7c26c25",
   "metadata": {},
   "outputs": [
    {
     "data": {
      "text/plain": [
       "'13. Check if a set is a superset of another set.'"
      ]
     },
     "execution_count": 377,
     "metadata": {},
     "output_type": "execute_result"
    }
   ],
   "source": [
    "'''13. Check if a set is a superset of another set.'''"
   ]
  },
  {
   "cell_type": "code",
   "execution_count": 378,
   "id": "c192d31e",
   "metadata": {},
   "outputs": [
    {
     "name": "stdout",
     "output_type": "stream",
     "text": [
      "{2, 4} is subset of {1, 2, 3, 4, 5, 7, 9}.\n"
     ]
    }
   ],
   "source": [
    "set11 = {1, 3, 5, 7, 9, 2, 4}\n",
    "set22 = {2, 4}\n",
    "if set22.issubset(set11):\n",
    "    print(f'{set22} is subset of {set11}.')"
   ]
  },
  {
   "cell_type": "code",
   "execution_count": 379,
   "id": "a4ed3b6a",
   "metadata": {},
   "outputs": [
    {
     "data": {
      "text/plain": [
       "'14. Create a set from a list.'"
      ]
     },
     "execution_count": 379,
     "metadata": {},
     "output_type": "execute_result"
    }
   ],
   "source": [
    "'''14. Create a set from a list.'''"
   ]
  },
  {
   "cell_type": "code",
   "execution_count": 380,
   "id": "9da4c385",
   "metadata": {},
   "outputs": [
    {
     "name": "stdout",
     "output_type": "stream",
     "text": [
      "{1, 3, 5, 22, 23, 26}\n"
     ]
    }
   ],
   "source": [
    "list14 = [23, 1, 22, 3, 5, 26, 5]\n",
    "set14 = set()\n",
    "\n",
    "for i in list14:\n",
    "    set14.add(i)\n",
    "print(set14)"
   ]
  },
  {
   "cell_type": "code",
   "execution_count": 381,
   "id": "c4b93427",
   "metadata": {},
   "outputs": [
    {
     "data": {
      "text/plain": [
       "'15. Convert a set to a list.'"
      ]
     },
     "execution_count": 381,
     "metadata": {},
     "output_type": "execute_result"
    }
   ],
   "source": [
    "'''15. Convert a set to a list.'''"
   ]
  },
  {
   "cell_type": "code",
   "execution_count": 382,
   "id": "6107e59b",
   "metadata": {},
   "outputs": [
    {
     "name": "stdout",
     "output_type": "stream",
     "text": [
      "[1, 3, 5, 22, 23, 26]\n"
     ]
    }
   ],
   "source": [
    "set15 = {1, 3, 5, 22, 23, 26}\n",
    "list15 = []\n",
    "for i in set15:\n",
    "    list15.append(i)\n",
    "print(list15)"
   ]
  },
  {
   "cell_type": "code",
   "execution_count": 383,
   "id": "a224bb66",
   "metadata": {},
   "outputs": [
    {
     "data": {
      "text/plain": [
       "'16. Remove a random element from a set.'"
      ]
     },
     "execution_count": 383,
     "metadata": {},
     "output_type": "execute_result"
    }
   ],
   "source": [
    "'''16. Remove a random element from a set.'''"
   ]
  },
  {
   "cell_type": "code",
   "execution_count": 394,
   "id": "960fab36",
   "metadata": {},
   "outputs": [
    {
     "name": "stdout",
     "output_type": "stream",
     "text": [
      "{1, 3, 5, 23, 26}\n"
     ]
    }
   ],
   "source": [
    "import random\n",
    "set16 = {1, 3, 5, 22, 23, 26}\n",
    "random_element = random.choice(list(set16))\n",
    "set16.remove(random_element)\n",
    "print(set16)"
   ]
  },
  {
   "cell_type": "code",
   "execution_count": 395,
   "id": "4769c3bf",
   "metadata": {},
   "outputs": [
    {
     "data": {
      "text/plain": [
       "'17. Pop an element from a set.'"
      ]
     },
     "execution_count": 395,
     "metadata": {},
     "output_type": "execute_result"
    }
   ],
   "source": [
    "'''17. Pop an element from a set.'''"
   ]
  },
  {
   "cell_type": "code",
   "execution_count": 400,
   "id": "2837b49c",
   "metadata": {},
   "outputs": [
    {
     "name": "stdout",
     "output_type": "stream",
     "text": [
      "{3, 5, 22, 23, 26}\n"
     ]
    }
   ],
   "source": [
    "set17 = {1, 3, 5, 22, 23, 26}\n",
    "set17.pop()\n",
    "print(set17)"
   ]
  },
  {
   "cell_type": "code",
   "execution_count": 402,
   "id": "9b24a841",
   "metadata": {},
   "outputs": [
    {
     "data": {
      "text/plain": [
       "'18. Check if two sets have no elements in common.'"
      ]
     },
     "execution_count": 402,
     "metadata": {},
     "output_type": "execute_result"
    }
   ],
   "source": [
    "'''18. Check if two sets have no elements in common.'''"
   ]
  },
  {
   "cell_type": "code",
   "execution_count": 405,
   "id": "8c6edf0f",
   "metadata": {},
   "outputs": [
    {
     "name": "stdout",
     "output_type": "stream",
     "text": [
      "There is common element in both set.\n"
     ]
    }
   ],
   "source": [
    "set1 = {23, 1, 13, 54, 2}\n",
    "set2 = {21, 5, 7, 34, 1}\n",
    "if set1.intersection(set2):\n",
    "    print('There is common element in both set.')\n",
    "else:\n",
    "    print('There is no common element in both set.')"
   ]
  },
  {
   "cell_type": "code",
   "execution_count": 407,
   "id": "a0dde7f6",
   "metadata": {},
   "outputs": [
    {
     "data": {
      "text/plain": [
       "'19. Find the symmetric difference between two sets.'"
      ]
     },
     "execution_count": 407,
     "metadata": {},
     "output_type": "execute_result"
    }
   ],
   "source": [
    "'''19. Find the symmetric difference between two sets.'''"
   ]
  },
  {
   "cell_type": "code",
   "execution_count": 409,
   "id": "c4b0f20e",
   "metadata": {},
   "outputs": [
    {
     "data": {
      "text/plain": [
       "{2, 5, 7, 13, 21, 23, 34, 54}"
      ]
     },
     "execution_count": 409,
     "metadata": {},
     "output_type": "execute_result"
    }
   ],
   "source": [
    "set1 = {23, 1, 13, 54, 2}\n",
    "set2 = {21, 5, 7, 34, 1}\n",
    "set1.symmetric_difference(set2)"
   ]
  },
  {
   "cell_type": "code",
   "execution_count": 411,
   "id": "a4e84fbb",
   "metadata": {},
   "outputs": [
    {
     "data": {
      "text/plain": [
       "'20. Update a set with elements from another set.'"
      ]
     },
     "execution_count": 411,
     "metadata": {},
     "output_type": "execute_result"
    }
   ],
   "source": [
    "'''20. Update a set with elements from another set.'''"
   ]
  },
  {
   "cell_type": "code",
   "execution_count": 419,
   "id": "bf136014",
   "metadata": {},
   "outputs": [
    {
     "name": "stdout",
     "output_type": "stream",
     "text": [
      "{1, 2, 34, 5, 7, 13, 21, 54, 23}\n"
     ]
    }
   ],
   "source": [
    "set1 = {23, 1, 13, 54, 2}\n",
    "set2 = {21, 5, 7, 34, 1}\n",
    "set1.update(set2)\n",
    "print(set1)"
   ]
  },
  {
   "cell_type": "code",
   "execution_count": 420,
   "id": "d1115c91",
   "metadata": {},
   "outputs": [
    {
     "data": {
      "text/plain": [
       "'21. Create a set of the first 5 prime numbers.'"
      ]
     },
     "execution_count": 420,
     "metadata": {},
     "output_type": "execute_result"
    }
   ],
   "source": [
    "'''21. Create a set of the first 5 prime numbers.'''"
   ]
  },
  {
   "cell_type": "code",
   "execution_count": 1,
   "id": "9fe36630",
   "metadata": {},
   "outputs": [
    {
     "name": "stdout",
     "output_type": "stream",
     "text": [
      "{2, 3, 5, 7, 9}\n"
     ]
    }
   ],
   "source": [
    "def prime_nums(num):\n",
    "    if num<=1:\n",
    "        return False\n",
    "    for i in range(2, int(num**0.5)+1):\n",
    "        if num%i == 0:\n",
    "            return False\n",
    "        else:\n",
    "            return True\n",
    "    return True\n",
    "prime_set = set()\n",
    "n = 2\n",
    "while len(prime_set) <5:\n",
    "    if prime_nums(n):\n",
    "        prime_set.add(n)\n",
    "    n +=1\n",
    "print(prime_set)"
   ]
  },
  {
   "cell_type": "code",
   "execution_count": 2,
   "id": "badb8b20",
   "metadata": {},
   "outputs": [
    {
     "data": {
      "text/plain": [
       "'22. Check if two sets are identical.'"
      ]
     },
     "execution_count": 2,
     "metadata": {},
     "output_type": "execute_result"
    }
   ],
   "source": [
    "'''22. Check if two sets are identical.'''"
   ]
  },
  {
   "cell_type": "code",
   "execution_count": 4,
   "id": "7a74bd31",
   "metadata": {},
   "outputs": [
    {
     "name": "stdout",
     "output_type": "stream",
     "text": [
      "{1, 2, 4, 5} and {1, 2, 4, 5} are identical.\n"
     ]
    }
   ],
   "source": [
    "set1 = {2, 4, 1, 5}\n",
    "set2 = {5, 2, 4, 1}\n",
    "\n",
    "if set1 == set2:\n",
    "    print(f'{set1} and {set2} are identical.')\n",
    "else:\n",
    "    print(f'{set1} and {set2} are not identical.')"
   ]
  },
  {
   "cell_type": "code",
   "execution_count": 5,
   "id": "0418d467",
   "metadata": {},
   "outputs": [
    {
     "data": {
      "text/plain": [
       "'23. Create a frozen set.'"
      ]
     },
     "execution_count": 5,
     "metadata": {},
     "output_type": "execute_result"
    }
   ],
   "source": [
    "'''23. Create a frozen set.'''"
   ]
  },
  {
   "cell_type": "code",
   "execution_count": 11,
   "id": "7b145ba0",
   "metadata": {},
   "outputs": [
    {
     "name": "stdout",
     "output_type": "stream",
     "text": [
      "Given set frozenset({2, 3, 4, 6}) is frozen set.\n"
     ]
    }
   ],
   "source": [
    "set23 = {2, 4, 6, 3}\n",
    "frozen_set = frozenset(set23)\n",
    "if type(frozen_set) == frozenset:\n",
    "    print(f'Given set {frozen_set} is frozen set.')"
   ]
  },
  {
   "cell_type": "code",
   "execution_count": 12,
   "id": "5814c9f3",
   "metadata": {},
   "outputs": [
    {
     "data": {
      "text/plain": [
       "'24. Check if a set is disjoint with another set.'"
      ]
     },
     "execution_count": 12,
     "metadata": {},
     "output_type": "execute_result"
    }
   ],
   "source": [
    "'''24. Check if a set is disjoint with another set.'''"
   ]
  },
  {
   "cell_type": "code",
   "execution_count": 13,
   "id": "b0fad8d7",
   "metadata": {},
   "outputs": [
    {
     "name": "stdout",
     "output_type": "stream",
     "text": [
      "set1 is not dijoint\n"
     ]
    }
   ],
   "source": [
    "set1 = {1, 2, 4, 5, 6}\n",
    "set2 = {2, 4, 5, 2}\n",
    "\n",
    "if set1.isdisjoint(set2) == True:\n",
    "    print('set1 is disjoint.')\n",
    "else:\n",
    "    print('set1 is not dijoint')"
   ]
  },
  {
   "cell_type": "code",
   "execution_count": 14,
   "id": "2beba277",
   "metadata": {},
   "outputs": [
    {
     "data": {
      "text/plain": [
       "'25. Create a set of squares of numbers from 1 to 5.'"
      ]
     },
     "execution_count": 14,
     "metadata": {},
     "output_type": "execute_result"
    }
   ],
   "source": [
    "'''25. Create a set of squares of numbers from 1 to 5.'''"
   ]
  },
  {
   "cell_type": "code",
   "execution_count": 15,
   "id": "d8985094",
   "metadata": {},
   "outputs": [
    {
     "name": "stdout",
     "output_type": "stream",
     "text": [
      "{1, 4, 9, 16, 25}\n"
     ]
    }
   ],
   "source": [
    "set_squares = set()\n",
    "\n",
    "for i in range(1, 6):\n",
    "    i = i**2\n",
    "    set_squares.add(i)\n",
    "print(set_squares)"
   ]
  },
  {
   "cell_type": "code",
   "execution_count": 16,
   "id": "62721c5a",
   "metadata": {},
   "outputs": [
    {
     "data": {
      "text/plain": [
       "'26. Filter out all even numbers from a set.'"
      ]
     },
     "execution_count": 16,
     "metadata": {},
     "output_type": "execute_result"
    }
   ],
   "source": [
    "'''26. Filter out all even numbers from a set.'''"
   ]
  },
  {
   "cell_type": "code",
   "execution_count": 17,
   "id": "48daddd8",
   "metadata": {},
   "outputs": [
    {
     "name": "stdout",
     "output_type": "stream",
     "text": [
      "64\n",
      "34\n",
      "4\n",
      "6\n"
     ]
    }
   ],
   "source": [
    "set26 = {23, 5, 34, 4, 6, 34, 64}\n",
    "for i in set26:\n",
    "    if i%2 == 0:\n",
    "        print(i)"
   ]
  },
  {
   "cell_type": "code",
   "execution_count": 18,
   "id": "02188e18",
   "metadata": {},
   "outputs": [
    {
     "data": {
      "text/plain": [
       "'27. Multiply all elements in a set by 2.'"
      ]
     },
     "execution_count": 18,
     "metadata": {},
     "output_type": "execute_result"
    }
   ],
   "source": [
    "'''27. Multiply all elements in a set by 2.'''"
   ]
  },
  {
   "cell_type": "code",
   "execution_count": 20,
   "id": "b7e1f74f",
   "metadata": {},
   "outputs": [
    {
     "name": "stdout",
     "output_type": "stream",
     "text": [
      "{128, 68, 8, 10, 12, 46}\n"
     ]
    }
   ],
   "source": [
    "set27 = {23, 5, 34, 4, 6, 34, 64}\n",
    "new_set27 = set()\n",
    "\n",
    "for i in set27:\n",
    "    i = i*2\n",
    "    new_set27.add(i)\n",
    "print(new_set27)"
   ]
  },
  {
   "cell_type": "code",
   "execution_count": 21,
   "id": "53146d15",
   "metadata": {},
   "outputs": [
    {
     "data": {
      "text/plain": [
       "'28. Create a set of random numbers.'"
      ]
     },
     "execution_count": 21,
     "metadata": {},
     "output_type": "execute_result"
    }
   ],
   "source": [
    "'''28. Create a set of random numbers.'''"
   ]
  },
  {
   "cell_type": "code",
   "execution_count": 24,
   "id": "0625d4df",
   "metadata": {},
   "outputs": [
    {
     "name": "stdout",
     "output_type": "stream",
     "text": [
      "{64, 37, 5, 75, 79, 22, 59, 61, 62}\n"
     ]
    }
   ],
   "source": [
    "import random\n",
    "set28 = set()\n",
    "for i in range(1, 10):\n",
    "    i = random.randint(1, 100)\n",
    "    set28.add(i)\n",
    "print(set28)"
   ]
  },
  {
   "cell_type": "code",
   "execution_count": 27,
   "id": "61474366",
   "metadata": {},
   "outputs": [
    {
     "name": "stdout",
     "output_type": "stream",
     "text": [
      "Given set is empty.\n"
     ]
    }
   ],
   "source": [
    "'''29. Check if a set is empty.'''\n",
    "\n",
    "set29 = set()\n",
    "\n",
    "if not set29:\n",
    "    print('Given set is empty.')\n",
    "else:\n",
    "    print('Given set is not empty.')"
   ]
  },
  {
   "cell_type": "code",
   "execution_count": 28,
   "id": "5f68a461",
   "metadata": {},
   "outputs": [
    {
     "data": {
      "text/plain": [
       "'30. Create a nested set (hint: use frozenset).'"
      ]
     },
     "execution_count": 28,
     "metadata": {},
     "output_type": "execute_result"
    }
   ],
   "source": [
    "'''30. Create a nested set (hint: use frozenset).'''"
   ]
  },
  {
   "cell_type": "code",
   "execution_count": 29,
   "id": "18e4e805",
   "metadata": {},
   "outputs": [
    {
     "name": "stdout",
     "output_type": "stream",
     "text": [
      "{frozenset({2, 3, 4, 23, 24}), frozenset({2, 22, 23})}\n"
     ]
    }
   ],
   "source": [
    "nested_set1 = frozenset({2, 3, 4, 23, 24})\n",
    "nested_set2 = frozenset({23, 23, 22, 2})\n",
    "\n",
    "nested_set = {nested_set1, nested_set2}\n",
    "print(nested_set)"
   ]
  },
  {
   "cell_type": "code",
   "execution_count": 30,
   "id": "8d895299",
   "metadata": {},
   "outputs": [
    {
     "data": {
      "text/plain": [
       "'31. Remove an element from a set using the discard method.'"
      ]
     },
     "execution_count": 30,
     "metadata": {},
     "output_type": "execute_result"
    }
   ],
   "source": [
    "'''31. Remove an element from a set using the discard method.'''"
   ]
  },
  {
   "cell_type": "code",
   "execution_count": 33,
   "id": "c8a16bbb",
   "metadata": {},
   "outputs": [
    {
     "name": "stdout",
     "output_type": "stream",
     "text": [
      "{32, 3, 53, 24}\n"
     ]
    }
   ],
   "source": [
    "set31 = {3, 23, 24, 53, 32}\n",
    "set31.discard(23)\n",
    "print(set31)"
   ]
  },
  {
   "cell_type": "code",
   "execution_count": 34,
   "id": "0bcf0b98",
   "metadata": {},
   "outputs": [
    {
     "data": {
      "text/plain": [
       "'32. Compare two sets.'"
      ]
     },
     "execution_count": 34,
     "metadata": {},
     "output_type": "execute_result"
    }
   ],
   "source": [
    "'''32. Compare two sets.'''"
   ]
  },
  {
   "cell_type": "code",
   "execution_count": 35,
   "id": "de2546bf",
   "metadata": {},
   "outputs": [
    {
     "name": "stdout",
     "output_type": "stream",
     "text": [
      "Is set1 is subset of set2 False\n",
      "Is set2 is subset of set1 False\n",
      "Union of set1 and set2 {64, 2, 3, 34, 5, 43, 23}\n",
      "Intersection of set1 and set2 {3, 5, 23}\n",
      "Elements in set1 but not in set2 {64, 2}\n",
      "Elements in set2 bur not in set1 {34, 43}\n"
     ]
    }
   ],
   "source": [
    "set1 = {3, 5, 3, 2, 64, 23}\n",
    "set2 = {43, 34, 23, 5, 3, 5}\n",
    "\n",
    "is_subset = set1.issubset(set2)\n",
    "is_superset = set1.issuperset(set2)\n",
    "is_union = set1.union(set2)\n",
    "is_intersection = set1.intersection(set2)\n",
    "difference_1 = set1.difference(set2)\n",
    "difference_2 = set2.difference(set1)\n",
    "\n",
    "print('Is set1 is subset of set2', is_subset)\n",
    "print('Is set2 is subset of set1', is_superset)\n",
    "print('Union of set1 and set2', is_union)\n",
    "print('Intersection of set1 and set2', is_intersection)\n",
    "print('Elements in set1 but not in set2', difference_1)\n",
    "print('Elements in set2 bur not in set1', difference_2)"
   ]
  },
  {
   "cell_type": "code",
   "execution_count": 36,
   "id": "960cfb82",
   "metadata": {},
   "outputs": [
    {
     "data": {
      "text/plain": [
       "'33. Create a set from a string.'"
      ]
     },
     "execution_count": 36,
     "metadata": {},
     "output_type": "execute_result"
    }
   ],
   "source": [
    "'''33. Create a set from a string.'''"
   ]
  },
  {
   "cell_type": "code",
   "execution_count": 37,
   "id": "72f10255",
   "metadata": {},
   "outputs": [
    {
     "name": "stdout",
     "output_type": "stream",
     "text": [
      "{'dhiraj', 'pratham', 'niraj', 'raunak'}\n"
     ]
    }
   ],
   "source": [
    "str33 = ['pratham', 'dhiraj', 'raunak', 'niraj']\n",
    "\n",
    "set33 = set()\n",
    "\n",
    "for i in str33:\n",
    "    set33.add(i)\n",
    "print(set33)"
   ]
  },
  {
   "cell_type": "code",
   "execution_count": 38,
   "id": "73a70209",
   "metadata": {},
   "outputs": [
    {
     "data": {
      "text/plain": [
       "'34. Convert a set of strings to a set of integers.'"
      ]
     },
     "execution_count": 38,
     "metadata": {},
     "output_type": "execute_result"
    }
   ],
   "source": [
    "'''34. Convert a set of strings to a set of integers.'''"
   ]
  },
  {
   "cell_type": "code",
   "execution_count": 39,
   "id": "ed3bd968",
   "metadata": {},
   "outputs": [
    {
     "name": "stdout",
     "output_type": "stream",
     "text": [
      "{1, 2, 3, 4, 5}\n"
     ]
    }
   ],
   "source": [
    "set_str = {'1', '2', '3', '4', '5'}\n",
    "set_int = set()\n",
    "for i in set_str:\n",
    "    i = int(i)\n",
    "    set_int.add(i)\n",
    "print(set_int)"
   ]
  },
  {
   "cell_type": "code",
   "execution_count": 40,
   "id": "dc898e15",
   "metadata": {},
   "outputs": [
    {
     "data": {
      "text/plain": [
       "'35. Convert a set of integers to a set of strings.'"
      ]
     },
     "execution_count": 40,
     "metadata": {},
     "output_type": "execute_result"
    }
   ],
   "source": [
    "'''35. Convert a set of integers to a set of strings.'''"
   ]
  },
  {
   "cell_type": "code",
   "execution_count": 41,
   "id": "153a7595",
   "metadata": {},
   "outputs": [
    {
     "name": "stdout",
     "output_type": "stream",
     "text": [
      "{'4', '1', '2', '3', '5'}\n"
     ]
    }
   ],
   "source": [
    "set_int = {1, 2, 3, 4, 5}\n",
    "set_str = set()\n",
    "\n",
    "for i in set_int:\n",
    "    i = str(i)\n",
    "    set_str.add(i)\n",
    "print(set_str)"
   ]
  },
  {
   "cell_type": "code",
   "execution_count": 42,
   "id": "2b6a1fe8",
   "metadata": {},
   "outputs": [
    {
     "data": {
      "text/plain": [
       "'36. Create a set from a tuple.'"
      ]
     },
     "execution_count": 42,
     "metadata": {},
     "output_type": "execute_result"
    }
   ],
   "source": [
    "'''36. Create a set from a tuple.'''"
   ]
  },
  {
   "cell_type": "code",
   "execution_count": 44,
   "id": "a177a964",
   "metadata": {},
   "outputs": [
    {
     "name": "stdout",
     "output_type": "stream",
     "text": [
      "{1, 2, 3, 4, 12, 53}\n"
     ]
    }
   ],
   "source": [
    "tuple36 = (1, 3, 2, 3, 12, 53, 4)\n",
    "set36 = set()\n",
    "for i in tuple36:\n",
    "    set36.add(i)\n",
    "print(set36)"
   ]
  },
  {
   "cell_type": "code",
   "execution_count": 45,
   "id": "ae30c764",
   "metadata": {},
   "outputs": [
    {
     "data": {
      "text/plain": [
       "'37. Convert a set to a tuple.'"
      ]
     },
     "execution_count": 45,
     "metadata": {},
     "output_type": "execute_result"
    }
   ],
   "source": [
    "'''37. Convert a set to a tuple.'''"
   ]
  },
  {
   "cell_type": "code",
   "execution_count": 47,
   "id": "f6040cb6",
   "metadata": {},
   "outputs": [
    {
     "name": "stdout",
     "output_type": "stream",
     "text": [
      "(1, 2, 3, 4, 12, 53)\n"
     ]
    }
   ],
   "source": [
    "set37 = {1, 2, 3, 4, 12, 53}\n",
    "tuple37 = ()\n",
    "for i in set37:\n",
    "    tuple37+= (i,)\n",
    "print(tuple37)"
   ]
  },
  {
   "cell_type": "code",
   "execution_count": 48,
   "id": "1225acc8",
   "metadata": {},
   "outputs": [
    {
     "data": {
      "text/plain": [
       "'38. Find the maximum value in a set.'"
      ]
     },
     "execution_count": 48,
     "metadata": {},
     "output_type": "execute_result"
    }
   ],
   "source": [
    "'''38. Find the maximum value in a set.'''"
   ]
  },
  {
   "cell_type": "code",
   "execution_count": 49,
   "id": "383112e3",
   "metadata": {},
   "outputs": [
    {
     "name": "stdout",
     "output_type": "stream",
     "text": [
      "53\n"
     ]
    }
   ],
   "source": [
    "set38 = {1, 2, 3, 4, 12, 53}\n",
    "\n",
    "print(max(list(set38)))"
   ]
  },
  {
   "cell_type": "code",
   "execution_count": 50,
   "id": "06ef08dd",
   "metadata": {},
   "outputs": [
    {
     "data": {
      "text/plain": [
       "'39. Find the minimum value in a set.'"
      ]
     },
     "execution_count": 50,
     "metadata": {},
     "output_type": "execute_result"
    }
   ],
   "source": [
    "'''39. Find the minimum value in a set.'''"
   ]
  },
  {
   "cell_type": "code",
   "execution_count": 51,
   "id": "c7ac5e57",
   "metadata": {},
   "outputs": [
    {
     "name": "stdout",
     "output_type": "stream",
     "text": [
      "1\n"
     ]
    }
   ],
   "source": [
    "set39 = {1, 2, 3, 4, 12, 53}\n",
    "\n",
    "print(min(list(set39)))"
   ]
  },
  {
   "cell_type": "code",
   "execution_count": 52,
   "id": "b8440690",
   "metadata": {},
   "outputs": [
    {
     "data": {
      "text/plain": [
       "'40. Create a set from user input.'"
      ]
     },
     "execution_count": 52,
     "metadata": {},
     "output_type": "execute_result"
    }
   ],
   "source": [
    "'''40. Create a set from user input.'''"
   ]
  },
  {
   "cell_type": "code",
   "execution_count": 54,
   "id": "f45529d7",
   "metadata": {},
   "outputs": [
    {
     "name": "stdout",
     "output_type": "stream",
     "text": [
      "Enter number with space: \n",
      "set()\n"
     ]
    }
   ],
   "source": [
    "set40 = set(input('Enter number with space: ').split())\n",
    "print(set40)"
   ]
  },
  {
   "cell_type": "code",
   "execution_count": 55,
   "id": "b974a068",
   "metadata": {},
   "outputs": [
    {
     "data": {
      "text/plain": [
       "'41. Check if the intersection of two sets is empty.'"
      ]
     },
     "execution_count": 55,
     "metadata": {},
     "output_type": "execute_result"
    }
   ],
   "source": [
    "'''41. Check if the intersection of two sets is empty.'''"
   ]
  },
  {
   "cell_type": "code",
   "execution_count": 56,
   "id": "85513ebb",
   "metadata": {},
   "outputs": [
    {
     "name": "stdout",
     "output_type": "stream",
     "text": [
      "Intersection of these two sets are empty.\n"
     ]
    }
   ],
   "source": [
    "set1 = {3, 4, 2, 5, 34}\n",
    "set2 = {23, 23, 53, 63}\n",
    "\n",
    "if set1.intersection(set2):\n",
    "    print('Intersection of these two sets are not empty.')\n",
    "else:\n",
    "    print('Intersection of these two sets are empty.')"
   ]
  },
  {
   "cell_type": "code",
   "execution_count": 57,
   "id": "c4e08665",
   "metadata": {},
   "outputs": [
    {
     "data": {
      "text/plain": [
       "'42. Create a set of the first 5 Fibonacci numbers.'"
      ]
     },
     "execution_count": 57,
     "metadata": {},
     "output_type": "execute_result"
    }
   ],
   "source": [
    "'''42. Create a set of the first 5 Fibonacci numbers.'''"
   ]
  },
  {
   "cell_type": "code",
   "execution_count": 68,
   "id": "9f8745f0",
   "metadata": {},
   "outputs": [
    {
     "name": "stdout",
     "output_type": "stream",
     "text": [
      "{0, 1, 2, 3}\n"
     ]
    }
   ],
   "source": [
    "def fib(n):\n",
    "    if n<=1:\n",
    "        return n\n",
    "    else:\n",
    "        return fib(n-1) + fib(n-2)\n",
    "result = {fib(n) for n in range(0, 5)}\n",
    "print(result)"
   ]
  },
  {
   "cell_type": "code",
   "execution_count": 69,
   "id": "f99d44d2",
   "metadata": {},
   "outputs": [
    {
     "data": {
      "text/plain": [
       "'43. Remove duplicates from a list using sets.'"
      ]
     },
     "execution_count": 69,
     "metadata": {},
     "output_type": "execute_result"
    }
   ],
   "source": [
    "'''43. Remove duplicates from a list using sets.'''"
   ]
  },
  {
   "cell_type": "code",
   "execution_count": 70,
   "id": "bccef917",
   "metadata": {},
   "outputs": [
    {
     "name": "stdout",
     "output_type": "stream",
     "text": [
      "[32, 2, 3, 4, 5, 42, 45, 23]\n"
     ]
    }
   ],
   "source": [
    "list43 = [23, 42, 2, 5, 32, 4, 3, 3, 45, 32, 5]\n",
    "print(list(set(list43)))"
   ]
  },
  {
   "cell_type": "code",
   "execution_count": 71,
   "id": "0eefff7a",
   "metadata": {},
   "outputs": [
    {
     "data": {
      "text/plain": [
       "'44. Check if two sets have the same elements, regardless of their count.'"
      ]
     },
     "execution_count": 71,
     "metadata": {},
     "output_type": "execute_result"
    }
   ],
   "source": [
    "'''44. Check if two sets have the same elements, regardless of their count.'''"
   ]
  },
  {
   "cell_type": "code",
   "execution_count": 74,
   "id": "eb92c002",
   "metadata": {},
   "outputs": [
    {
     "name": "stdout",
     "output_type": "stream",
     "text": [
      "Given two sets have the same elements, regardless of their count\n"
     ]
    }
   ],
   "source": [
    "set1 = {3, 4, 2, 5, 34}\n",
    "set2 = {3, 34, 4, 5, 2}\n",
    "\n",
    "if set(sorted(list(set1))) == set(sorted(list(set2))):\n",
    "    print('Given two sets have the same elements, regardless of their count')\n",
    "else:\n",
    "    print('Given two sets dont have the same elements, regardless of their count')"
   ]
  },
  {
   "cell_type": "code",
   "execution_count": 75,
   "id": "1c233c79",
   "metadata": {},
   "outputs": [
    {
     "data": {
      "text/plain": [
       "'45. Create a set of the first `n` powers of 2.'"
      ]
     },
     "execution_count": 75,
     "metadata": {},
     "output_type": "execute_result"
    }
   ],
   "source": [
    "'''45. Create a set of the first `n` powers of 2.'''"
   ]
  },
  {
   "cell_type": "code",
   "execution_count": 76,
   "id": "bfab2977",
   "metadata": {},
   "outputs": [
    {
     "name": "stdout",
     "output_type": "stream",
     "text": [
      "Entet any numberJ: 5\n",
      "{1, 4, 9, 16, 25}\n"
     ]
    }
   ],
   "source": [
    "n = int(input('Entet any numberJ: '))\n",
    "set45 = set()\n",
    "for i in range(1, n+1):\n",
    "    i = i**2\n",
    "    set45.add(i)\n",
    "print(set45)"
   ]
  },
  {
   "cell_type": "code",
   "execution_count": 77,
   "id": "3c2376f8",
   "metadata": {},
   "outputs": [
    {
     "data": {
      "text/plain": [
       "'46. Find the common elements between a set and a list.'"
      ]
     },
     "execution_count": 77,
     "metadata": {},
     "output_type": "execute_result"
    }
   ],
   "source": [
    "'''46. Find the common elements between a set and a list.'''"
   ]
  },
  {
   "cell_type": "code",
   "execution_count": 79,
   "id": "cb2eb2bc",
   "metadata": {},
   "outputs": [
    {
     "name": "stdout",
     "output_type": "stream",
     "text": [
      "The coomin elements between a set and a list is {34, 23}.\n"
     ]
    }
   ],
   "source": [
    "set46 = {23, 2, 2, 42, 25, 56, 34, 34}\n",
    "list46 = [23, 23, 34, 23, 5, 64, 3, 54]\n",
    "\n",
    "result = set46.intersection(set(list46))\n",
    "print(f'The coomin elements between a set and a list is {result}.')"
   ]
  },
  {
   "cell_type": "code",
   "execution_count": 80,
   "id": "3de7ee46",
   "metadata": {},
   "outputs": [
    {
     "data": {
      "text/plain": [
       "'47. Create a set of the first `n` triangular numbers.'"
      ]
     },
     "execution_count": 80,
     "metadata": {},
     "output_type": "execute_result"
    }
   ],
   "source": [
    "'''47. Create a set of the first `n` triangular numbers.'''"
   ]
  },
  {
   "cell_type": "code",
   "execution_count": 81,
   "id": "03cc5f4c",
   "metadata": {},
   "outputs": [
    {
     "data": {
      "text/plain": [
       "'48. Check if a set contains another set as a subset.'"
      ]
     },
     "execution_count": 81,
     "metadata": {},
     "output_type": "execute_result"
    }
   ],
   "source": [
    "'''48. Check if a set contains another set as a subset.'''"
   ]
  },
  {
   "cell_type": "code",
   "execution_count": 83,
   "id": "6d24bb72",
   "metadata": {},
   "outputs": [
    {
     "name": "stdout",
     "output_type": "stream",
     "text": [
      "set2 is subset of set1.\n"
     ]
    }
   ],
   "source": [
    "set1 = {3, 4, 2, 5, 23, 2, 53, 34}\n",
    "set2 = {34, 2, 3, 2, 23}\n",
    "\n",
    "if set2.issubset(set1):\n",
    "    print('set2 is subset of set1.')\n",
    "elif set1.issubset(set2):\n",
    "    print('set1 is subset of set2.')\n",
    "else:\n",
    "    print('There is no subset of anyset.')"
   ]
  },
  {
   "cell_type": "code",
   "execution_count": 84,
   "id": "8c55ac3e",
   "metadata": {},
   "outputs": [
    {
     "data": {
      "text/plain": [
       "'49. Create a set of alternating 1s and 0s of length `n`.'"
      ]
     },
     "execution_count": 84,
     "metadata": {},
     "output_type": "execute_result"
    }
   ],
   "source": [
    "'''49. Create a set of alternating 1s and 0s of length `n`.'''"
   ]
  },
  {
   "cell_type": "code",
   "execution_count": 90,
   "id": "234b1039",
   "metadata": {},
   "outputs": [
    {
     "name": "stdout",
     "output_type": "stream",
     "text": [
      "Enter nth value: 6\n",
      "{0, 1}\n"
     ]
    }
   ],
   "source": [
    "n = int(input('Enter nth value: '))\n",
    "set49 = set()\n",
    "list49 = []\n",
    "for i in range(1, n+1):\n",
    "    i = i%2\n",
    "    set49.add(i)\n",
    "    list49.append(i)\n",
    "    \n",
    "print(set49)"
   ]
  },
  {
   "cell_type": "code",
   "execution_count": 92,
   "id": "e5f8b040",
   "metadata": {},
   "outputs": [
    {
     "data": {
      "text/plain": [
       "'50. Merge multiple sets into one.'"
      ]
     },
     "execution_count": 92,
     "metadata": {},
     "output_type": "execute_result"
    }
   ],
   "source": [
    "'''50. Merge multiple sets into one.'''"
   ]
  },
  {
   "cell_type": "code",
   "execution_count": 94,
   "id": "7f0346b0",
   "metadata": {},
   "outputs": [
    {
     "name": "stdout",
     "output_type": "stream",
     "text": [
      "Merged set is:  {32, 1, 2, 3, 65, 5, 43, 45, 53, 23}\n"
     ]
    }
   ],
   "source": [
    "set1 = {1, 3, 53, 2, 45}\n",
    "set2 = {43, 2, 5, 23, 5}\n",
    "set3 = {32, 45, 65, 32, 23}\n",
    "\n",
    "print('Merged set is: ', set1.union(set2, set3))"
   ]
  }
 ],
 "metadata": {
  "kernelspec": {
   "display_name": "Python 3",
   "language": "python",
   "name": "python3"
  },
  "language_info": {
   "codemirror_mode": {
    "name": "ipython",
    "version": 3
   },
   "file_extension": ".py",
   "mimetype": "text/x-python",
   "name": "python",
   "nbconvert_exporter": "python",
   "pygments_lexer": "ipython3",
   "version": "3.8.8"
  }
 },
 "nbformat": 4,
 "nbformat_minor": 5
}

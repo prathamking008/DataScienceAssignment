{
 "cells": [
  {
   "cell_type": "markdown",
   "id": "e70522fa",
   "metadata": {},
   "source": [
    "1. Given an array, check if it contains any duplicates or not.\n",
    "arr = [1, 2, 4, 2, 5, 9]\n",
    "Output = True"
   ]
  },
  {
   "cell_type": "code",
   "execution_count": 1,
   "id": "8afdcce5",
   "metadata": {},
   "outputs": [],
   "source": [
    "list1 = [1, 2, 4, 2, 5, 9]"
   ]
  },
  {
   "cell_type": "code",
   "execution_count": 2,
   "id": "fbf3d7f3",
   "metadata": {},
   "outputs": [],
   "source": [
    "set1 = set(list1)"
   ]
  },
  {
   "cell_type": "code",
   "execution_count": 3,
   "id": "ef6e12f2",
   "metadata": {},
   "outputs": [
    {
     "data": {
      "text/plain": [
       "{1, 2, 4, 5, 9}"
      ]
     },
     "execution_count": 3,
     "metadata": {},
     "output_type": "execute_result"
    }
   ],
   "source": [
    "set1"
   ]
  },
  {
   "cell_type": "code",
   "execution_count": 4,
   "id": "9de37230",
   "metadata": {},
   "outputs": [],
   "source": [
    "list2 = list(set1)"
   ]
  },
  {
   "cell_type": "code",
   "execution_count": 5,
   "id": "fad06add",
   "metadata": {},
   "outputs": [
    {
     "data": {
      "text/plain": [
       "[1, 2, 4, 5, 9]"
      ]
     },
     "execution_count": 5,
     "metadata": {},
     "output_type": "execute_result"
    }
   ],
   "source": [
    "list2"
   ]
  },
  {
   "cell_type": "code",
   "execution_count": 7,
   "id": "e588d09d",
   "metadata": {},
   "outputs": [
    {
     "name": "stdout",
     "output_type": "stream",
     "text": [
      "Given array contain duplicate values.\n"
     ]
    }
   ],
   "source": [
    "if list1 == list2:\n",
    "    ptint('Given array does not contain any duplicate values.')\n",
    "else:\n",
    "    print('Given array contain duplicate values.')"
   ]
  },
  {
   "cell_type": "code",
   "execution_count": 8,
   "id": "c717bf84",
   "metadata": {},
   "outputs": [],
   "source": [
    "# 2nd way:-"
   ]
  },
  {
   "cell_type": "code",
   "execution_count": 30,
   "id": "92271553",
   "metadata": {},
   "outputs": [
    {
     "name": "stdout",
     "output_type": "stream",
     "text": [
      "Given array contain duplicate values.\n"
     ]
    }
   ],
   "source": [
    "arr = [1, 2, 4, 2, 5, 9]\n",
    "\n",
    "for i in arr:\n",
    "    if i in arr[arr.index(i)+1:]:\n",
    "        print('Given array contain duplicate values.')\n",
    "        break"
   ]
  },
  {
   "cell_type": "code",
   "execution_count": 31,
   "id": "6fb6133e",
   "metadata": {},
   "outputs": [],
   "source": [
    "# 3rd method:-"
   ]
  },
  {
   "cell_type": "code",
   "execution_count": 42,
   "id": "1698f1b3",
   "metadata": {},
   "outputs": [],
   "source": [
    "def findDuplicate(arr):\n",
    "    seen = set()\n",
    "    for i in arr:\n",
    "        if i in seen:\n",
    "            return True\n",
    "        else:\n",
    "            seen.add(i)\n",
    "    return False"
   ]
  },
  {
   "cell_type": "code",
   "execution_count": 43,
   "id": "681188ae",
   "metadata": {},
   "outputs": [
    {
     "data": {
      "text/plain": [
       "True"
      ]
     },
     "execution_count": 43,
     "metadata": {},
     "output_type": "execute_result"
    }
   ],
   "source": [
    "findDuplicate(arr)"
   ]
  },
  {
   "cell_type": "markdown",
   "id": "299cc76d",
   "metadata": {},
   "source": [
    "2. Given an array and an integer k, rotate the array to the right by k steps.\n",
    "arr = [1, 2, 3, 4, 5, 6, 7] k = 3\n",
    "Output = [5, 6, 7, 1, 2, 3, 4]"
   ]
  },
  {
   "cell_type": "code",
   "execution_count": 61,
   "id": "1dc9b933",
   "metadata": {},
   "outputs": [
    {
     "name": "stdout",
     "output_type": "stream",
     "text": [
      "[5, 6, 7, 1, 2, 3, 4]\n"
     ]
    }
   ],
   "source": [
    "arr = [1, 2, 3, 4, 5, 6, 7]\n",
    "k = 3\n",
    "right_part = []\n",
    "left_part = []\n",
    "\n",
    "for i in arr:\n",
    "    if arr.index(i) > k:\n",
    "        right_part.append(i)\n",
    "    else:\n",
    "        left_part.append(i)\n",
    "result = right_part + left_part\n",
    "print(result)"
   ]
  },
  {
   "cell_type": "code",
   "execution_count": 60,
   "id": "ce62cae6",
   "metadata": {},
   "outputs": [],
   "source": [
    "# 2nd Method: -"
   ]
  },
  {
   "cell_type": "code",
   "execution_count": 92,
   "id": "7dc6b9e8",
   "metadata": {},
   "outputs": [
    {
     "data": {
      "text/plain": [
       "[5, 6, 7, 1, 2, 3, 4]"
      ]
     },
     "execution_count": 92,
     "metadata": {},
     "output_type": "execute_result"
    }
   ],
   "source": [
    "def rotate_array(arr, k):\n",
    "    arr.reverse()\n",
    "    arr[:k] = reversed(arr[:k])\n",
    "    arr[k:] = reversed(arr[k:])\n",
    "    return arr\n",
    "arr = [1, 2, 3, 4, 5, 6, 7]\n",
    "k = 3\n",
    "rotate_array(arr, k)"
   ]
  },
  {
   "cell_type": "markdown",
   "id": "0afce9d8",
   "metadata": {},
   "source": [
    "3. Reverse the given array in-place, means without using any extra data structure.\n",
    "arr = [2, 4, 5, 7, 9, 12]\n",
    "Output = [12, 9, 7, 5, 4, 2]"
   ]
  },
  {
   "cell_type": "code",
   "execution_count": 93,
   "id": "25444b58",
   "metadata": {},
   "outputs": [
    {
     "data": {
      "text/plain": [
       "[12, 9, 7, 5, 4, 2]"
      ]
     },
     "execution_count": 93,
     "metadata": {},
     "output_type": "execute_result"
    }
   ],
   "source": [
    "def reverse_array(arr):\n",
    "    return arr[::-1]\n",
    "arr = [2, 4, 5, 7, 9, 12]\n",
    "reverse_array(arr)"
   ]
  },
  {
   "cell_type": "code",
   "execution_count": 101,
   "id": "cc10625f",
   "metadata": {},
   "outputs": [
    {
     "data": {
      "text/plain": [
       "[12, 9, 7, 5, 4, 2]"
      ]
     },
     "execution_count": 101,
     "metadata": {},
     "output_type": "execute_result"
    }
   ],
   "source": [
    "# 2md method:-\n",
    "\n",
    "def reverseArray(arr):\n",
    "    for i in range(len(arr)//2):\n",
    "        arr[i], arr[len(arr)-i-1] = arr[len(arr)-i-1], arr[i]\n",
    "    return arr\n",
    "arr = [2, 4, 5, 7, 9, 12]\n",
    "reverseArray(arr)"
   ]
  },
  {
   "cell_type": "markdown",
   "id": "01f8a9a9",
   "metadata": {},
   "source": [
    "4. Given an array of integers, find the maximum element in an array\n",
    "arr = [10, 5, 20, 8, 15]\n",
    "Output = 20"
   ]
  },
  {
   "cell_type": "code",
   "execution_count": 102,
   "id": "aac0f6e6",
   "metadata": {},
   "outputs": [
    {
     "data": {
      "text/plain": [
       "20"
      ]
     },
     "execution_count": 102,
     "metadata": {},
     "output_type": "execute_result"
    }
   ],
   "source": [
    "def find_max(arr):\n",
    "    max_element = 0\n",
    "    for i in arr:\n",
    "        if i>max_element:\n",
    "            max_element = i\n",
    "        else:\n",
    "            pass\n",
    "    return max_element\n",
    "\n",
    "arr = [10, 5, 20, 8, 15]\n",
    "find_max(arr)"
   ]
  },
  {
   "cell_type": "markdown",
   "id": "476fb302",
   "metadata": {},
   "source": [
    "5. Given a sorted array, remove the duplicate element without using any extra data structure.\n",
    "arr = [1, 1, 2, 2, 2, 3, 3, 4, 4, 4, 5, 5]\n",
    "Output = [1, 2, 3, 4, 5]"
   ]
  },
  {
   "cell_type": "code",
   "execution_count": 103,
   "id": "2ac8dee4",
   "metadata": {},
   "outputs": [
    {
     "data": {
      "text/plain": [
       "[1, 2, 3, 4, 5]"
      ]
     },
     "execution_count": 103,
     "metadata": {},
     "output_type": "execute_result"
    }
   ],
   "source": [
    "def removeDuplicate(arr):\n",
    "    new_array = []\n",
    "    for i in arr:\n",
    "        if i in new_array:\n",
    "            pass\n",
    "        else:\n",
    "            new_array.append(i)\n",
    "    return new_array\n",
    "arr = [1, 1, 2, 2, 2, 3, 3, 4, 4, 4, 5, 5]\n",
    "removeDuplicate(arr)"
   ]
  },
  {
   "cell_type": "code",
   "execution_count": null,
   "id": "2a31b5ce",
   "metadata": {},
   "outputs": [],
   "source": []
  }
 ],
 "metadata": {
  "kernelspec": {
   "display_name": "Python 3",
   "language": "python",
   "name": "python3"
  },
  "language_info": {
   "codemirror_mode": {
    "name": "ipython",
    "version": 3
   },
   "file_extension": ".py",
   "mimetype": "text/x-python",
   "name": "python",
   "nbconvert_exporter": "python",
   "pygments_lexer": "ipython3",
   "version": "3.8.8"
  }
 },
 "nbformat": 4,
 "nbformat_minor": 5
}

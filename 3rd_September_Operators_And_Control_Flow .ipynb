{
 "cells": [
  {
   "cell_type": "code",
   "execution_count": 71,
   "id": "b5d0fa52",
   "metadata": {},
   "outputs": [
    {
     "data": {
      "text/plain": [
       "'1. Write a Python program to print the numbers from 1 to 10 using a `for` loop.'"
      ]
     },
     "execution_count": 71,
     "metadata": {},
     "output_type": "execute_result"
    }
   ],
   "source": [
    "'''1. Write a Python program to print the numbers from 1 to 10 using a `for` loop.'''"
   ]
  },
  {
   "cell_type": "code",
   "execution_count": 72,
   "id": "239c3f14",
   "metadata": {},
   "outputs": [
    {
     "name": "stdout",
     "output_type": "stream",
     "text": [
      "1\n",
      "2\n",
      "3\n",
      "4\n",
      "5\n",
      "6\n",
      "7\n",
      "8\n",
      "9\n",
      "10\n"
     ]
    }
   ],
   "source": [
    "for i in range(1, 11):\n",
    "    print(i)"
   ]
  },
  {
   "cell_type": "code",
   "execution_count": 73,
   "id": "d6c368bd",
   "metadata": {},
   "outputs": [
    {
     "data": {
      "text/plain": [
       "'2. Create a program that calculates the sum of all numbers in a list using a `for` loop.'"
      ]
     },
     "execution_count": 73,
     "metadata": {},
     "output_type": "execute_result"
    }
   ],
   "source": [
    "'''2. Create a program that calculates the sum of all numbers in a list using a `for` loop.'''"
   ]
  },
  {
   "cell_type": "code",
   "execution_count": 74,
   "id": "d77183de",
   "metadata": {},
   "outputs": [
    {
     "name": "stdout",
     "output_type": "stream",
     "text": [
      "The sum of all numbers in given list is: 55\n"
     ]
    }
   ],
   "source": [
    "list1 = [1, 2, 3, 4, 5, 6, 7, 8, 9, 10]\n",
    "\n",
    "result = 0\n",
    "\n",
    "for i in list1:\n",
    "    result +=i\n",
    "print('The sum of all numbers in given list is:',result)"
   ]
  },
  {
   "cell_type": "code",
   "execution_count": 75,
   "id": "581d339e",
   "metadata": {},
   "outputs": [
    {
     "data": {
      "text/plain": [
       "'3. Write a program to print the characters of a string in reverse order using a `for` loop.'"
      ]
     },
     "execution_count": 75,
     "metadata": {},
     "output_type": "execute_result"
    }
   ],
   "source": [
    "'''3. Write a program to print the characters of a string in reverse order using a `for` loop.'''"
   ]
  },
  {
   "cell_type": "code",
   "execution_count": 76,
   "id": "a5a1d76f",
   "metadata": {},
   "outputs": [
    {
     "name": "stdout",
     "output_type": "stream",
     "text": [
      "s\n",
      "l\n",
      "l\n",
      "i\n",
      "k\n",
      "s\n",
      "w\n",
      "p\n"
     ]
    }
   ],
   "source": [
    "text = 'pwskills'\n",
    "for i in text[::-1]:\n",
    "    print(i)"
   ]
  },
  {
   "cell_type": "code",
   "execution_count": 77,
   "id": "b2c55eb5",
   "metadata": {},
   "outputs": [
    {
     "data": {
      "text/plain": [
       "'4. Develop a program that finds the factorial of a given number using a `for` loop.'"
      ]
     },
     "execution_count": 77,
     "metadata": {},
     "output_type": "execute_result"
    }
   ],
   "source": [
    "'''4. Develop a program that finds the factorial of a given number using a `for` loop.'''"
   ]
  },
  {
   "cell_type": "code",
   "execution_count": 78,
   "id": "fdb78c8a",
   "metadata": {},
   "outputs": [
    {
     "name": "stdout",
     "output_type": "stream",
     "text": [
      "Enter any number:5\n",
      "factorial vale of 5 is: 120\n"
     ]
    }
   ],
   "source": [
    "num = int(input('Enter any number:'))\n",
    "fact = 1\n",
    "if num == 0:\n",
    "    print('Factorail value of {} is:'.format(num), fact)\n",
    "elif num > 0:\n",
    "    for i in range(1, num+1):\n",
    "        fact = fact*i\n",
    "    print('factorial vale of {} is:'.format(num), fact)"
   ]
  },
  {
   "cell_type": "code",
   "execution_count": 79,
   "id": "2a0a0bb3",
   "metadata": {},
   "outputs": [
    {
     "data": {
      "text/plain": [
       "'5. Create a program to print the multiplication table of a given number using a `for` loop.'"
      ]
     },
     "execution_count": 79,
     "metadata": {},
     "output_type": "execute_result"
    }
   ],
   "source": [
    "'''5. Create a program to print the multiplication table of a given number using a `for` loop.'''"
   ]
  },
  {
   "cell_type": "code",
   "execution_count": 80,
   "id": "5e18c263",
   "metadata": {},
   "outputs": [
    {
     "name": "stdout",
     "output_type": "stream",
     "text": [
      "Enter any number:8\n",
      "8\n",
      "16\n",
      "24\n",
      "32\n",
      "40\n",
      "48\n",
      "56\n",
      "64\n",
      "72\n",
      "80\n"
     ]
    }
   ],
   "source": [
    "num = int(input('Enter any number:'))\n",
    "\n",
    "for i in range(1, 11):\n",
    "    print(num*i)"
   ]
  },
  {
   "cell_type": "code",
   "execution_count": 81,
   "id": "5992978d",
   "metadata": {},
   "outputs": [
    {
     "data": {
      "text/plain": [
       "'6. Write a program that counts the number of even and odd numbers in a list using a `for` loop.'"
      ]
     },
     "execution_count": 81,
     "metadata": {},
     "output_type": "execute_result"
    }
   ],
   "source": [
    "'''6. Write a program that counts the number of even and odd numbers in a list using a `for` loop.'''"
   ]
  },
  {
   "cell_type": "code",
   "execution_count": 82,
   "id": "3d987916",
   "metadata": {},
   "outputs": [
    {
     "name": "stdout",
     "output_type": "stream",
     "text": [
      "Total count of even numbers are: 6\n",
      "Total count of odd numbers are: 5\n"
     ]
    }
   ],
   "source": [
    "list1 = [10, 11, 12, 13, 14, 15, 16, 17, 18, 19, 20]\n",
    "even_number_count = 0\n",
    "odd_number_count = 0\n",
    "for i in list1:\n",
    "    if i%2 == 0:\n",
    "        even_number_count +=1\n",
    "    else:\n",
    "        odd_number_count +=1\n",
    "print('Total count of even numbers are:', even_number_count)     \n",
    "print('Total count of odd numbers are:', odd_number_count)"
   ]
  },
  {
   "cell_type": "code",
   "execution_count": 83,
   "id": "e832c513",
   "metadata": {},
   "outputs": [
    {
     "data": {
      "text/plain": [
       "'7. Develop a program that prints the squares of numbers from 1 to 5 using a `for` loop.'"
      ]
     },
     "execution_count": 83,
     "metadata": {},
     "output_type": "execute_result"
    }
   ],
   "source": [
    "'''7. Develop a program that prints the squares of numbers from 1 to 5 using a `for` loop.'''"
   ]
  },
  {
   "cell_type": "code",
   "execution_count": 84,
   "id": "ca55e0eb",
   "metadata": {},
   "outputs": [
    {
     "name": "stdout",
     "output_type": "stream",
     "text": [
      "The square of 1 number is 1\n",
      "The square of 2 number is 4\n",
      "The square of 3 number is 9\n",
      "The square of 4 number is 16\n",
      "The square of 5 number is 25\n"
     ]
    }
   ],
   "source": [
    "for i in range(1, 6):\n",
    "    print('The square of {} number is'.format(i), i**2)"
   ]
  },
  {
   "cell_type": "code",
   "execution_count": 85,
   "id": "717d9785",
   "metadata": {},
   "outputs": [
    {
     "data": {
      "text/plain": [
       "'8. Create a program to find the length of a string without using the `len()` function.'"
      ]
     },
     "execution_count": 85,
     "metadata": {},
     "output_type": "execute_result"
    }
   ],
   "source": [
    "'''8. Create a program to find the length of a string without using the `len()` function.'''"
   ]
  },
  {
   "cell_type": "code",
   "execution_count": 86,
   "id": "565b7efc",
   "metadata": {},
   "outputs": [
    {
     "name": "stdout",
     "output_type": "stream",
     "text": [
      "Enter any string:fuyguygiu\n",
      "the length of a given string is: 9\n"
     ]
    }
   ],
   "source": [
    "text = input('Enter any string:')\n",
    "length = 0\n",
    "for i in text:\n",
    "    length+=1\n",
    "print('the length of a given string is:', length)\n",
    "    "
   ]
  },
  {
   "cell_type": "code",
   "execution_count": 87,
   "id": "5d83d153",
   "metadata": {},
   "outputs": [
    {
     "data": {
      "text/plain": [
       "'9. Write a program that calculates the average of a list of numbers using a `for` loop.'"
      ]
     },
     "execution_count": 87,
     "metadata": {},
     "output_type": "execute_result"
    }
   ],
   "source": [
    "'''9. Write a program that calculates the average of a list of numbers using a `for` loop.'''"
   ]
  },
  {
   "cell_type": "code",
   "execution_count": 88,
   "id": "c3cc8129",
   "metadata": {},
   "outputs": [
    {
     "name": "stdout",
     "output_type": "stream",
     "text": [
      "The average of a list of numbers are: 5.0\n"
     ]
    }
   ],
   "source": [
    "list1 = [1, 2, 3, 4, 5, 6, 7, 8, 9]\n",
    "\n",
    "count_1 = 0\n",
    "result = 0\n",
    "for i in list1:\n",
    "    count_1+=1\n",
    "    result += i\n",
    "print('The average of a list of numbers are:', result/count_1)\n",
    "    "
   ]
  },
  {
   "cell_type": "code",
   "execution_count": 89,
   "id": "d15bed67",
   "metadata": {},
   "outputs": [
    {
     "data": {
      "text/plain": [
       "'10. Develop a program that prints the first `n` Fibonacci numbers using a `for` loop.'"
      ]
     },
     "execution_count": 89,
     "metadata": {},
     "output_type": "execute_result"
    }
   ],
   "source": [
    "'''10. Develop a program that prints the first `n` Fibonacci numbers using a `for` loop.'''"
   ]
  },
  {
   "cell_type": "code",
   "execution_count": 90,
   "id": "9a147ab0",
   "metadata": {},
   "outputs": [
    {
     "name": "stdout",
     "output_type": "stream",
     "text": [
      "Enter number till which we need fibonacci numbers:7\n",
      "[0, 1, 1, 2, 3, 5, 8]\n"
     ]
    }
   ],
   "source": [
    "n = int(input('Enter number till which we need fibonacci numbers:'))\n",
    "fib_series = []\n",
    "number = 0\n",
    "for i in range(n):\n",
    "    if i == 0:\n",
    "        number = i\n",
    "        fib_series.append(number)\n",
    "    elif i == 1:\n",
    "        number = number+i\n",
    "        fib_series.append(number)\n",
    "    elif i >1:\n",
    "        number = fib_series[i-2]+fib_series[i-1]\n",
    "        fib_series.append(number)\n",
    "print(fib_series)\n"
   ]
  },
  {
   "cell_type": "code",
   "execution_count": 91,
   "id": "2744bd97",
   "metadata": {},
   "outputs": [
    {
     "data": {
      "text/plain": [
       "'11. Write a program to check if a given list contains any duplicates using a `for` loop.'"
      ]
     },
     "execution_count": 91,
     "metadata": {},
     "output_type": "execute_result"
    }
   ],
   "source": [
    "'''11. Write a program to check if a given list contains any duplicates using a `for` loop.'''"
   ]
  },
  {
   "cell_type": "code",
   "execution_count": 92,
   "id": "1523fb7b",
   "metadata": {},
   "outputs": [
    {
     "name": "stdout",
     "output_type": "stream",
     "text": [
      "Duplicate number is: 10\n",
      "Duplicate number is: 30\n",
      "Duplicate number is: 30\n"
     ]
    }
   ],
   "source": [
    "list_1 = [10, 20, 30, 40, 60, 30, 70, 10, 30]\n",
    "\n",
    "for i in list_1:\n",
    "    list_1.remove(i)\n",
    "    if i in list_1:\n",
    "        print('Duplicate number is:',i) "
   ]
  },
  {
   "cell_type": "code",
   "execution_count": 93,
   "id": "6fe1d336",
   "metadata": {
    "scrolled": true
   },
   "outputs": [
    {
     "data": {
      "text/plain": [
       "'12. Create a program that prints the prime numbers in a given range using a `for` loop.'"
      ]
     },
     "execution_count": 93,
     "metadata": {},
     "output_type": "execute_result"
    }
   ],
   "source": [
    "'''12. Create a program that prints the prime numbers in a given range using a `for` loop.'''"
   ]
  },
  {
   "cell_type": "code",
   "execution_count": 94,
   "id": "43fb059b",
   "metadata": {},
   "outputs": [
    {
     "name": "stdout",
     "output_type": "stream",
     "text": [
      "Number is prime: 2\n",
      "Number is prime: 3\n",
      "Number is prime: 5\n",
      "Number is prime: 7\n",
      "Number is prime: 11\n",
      "Number is prime: 13\n",
      "Number is prime: 17\n",
      "Number is prime: 19\n"
     ]
    }
   ],
   "source": [
    "for num in range(20):\n",
    "    if num > 1:\n",
    "        for i in range(2, int(num*0.5)+1):\n",
    "            if num%i == 0:\n",
    "                break\n",
    "        else:\n",
    "            print('Number is prime:', num )"
   ]
  },
  {
   "cell_type": "code",
   "execution_count": 95,
   "id": "8cb49245",
   "metadata": {},
   "outputs": [
    {
     "data": {
      "text/plain": [
       "'13. Develop a program that counts the number of vowels in a string using a `for` loop.'"
      ]
     },
     "execution_count": 95,
     "metadata": {},
     "output_type": "execute_result"
    }
   ],
   "source": [
    "'''13. Develop a program that counts the number of vowels in a string using a `for` loop.'''"
   ]
  },
  {
   "cell_type": "code",
   "execution_count": 96,
   "id": "78c5e623",
   "metadata": {},
   "outputs": [
    {
     "name": "stdout",
     "output_type": "stream",
     "text": [
      "Total no of vowels are: 3\n"
     ]
    }
   ],
   "source": [
    "text = 'elephant'\n",
    "count_vowels = 0\n",
    "for i in text:\n",
    "    if i =='a' or i=='e' or i=='i' or i=='o' or i=='u':\n",
    "        count_vowels +=1\n",
    "print('Total no of vowels are:', count_vowels)\n",
    "        "
   ]
  },
  {
   "cell_type": "code",
   "execution_count": 97,
   "id": "a6f797df",
   "metadata": {},
   "outputs": [
    {
     "data": {
      "text/plain": [
       "'14. Write a program to find the maximum element in a 2D list using a nested `for` loop.'"
      ]
     },
     "execution_count": 97,
     "metadata": {},
     "output_type": "execute_result"
    }
   ],
   "source": [
    "'''14. Write a program to find the maximum element in a 2D list using a nested `for` loop.'''"
   ]
  },
  {
   "cell_type": "code",
   "execution_count": 98,
   "id": "5c3a8872",
   "metadata": {},
   "outputs": [
    {
     "name": "stdout",
     "output_type": "stream",
     "text": [
      "-inf\n",
      "The maximum element in the 2D list is: 9\n"
     ]
    }
   ],
   "source": [
    "matrix = [\n",
    "    [1, 2, 3],\n",
    "    [4, 5, 6],\n",
    "    [7, 8, 9]\n",
    "]\n",
    "\n",
    "max_value = float(\"-inf\")\n",
    "print(max_value)\n",
    "\n",
    "for row in matrix:\n",
    "    for value in row:\n",
    "        if value > max_value:\n",
    "            max_value = value\n",
    "\n",
    "print(\"The maximum element in the 2D list is:\", max_value)"
   ]
  },
  {
   "cell_type": "code",
   "execution_count": 99,
   "id": "ea0ffe65",
   "metadata": {},
   "outputs": [
    {
     "data": {
      "text/plain": [
       "'15. Create a program that removes all occurrences of a specific element from a list using a `for` loop.'"
      ]
     },
     "execution_count": 99,
     "metadata": {},
     "output_type": "execute_result"
    }
   ],
   "source": [
    "'''15. Create a program that removes all occurrences of a specific element from a list using a `for` loop.'''"
   ]
  },
  {
   "cell_type": "code",
   "execution_count": 100,
   "id": "c0e64645",
   "metadata": {},
   "outputs": [
    {
     "name": "stdout",
     "output_type": "stream",
     "text": [
      "List after removing occurances of 20 is: [10, 10, 30, 40, 50, 60, 70]\n"
     ]
    }
   ],
   "source": [
    "list1 = [10, 20, 10, 30, 40, 50, 20, 60, 70]\n",
    "\n",
    "#remove 20 from list\n",
    "\n",
    "for i in list1:\n",
    "    if i ==20:\n",
    "        list1.remove(i)\n",
    "print('List after removing occurances of 20 is:', list1)\n",
    "    "
   ]
  },
  {
   "cell_type": "code",
   "execution_count": 101,
   "id": "bda970b8",
   "metadata": {},
   "outputs": [
    {
     "data": {
      "text/plain": [
       "'16. Develop a program that generates a multiplication table for numbers from 1 to 5 using a nested `for` loop.'"
      ]
     },
     "execution_count": 101,
     "metadata": {},
     "output_type": "execute_result"
    }
   ],
   "source": [
    "'''16. Develop a program that generates a multiplication table for numbers from 1 to 5 using a nested `for` loop.'''"
   ]
  },
  {
   "cell_type": "code",
   "execution_count": 102,
   "id": "dd108447",
   "metadata": {
    "scrolled": true
   },
   "outputs": [
    {
     "data": {
      "text/plain": [
       "'17. Write a program that converts a list of Fahrenheit temperatures to Celsius using a `for` loop.'"
      ]
     },
     "execution_count": 102,
     "metadata": {},
     "output_type": "execute_result"
    }
   ],
   "source": [
    "'''17. Write a program that converts a list of Fahrenheit temperatures to Celsius using a `for` loop.'''"
   ]
  },
  {
   "cell_type": "code",
   "execution_count": 103,
   "id": "754f049f",
   "metadata": {},
   "outputs": [
    {
     "name": "stdout",
     "output_type": "stream",
     "text": [
      "[-6.67, 4.44, 15.56, 26.67, 37.78]\n"
     ]
    }
   ],
   "source": [
    "temp_f = [20, 40, 60, 80, 100]\n",
    "temp_c = []\n",
    "\n",
    "for i in temp_f:\n",
    "    i = round((i-32)*5/9, 2)\n",
    "    temp_c.append(i)\n",
    "print(temp_c)"
   ]
  },
  {
   "cell_type": "code",
   "execution_count": 104,
   "id": "f3d7b30e",
   "metadata": {},
   "outputs": [
    {
     "data": {
      "text/plain": [
       "'18. Create a program to print the common elements from two lists using a `for` loop.'"
      ]
     },
     "execution_count": 104,
     "metadata": {},
     "output_type": "execute_result"
    }
   ],
   "source": [
    "'''18. Create a program to print the common elements from two lists using a `for` loop.'''"
   ]
  },
  {
   "cell_type": "code",
   "execution_count": 105,
   "id": "7a81e79c",
   "metadata": {},
   "outputs": [
    {
     "name": "stdout",
     "output_type": "stream",
     "text": [
      "[10, 20, 30, 40]\n"
     ]
    }
   ],
   "source": [
    "list1 = [10, 20, 30, 40, 50, 60]\n",
    "list2 = [5, 10, 15, 20, 25, 30, 35, 40]\n",
    "common_element = []\n",
    "for i in list1:\n",
    "    for j in list2:\n",
    "        if i == j:\n",
    "            common_element.append(i)\n",
    "print(common_element)\n",
    "            "
   ]
  },
  {
   "cell_type": "code",
   "execution_count": 106,
   "id": "7d4552ef",
   "metadata": {},
   "outputs": [
    {
     "data": {
      "text/plain": [
       "'19. Develop a program that prints the pattern of right-angled triangles using a `for` loop. Use ‘*’ to draw the\\npattern'"
      ]
     },
     "execution_count": 106,
     "metadata": {},
     "output_type": "execute_result"
    }
   ],
   "source": [
    "'''19. Develop a program that prints the pattern of right-angled triangles using a `for` loop. Use ‘*’ to draw the\n",
    "pattern'''"
   ]
  },
  {
   "cell_type": "code",
   "execution_count": 107,
   "id": "c6f2379d",
   "metadata": {},
   "outputs": [
    {
     "name": "stdout",
     "output_type": "stream",
     "text": [
      "* \n",
      "* * \n",
      "* * * \n",
      "* * * * \n",
      "* * * * * \n"
     ]
    }
   ],
   "source": [
    "for i in range(5):\n",
    "    for j in range(i+1):\n",
    "        print('*', end = ' ')\n",
    "    print()"
   ]
  },
  {
   "cell_type": "code",
   "execution_count": 108,
   "id": "347b44be",
   "metadata": {},
   "outputs": [
    {
     "data": {
      "text/plain": [
       "'20. Write a program to find the greatest common divisor (GCD) of two numbers using a `for` loop.'"
      ]
     },
     "execution_count": 108,
     "metadata": {},
     "output_type": "execute_result"
    }
   ],
   "source": [
    "'''20. Write a program to find the greatest common divisor (GCD) of two numbers using a `for` loop.'''"
   ]
  },
  {
   "cell_type": "code",
   "execution_count": 109,
   "id": "2d8f6780",
   "metadata": {},
   "outputs": [
    {
     "name": "stdout",
     "output_type": "stream",
     "text": [
      "Enter first number:67\n",
      "Enter second number:4\n",
      "Divisor of 67 is: [1, 67]\n",
      "Divisor of 4 is: [1, 2, 4]\n",
      "Greatest common divisor of 67 and 4 is: 1\n"
     ]
    }
   ],
   "source": [
    "num1 = int(input('Enter first number:'))\n",
    "num2 = int(input('Enter second number:'))\n",
    "num1_div = []\n",
    "num2_div = []\n",
    "\n",
    "for i in range(1, num1+1):\n",
    "    if num1%i == 0:\n",
    "        num1_div.append(i)\n",
    "print('Divisor of {} is:'.format(num1), num1_div)\n",
    "    \n",
    "\n",
    "for i in range(1, num2+1):\n",
    "    if num2%i == 0:\n",
    "        num2_div.append(i)\n",
    "print(f'Divisor of {num2} is:',num2_div)\n",
    "\n",
    "common_div = set(num1_div) & set(num2_div)\n",
    "\n",
    "print('Greatest common divisor of {} and {} is:'.format(num1, num2), max(common_div))\n"
   ]
  },
  {
   "cell_type": "code",
   "execution_count": 110,
   "id": "f50a4224",
   "metadata": {},
   "outputs": [
    {
     "data": {
      "text/plain": [
       "'21. Create a program that calculates the sum of the digits of numbers in a list using a list comprehension.'"
      ]
     },
     "execution_count": 110,
     "metadata": {},
     "output_type": "execute_result"
    }
   ],
   "source": [
    "'''21. Create a program that calculates the sum of the digits of numbers in a list using a list comprehension.'''"
   ]
  },
  {
   "cell_type": "code",
   "execution_count": 111,
   "id": "e49009ae",
   "metadata": {
    "scrolled": true
   },
   "outputs": [
    {
     "name": "stdout",
     "output_type": "stream",
     "text": [
      "The sum of digit in 123 is: 6\n",
      "The sum of digit in 456 is: 15\n",
      "The sum of digit in 789 is: 24\n",
      "The sum of digit in 222 is: 6\n"
     ]
    }
   ],
   "source": [
    "list2 = [123, 456, 789, 222]\n",
    "\n",
    "result = [sum(int(j) for j in str(i)) for i in list2]\n",
    "\n",
    "for m in range(len(list2)):\n",
    "    print('The sum of digit in {} is: {}'.format(list2[m], result[m]))\n"
   ]
  },
  {
   "cell_type": "code",
   "execution_count": 112,
   "id": "3c833801",
   "metadata": {},
   "outputs": [
    {
     "data": {
      "text/plain": [
       "'22. Write a program to find the prime factors of a given number using a `for` loop and list comprehension.'"
      ]
     },
     "execution_count": 112,
     "metadata": {},
     "output_type": "execute_result"
    }
   ],
   "source": [
    "'''22. Write a program to find the prime factors of a given number using a `for` loop and list comprehension.'''"
   ]
  },
  {
   "cell_type": "code",
   "execution_count": 113,
   "id": "74ae71a0",
   "metadata": {},
   "outputs": [
    {
     "name": "stdout",
     "output_type": "stream",
     "text": [
      "Enter any number: 6889\n",
      "[83, 6889]\n"
     ]
    }
   ],
   "source": [
    "num1 = int(input('Enter any number: '))\n",
    "\n",
    "prime_factor = [i for i in range(2, num1+1) if num1%i==0]\n",
    "\n",
    "print(prime_factor)"
   ]
  },
  {
   "cell_type": "code",
   "execution_count": 114,
   "id": "10fd3e89",
   "metadata": {},
   "outputs": [
    {
     "data": {
      "text/plain": [
       "'23. Develop a program that extracts unique elements from a list and stores them in a new list using a list\\ncomprehension.'"
      ]
     },
     "execution_count": 114,
     "metadata": {},
     "output_type": "execute_result"
    }
   ],
   "source": [
    "'''23. Develop a program that extracts unique elements from a list and stores them in a new list using a list\n",
    "comprehension.'''"
   ]
  },
  {
   "cell_type": "code",
   "execution_count": 115,
   "id": "c5afeb86",
   "metadata": {},
   "outputs": [
    {
     "name": "stdout",
     "output_type": "stream",
     "text": [
      "Original List: [11, 20, 21, 10, 22, 30, 16, 21, 67, 23, 78, 23, 90, 12, 78, 24, 45, 34]\n",
      "New list with unique value: [34, 67, 10, 11, 12, 45, 78, 16, 20, 21, 22, 23, 24, 90, 30]\n"
     ]
    }
   ],
   "source": [
    "list23 = [11, 20, 21, 10, 22, 30, 16, 21, 67, 23, 78, 23, 90, 12, 78, 24, 45, 34]\n",
    "result = [i for i in set(list23)]\n",
    "print('Original List:', list23)\n",
    "print('New list with unique value:',result)"
   ]
  },
  {
   "cell_type": "code",
   "execution_count": 116,
   "id": "baa307dd",
   "metadata": {},
   "outputs": [
    {
     "data": {
      "text/plain": [
       "'24. Create a program that generates a list of all palindromic numbers up to a specified limit using a list\\ncomprehension.'"
      ]
     },
     "execution_count": 116,
     "metadata": {},
     "output_type": "execute_result"
    }
   ],
   "source": [
    "'''24. Create a program that generates a list of all palindromic numbers up to a specified limit using a list\n",
    "comprehension.'''"
   ]
  },
  {
   "cell_type": "code",
   "execution_count": 117,
   "id": "c5dfdfaf",
   "metadata": {
    "scrolled": true
   },
   "outputs": [
    {
     "name": "stdout",
     "output_type": "stream",
     "text": [
      "Enter any number67\n",
      "[1, 2, 3, 4, 5, 6, 7, 8, 9, 11, 22, 33, 44, 55, 66]\n"
     ]
    }
   ],
   "source": [
    "num24 = int(input('Enter any number'))\n",
    "\n",
    "result = [i for i in range(1, num24+1) if str(i) == str(i)[::-1]]\n",
    "print(result)"
   ]
  },
  {
   "cell_type": "code",
   "execution_count": 118,
   "id": "48699a2b",
   "metadata": {},
   "outputs": [
    {
     "data": {
      "text/plain": [
       "'25. Write a program to flatten a nested list using list comprehension.'"
      ]
     },
     "execution_count": 118,
     "metadata": {},
     "output_type": "execute_result"
    }
   ],
   "source": [
    "'''25. Write a program to flatten a nested list using list comprehension.'''"
   ]
  },
  {
   "cell_type": "code",
   "execution_count": 119,
   "id": "ca7a0595",
   "metadata": {
    "scrolled": true
   },
   "outputs": [
    {
     "name": "stdout",
     "output_type": "stream",
     "text": [
      "List: [10, 12, [11, 22, 33, 44], [55, 66, 77], [88, 99, 100]]\n",
      "Flat List: [10, 12, 11, 22, 33, 44, 55, 66, 77, 88, 99, 100]\n"
     ]
    }
   ],
   "source": [
    "n_list = [10, 12, [11, 22, 33, 44], [55, 66, 77], [88, 99, 100]]\n",
    "\n",
    "\n",
    "f_list = [element for sublist in n_list for element in (sublist if isinstance(sublist, list) else [sublist])]\n",
    "\n",
    "print('List:', n_list)\n",
    "print('Flat List:', f_list)"
   ]
  },
  {
   "cell_type": "code",
   "execution_count": 120,
   "id": "a43d6ee1",
   "metadata": {
    "scrolled": true
   },
   "outputs": [
    {
     "name": "stdout",
     "output_type": "stream",
     "text": [
      "[10, 12, 11, 22, 33, 44, 55, 66, 77, 88, 99, 100]\n"
     ]
    }
   ],
   "source": [
    "n_list = [10, 12, [11, 22, 33, 44], [55, 66, 77], [88, 99, 100]]\n",
    "f_list = []\n",
    "for i in n_list:\n",
    "    if isinstance(i, list) == True:\n",
    "        for j in i:\n",
    "            f_list.append(j)\n",
    "    else:\n",
    "        f_list.append(i)\n",
    "print(f_list)"
   ]
  },
  {
   "cell_type": "code",
   "execution_count": 121,
   "id": "de353e9b",
   "metadata": {},
   "outputs": [
    {
     "data": {
      "text/plain": [
       "'26. Develop a program that computes the sum of even and odd numbers in a list separately using list\\ncomprehension.'"
      ]
     },
     "execution_count": 121,
     "metadata": {},
     "output_type": "execute_result"
    }
   ],
   "source": [
    "'''26. Develop a program that computes the sum of even and odd numbers in a list separately using list\n",
    "comprehension.'''"
   ]
  },
  {
   "cell_type": "code",
   "execution_count": 122,
   "id": "ebaaa94e",
   "metadata": {},
   "outputs": [
    {
     "name": "stdout",
     "output_type": "stream",
     "text": [
      "Sum of even numbers are: [80]\n",
      "Sum of odd numbers are: [75]\n"
     ]
    }
   ],
   "source": [
    "list26 = [11, 12, 13, 14, 15, 16, 17, 18, 19, 20]\n",
    "\n",
    "add_even = [sum(i for i in list26 if i%2==0)]\n",
    "add_odd = [sum(i for i in list26 if i%2 !=0)]\n",
    "\n",
    "print('Sum of even numbers are:', add_even)\n",
    "print('Sum of odd numbers are:', add_odd)"
   ]
  },
  {
   "cell_type": "code",
   "execution_count": 123,
   "id": "b85f5012",
   "metadata": {},
   "outputs": [
    {
     "name": "stdout",
     "output_type": "stream",
     "text": [
      "Sum of even numbers are: 30\n",
      "Sum of odd numbers are: 25\n"
     ]
    }
   ],
   "source": [
    "list26 = [1, 2, 3, 4, 5, 6, 7, 8, 9, 10]\n",
    "sum_odd = 0\n",
    "sum_even = 0\n",
    "for i in list26:\n",
    "    if i%2 ==0:\n",
    "        sum_even+=i\n",
    "    else:\n",
    "        sum_odd+=i\n",
    "print('Sum of even numbers are:', sum_even)\n",
    "print('Sum of odd numbers are:', sum_odd)"
   ]
  },
  {
   "cell_type": "code",
   "execution_count": 124,
   "id": "359b8a8e",
   "metadata": {},
   "outputs": [
    {
     "data": {
      "text/plain": [
       "'27. Create a program that generates a list of squares of odd numbers between 1 and 10 using list\\ncomprehension.'"
      ]
     },
     "execution_count": 124,
     "metadata": {},
     "output_type": "execute_result"
    }
   ],
   "source": [
    "'''27. Create a program that generates a list of squares of odd numbers between 1 and 10 using list\n",
    "comprehension.'''"
   ]
  },
  {
   "cell_type": "code",
   "execution_count": 125,
   "id": "7cc12dd8",
   "metadata": {},
   "outputs": [
    {
     "name": "stdout",
     "output_type": "stream",
     "text": [
      "The squares of odd numbers between 1 and 10: [1, 9, 25, 49, 81]\n"
     ]
    }
   ],
   "source": [
    "result = [x for i in list(range(1, 11)) for x in [i*i] if x%2 !=0]\n",
    "print('The squares of odd numbers between 1 and 10:', result)"
   ]
  },
  {
   "cell_type": "code",
   "execution_count": 126,
   "id": "8af76e61",
   "metadata": {},
   "outputs": [
    {
     "data": {
      "text/plain": [
       "'28. Write a program that combines two lists into a dictionary using list comprehension.'"
      ]
     },
     "execution_count": 126,
     "metadata": {},
     "output_type": "execute_result"
    }
   ],
   "source": [
    "'''28. Write a program that combines two lists into a dictionary using list comprehension.'''"
   ]
  },
  {
   "cell_type": "code",
   "execution_count": 127,
   "id": "0b620e47",
   "metadata": {},
   "outputs": [
    {
     "name": "stdout",
     "output_type": "stream",
     "text": [
      "{1: 10, 2: 20, 3: 30, 4: 40, 5: 50}\n"
     ]
    }
   ],
   "source": [
    "list1 = [1, 2, 3, 4, 5]\n",
    "list2 = [10, 20, 30, 40, 50]\n",
    "\n",
    "dict1 = {k:v for k, v in zip(list1, list2)}\n",
    "print(dict1)"
   ]
  },
  {
   "cell_type": "code",
   "execution_count": 128,
   "id": "c40543e6",
   "metadata": {},
   "outputs": [
    {
     "data": {
      "text/plain": [
       "'29. Develop a program that extracts the vowels from a string and stores them in a list using list comprehension.'"
      ]
     },
     "execution_count": 128,
     "metadata": {},
     "output_type": "execute_result"
    }
   ],
   "source": [
    "'''29. Develop a program that extracts the vowels from a string and stores them in a list using list comprehension.'''"
   ]
  },
  {
   "cell_type": "code",
   "execution_count": 129,
   "id": "d678ff0a",
   "metadata": {},
   "outputs": [
    {
     "name": "stdout",
     "output_type": "stream",
     "text": [
      "Enter any string:fh tuu jghj uytui hk\n",
      "['u', 'u', 'u', 'u', 'i']\n"
     ]
    }
   ],
   "source": [
    "text29 = input('Enter any string:')\n",
    "\n",
    "result29 = [x for x in text29 if x in ['a', 'A', 'e', 'E', 'i', 'I', 'o', 'O', 'u', 'U']]\n",
    "\n",
    "print(result29)"
   ]
  },
  {
   "cell_type": "code",
   "execution_count": 130,
   "id": "7dd7e232",
   "metadata": {},
   "outputs": [
    {
     "data": {
      "text/plain": [
       "'30. Create a program that removes all non-numeric characters from a list of strings using list comprehension.'"
      ]
     },
     "execution_count": 130,
     "metadata": {},
     "output_type": "execute_result"
    }
   ],
   "source": [
    "'''30. Create a program that removes all non-numeric characters from a list of strings using list comprehension.'''"
   ]
  },
  {
   "cell_type": "code",
   "execution_count": 131,
   "id": "b26853d8",
   "metadata": {},
   "outputs": [
    {
     "name": "stdout",
     "output_type": "stream",
     "text": [
      "['123', '456', '123456', '']\n"
     ]
    }
   ],
   "source": [
    "list30 = ['123Apple', 'pratham456', '123Raunak456', 'dhiraj']\n",
    "\n",
    "\n",
    "result30 = [''.join(filter(str.isdigit, i)) for i in list30]\n",
    "\n",
    "print(result30)"
   ]
  },
  {
   "cell_type": "code",
   "execution_count": 132,
   "id": "116b5f05",
   "metadata": {},
   "outputs": [
    {
     "name": "stdout",
     "output_type": "stream",
     "text": [
      "['1', '2', '3', '4', '5', '6', '1', '2', '3', '4', '5', '6']\n"
     ]
    }
   ],
   "source": [
    "list30 = ['123Apple', 'pratham456', '123Raunak456', 'dhiraj']\n",
    "\n",
    "non_numeric_list = []\n",
    "\n",
    "for i in list30:\n",
    "    for j in i:\n",
    "        if j in [str(1), str(2), str(3), str(4), str(5), str(6), str(7), str(8), str(9), str(0)]:\n",
    "            non_numeric_list.append(j)\n",
    "print(non_numeric_list)"
   ]
  },
  {
   "cell_type": "code",
   "execution_count": 133,
   "id": "bbb89c41",
   "metadata": {},
   "outputs": [
    {
     "data": {
      "text/plain": [
       "'31. Write a program to generate a list of prime numbers using the Sieve of Eratosthenes algorithm and list\\ncomprehension.'"
      ]
     },
     "execution_count": 133,
     "metadata": {},
     "output_type": "execute_result"
    }
   ],
   "source": [
    "'''31. Write a program to generate a list of prime numbers using the Sieve of Eratosthenes algorithm and list\n",
    "comprehension.'''"
   ]
  },
  {
   "cell_type": "code",
   "execution_count": 134,
   "id": "cc2b2127",
   "metadata": {},
   "outputs": [
    {
     "data": {
      "text/plain": [
       "'32. Create a program that generates a list of all Pythagorean triplets up to a specified limit using list\\ncomprehension.'"
      ]
     },
     "execution_count": 134,
     "metadata": {},
     "output_type": "execute_result"
    }
   ],
   "source": [
    "'''32. Create a program that generates a list of all Pythagorean triplets up to a specified limit using list\n",
    "comprehension.'''"
   ]
  },
  {
   "cell_type": "code",
   "execution_count": 135,
   "id": "7979e3f8",
   "metadata": {},
   "outputs": [
    {
     "name": "stdout",
     "output_type": "stream",
     "text": [
      "Enter any number34\n",
      "Possible list of all Pythagorean triplets up to 34 [(3, 4, 5), (5, 12, 13), (6, 8, 10), (7, 24, 25), (8, 15, 17), (9, 12, 15), (10, 24, 26), (12, 16, 20), (15, 20, 25), (20, 21, 29)]\n"
     ]
    }
   ],
   "source": [
    "num32 = int(input('Enter any number'))\n",
    "\n",
    "pthag = [(x,y,z) for x in range(1,30) for y in range(x,30) for z in range(y,30) if x**2 + y**2 == z**2]\n",
    "print('Possible list of all Pythagorean triplets up to {}'.format(num32), pthag)"
   ]
  },
  {
   "cell_type": "code",
   "execution_count": 136,
   "id": "5c96111a",
   "metadata": {},
   "outputs": [
    {
     "data": {
      "text/plain": [
       "'33. Develop a program that generates a list of all possible combinations of two lists using list comprehension.'"
      ]
     },
     "execution_count": 136,
     "metadata": {},
     "output_type": "execute_result"
    }
   ],
   "source": [
    "'''33. Develop a program that generates a list of all possible combinations of two lists using list comprehension.'''"
   ]
  },
  {
   "cell_type": "code",
   "execution_count": 137,
   "id": "f704e436",
   "metadata": {},
   "outputs": [
    {
     "name": "stdout",
     "output_type": "stream",
     "text": [
      "[(1, 'a'), (1, 'b'), (1, 'c'), (2, 'a'), (2, 'b'), (2, 'c'), (3, 'a'), (3, 'b'), (3, 'c')]\n"
     ]
    }
   ],
   "source": [
    "list1 = [1, 2, 3]\n",
    "list2 = ['a', 'b', 'c']\n",
    "\n",
    "list3 = [(x, y) for x in list1 for y in list2]\n",
    "\n",
    "print(list3)"
   ]
  },
  {
   "cell_type": "code",
   "execution_count": 138,
   "id": "3081b687",
   "metadata": {},
   "outputs": [
    {
     "data": {
      "text/plain": [
       "'34. Write a program that calculates the mean, median, and mode of a list of numbers using list\\ncomprehension.'"
      ]
     },
     "execution_count": 138,
     "metadata": {},
     "output_type": "execute_result"
    }
   ],
   "source": [
    "'''34. Write a program that calculates the mean, median, and mode of a list of numbers using list\n",
    "comprehension.'''"
   ]
  },
  {
   "cell_type": "code",
   "execution_count": 139,
   "id": "39619798",
   "metadata": {},
   "outputs": [
    {
     "name": "stdout",
     "output_type": "stream",
     "text": [
      "[1, 2, 2, 3, 3, 3, 4, 6, 8, 9, 20]\n",
      "Mean for given list is:  5.55\n",
      "Median for given list is:  4\n",
      "Mode for given list is:  3\n"
     ]
    }
   ],
   "source": [
    "list34 = [1, 2, 3, 4, 2, 3, 6, 8, 9, 3, 20]\n",
    "\n",
    "sort_list = sorted(list34)\n",
    "\n",
    "print(sort_list)\n",
    "\n",
    "mean = sum(x for x in list34)/len(list34)\n",
    "\n",
    "print('Mean for given list is: ', round(mean, 2))\n",
    "\n",
    "\n",
    "if len(sort_list)%2 ==0:\n",
    "    median = (sort_list[len(sort_list/2)] + sort_list[len(sort_list/2 +1)])/2\n",
    "    print(median)\n",
    "else:\n",
    "    median = sort_list[int((len(sort_list)+1)/2)]\n",
    "    print('Median for given list is: ', median)\n",
    "   \n",
    "occurance  = {}\n",
    "for x in list34:\n",
    "    if x in occurance:\n",
    "        occurance[x]+=1\n",
    "    else:\n",
    "        occurance[x] = 1\n",
    "print('Mode for given list is: ', max(occurance.values()))\n",
    "    \n"
   ]
  },
  {
   "cell_type": "code",
   "execution_count": 140,
   "id": "4a6ed1e9",
   "metadata": {},
   "outputs": [
    {
     "data": {
      "text/plain": [
       "\"35. Create a program that generates Pascal's triangle up to a specified number of rows using list\\ncomprehension.\""
      ]
     },
     "execution_count": 140,
     "metadata": {},
     "output_type": "execute_result"
    }
   ],
   "source": [
    "'''35. Create a program that generates Pascal's triangle up to a specified number of rows using list\n",
    "comprehension.'''"
   ]
  },
  {
   "cell_type": "code",
   "execution_count": 141,
   "id": "46121672",
   "metadata": {},
   "outputs": [
    {
     "data": {
      "text/plain": [
       "'36. Develop a program that calculates the sum of the digits of a factorial of numbers from 1 to 5 using list\\ncomprehension.'"
      ]
     },
     "execution_count": 141,
     "metadata": {},
     "output_type": "execute_result"
    }
   ],
   "source": [
    "'''36. Develop a program that calculates the sum of the digits of a factorial of numbers from 1 to 5 using list\n",
    "comprehension.'''"
   ]
  },
  {
   "cell_type": "code",
   "execution_count": 142,
   "id": "e91f7f0e",
   "metadata": {},
   "outputs": [
    {
     "name": "stdout",
     "output_type": "stream",
     "text": [
      "Sum of digits is: 3\n"
     ]
    }
   ],
   "source": [
    "for i in range(1, 6):\n",
    "    factorial = 1\n",
    "    for j in range(1, i+1):\n",
    "        factorial *=j\n",
    "    digit_sum = sum([int(x) for x in str(factorial)])\n",
    "print('Sum of digits is:', digit_sum)"
   ]
  },
  {
   "cell_type": "code",
   "execution_count": 143,
   "id": "f87bd141",
   "metadata": {},
   "outputs": [
    {
     "name": "stdout",
     "output_type": "stream",
     "text": [
      "Factorial value of numbers from 1 to 5 is: 120\n",
      "Sum of digits is: 3\n"
     ]
    }
   ],
   "source": [
    "fact= 0\n",
    "sum_of_digits = 0\n",
    "for i in range(1, 6):\n",
    "    if i == 1:\n",
    "        fact = 1\n",
    "    elif i >1:\n",
    "        fact = fact*i\n",
    "        i = i-1\n",
    "print('Factorial value of numbers from 1 to 5 is:', fact)\n",
    "\n",
    "for i in str(fact):\n",
    "    sum_of_digits += int(i)\n",
    "    \n",
    "print('Sum of digits is:', sum_of_digits)"
   ]
  },
  {
   "cell_type": "code",
   "execution_count": 144,
   "id": "28a3f579",
   "metadata": {},
   "outputs": [
    {
     "data": {
      "text/plain": [
       "'37. Write a program that finds the longest word in a sentence using list comprehension.'"
      ]
     },
     "execution_count": 144,
     "metadata": {},
     "output_type": "execute_result"
    }
   ],
   "source": [
    "'''37. Write a program that finds the longest word in a sentence using list comprehension.'''"
   ]
  },
  {
   "cell_type": "code",
   "execution_count": 155,
   "id": "3c4dcb56",
   "metadata": {},
   "outputs": [
    {
     "name": "stdout",
     "output_type": "stream",
     "text": [
      "Enter any sentence:Pratham singh is a good boy\n",
      "The longest word in a sentence: Pratham\n"
     ]
    }
   ],
   "source": [
    "text37 = input('Enter any sentence:')\n",
    "\n",
    "print('The longest word in a sentence:', max(text37.split(), key = len))\n",
    "    "
   ]
  },
  {
   "cell_type": "code",
   "execution_count": 146,
   "id": "7345d41f",
   "metadata": {},
   "outputs": [
    {
     "data": {
      "text/plain": [
       "'38. Create a program that filters a list of strings to include only those with more than three vowels using list comprehension.'"
      ]
     },
     "execution_count": 146,
     "metadata": {},
     "output_type": "execute_result"
    }
   ],
   "source": [
    "'''38. Create a program that filters a list of strings to include only those with more than three vowels using list comprehension.'''"
   ]
  },
  {
   "cell_type": "code",
   "execution_count": 147,
   "id": "edee616b",
   "metadata": {},
   "outputs": [
    {
     "name": "stdout",
     "output_type": "stream",
     "text": [
      "New list with which contain more than 3 vowels: ['Rauank Singh', 'Facebook', 'Independence', 'Notice Period']\n"
     ]
    }
   ],
   "source": [
    "list38 = ['Rauank Singh', 'Elephant', 'Facebook', 'Umbrella', 'Independence', 'Employment', 'Notice Period']\n",
    "\n",
    "new_list = [i for i in list38 if sum(1 for x in i if  x in 'aieouAEIOU') >3]\n",
    "\n",
    "print('New list with which contain more than 3 vowels:', new_list)\n"
   ]
  },
  {
   "cell_type": "code",
   "execution_count": 148,
   "id": "c9d98d6b",
   "metadata": {},
   "outputs": [
    {
     "name": "stdout",
     "output_type": "stream",
     "text": [
      "New list with which contain more than 3 vowels: ['pineapple', 'varanasi', 'entertainment']\n"
     ]
    }
   ],
   "source": [
    "list38 = ['apple', 'pineapple', 'orange', 'Pratham Singh', 'varanasi', 'entertainment', 'service']\n",
    "\n",
    "new_list = []\n",
    "\n",
    "for i in list38:\n",
    "    vowel_count = 0\n",
    "    for j in i:\n",
    "        if j in ['a', 'A', 'e', 'E', 'i', 'I', 'o', 'O', 'u', 'U']:\n",
    "            vowel_count+=1\n",
    "    if vowel_count >3:\n",
    "        new_list.append(i)\n",
    "\n",
    "print('New list with which contain more than 3 vowels:', new_list)"
   ]
  },
  {
   "cell_type": "code",
   "execution_count": 149,
   "id": "c5aa4d22",
   "metadata": {},
   "outputs": [
    {
     "data": {
      "text/plain": [
       "'39. Develop a program that calculates the sum of the digits of numbers from 1 to 1000 using list\\ncomprehension.'"
      ]
     },
     "execution_count": 149,
     "metadata": {},
     "output_type": "execute_result"
    }
   ],
   "source": [
    "'''39. Develop a program that calculates the sum of the digits of numbers from 1 to 1000 using list\n",
    "comprehension.'''"
   ]
  },
  {
   "cell_type": "code",
   "execution_count": 150,
   "id": "597b778f",
   "metadata": {},
   "outputs": [
    {
     "name": "stdout",
     "output_type": "stream",
     "text": [
      "Sum of the digits of numbers from 1 to 1000: 13501\n"
     ]
    }
   ],
   "source": [
    "sum_of_digits = sum(int(i) for j in range(1, 1001) for i in str(j))\n",
    "\n",
    "print('Sum of the digits of numbers from 1 to 1000:', sum_of_digits)"
   ]
  },
  {
   "cell_type": "code",
   "execution_count": 151,
   "id": "1dbc3391",
   "metadata": {},
   "outputs": [
    {
     "name": "stdout",
     "output_type": "stream",
     "text": [
      "Sum of the digits of numbers from 1 to 1000: 13501\n"
     ]
    }
   ],
   "source": [
    "sum_of_digits = 0\n",
    "for i in range(1001):\n",
    "    for j in str(i):\n",
    "        sum_of_digits += int(j)\n",
    "print('Sum of the digits of numbers from 1 to 1000:', sum_of_digits)\n",
    "        "
   ]
  },
  {
   "cell_type": "code",
   "execution_count": 152,
   "id": "f161053c",
   "metadata": {},
   "outputs": [
    {
     "data": {
      "text/plain": [
       "'40. Write a program that generates a list of prime palindromic numbers using list comprehension.'"
      ]
     },
     "execution_count": 152,
     "metadata": {},
     "output_type": "execute_result"
    }
   ],
   "source": [
    "'''40. Write a program that generates a list of prime palindromic numbers using list comprehension.'''"
   ]
  },
  {
   "cell_type": "code",
   "execution_count": 153,
   "id": "4ff52d9b",
   "metadata": {
    "scrolled": false
   },
   "outputs": [
    {
     "name": "stdout",
     "output_type": "stream",
     "text": [
      "Prime Palindromic Numbers: [1, 2, 3, 4, 5, 6, 7, 8, 9, 11, 22, 33, 44, 55, 66, 77, 88, 99]\n"
     ]
    }
   ],
   "source": [
    "p_pal_num = [i for i in range(1, 100) if all (i%j !=0 for j in range(2, int(i**0.05)+1)) and str(i) == str(i)[::-1]]\n",
    "print(\"Prime Palindromic Numbers:\", p_pal_num)"
   ]
  }
 ],
 "metadata": {
  "kernelspec": {
   "display_name": "Python 3",
   "language": "python",
   "name": "python3"
  },
  "language_info": {
   "codemirror_mode": {
    "name": "ipython",
    "version": 3
   },
   "file_extension": ".py",
   "mimetype": "text/x-python",
   "name": "python",
   "nbconvert_exporter": "python",
   "pygments_lexer": "ipython3",
   "version": "3.8.8"
  }
 },
 "nbformat": 4,
 "nbformat_minor": 5
}

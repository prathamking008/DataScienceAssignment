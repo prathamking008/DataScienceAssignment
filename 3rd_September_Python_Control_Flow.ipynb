{
 "cells": [
  {
   "cell_type": "code",
   "execution_count": 1,
   "id": "5d35fd87",
   "metadata": {},
   "outputs": [
    {
     "data": {
      "text/plain": [
       "'1. Write a Python program to check if a given number is positive or negative.'"
      ]
     },
     "execution_count": 1,
     "metadata": {},
     "output_type": "execute_result"
    }
   ],
   "source": [
    "'''1. Write a Python program to check if a given number is positive or negative.'''"
   ]
  },
  {
   "cell_type": "code",
   "execution_count": 5,
   "id": "3daa7f53",
   "metadata": {},
   "outputs": [
    {
     "name": "stdout",
     "output_type": "stream",
     "text": [
      "Enter any number:0\n",
      "Given number is neither positive nor negative.\n"
     ]
    }
   ],
   "source": [
    "num1 = int(input('Enter any number:'))\n",
    "\n",
    "if num1>0:\n",
    "    print('Given number {} is a positive number.'.format(num1))\n",
    "elif num1 <0:\n",
    "    print('Given number {} is a negative number.'.format(num1))\n",
    "else:\n",
    "    print('Given number is neither positive nor negative.')"
   ]
  },
  {
   "cell_type": "code",
   "execution_count": 4,
   "id": "018a450e",
   "metadata": {},
   "outputs": [
    {
     "data": {
      "text/plain": [
       "'2. Create a program that determines if a person is eligible to vote based on their age.'"
      ]
     },
     "execution_count": 4,
     "metadata": {},
     "output_type": "execute_result"
    }
   ],
   "source": [
    "'''2. Create a program that determines if a person is eligible to vote based on their age.'''"
   ]
  },
  {
   "cell_type": "code",
   "execution_count": 7,
   "id": "fc287ac1",
   "metadata": {},
   "outputs": [
    {
     "name": "stdout",
     "output_type": "stream",
     "text": [
      "Enter your age:12\n",
      "You are not eligible for vote.\n"
     ]
    }
   ],
   "source": [
    "age = int(input('Enter your age:'))\n",
    "\n",
    "if age >= 18:\n",
    "    print('You are eligible for vote.')\n",
    "else:\n",
    "    print('You are not eligible for vote.')"
   ]
  },
  {
   "cell_type": "code",
   "execution_count": 8,
   "id": "13767869",
   "metadata": {},
   "outputs": [
    {
     "data": {
      "text/plain": [
       "'3. Develop a program to find the maximum of two numbers using if-else statements.'"
      ]
     },
     "execution_count": 8,
     "metadata": {},
     "output_type": "execute_result"
    }
   ],
   "source": [
    "'''3. Develop a program to find the maximum of two numbers using if-else statements.'''"
   ]
  },
  {
   "cell_type": "code",
   "execution_count": 9,
   "id": "1b630a38",
   "metadata": {},
   "outputs": [
    {
     "name": "stdout",
     "output_type": "stream",
     "text": [
      "Enter first number:20\n",
      "Enter second number:12\n",
      "Number 20 is maximum\n"
     ]
    }
   ],
   "source": [
    "num1 = int(input('Enter first number:'))\n",
    "num2 = int(input('Enter second number:'))\n",
    "\n",
    "if num1 > num2:\n",
    "    print('Number {} is maximum'.format(num1))\n",
    "elif num2 > num1:\n",
    "    print('Number {} is maximum'.format(num2))\n",
    "else:\n",
    "    print('Both numbers are equal.')"
   ]
  },
  {
   "cell_type": "code",
   "execution_count": 10,
   "id": "ea2fdd7b",
   "metadata": {},
   "outputs": [
    {
     "data": {
      "text/plain": [
       "'4. Write a Python script to classify a given year as a leap year or not.'"
      ]
     },
     "execution_count": 10,
     "metadata": {},
     "output_type": "execute_result"
    }
   ],
   "source": [
    "'''4. Write a Python script to classify a given year as a leap year or not.'''"
   ]
  },
  {
   "cell_type": "code",
   "execution_count": 12,
   "id": "ee64b99f",
   "metadata": {},
   "outputs": [
    {
     "name": "stdout",
     "output_type": "stream",
     "text": [
      "Enter any year:2023\n",
      "Given year is not a leap year.\n"
     ]
    }
   ],
   "source": [
    "year = int(input('Enter any year:'))\n",
    "\n",
    "if year%4 == 0:\n",
    "    print('Given year is a leap year.')\n",
    "else:\n",
    "    print('Given year is not a leap year.')"
   ]
  },
  {
   "cell_type": "code",
   "execution_count": 13,
   "id": "b76af4d8",
   "metadata": {},
   "outputs": [
    {
     "data": {
      "text/plain": [
       "'5. Create a program that checks whether a character is a vowel or a consonant.'"
      ]
     },
     "execution_count": 13,
     "metadata": {},
     "output_type": "execute_result"
    }
   ],
   "source": [
    "'''5. Create a program that checks whether a character is a vowel or a consonant.'''"
   ]
  },
  {
   "cell_type": "code",
   "execution_count": 16,
   "id": "0eeeb5bd",
   "metadata": {},
   "outputs": [
    {
     "name": "stdout",
     "output_type": "stream",
     "text": [
      "Enter any character:r\n",
      "Given character is not vowel.\n"
     ]
    }
   ],
   "source": [
    "char5 = input('Enter any character:')\n",
    "\n",
    "if char5 in 'aeiouAEIOU':\n",
    "    print('Given character is vowel.')\n",
    "else:\n",
    "    print('Given character is not vowel.')"
   ]
  },
  {
   "cell_type": "code",
   "execution_count": 17,
   "id": "0fe65b2c",
   "metadata": {},
   "outputs": [
    {
     "data": {
      "text/plain": [
       "'6. Implement a program to determine whether a given number is even or odd.'"
      ]
     },
     "execution_count": 17,
     "metadata": {},
     "output_type": "execute_result"
    }
   ],
   "source": [
    "'''6. Implement a program to determine whether a given number is even or odd.'''"
   ]
  },
  {
   "cell_type": "code",
   "execution_count": 18,
   "id": "ee82ca49",
   "metadata": {},
   "outputs": [
    {
     "name": "stdout",
     "output_type": "stream",
     "text": [
      "Enter any number:12\n",
      "Given number is even number.\n"
     ]
    }
   ],
   "source": [
    "num6 = int(input('Enter any number:'))\n",
    "\n",
    "if num6%2 == 0:\n",
    "    print('Given number is even number.')\n",
    "elif num6%2 != 0:\n",
    "    print('Given number is odd number.')\n",
    "else:\n",
    "    print('Please enter a valid number.')"
   ]
  },
  {
   "cell_type": "code",
   "execution_count": 19,
   "id": "cb0df75a",
   "metadata": {},
   "outputs": [
    {
     "data": {
      "text/plain": [
       "'7. Write a Python function to calculate the absolute value of a number without using the `abs()` function.'"
      ]
     },
     "execution_count": 19,
     "metadata": {},
     "output_type": "execute_result"
    }
   ],
   "source": [
    "'''7. Write a Python function to calculate the absolute value of a number without using the `abs()` function.'''"
   ]
  },
  {
   "cell_type": "code",
   "execution_count": 22,
   "id": "0ac4d77b",
   "metadata": {},
   "outputs": [
    {
     "name": "stdout",
     "output_type": "stream",
     "text": [
      "Enter any number:12\n",
      "Absolute value of 12 is: 12\n"
     ]
    }
   ],
   "source": [
    "num7 = int(input('Enter any number:'))\n",
    "\n",
    "if num7 < 0:\n",
    "    print('Absolute value of {} is:'.format(num7), -num7)\n",
    "else:\n",
    "    print('Absolute value of {} is:'.format(num7), num7)"
   ]
  },
  {
   "cell_type": "code",
   "execution_count": 23,
   "id": "0146ab9d",
   "metadata": {},
   "outputs": [
    {
     "data": {
      "text/plain": [
       "'8. Develop a program that determines the largest of three given numbers using if-else statements.'"
      ]
     },
     "execution_count": 23,
     "metadata": {},
     "output_type": "execute_result"
    }
   ],
   "source": [
    "'''8. Develop a program that determines the largest of three given numbers using if-else statements.'''"
   ]
  },
  {
   "cell_type": "code",
   "execution_count": 31,
   "id": "c2f030be",
   "metadata": {},
   "outputs": [
    {
     "name": "stdout",
     "output_type": "stream",
     "text": [
      "Enter first number:2.5\n",
      "Enter second number:103.3\n",
      "Enter third number:2\n",
      "103.3 is the largest number.\n"
     ]
    }
   ],
   "source": [
    "num1 = float(input('Enter first number:'))\n",
    "num2 = float(input('Enter second number:'))\n",
    "num3 = float(input('Enter third number:'))\n",
    "\n",
    "if num1 > num2 and num1 > num3:\n",
    "    print('{} is the largest number.'.format(num1))\n",
    "elif num2 > num3 and num2 > num1:\n",
    "    print('{} is the largest number.'.format(num2))\n",
    "elif num3 > num1 and num3 > num2:\n",
    "    print('{} is the largest number.'.format(num3))\n",
    "else:\n",
    "    print('All numbers are equal.')"
   ]
  },
  {
   "cell_type": "code",
   "execution_count": 32,
   "id": "536c4b8f",
   "metadata": {},
   "outputs": [
    {
     "data": {
      "text/plain": [
       "'9. Create a program that checks if a given string is a palindrome.'"
      ]
     },
     "execution_count": 32,
     "metadata": {},
     "output_type": "execute_result"
    }
   ],
   "source": [
    "'''9. Create a program that checks if a given string is a palindrome.'''"
   ]
  },
  {
   "cell_type": "code",
   "execution_count": 34,
   "id": "b2063739",
   "metadata": {},
   "outputs": [
    {
     "name": "stdout",
     "output_type": "stream",
     "text": [
      "Enter any string:apple\n",
      "Given string is not a palindrome.\n"
     ]
    }
   ],
   "source": [
    "text9 = input('Enter any string:')\n",
    "\n",
    "if text9 == text9[::-1]:\n",
    "    print('Given string is a palindrome.')\n",
    "else:\n",
    "    print('Given string is not a palindrome.')"
   ]
  },
  {
   "cell_type": "code",
   "execution_count": 35,
   "id": "6b8860af",
   "metadata": {},
   "outputs": [
    {
     "data": {
      "text/plain": [
       "\"10. Write a Python program to calculate the grade based on a student's score.\""
      ]
     },
     "execution_count": 35,
     "metadata": {},
     "output_type": "execute_result"
    }
   ],
   "source": [
    "'''10. Write a Python program to calculate the grade based on a student's score.'''"
   ]
  },
  {
   "cell_type": "code",
   "execution_count": 63,
   "id": "32536443",
   "metadata": {},
   "outputs": [
    {
     "name": "stdout",
     "output_type": "stream",
     "text": [
      "Enter student's score:46\n",
      "Grade B\n"
     ]
    }
   ],
   "source": [
    "marks = float(input(\"Enter student's score:\"))\n",
    "\n",
    "if marks > 90:\n",
    "    print('Grade A++')\n",
    "else:\n",
    "    if marks >80:\n",
    "        print('Grade A+')\n",
    "    else:\n",
    "        if marks >60:\n",
    "            print('Grade A')\n",
    "        else:\n",
    "            if marks > 45:\n",
    "                print('Grade B')\n",
    "            else:\n",
    "                if marks > 30:\n",
    "                    print('Grade A')\n",
    "                else:\n",
    "                    print('Fail')"
   ]
  },
  {
   "cell_type": "code",
   "execution_count": 38,
   "id": "c51bf7ab",
   "metadata": {},
   "outputs": [
    {
     "data": {
      "text/plain": [
       "'11. Write a program to find the largest among three numbers using nested if-else statements.'"
      ]
     },
     "execution_count": 38,
     "metadata": {},
     "output_type": "execute_result"
    }
   ],
   "source": [
    "'''11. Write a program to find the largest among three numbers using nested if-else statements.'''"
   ]
  },
  {
   "cell_type": "code",
   "execution_count": 42,
   "id": "9057895b",
   "metadata": {},
   "outputs": [
    {
     "name": "stdout",
     "output_type": "stream",
     "text": [
      "Enter first number.10\n",
      "Enter second number.30\n",
      "Enter third number.20\n",
      "30.0 is the greatest number.\n"
     ]
    }
   ],
   "source": [
    "a = float(input('Enter first number.'))\n",
    "b = float(input('Enter second number.'))\n",
    "c = float(input('Enter third number.'))\n",
    "\n",
    "if a>b:\n",
    "    if a>c:\n",
    "        print('{} is the greatest number.'.format(a))\n",
    "    else:\n",
    "        print('{} is the greatest number.'.format(c))\n",
    "elif b>a:\n",
    "    if b>c:\n",
    "        print('{} is the greatest number.'.format(b))\n",
    "    else:\n",
    "        print('{} is the greatest number.'.format(c))"
   ]
  },
  {
   "cell_type": "code",
   "execution_count": 44,
   "id": "143e93e9",
   "metadata": {},
   "outputs": [
    {
     "data": {
      "text/plain": [
       "'12. Implement a program to determine if a triangle is equilateral, isosceles, or scalene.'"
      ]
     },
     "execution_count": 44,
     "metadata": {},
     "output_type": "execute_result"
    }
   ],
   "source": [
    "'''12. Implement a program to determine if a triangle is equilateral, isosceles, or scalene.'''"
   ]
  },
  {
   "cell_type": "code",
   "execution_count": 63,
   "id": "c37526ef",
   "metadata": {},
   "outputs": [
    {
     "name": "stdout",
     "output_type": "stream",
     "text": [
      "Enter length of first side.10\n",
      "Enter length of second side.10\n",
      "Enter length of third side.11\n",
      "Given triangle is isosceles triangle.\n"
     ]
    }
   ],
   "source": [
    "side1 = float(input('Enter length of first side.'))\n",
    "side2 = float(input('Enter length of second side.'))\n",
    "side3 = float(input('Enter length of third side.'))\n",
    "\n",
    "if side1 != side2 and side1 != side3 and side2 != side3:\n",
    "    print('Given triangle is scalene triangle.')\n",
    "else:\n",
    "    if side1 == side2 or side2 == side3 or side1 == side3:\n",
    "        print('Given triangle is isosceles triangle.')\n",
    "    else:\n",
    "        print('Given triangle is equilateral triangle.')\n",
    "            "
   ]
  },
  {
   "cell_type": "code",
   "execution_count": 64,
   "id": "8fa550f5",
   "metadata": {},
   "outputs": [
    {
     "data": {
      "text/plain": [
       "'13. Develop a program that checks if a year is a leap year and also if it is a century year.'"
      ]
     },
     "execution_count": 64,
     "metadata": {},
     "output_type": "execute_result"
    }
   ],
   "source": [
    "'''13. Develop a program that checks if a year is a leap year and also if it is a century year.'''"
   ]
  },
  {
   "cell_type": "code",
   "execution_count": 67,
   "id": "131fdf45",
   "metadata": {},
   "outputs": [
    {
     "name": "stdout",
     "output_type": "stream",
     "text": [
      "Enter any year.800\n",
      "Given year is leap year.\n"
     ]
    }
   ],
   "source": [
    "year = int(input('Enter any year.'))\n",
    "\n",
    "if year%4 == 0 or (year%100 and year%400):\n",
    "    print('Given year is leap year.')\n",
    "else:\n",
    "    if year%100 == 0:\n",
    "        print('Given year is century year.')\n",
    "    else:\n",
    "        print('Given year is neither leap year nor century year.')"
   ]
  },
  {
   "cell_type": "code",
   "execution_count": 68,
   "id": "7ce3ea5a",
   "metadata": {},
   "outputs": [
    {
     "data": {
      "text/plain": [
       "'14. Write a Python script to determine if a number is positive, negative, or zero.'"
      ]
     },
     "execution_count": 68,
     "metadata": {},
     "output_type": "execute_result"
    }
   ],
   "source": [
    "'''14. Write a Python script to determine if a number is positive, negative, or zero.'''"
   ]
  },
  {
   "cell_type": "code",
   "execution_count": 72,
   "id": "49b4a205",
   "metadata": {},
   "outputs": [
    {
     "name": "stdout",
     "output_type": "stream",
     "text": [
      "Enter any number.-1\n",
      "Given number is negative.\n"
     ]
    }
   ],
   "source": [
    "num14 = float(input('Enter any number.'))\n",
    "\n",
    "if num14 == 0:\n",
    "    print('Given number is zero.')\n",
    "else:\n",
    "    if num14 > 0:\n",
    "        print('Given number is positive.')\n",
    "    else:\n",
    "        print('Given number is negative.')\n",
    "            "
   ]
  },
  {
   "cell_type": "code",
   "execution_count": 73,
   "id": "4057b0fd",
   "metadata": {},
   "outputs": [
    {
     "data": {
      "text/plain": [
       "'15. Create a program to check if a person is a teenager (between 13 and 19 years old).'"
      ]
     },
     "execution_count": 73,
     "metadata": {},
     "output_type": "execute_result"
    }
   ],
   "source": [
    "'''15. Create a program to check if a person is a teenager (between 13 and 19 years old).'''"
   ]
  },
  {
   "cell_type": "code",
   "execution_count": 2,
   "id": "ed1f305d",
   "metadata": {},
   "outputs": [
    {
     "name": "stdout",
     "output_type": "stream",
     "text": [
      "Enter person's age:20\n",
      "Person is not a teenager.\n"
     ]
    }
   ],
   "source": [
    "age = int(input('Enter person\\'s age:'))\n",
    "\n",
    "if age >= 13:\n",
    "    if age <= 19:\n",
    "        print(\"Person is a teenager.\")\n",
    "    else:\n",
    "        print('Person is not a teenager.')\n",
    "else:\n",
    "    print('Person is not a teenager.')"
   ]
  },
  {
   "cell_type": "code",
   "execution_count": 3,
   "id": "78137110",
   "metadata": {},
   "outputs": [
    {
     "data": {
      "text/plain": [
       "'16. Develop a program that determines the type of angle based on its measure (acute, obtuse, or right).'"
      ]
     },
     "execution_count": 3,
     "metadata": {},
     "output_type": "execute_result"
    }
   ],
   "source": [
    "'''16. Develop a program that determines the type of angle based on its measure (acute, obtuse, or right).'''"
   ]
  },
  {
   "cell_type": "code",
   "execution_count": 7,
   "id": "98535ff0",
   "metadata": {},
   "outputs": [
    {
     "name": "stdout",
     "output_type": "stream",
     "text": [
      "Enter value of angle.200\n",
      "Given angle is obtuse angle.\n"
     ]
    }
   ],
   "source": [
    "angle = float(input('Enter value of angle.'))\n",
    "\n",
    "if angle > 0:\n",
    "    if angle < 90:\n",
    "        print('Given angle is acute angle.')\n",
    "    else:\n",
    "        if angle == 90:\n",
    "            print('Given angle is right angle.')\n",
    "        elif angle > 90:\n",
    "            print('Given angle is obtuse angle.')"
   ]
  },
  {
   "cell_type": "code",
   "execution_count": 8,
   "id": "5fc119b7",
   "metadata": {},
   "outputs": [
    {
     "data": {
      "text/plain": [
       "'17. Write a Python program to calculate the roots of a quadratic equation.'"
      ]
     },
     "execution_count": 8,
     "metadata": {},
     "output_type": "execute_result"
    }
   ],
   "source": [
    "'''17. Write a Python program to calculate the roots of a quadratic equation.'''"
   ]
  },
  {
   "cell_type": "code",
   "execution_count": 17,
   "id": "afa7d8f9",
   "metadata": {},
   "outputs": [
    {
     "name": "stdout",
     "output_type": "stream",
     "text": [
      "Enter the coefficient a:2\n",
      "Enter the coefficient b:5\n",
      "Enter the coefficient c:3\n",
      "Value of first root is: -1.0\n",
      "Value of second root is: -1.5\n"
     ]
    }
   ],
   "source": [
    "a = float(input('Enter the coefficient a:'))\n",
    "b = float(input('Enter the coefficient b:'))\n",
    "c = float(input('Enter the coefficient c:'))\n",
    "\n",
    "D = b**2 - 4*a*c\n",
    "\n",
    "if D >= 0:\n",
    "    if D == 0:\n",
    "        root1 = -b/(2*a)\n",
    "        print('Both roots are equal and their value is:', root1)\n",
    "    if D > 0:\n",
    "        root1 = (-b + D**0.5)/(2*a)\n",
    "        root2 = (-b - D**0.5)/(2*a)\n",
    "        print('Value of first root is:', root1)\n",
    "        print('Value of second root is:', root2)\n",
    "else:\n",
    "    real_part = -b/(2*a)\n",
    "    imaginary_part = round((abs(D)**0.5)/(2*a), 2)\n",
    "    print(f'Value of first root is {real_part} + {imaginary_part}i' )\n",
    "    print(f'Value of second root is {real_part} + {imaginary_part}i')\n"
   ]
  },
  {
   "cell_type": "code",
   "execution_count": 19,
   "id": "73458bc8",
   "metadata": {},
   "outputs": [
    {
     "data": {
      "text/plain": [
       "'18. Implement a program to determine the day of the week based on a user-provided number (1 for Monday, 2\\nfor Tuesday, etc.).'"
      ]
     },
     "execution_count": 19,
     "metadata": {},
     "output_type": "execute_result"
    }
   ],
   "source": [
    "'''18. Implement a program to determine the day of the week based on a user-provided number (1 for Monday, 2\n",
    "for Tuesday, etc.).'''"
   ]
  },
  {
   "cell_type": "code",
   "execution_count": 21,
   "id": "f0f13dd5",
   "metadata": {},
   "outputs": [
    {
     "name": "stdout",
     "output_type": "stream",
     "text": [
      "Enter any number:11\n",
      "Please enter number from 1 to 7\n"
     ]
    }
   ],
   "source": [
    "num18 = int(input('Enter any number:'))\n",
    "\n",
    "if num18 ==1:\n",
    "    print('The day of the week is Monday')\n",
    "elif num18 == 2:\n",
    "    print('The day of the week is Tuesday')\n",
    "elif num18 == 3:\n",
    "    print('The day of the week is Wednesday')\n",
    "elif num18 == 4:\n",
    "    print('The day of the week is Thursday')\n",
    "elif num18 == 5:\n",
    "    print('The day of the week is Friday')\n",
    "elif num18 == 6:\n",
    "    print('The day of the week is Saturday')\n",
    "elif num18 == 7:\n",
    "    print('The day of the week is Sunday')\n",
    "else:\n",
    "    print('Please enter number from 1 to 7')"
   ]
  },
  {
   "cell_type": "code",
   "execution_count": 25,
   "id": "6a787116",
   "metadata": {},
   "outputs": [
    {
     "name": "stdout",
     "output_type": "stream",
     "text": [
      "Enter any number(1 for Monday, 2 for Tuesday etc..):2\n",
      "Day of the week is: Tuesday\n"
     ]
    }
   ],
   "source": [
    "day_num = int(input('Enter any number(1 for Monday, 2 for Tuesday etc..):'))\n",
    "\n",
    "day_list = ['Monday', 'Tuesday', 'Wednesday', 'Thursday', 'Friday', 'Saturday', 'Sunday']\n",
    "\n",
    "if 1<= day_num<=7:\n",
    "    day_name = day_list[day_num-1]\n",
    "    print('Day of the week is:', day_name)\n",
    "else:\n",
    "    print('Please enter number from 1 to 7')"
   ]
  },
  {
   "cell_type": "code",
   "execution_count": 26,
   "id": "69c71be3",
   "metadata": {},
   "outputs": [
    {
     "data": {
      "text/plain": [
       "'19. Create a program that determines if a year is a leap year and also if it is evenly divisible by 400.'"
      ]
     },
     "execution_count": 26,
     "metadata": {},
     "output_type": "execute_result"
    }
   ],
   "source": [
    "'''19. Create a program that determines if a year is a leap year and also if it is evenly divisible by 400.'''"
   ]
  },
  {
   "cell_type": "code",
   "execution_count": 31,
   "id": "a4d25a68",
   "metadata": {},
   "outputs": [
    {
     "name": "stdout",
     "output_type": "stream",
     "text": [
      "Enter any year:232\n",
      "Given year is a leap year.\n"
     ]
    }
   ],
   "source": [
    "year19 = int(input('Enter any year:'))\n",
    "\n",
    "if (year19%4 == 0 and year19%100 !=0) or year19%400==0:\n",
    "    print('Given year is a leap year.')\n",
    "else:\n",
    "    print('Given year is not a leap year.')"
   ]
  },
  {
   "cell_type": "code",
   "execution_count": 32,
   "id": "bae51b94",
   "metadata": {},
   "outputs": [
    {
     "data": {
      "text/plain": [
       "'20. Develop a program that checks if a given number is prime or not using nested if-else statements.'"
      ]
     },
     "execution_count": 32,
     "metadata": {},
     "output_type": "execute_result"
    }
   ],
   "source": [
    "'''20. Develop a program that checks if a given number is prime or not using nested if-else statements.'''"
   ]
  },
  {
   "cell_type": "code",
   "execution_count": 58,
   "id": "f41d528f",
   "metadata": {},
   "outputs": [
    {
     "name": "stdout",
     "output_type": "stream",
     "text": [
      "Enter any number: 2\n",
      "Given number is a prime number.\n"
     ]
    }
   ],
   "source": [
    "num20 = int(input('Enter any number: '))\n",
    "\n",
    "if num20<2:\n",
    "    print('Given number is not a prime number.')\n",
    "    \n",
    "else:\n",
    "    for i in range(2, int(num20**0.5)+1):\n",
    "        if num20%i == 0:\n",
    "            print('Given number is not a prime number.')\n",
    "            break\n",
    "    else:\n",
    "        print('Given number is a prime number.')\n"
   ]
  },
  {
   "cell_type": "code",
   "execution_count": 60,
   "id": "4eb112e0",
   "metadata": {},
   "outputs": [
    {
     "data": {
      "text/plain": [
       "'21. Write a Python program to assign grades based on different ranges of scores using elif statements.'"
      ]
     },
     "execution_count": 60,
     "metadata": {},
     "output_type": "execute_result"
    }
   ],
   "source": [
    "'''21. Write a Python program to assign grades based on different ranges of scores using elif statements.'''"
   ]
  },
  {
   "cell_type": "code",
   "execution_count": 67,
   "id": "f64e5d7b",
   "metadata": {},
   "outputs": [
    {
     "name": "stdout",
     "output_type": "stream",
     "text": [
      "Enter student's score: 88\n",
      "Grade A++\n"
     ]
    }
   ],
   "source": [
    "scores = float(input('Enter student\\'s score: '))\n",
    "\n",
    "if 90 >= scores >= 79:\n",
    "    print('Grade A++')\n",
    "elif 80 >= scores >= 69:\n",
    "    print('Grade A+')\n",
    "elif 70 >= scores >= 59:\n",
    "    print('Grade A')\n",
    "elif 60 >= scores >= 44:\n",
    "    print('Grade B')\n",
    "elif 45 >= scores >= 30:\n",
    "    print('Grade C')\n",
    "else:\n",
    "    print('Fail')"
   ]
  },
  {
   "cell_type": "code",
   "execution_count": 68,
   "id": "91023bd8",
   "metadata": {},
   "outputs": [
    {
     "data": {
      "text/plain": [
       "'22. Implement a program to determine the type of a triangle based on its angles.'"
      ]
     },
     "execution_count": 68,
     "metadata": {},
     "output_type": "execute_result"
    }
   ],
   "source": [
    "'''22. Implement a program to determine the type of a triangle based on its angles.'''"
   ]
  },
  {
   "cell_type": "code",
   "execution_count": 77,
   "id": "0d895bd5",
   "metadata": {},
   "outputs": [
    {
     "name": "stdout",
     "output_type": "stream",
     "text": [
      "Enter first angle:110\n",
      "Enter second angle:30\n",
      "Enter third angle:40\n",
      "Given triangle is Obtuse triangle.\n"
     ]
    }
   ],
   "source": [
    "angle1 = float(input('Enter first angle:'))\n",
    "angle2 = float(input('Enter second angle:'))\n",
    "angle3 = float(input('Enter third angle:'))\n",
    "\n",
    "if angle1 + angle2 + angle3 == 180:\n",
    "    if angle1 < 90 and angle2 < 90 and angle3 < 90:\n",
    "        print('Given triangle is Acute Triangle.')\n",
    "    elif angle1 == 90 or angle2 == 90 or angle3 == 90:\n",
    "        print('Given triangle is Right angles triangle.')\n",
    "    else:\n",
    "        print('Given triangle is Obtuse triangle.')\n",
    "else:\n",
    "    print('Triangle is not possible.')"
   ]
  },
  {
   "cell_type": "code",
   "execution_count": 78,
   "id": "464b96a3",
   "metadata": {},
   "outputs": [
    {
     "data": {
      "text/plain": [
       "\"23. Develop a program to categorize a given person's BMI into underweight, normal, overweight, or obese using\\nelif statements.\""
      ]
     },
     "execution_count": 78,
     "metadata": {},
     "output_type": "execute_result"
    }
   ],
   "source": [
    "'''23. Develop a program to categorize a given person's BMI into underweight, normal, overweight, or obese using\n",
    "elif statements.'''"
   ]
  },
  {
   "cell_type": "code",
   "execution_count": 8,
   "id": "9a2935bb",
   "metadata": {},
   "outputs": [
    {
     "name": "stdout",
     "output_type": "stream",
     "text": [
      "Enter person's weight(kg):74\n",
      "Enter person's height(m):160\n",
      "Person is underweight.\n"
     ]
    }
   ],
   "source": [
    "weight = float(input('Enter person\\'s weight(kg):'))\n",
    "height = float(input('Enter person\\'s height(m):'))\n",
    "                     \n",
    "BMI = weight/(height**2)\n",
    "                     \n",
    "if BMI < 18.5:\n",
    "    print('Person is underweight.')\n",
    "elif 18.5 <= BMI < 24.9:\n",
    "    print('Person is helthy i.e. Normal wight.')\n",
    "elif 24.9 <= BMI < 29.9:\n",
    "    print('Person is overweight.')\n",
    "else:\n",
    "    print('Person is obese.')"
   ]
  },
  {
   "cell_type": "code",
   "execution_count": 9,
   "id": "e589a5e4",
   "metadata": {},
   "outputs": [
    {
     "data": {
      "text/plain": [
       "'24. Create a program that determines whether a given number is positive, negative, or zero using elif\\nstatements.'"
      ]
     },
     "execution_count": 9,
     "metadata": {},
     "output_type": "execute_result"
    }
   ],
   "source": [
    "'''24. Create a program that determines whether a given number is positive, negative, or zero using elif\n",
    "statements.'''"
   ]
  },
  {
   "cell_type": "code",
   "execution_count": 15,
   "id": "0cece2a1",
   "metadata": {},
   "outputs": [
    {
     "name": "stdout",
     "output_type": "stream",
     "text": [
      "Enter any number:230\n",
      "Given number is positive.\n"
     ]
    }
   ],
   "source": [
    "num24 = int(input('Enter any number:'))\n",
    "\n",
    "if num24 == 0:\n",
    "    print('Given number is zero.')\n",
    "elif num24 > 0:\n",
    "    print('Given number is positive.')\n",
    "else:\n",
    "    print('Given number is negative.')"
   ]
  },
  {
   "cell_type": "code",
   "execution_count": 16,
   "id": "4a0f44e7",
   "metadata": {},
   "outputs": [
    {
     "data": {
      "text/plain": [
       "'25. Write a Python script to determine the type of a character (uppercase, lowercase, or special) using elif\\nstatements.'"
      ]
     },
     "execution_count": 16,
     "metadata": {},
     "output_type": "execute_result"
    }
   ],
   "source": [
    "'''25. Write a Python script to determine the type of a character (uppercase, lowercase, or special) using elif\n",
    "statements.'''"
   ]
  },
  {
   "cell_type": "code",
   "execution_count": 23,
   "id": "c98dfc00",
   "metadata": {},
   "outputs": [
    {
     "name": "stdout",
     "output_type": "stream",
     "text": [
      "Enter any character:1\n",
      "Given character is neither special charcater nor uppercase or lowercase.\n"
     ]
    }
   ],
   "source": [
    "char25 = input('Enter any character:')\n",
    "\n",
    "if char25 in '!@#$%^&*?':\n",
    "    print('Given character is special character.')\n",
    "elif char25.isupper() == True:\n",
    "    print('Given character is uppercase.')\n",
    "elif char25.islower() == True:\n",
    "    print('Given character is lowercase.')\n",
    "else:\n",
    "    print('Given character is neither special charcater nor uppercase or lowercase.')"
   ]
  },
  {
   "cell_type": "code",
   "execution_count": 24,
   "id": "c635455c",
   "metadata": {},
   "outputs": [
    {
     "data": {
      "text/plain": [
       "'26. Implement a program to calculate the discounted price based on different purchase amounts using elif\\nstatements.'"
      ]
     },
     "execution_count": 24,
     "metadata": {},
     "output_type": "execute_result"
    }
   ],
   "source": [
    "'''26. Implement a program to calculate the discounted price based on different purchase amounts using elif\n",
    "statements.'''"
   ]
  },
  {
   "cell_type": "code",
   "execution_count": 30,
   "id": "62987f01",
   "metadata": {},
   "outputs": [
    {
     "name": "stdout",
     "output_type": "stream",
     "text": [
      "Enter purchase amount:400\n",
      "Discounted Price is: 400.0\n"
     ]
    }
   ],
   "source": [
    "amount = float(input('Enter purchase amount:'))\n",
    "dis = 0\n",
    "\n",
    "if amount > 1000:\n",
    "    dis = 20\n",
    "    dis_price = amount - (amount*dis)/100\n",
    "    print('Discounted Price is:', dis_price)\n",
    "elif 1000 >= amount >= 500:\n",
    "    dis = 10\n",
    "    dis_price = amount - (amount*dis)/100\n",
    "    print('Discounted Price is:', dis_price)\n",
    "else:\n",
    "    dis = 0\n",
    "    print('Discounted Price is:', amount)\n",
    "    "
   ]
  },
  {
   "cell_type": "code",
   "execution_count": 31,
   "id": "fc53fc32",
   "metadata": {},
   "outputs": [
    {
     "data": {
      "text/plain": [
       "'27. Develop a program to calculate the electricity bill based on different consumption slabs using elif\\nstatements.'"
      ]
     },
     "execution_count": 31,
     "metadata": {},
     "output_type": "execute_result"
    }
   ],
   "source": [
    "'''27. Develop a program to calculate the electricity bill based on different consumption slabs using elif\n",
    "statements.'''"
   ]
  },
  {
   "cell_type": "code",
   "execution_count": 35,
   "id": "f9b31b79",
   "metadata": {},
   "outputs": [
    {
     "name": "stdout",
     "output_type": "stream",
     "text": [
      "Enter units for consumed electricity:50\n",
      "Electricity bill will be: 200.0\n"
     ]
    }
   ],
   "source": [
    "units = float(input('Enter units for consumed electricity:'))\n",
    "rate = 0\n",
    "bill = 0\n",
    "if units > 500:\n",
    "    rate = 10\n",
    "    print('Electricity bill will be:', units*rate)\n",
    "elif 500 >= units >=301:\n",
    "    rate = 8\n",
    "    print('Electricity bill will be:', units*rate)\n",
    "elif 300 >= units >= 101:\n",
    "    rate = 5\n",
    "    print('Electricity bill will be:', units*rate)\n",
    "else:\n",
    "    rate = 4\n",
    "    print('Electricity bill will be:', units*rate)"
   ]
  },
  {
   "cell_type": "code",
   "execution_count": 36,
   "id": "646b2552",
   "metadata": {},
   "outputs": [
    {
     "data": {
      "text/plain": [
       "'28. Create a program to determine the type of quadrilateral based on its angles and sides using elif\\nstatements.'"
      ]
     },
     "execution_count": 36,
     "metadata": {},
     "output_type": "execute_result"
    }
   ],
   "source": [
    "'''28. Create a program to determine the type of quadrilateral based on its angles and sides using elif\n",
    "statements.'''"
   ]
  },
  {
   "cell_type": "code",
   "execution_count": 39,
   "id": "342ab6e9",
   "metadata": {},
   "outputs": [
    {
     "name": "stdout",
     "output_type": "stream",
     "text": [
      "Enter 1st angle:90\n",
      "Enter 2nd angle:90\n",
      "Enter 3rd angle:90\n",
      "Enter 4th angle:90\n",
      "Enter 1st side:2\n",
      "Enter 2nd side:3\n",
      "Enter 3rd side:4\n",
      "Enter 4th side:5\n",
      "The quadrilateral is Rectangle\n"
     ]
    }
   ],
   "source": [
    "a1 = float(input('Enter 1st angle:'))\n",
    "a2 = float(input('Enter 2nd angle:'))\n",
    "a3 = float(input('Enter 3rd angle:'))\n",
    "a4 = float(input('Enter 4th angle:'))\n",
    "\n",
    "s1 = float(input('Enter 1st side:'))\n",
    "s2 = float(input('Enter 2nd side:'))\n",
    "s3 = float(input('Enter 3rd side:'))\n",
    "s4 = float(input('Enter 4th side:'))\n",
    "\n",
    "if a1 == a2 == a3 == a4 == 90:\n",
    "    if s1 == s2 == s3 == s3:\n",
    "        q_type = 'Square'\n",
    "    else:\n",
    "        q_type = 'Rectangle'\n",
    "elif a1 == a2 == a3 == a4:\n",
    "    q_type = 'Rhombus'\n",
    "elif s1 == s2 == s3 == s4:\n",
    "    if a1 == a2 == a3 == a4:\n",
    "        q_type = 'Square'\n",
    "    else:\n",
    "        q_type = 'Parallelogram'\n",
    "else:\n",
    "    q_type = 'General'\n",
    "\n",
    "print(f'The quadrilateral is {q_type}')\n"
   ]
  },
  {
   "cell_type": "code",
   "execution_count": 40,
   "id": "7917b1ae",
   "metadata": {},
   "outputs": [
    {
     "data": {
      "text/plain": [
       "'29. Write a Python script to determine the season based on a user-provided month using elif statements.'"
      ]
     },
     "execution_count": 40,
     "metadata": {},
     "output_type": "execute_result"
    }
   ],
   "source": [
    "'''29. Write a Python script to determine the season based on a user-provided month using elif statements.'''"
   ]
  },
  {
   "cell_type": "code",
   "execution_count": 45,
   "id": "73376b3a",
   "metadata": {},
   "outputs": [
    {
     "name": "stdout",
     "output_type": "stream",
     "text": [
      "Enter any month:april\n",
      "The season for april is Spring\n"
     ]
    }
   ],
   "source": [
    "month = input('Enter any month:')\n",
    "\n",
    "month = month.lower()\n",
    "\n",
    "if month in ['december', 'january', 'february']:\n",
    "    season = 'Winter'\n",
    "elif month in ['march', 'april', 'may']:\n",
    "    season = 'Spring'\n",
    "elif month in ['june', 'july', 'august']:\n",
    "    season = 'Summer'\n",
    "elif month in ['september', 'october', 'november']:\n",
    "    season = 'fall'\n",
    "else:\n",
    "    season = 'Invalid'\n",
    "\n",
    "if season != 'Invalid':\n",
    "    print(f'The season for {month} is {season}.')\n",
    "else:\n",
    "    print('Please enter a valid month.')"
   ]
  },
  {
   "cell_type": "code",
   "execution_count": 46,
   "id": "e1a2d740",
   "metadata": {},
   "outputs": [
    {
     "data": {
      "text/plain": [
       "'30. Implement a program to determine the type of a year (leap or common) and month (30 or 31 days) using\\nelif statements.'"
      ]
     },
     "execution_count": 46,
     "metadata": {},
     "output_type": "execute_result"
    }
   ],
   "source": [
    "'''30. Implement a program to determine the type of a year (leap or common) and month (30 or 31 days) using\n",
    "elif statements.'''"
   ]
  },
  {
   "cell_type": "code",
   "execution_count": 48,
   "id": "b432f86a",
   "metadata": {},
   "outputs": [
    {
     "name": "stdout",
     "output_type": "stream",
     "text": [
      "Enter any year:2023\n",
      "Enter any month(1-12):9\n",
      "Common-year: 30 days in month 9.\n"
     ]
    }
   ],
   "source": [
    "year = int(input('Enter any year:'))\n",
    "month = int(input('Enter any month(1-12):'))\n",
    "\n",
    "if (year%4 == 0 and year%100 !=0) or (year%400 == 0):\n",
    "    year_type = 'Leap year'\n",
    "else:\n",
    "    year_type = 'Common-year'\n",
    "    \n",
    "if month == 2:\n",
    "    if year_type == 'Leap year':\n",
    "        days = 29\n",
    "    else:\n",
    "        days = 28\n",
    "if month in [4, 6, 9, 11]:\n",
    "    days = 30\n",
    "else:\n",
    "    days = 31\n",
    "\n",
    "print(f'{year_type}: {days} days in month {month}.')\n"
   ]
  },
  {
   "cell_type": "code",
   "execution_count": 49,
   "id": "ce3ca76c",
   "metadata": {},
   "outputs": [
    {
     "data": {
      "text/plain": [
       "'1. Write a Python program that checks if a given number is positive, negative, or zero.'"
      ]
     },
     "execution_count": 49,
     "metadata": {},
     "output_type": "execute_result"
    }
   ],
   "source": [
    "'''1. Write a Python program that checks if a given number is positive, negative, or zero.'''"
   ]
  },
  {
   "cell_type": "code",
   "execution_count": 52,
   "id": "a66fe312",
   "metadata": {},
   "outputs": [
    {
     "name": "stdout",
     "output_type": "stream",
     "text": [
      "Enter any number:0\n",
      "Given number is zero.\n"
     ]
    }
   ],
   "source": [
    "num1 = int(input('Enter any number:'))\n",
    "\n",
    "if num1 == 0:\n",
    "    print('Given number is zero.')\n",
    "elif num1 > 0:\n",
    "    print('Given number is positive.')\n",
    "else:\n",
    "    print('Given number is negative.')"
   ]
  },
  {
   "cell_type": "code",
   "execution_count": 53,
   "id": "876d98a3",
   "metadata": {},
   "outputs": [
    {
     "data": {
      "text/plain": [
       "'2. Create a program to determine if a person is eligible to vote based on their age.'"
      ]
     },
     "execution_count": 53,
     "metadata": {},
     "output_type": "execute_result"
    }
   ],
   "source": [
    "'''2. Create a program to determine if a person is eligible to vote based on their age.'''"
   ]
  },
  {
   "cell_type": "code",
   "execution_count": 55,
   "id": "c7dc6a81",
   "metadata": {},
   "outputs": [
    {
     "name": "stdout",
     "output_type": "stream",
     "text": [
      "Enter your age:11\n",
      "You are not eligible for vote.\n"
     ]
    }
   ],
   "source": [
    "age2 = int(input('Enter your age:'))\n",
    "\n",
    "if age2 >= 18:\n",
    "    print('You are eligible for vote.')\n",
    "else:\n",
    "    print('You are not eligible for vote.')"
   ]
  },
  {
   "cell_type": "code",
   "execution_count": 56,
   "id": "bf14df94",
   "metadata": {},
   "outputs": [
    {
     "data": {
      "text/plain": [
       "'3. Write a program to find the maximum of two given numbers using conditional statements.'"
      ]
     },
     "execution_count": 56,
     "metadata": {},
     "output_type": "execute_result"
    }
   ],
   "source": [
    "'''3. Write a program to find the maximum of two given numbers using conditional statements.'''"
   ]
  },
  {
   "cell_type": "code",
   "execution_count": 58,
   "id": "1288289d",
   "metadata": {},
   "outputs": [
    {
     "name": "stdout",
     "output_type": "stream",
     "text": [
      "Enter 1st number:3.4\n",
      "Enter 2nd number:2.4\n",
      "3.4 is greater than 2.4.\n"
     ]
    }
   ],
   "source": [
    "num1 = float(input('Enter 1st number:'))\n",
    "num2 = float(input('Enter 2nd number:'))\n",
    "\n",
    "if num1 > num2:\n",
    "    print(f'{num1} is greater than {num2}.')\n",
    "else:\n",
    "    print(f'{num2} is greater than {num1}.')"
   ]
  },
  {
   "cell_type": "code",
   "execution_count": 59,
   "id": "a3efb45f",
   "metadata": {},
   "outputs": [
    {
     "data": {
      "text/plain": [
       "'4. Develop a program that calculates the grade of a student based on their exam score.'"
      ]
     },
     "execution_count": 59,
     "metadata": {},
     "output_type": "execute_result"
    }
   ],
   "source": [
    "'''4. Develop a program that calculates the grade of a student based on their exam score.'''"
   ]
  },
  {
   "cell_type": "code",
   "execution_count": 63,
   "id": "ea1030d6",
   "metadata": {},
   "outputs": [
    {
     "name": "stdout",
     "output_type": "stream",
     "text": [
      "Enter student's marks:99\n",
      "Grade of the student is A++.\n"
     ]
    }
   ],
   "source": [
    "score = float(input('Enter student\\'s marks:'))\n",
    "\n",
    "if score >= 90:\n",
    "    grade = 'A++'\n",
    "elif 89 >= score >= 80:\n",
    "    grade = 'A+'\n",
    "elif 79 >= score >= 60:\n",
    "    grade = 'A'\n",
    "elif 59 >= score >= 45:\n",
    "    grade = 'B'\n",
    "elif 44 >= score >= 30:\n",
    "    grade = 'C'\n",
    "else:\n",
    "    grade = 'F'\n",
    "\n",
    "print(f'Grade of the student is {grade}.')"
   ]
  },
  {
   "cell_type": "code",
   "execution_count": 64,
   "id": "cd95dd8f",
   "metadata": {},
   "outputs": [
    {
     "data": {
      "text/plain": [
       "'5. Create a program that checks if a year is a leap year or not.'"
      ]
     },
     "execution_count": 64,
     "metadata": {},
     "output_type": "execute_result"
    }
   ],
   "source": [
    "'''5. Create a program that checks if a year is a leap year or not.'''"
   ]
  },
  {
   "cell_type": "code",
   "execution_count": 66,
   "id": "8a974e90",
   "metadata": {},
   "outputs": [
    {
     "name": "stdout",
     "output_type": "stream",
     "text": [
      "Enter any year:2023\n",
      "Given year 2023 is not a leap year.\n"
     ]
    }
   ],
   "source": [
    "year5 = int(input('Enter any year:'))\n",
    "\n",
    "if (year5%4 == 0 and year5%100 != 0) or (year5%400 == 0):\n",
    "    print(f'Given year {year5} is a leap year.')\n",
    "else:\n",
    "    print(f'Given year {year5} is not a leap year.')"
   ]
  },
  {
   "cell_type": "code",
   "execution_count": 67,
   "id": "8f962399",
   "metadata": {},
   "outputs": [
    {
     "data": {
      "text/plain": [
       "\"6. Write a program to classify a triangle based on its sides' lengths.\""
      ]
     },
     "execution_count": 67,
     "metadata": {},
     "output_type": "execute_result"
    }
   ],
   "source": [
    "'''6. Write a program to classify a triangle based on its sides' lengths.'''"
   ]
  },
  {
   "cell_type": "code",
   "execution_count": 71,
   "id": "f903f52e",
   "metadata": {},
   "outputs": [
    {
     "name": "stdout",
     "output_type": "stream",
     "text": [
      "Enter 1st side:1\n",
      "Enter 2nd side:2\n",
      "Enter 3rd side:2\n",
      "Given triangle is isoceles triangle.\n"
     ]
    }
   ],
   "source": [
    "side1 = float(input('Enter 1st side:'))\n",
    "side2 = float(input('Enter 2nd side:'))\n",
    "side3 = float(input('Enter 3rd side:'))\n",
    "\n",
    "if side1 == side2 == side3:\n",
    "    print('Given triangle is equilateral triangle.')\n",
    "elif side1 == side2 or side1 == side3 or side2 == side3:\n",
    "    print('Given triangle is isoceles triangle.')\n",
    "else:\n",
    "    print('Given triangle is scalene triangle.')"
   ]
  },
  {
   "cell_type": "code",
   "execution_count": 72,
   "id": "9d6fb5a6",
   "metadata": {},
   "outputs": [
    {
     "data": {
      "text/plain": [
       "'7. Build a program that determines the largest of three given numbers.'"
      ]
     },
     "execution_count": 72,
     "metadata": {},
     "output_type": "execute_result"
    }
   ],
   "source": [
    "'''7. Build a program that determines the largest of three given numbers.'''"
   ]
  },
  {
   "cell_type": "code",
   "execution_count": 75,
   "id": "5d85259a",
   "metadata": {},
   "outputs": [
    {
     "name": "stdout",
     "output_type": "stream",
     "text": [
      "Enter 1st number:34\n",
      "Enter 2nd number:56\n",
      "Enter 3rd number:788\n",
      "The largest number among all three is 788.0.\n"
     ]
    }
   ],
   "source": [
    "num1 = float(input('Enter 1st number:'))\n",
    "num2 = float(input('Enter 2nd number:'))\n",
    "num3 = float(input('Enter 3rd number:'))\n",
    "\n",
    "if num1 > num2 and num1 > num3:\n",
    "    largest_num = num1\n",
    "elif num2 > num1 and num2 > num3:\n",
    "    largest_num = num2\n",
    "else:\n",
    "    largest_num = num3\n",
    "    \n",
    "print(f'The largest number among all three is {largest_num}.')"
   ]
  },
  {
   "cell_type": "code",
   "execution_count": 76,
   "id": "134e3700",
   "metadata": {},
   "outputs": [
    {
     "data": {
      "text/plain": [
       "'8. Develop a program that checks whether a character is a vowel or a consonant.'"
      ]
     },
     "execution_count": 76,
     "metadata": {},
     "output_type": "execute_result"
    }
   ],
   "source": [
    "'''8. Develop a program that checks whether a character is a vowel or a consonant.'''"
   ]
  },
  {
   "cell_type": "code",
   "execution_count": 84,
   "id": "dde1220b",
   "metadata": {},
   "outputs": [
    {
     "name": "stdout",
     "output_type": "stream",
     "text": [
      "Enter any character between a-z:\n",
      "Please enter one character.\n"
     ]
    }
   ],
   "source": [
    "char8 = input('Enter any character between a-z:')\n",
    "\n",
    "if len(char8) == 1:\n",
    "    if char8 in 'aeiouAEIOU':\n",
    "        print(f'Given character {char8} is vowel.')\n",
    "    else:\n",
    "        print(f'Given character {char8} is consonant.')\n",
    "else:\n",
    "    print('Please enter one character.')"
   ]
  },
  {
   "cell_type": "code",
   "execution_count": 85,
   "id": "185066d3",
   "metadata": {},
   "outputs": [
    {
     "data": {
      "text/plain": [
       "'9. Create a program to calculate the total cost of a shopping cart based on discounts.'"
      ]
     },
     "execution_count": 85,
     "metadata": {},
     "output_type": "execute_result"
    }
   ],
   "source": [
    "'''9. Create a program to calculate the total cost of a shopping cart based on discounts.'''"
   ]
  },
  {
   "cell_type": "code",
   "execution_count": 95,
   "id": "cbc71691",
   "metadata": {},
   "outputs": [
    {
     "name": "stdout",
     "output_type": "stream",
     "text": [
      "Enter total amount of shopping: 200\n",
      "The total cost after 0% discount is 200.0.\n"
     ]
    }
   ],
   "source": [
    "amount9 = float(input('Enter total amount of shopping: '))\n",
    "\n",
    "if amount9 > 1000:\n",
    "    dis = 10\n",
    "    total_cost = amount9*(100 - dis)/100\n",
    "elif 1000 >= amount9 >= 501:\n",
    "    dis = 5\n",
    "    total_cost = amount9*(100 - dis)/100\n",
    "else:\n",
    "    dis = 0\n",
    "    total_cost = amount9\n",
    "\n",
    "print(f'The total cost after {dis}% discount is {total_cost}.')"
   ]
  },
  {
   "cell_type": "code",
   "execution_count": 96,
   "id": "e4230075",
   "metadata": {},
   "outputs": [
    {
     "data": {
      "text/plain": [
       "'10. Write a program that checks if a given number is even or odd.'"
      ]
     },
     "execution_count": 96,
     "metadata": {},
     "output_type": "execute_result"
    }
   ],
   "source": [
    "'''10. Write a program that checks if a given number is even or odd.'''    "
   ]
  },
  {
   "cell_type": "code",
   "execution_count": 100,
   "id": "b4f6288e",
   "metadata": {},
   "outputs": [
    {
     "name": "stdout",
     "output_type": "stream",
     "text": [
      "Enter any number: 5\n",
      "Given number 5 is odd number.\n"
     ]
    }
   ],
   "source": [
    "num10 = int(input('Enter any number: '))\n",
    "\n",
    "if num10%2 == 0:\n",
    "    print(f'Given number {num10} is even number.')\n",
    "else:\n",
    "    print(f'Given number {num10} is odd number.')\n"
   ]
  },
  {
   "cell_type": "code",
   "execution_count": 101,
   "id": "5467de7c",
   "metadata": {},
   "outputs": [
    {
     "data": {
      "text/plain": [
       "'11. Write a program that calculates the roots of a quadratic equation .'"
      ]
     },
     "execution_count": 101,
     "metadata": {},
     "output_type": "execute_result"
    }
   ],
   "source": [
    "'''11. Write a program that calculates the roots of a quadratic equation .'''"
   ]
  },
  {
   "cell_type": "code",
   "execution_count": 119,
   "id": "db47f854",
   "metadata": {},
   "outputs": [
    {
     "name": "stdout",
     "output_type": "stream",
     "text": [
      "Enter coefficient value of x**2:2\n",
      "Enter coefficient value of x:10\n",
      "Enter value of constant:2\n",
      "First root is: -0.21\n",
      "Second root is: -4.79\n"
     ]
    }
   ],
   "source": [
    "a = float(input('Enter coefficient value of x**2:'))\n",
    "b = float(input('Enter coefficient value of x:'))\n",
    "c = float(input('Enter value of constant:'))\n",
    "\n",
    "d = (b**2 - 4*a*c)\n",
    "\n",
    "if d == 0:\n",
    "    root1 = root2 = (-b)/(2*a)\n",
    "    print('Both roots are equal and i.e.:', round(root1, 2))\n",
    "elif d > 0:\n",
    "    root1 = (-b + d**0.5)/(2*a)\n",
    "    root2 = (-b - d**0.5)/(2*a)\n",
    "    print('First root is:', round(root1, 2))\n",
    "    print('Second root is:', round(root2, 2))\n",
    "else:\n",
    "    real_part = -b/(2*a)\n",
    "    imag_part = round((abs(d)**0.5/(2*a)), 2)\n",
    "    print(f'First root is: {real_part} + {imag_part}i')\n",
    "    print(f'Second root is: {real_part} - {imag_part}i')"
   ]
  },
  {
   "cell_type": "code",
   "execution_count": 120,
   "id": "81db4f64",
   "metadata": {},
   "outputs": [
    {
     "data": {
      "text/plain": [
       "'12. Create a program that determines the day of the week based on the day number (1-7).'"
      ]
     },
     "execution_count": 120,
     "metadata": {},
     "output_type": "execute_result"
    }
   ],
   "source": [
    "'''12. Create a program that determines the day of the week based on the day number (1-7).'''"
   ]
  },
  {
   "cell_type": "code",
   "execution_count": 123,
   "id": "65148300",
   "metadata": {},
   "outputs": [
    {
     "name": "stdout",
     "output_type": "stream",
     "text": [
      "Enter any number from 1 to 7:4\n",
      "The day of the week is Thursday\n"
     ]
    }
   ],
   "source": [
    "num12 = int(input('Enter any number from 1 to 7:'))\n",
    "\n",
    "days_list = ['Monday', 'Tuesday', 'Wednesday', 'Thursday', 'Friday', 'Saturday', 'Sunday']\n",
    "\n",
    "print(f'The day of the week is {days_list[num12-1]}')"
   ]
  },
  {
   "cell_type": "code",
   "execution_count": 124,
   "id": "341e4849",
   "metadata": {},
   "outputs": [
    {
     "data": {
      "text/plain": [
       "'13. Develop a program that calculates the factorial of a given number using recursion.'"
      ]
     },
     "execution_count": 124,
     "metadata": {},
     "output_type": "execute_result"
    }
   ],
   "source": [
    "'''13. Develop a program that calculates the factorial of a given number using recursion.'''"
   ]
  },
  {
   "cell_type": "code",
   "execution_count": 8,
   "id": "9f2567dc",
   "metadata": {},
   "outputs": [
    {
     "name": "stdout",
     "output_type": "stream",
     "text": [
      "Enter any number.6\n",
      "The factorial value of 6 is: 720\n"
     ]
    }
   ],
   "source": [
    "num13 = int(input('Enter any number.'))\n",
    "\n",
    "if num13 < 0:\n",
    "    print('Please enter a non-negative integer.')\n",
    "else:\n",
    "    def factorial(num13):\n",
    "        if num13 == 0:\n",
    "            return 1\n",
    "        else:\n",
    "            return num13*factorial(num13-1)\n",
    "    result = factorial(num13)\n",
    "print(f'The factorial value of {num13} is: {result}')"
   ]
  },
  {
   "cell_type": "code",
   "execution_count": 9,
   "id": "1235d74c",
   "metadata": {},
   "outputs": [
    {
     "data": {
      "text/plain": [
       "'14. Write a program to find the largest among three numbers without using the `max()` function.'"
      ]
     },
     "execution_count": 9,
     "metadata": {},
     "output_type": "execute_result"
    }
   ],
   "source": [
    "'''14. Write a program to find the largest among three numbers without using the `max()` function.'''"
   ]
  },
  {
   "cell_type": "code",
   "execution_count": 13,
   "id": "4d3f2e30",
   "metadata": {},
   "outputs": [
    {
     "name": "stdout",
     "output_type": "stream",
     "text": [
      "Enter 1st number: 12\n",
      "Enter 2nd number: 1\n",
      "Enter 3rd number: 34\n",
      "The greatest number among all three is 34.0\n"
     ]
    }
   ],
   "source": [
    "num1 = float(input('Enter 1st number: '))\n",
    "num2 = float(input('Enter 2nd number: '))\n",
    "num3 = float(input('Enter 3rd number: '))\n",
    "\n",
    "if num1>num2 and num1>num3:\n",
    "    greatest_num = num1\n",
    "elif num2>num3 and num2>num1:\n",
    "    greatest_num = num2\n",
    "else:\n",
    "    greatest_num = num3\n",
    "print(f'The greatest number among all three is {greatest_num}')"
   ]
  },
  {
   "cell_type": "code",
   "execution_count": 14,
   "id": "a0a17cc0",
   "metadata": {},
   "outputs": [
    {
     "data": {
      "text/plain": [
       "'15. Create a program that simulates a basic ATM transaction menu.'"
      ]
     },
     "execution_count": 14,
     "metadata": {},
     "output_type": "execute_result"
    }
   ],
   "source": [
    "'''15. Create a program that simulates a basic ATM transaction menu.'''"
   ]
  },
  {
   "cell_type": "code",
   "execution_count": 19,
   "id": "444eea42",
   "metadata": {},
   "outputs": [
    {
     "name": "stdout",
     "output_type": "stream",
     "text": [
      "Enter your balance amount.400\n",
      "ATM menu\n",
      "1. Check balance.\n",
      "2. Deposit funds.\n",
      "3. Withdraw funds.\n",
      "4. Exit\n",
      "Enter any number from 1 to 4.4\n",
      "Thank you for using ATM. Have a nice day!\n"
     ]
    }
   ],
   "source": [
    "balance = float(input('Enter your balance amount.'))\n",
    "print('ATM menu')\n",
    "print('1. Check balance.')\n",
    "print('2. Deposit funds.')\n",
    "print('3. Withdraw funds.')\n",
    "print('4. Exit')\n",
    "\n",
    "choice = int(input('Enter any number from 1 to 4.'))\n",
    "\n",
    "if choice == 1:\n",
    "    print('Current balance is:', balance)\n",
    "elif choice == 2:\n",
    "    deposit = float(input('Enter the amount to deposit.'))\n",
    "    if deposit > 0:\n",
    "        balance = balance + deposit\n",
    "        print('Your updated balance is:', balance)\n",
    "    else:\n",
    "        print('Please enter valid amount.')\n",
    "elif choice == 3:\n",
    "    withdraw = float(input('Enter your withdraw amount:'))\n",
    "    if withdraw > 0:\n",
    "        balance -= withdraw\n",
    "        print('Your updated balance is:', balance)\n",
    "    else:\n",
    "        print('Please enter valid amount.')\n",
    "elif choice == 4:\n",
    "    print('Thank you for using ATM. Have a nice day!')\n",
    "else:\n",
    "    print('Please enter valid choice.')\n",
    "    "
   ]
  },
  {
   "cell_type": "code",
   "execution_count": 20,
   "id": "89da6f77",
   "metadata": {},
   "outputs": [
    {
     "data": {
      "text/plain": [
       "'16. Build a program that checks if a given string is a palindrome or not.'"
      ]
     },
     "execution_count": 20,
     "metadata": {},
     "output_type": "execute_result"
    }
   ],
   "source": [
    "'''16. Build a program that checks if a given string is a palindrome or not.'''"
   ]
  },
  {
   "cell_type": "code",
   "execution_count": 29,
   "id": "d9142314",
   "metadata": {},
   "outputs": [
    {
     "name": "stdout",
     "output_type": "stream",
     "text": [
      "Enter any string: dad\n",
      "Given string dad is palindrome.\n"
     ]
    }
   ],
   "source": [
    "text16 = input('Enter any string: ')\n",
    "text16 = text16.lower()\n",
    "\n",
    "\n",
    "if text16 == text16[::-1]:\n",
    "    print(f'Given string {text16} is palindrome.')\n",
    "else:\n",
    "    print(f'Given string {text16} is not palindrome.')"
   ]
  },
  {
   "cell_type": "code",
   "execution_count": null,
   "id": "cdff9550",
   "metadata": {},
   "outputs": [],
   "source": [
    "'''17. Write a program that calculates the average of a list of numbers, excluding the smallest and largest values.'''"
   ]
  },
  {
   "cell_type": "code",
   "execution_count": 39,
   "id": "7f7c800b",
   "metadata": {},
   "outputs": [
    {
     "name": "stdout",
     "output_type": "stream",
     "text": [
      "Sum of all elements is 177\n",
      "Average of a list of numbers, excluding smallest & largest values is 29.5\n"
     ]
    }
   ],
   "source": [
    "list17 = [20, 10, 2, 34, 45, 50, 19, 49]\n",
    "list17.sort()\n",
    "list17.pop()\n",
    "list17.remove(list17[0])\n",
    "sum17 = 0\n",
    "\n",
    "for i in list17:\n",
    "    sum17 += i\n",
    "print(f'Sum of all elements is {sum17}')\n",
    "print(f'Average of a list of numbers, excluding smallest & largest values is {sum17/len(list17)}')"
   ]
  },
  {
   "cell_type": "code",
   "execution_count": 40,
   "id": "2be218e5",
   "metadata": {},
   "outputs": [
    {
     "data": {
      "text/plain": [
       "'18. Develop a program that converts a given temperature from Celsius to Fahrenheit.'"
      ]
     },
     "execution_count": 40,
     "metadata": {},
     "output_type": "execute_result"
    }
   ],
   "source": [
    "'''18. Develop a program that converts a given temperature from Celsius to Fahrenheit.'''"
   ]
  },
  {
   "cell_type": "code",
   "execution_count": 43,
   "id": "7eeb5608",
   "metadata": {},
   "outputs": [
    {
     "name": "stdout",
     "output_type": "stream",
     "text": [
      "Enter temperature in celsius:100\n",
      "Temperature in Fahrengeit is: 212.0\n"
     ]
    }
   ],
   "source": [
    "temp = float(input('Enter temperature in celsius:'))\n",
    "\n",
    "temp_f = temp*(9/5) + 32\n",
    "\n",
    "print(f'Temperature in Fahrengeit is: {temp_f}')"
   ]
  },
  {
   "cell_type": "code",
   "execution_count": 44,
   "id": "1d9949e9",
   "metadata": {},
   "outputs": [
    {
     "data": {
      "text/plain": [
       "'19. Create a program that simulates a basic calculator for addition, subtraction, multiplication, and division.'"
      ]
     },
     "execution_count": 44,
     "metadata": {},
     "output_type": "execute_result"
    }
   ],
   "source": [
    "'''19. Create a program that simulates a basic calculator for addition, subtraction, multiplication, and division.'''"
   ]
  },
  {
   "cell_type": "code",
   "execution_count": 58,
   "id": "c671d3b9",
   "metadata": {},
   "outputs": [
    {
     "name": "stdout",
     "output_type": "stream",
     "text": [
      "Enter 1st number:100\n",
      "Enter 2nd number:20\n",
      "Please enter action to perform:^\n",
      "Plese enter valid choice.\n"
     ]
    }
   ],
   "source": [
    "num1 = float(input('Enter 1st number:'))\n",
    "num2 = float(input('Enter 2nd number:'))\n",
    "\n",
    "action = ['addition', 'subtraction', 'multiplication', 'division']\n",
    "\n",
    "choice = input('Please enter action to perform:')\n",
    "choice.lower()\n",
    "\n",
    "if choice in action:\n",
    "    if choice == action[0]:\n",
    "        result = num1+num2\n",
    "    elif choice == action[1]:\n",
    "        result = num1-num2\n",
    "    elif choice == action[2]:\n",
    "        result = num1*num2\n",
    "    elif choice == action[3]:\n",
    "        result = num1/num2\n",
    "    else:\n",
    "        pass\n",
    "    print(f'The {choice} of {num1} and {num2} is {result}')\n",
    "    \n",
    "print('Plese enter valid choice.')\n"
   ]
  },
  {
   "cell_type": "code",
   "execution_count": 59,
   "id": "951d5418",
   "metadata": {},
   "outputs": [
    {
     "data": {
      "text/plain": [
       "'20. Write a program that determines the roots of a cubic equation using the Cardano formula.'"
      ]
     },
     "execution_count": 59,
     "metadata": {},
     "output_type": "execute_result"
    }
   ],
   "source": [
    "'''20. Write a program that determines the roots of a cubic equation using the Cardano formula.'''"
   ]
  },
  {
   "cell_type": "code",
   "execution_count": 65,
   "id": "777481aa",
   "metadata": {},
   "outputs": [
    {
     "name": "stdout",
     "output_type": "stream",
     "text": [
      "Enter the coefficient of x^3 (a): 1\n",
      "Enter the coefficient of x^2 (b): 2\n",
      "Enter the coefficient of x (c): 3\n",
      "Enter the constant term (d): 4\n",
      "Root 1: (-1.1586479290530272-1.546868887231396j)\n",
      "Root 2: (-1.1586479290530272+1.546868887231396j)\n",
      "Root 3: (-0.606081762447588+0j)\n"
     ]
    }
   ],
   "source": [
    "import cmath\n",
    "\n",
    "a = float(input(\"Enter the coefficient of x^3 (a): \"))\n",
    "b = float(input(\"Enter the coefficient of x^2 (b): \"))\n",
    "c = float(input(\"Enter the coefficient of x (c): \"))\n",
    "d = float(input(\"Enter the constant term (d): \"))\n",
    "\n",
    "delta0 = b**2 - 3*a*c\n",
    "delta1 = 2*b**3 - 9*a*b*c + 27*a**2*d\n",
    "C = ((delta1 + cmath.sqrt(delta1**2 - 4*delta0**3)) / 2)**(1/3)\n",
    "u1 = (1 + 1j*cmath.sqrt(3)) / 2\n",
    "u2 = (1 - 1j*cmath.sqrt(3)) / 2\n",
    "\n",
    "root1 = (-1/(3*a)) * (b + u1*C + delta0/(u1*C))\n",
    "root2 = (-1/(3*a)) * (b + u2*C + delta0/(u2*C))\n",
    "root3 = (-1/(3*a)) * (b - C/(3*a) - (delta0/(u1*C*u2)))\n",
    "\n",
    "print(f\"Root 1: {root1}\")\n",
    "print(f\"Root 2: {root2}\")\n",
    "print(f\"Root 3: {root3}\")"
   ]
  },
  {
   "cell_type": "code",
   "execution_count": 66,
   "id": "0e1518b4",
   "metadata": {},
   "outputs": [
    {
     "data": {
      "text/plain": [
       "\"21. Create a program that calculates the income tax based on the user's income and tax brackets.\""
      ]
     },
     "execution_count": 66,
     "metadata": {},
     "output_type": "execute_result"
    }
   ],
   "source": [
    "'''21. Create a program that calculates the income tax based on the user's income and tax brackets.'''"
   ]
  },
  {
   "cell_type": "code",
   "execution_count": 68,
   "id": "3ed77cc4",
   "metadata": {},
   "outputs": [
    {
     "name": "stdout",
     "output_type": "stream",
     "text": [
      "Please enter your annual income:1000\n",
      "Your income tax based on your annual salary is 0\n"
     ]
    }
   ],
   "source": [
    "income = float(input('Please enter your annual income:'))\n",
    "\n",
    "if income > 1000000:\n",
    "    tax = 30\n",
    "    income_tax = income*(tax)/100\n",
    "elif 700000 >= income >500001:\n",
    "    tax = 20\n",
    "    income_tax = income*(tax)/100\n",
    "elif 500000 >= income >= 300001:\n",
    "    tax = 10\n",
    "    income_tax = income*(tax)/100\n",
    "else:\n",
    "    income_tax = 0\n",
    "    \n",
    "print(f'Your income tax based on your annual salary is {income_tax}')"
   ]
  },
  {
   "cell_type": "code",
   "execution_count": 69,
   "id": "2b077d8a",
   "metadata": {},
   "outputs": [
    {
     "data": {
      "text/plain": [
       "'22. Write a program that simulates a rock-paper-scissors game against the computer.'"
      ]
     },
     "execution_count": 69,
     "metadata": {},
     "output_type": "execute_result"
    }
   ],
   "source": [
    "'''22. Write a program that simulates a rock-paper-scissors game against the computer.'''"
   ]
  },
  {
   "cell_type": "code",
   "execution_count": 9,
   "id": "84d45c9b",
   "metadata": {},
   "outputs": [
    {
     "name": "stdout",
     "output_type": "stream",
     "text": [
      "Enter number of rounds you want to play:1\n",
      "\n",
      "Round 1 of 1\n",
      "Welcome to rock paper scissors game.\n",
      "Choose your move: rock, paper, or scissors.\n",
      "Your Choice:1\n",
      "Invalid choice! Please choose from rock, paper and scissors.\n",
      "Thanks for playing! Goodbye.\n"
     ]
    }
   ],
   "source": [
    "import random\n",
    "\n",
    "rounds = int(input('Enter number of rounds you want to play:'))\n",
    "\n",
    "for i in range(1, rounds+1):\n",
    "    print(f'\\nRound {i} of {rounds}')\n",
    "    print('Welcome to rock paper scissors game.')\n",
    "    print('Choose your move: rock, paper, or scissors.')\n",
    "    \n",
    "    player_choice =input('Your Choice:').strip().lower()\n",
    "    \n",
    "    if player_choice not in ['rock', 'paper', 'scissors']:\n",
    "        print('Invalid choice! Please choose from rock, paper and scissors.')\n",
    "        continue\n",
    "        \n",
    "    computer_choice = random.choice(['rock', 'paper', 'scissors'])\n",
    "    \n",
    "    print(f'Computer choice is: {computer_choice}')\n",
    "    \n",
    "    if player_choice == computer_choice:\n",
    "        print('It\\'s tie.')\n",
    "    elif (\n",
    "        (player_choice == 'rock' and computer_choice == 'scissors') or\n",
    "        (player_choice == 'scissors' and computer_choice == 'paper') or\n",
    "        (player_choice == 'paper' and computer_choice == 'rock')\n",
    "    ):\n",
    "        print('You win!')\n",
    "    else:\n",
    "        print('Computer wins!')\n",
    "\n",
    "print('Thanks for playing! Goodbye.')\n",
    "        "
   ]
  },
  {
   "cell_type": "code",
   "execution_count": 6,
   "id": "a5a4e162",
   "metadata": {},
   "outputs": [
    {
     "data": {
      "text/plain": [
       "'23. Develop a program that generates a random password based on user preferences (length, complexity).'"
      ]
     },
     "execution_count": 6,
     "metadata": {},
     "output_type": "execute_result"
    }
   ],
   "source": [
    "'''23. Develop a program that generates a random password based on user preferences (length, complexity).'''"
   ]
  },
  {
   "cell_type": "code",
   "execution_count": 13,
   "id": "f4c5e813",
   "metadata": {},
   "outputs": [
    {
     "name": "stdout",
     "output_type": "stream",
     "text": [
      "Enter the desired length of password:6\n",
      "Select complexity options\n",
      "1. Uppercase letters\n",
      "2. Lowercase letters\n",
      "3. Digits\n",
      "4. Special characters\n",
      "Enter any option from 1 to 4 what you want. (e.g. 1 2 ...etc): -\n",
      "Enter your choice.8\n",
      "Invalid choice! Please select at least one option\n"
     ]
    }
   ],
   "source": [
    "import random\n",
    "import random\n",
    "\n",
    "length = int(input('Enter the desired length of password:'))\n",
    "\n",
    "print('Select complexity options')\n",
    "print('1. Uppercase letters')\n",
    "print('2. Lowercase letters')\n",
    "print('3. Digits')\n",
    "print('4. Special characters')\n",
    "print('Enter any option from 1 to 4 what you want. (e.g. 1 2 ...etc): -')\n",
    "\n",
    "options = input('Enter your choice.')\n",
    "character_sets = []\n",
    "\n",
    "if '1' in options:\n",
    "    character_sets.append(string.ascii_upercase)\n",
    "if '2' in options:\n",
    "    character_sets.append(string.ascii_lowercase)\n",
    "if '3' in options:\n",
    "    character_sets.append(string.digits)\n",
    "if '4' in options:\n",
    "    character_sets.append(string.punctuation)\n",
    "    \n",
    "    \n",
    "if not character_sets:\n",
    "    print('Invalid choice! Please select at least one option')\n",
    "else:\n",
    "    all_characters = ''.join(character_sets)\n",
    "    \n",
    "    password = ''.join(random.choice(all_characters) for i in range(length))\n",
    "    \n",
    "    print(f'Generated password is: {password}')\n",
    "    "
   ]
  },
  {
   "cell_type": "code",
   "execution_count": 14,
   "id": "499448f9",
   "metadata": {},
   "outputs": [
    {
     "data": {
      "text/plain": [
       "'24. Create a program that implements a simple text-based adventure game with branching scenarios.'"
      ]
     },
     "execution_count": 14,
     "metadata": {},
     "output_type": "execute_result"
    }
   ],
   "source": [
    "'''24. Create a program that implements a simple text-based adventure game with branching scenarios.'''"
   ]
  },
  {
   "cell_type": "code",
   "execution_count": 19,
   "id": "0cfe27cd",
   "metadata": {},
   "outputs": [
    {
     "name": "stdout",
     "output_type": "stream",
     "text": [
      "Welcome to the adventure game!\n",
      "You find yourself standing at crossroad.\n",
      "Which path will you choose? (Left/Right)left\n",
      "You choose the left path.\n",
      "You will encounter a river.\n",
      "Do you want to swim across or take a raft.(swim or raft)swim\n",
      "You have successfully crossed the river.\n",
      "Thanks for playing.\n"
     ]
    }
   ],
   "source": [
    "print('Welcome to the adventure game!')\n",
    "\n",
    "print('You find yourself standing at crossroad.')\n",
    "\n",
    "choice = input('Which path will you choose? (Left/Right)').strip().lower()\n",
    "\n",
    "if choice == 'left':\n",
    "    print('You choose the left path.')\n",
    "    print('You will encounter a river.')\n",
    "    \n",
    "    crossing_choice = input('Do you want to swim across or take a raft.(swim or raft)').strip().lower()\n",
    "    \n",
    "    if crossing_choice == 'swim':\n",
    "        print('You have successfully crossed the river.')\n",
    "    elif crossing_choice == 'raft':\n",
    "        print('You took raft and completed the ride.')\n",
    "    else:\n",
    "        print('Invalid choice! You are stuck at riverside.')\n",
    "\n",
    "elif choice == 'right':\n",
    "    print('You choose the right path.')\n",
    "    print('You will see a signboard in French and that will help you.')\n",
    "    \n",
    "    crossing_choice = input('Can you read signboard in French? (Yes/No)').strip().lower()\n",
    "    \n",
    "    if crossing_choice == yes:\n",
    "        print('You read it and reached at distination.')\n",
    "    elif crossing_choice == no:\n",
    "        print('You need to take help from local.')\n",
    "    else:\n",
    "        print('Invalid choice! You are stuck at roadside.')\n",
    "\n",
    "else:\n",
    "    print('Please enter valid entry.')\n",
    "    \n",
    "print('Thanks for playing.')\n"
   ]
  },
  {
   "cell_type": "code",
   "execution_count": 20,
   "id": "3b928908",
   "metadata": {},
   "outputs": [
    {
     "data": {
      "text/plain": [
       "'25. Build a program that solves a linear equation for x, considering different cases.'"
      ]
     },
     "execution_count": 20,
     "metadata": {},
     "output_type": "execute_result"
    }
   ],
   "source": [
    "'''25. Build a program that solves a linear equation for x, considering different cases.'''"
   ]
  },
  {
   "cell_type": "code",
   "execution_count": 22,
   "id": "3def32a7",
   "metadata": {},
   "outputs": [
    {
     "name": "stdout",
     "output_type": "stream",
     "text": [
      "Please enter coefficient of x^2: 2\n",
      "Please enter coefficient of x: 2\n",
      "The value of x is -1.0\n"
     ]
    }
   ],
   "source": [
    "a = int(input('Please enter coefficient of x^2: '))\n",
    "b = int(input('Please enter coefficient of x: '))\n",
    "\n",
    "if a == 0:\n",
    "    if b == 0:\n",
    "        print('Infinite solution. Any value of x is a solution.')\n",
    "    else:\n",
    "        print('No solution. Equation is not valid.')\n",
    "else:\n",
    "    x = -b/a\n",
    "    print(f'The value of x is {x}')\n"
   ]
  },
  {
   "cell_type": "code",
   "execution_count": 23,
   "id": "30935703",
   "metadata": {},
   "outputs": [
    {
     "data": {
      "text/plain": [
       "'26. Write a program that simulates a basic quiz game with multiple-choice questions and scoring.'"
      ]
     },
     "execution_count": 23,
     "metadata": {},
     "output_type": "execute_result"
    }
   ],
   "source": [
    "'''26. Write a program that simulates a basic quiz game with multiple-choice questions and scoring.'''"
   ]
  },
  {
   "cell_type": "code",
   "execution_count": 60,
   "id": "5b6c72f5",
   "metadata": {},
   "outputs": [
    {
     "name": "stdout",
     "output_type": "stream",
     "text": [
      "\n",
      "Question 1: Who is the president of India?\n",
      "a) Indira Gandhi\n",
      "b) Druapadi Murmu\n",
      "c) APJ Abdul Kalam\n",
      "d) Pratibha Patil\n",
      "Enter your answer(a/b/c/d):b\n",
      "Correct!\n",
      "\n",
      "Question 2: Who is the prime misnister of Indai?\n",
      "a) Narendra Modi\n",
      "b) Amit Shah\n",
      "c) Jawaharlal Nehru\n",
      "d) Atal Bihari Vajpeyi\n",
      "Enter your answer(a/b/c/d):a\n",
      "Correct!\n",
      "\n",
      "Question 3: Who is the caption of India one day cricket team?\n",
      "a) Virat Kohli\n",
      "b) Hardik Pandya\n",
      "c) Rohit Sharma\n",
      "d) KL Rahul\n",
      "Enter your answer(a/b/c/d):d\n",
      "Incorrect! The correct answer is c\n",
      "Your score is: 2\n"
     ]
    }
   ],
   "source": [
    "questions = [{\n",
    "    'question': 'Who is the president of India?',\n",
    "    'choices': ['a) Indira Gandhi', 'b) Druapadi Murmu', 'c) APJ Abdul Kalam', 'd) Pratibha Patil'],\n",
    "    'answer': 'b'\n",
    "},\n",
    "{\n",
    "    'question': 'Who is the prime misnister of Indai?',\n",
    "    'choices': ['a) Narendra Modi', 'b) Amit Shah', 'c) Jawaharlal Nehru', 'd) Atal Bihari Vajpeyi'],\n",
    "    'answer': 'a'\n",
    "},\n",
    "{\n",
    "    'question': 'Who is the caption of India one day cricket team?',\n",
    "    'choices': ['a) Virat Kohli', 'b) Hardik Pandya', 'c) Rohit Sharma', 'd) KL Rahul'],\n",
    "    'answer': 'c'\n",
    "}\n",
    "]\n",
    "\n",
    "score = 0\n",
    "\n",
    "for i in range(len(questions)):\n",
    "    print('\\nQuestion '+ str(i+1)+':', questions[i]['question'])\n",
    "    for j in questions[i]['choices']:\n",
    "        print(j)\n",
    "    \n",
    "    user_answer = input('Enter your answer(a/b/c/d):').strip().lower()\n",
    "    \n",
    "    if user_answer == questions[i]['answer']:\n",
    "        print('Correct!')\n",
    "        score +=1\n",
    "    \n",
    "    else:\n",
    "        print('Incorrect! The correct answer is ' + questions[i]['answer'])\n",
    "\n",
    "print('Your score is:', score)"
   ]
  },
  {
   "cell_type": "code",
   "execution_count": 2,
   "id": "7be10258",
   "metadata": {},
   "outputs": [
    {
     "data": {
      "text/plain": [
       "'27. Develop a program that determines whether a given year is a prime number or not.'"
      ]
     },
     "execution_count": 2,
     "metadata": {},
     "output_type": "execute_result"
    }
   ],
   "source": [
    "'''27. Develop a program that determines whether a given year is a prime number or not.'''"
   ]
  },
  {
   "cell_type": "code",
   "execution_count": 14,
   "id": "d461b3e5",
   "metadata": {},
   "outputs": [
    {
     "name": "stdout",
     "output_type": "stream",
     "text": [
      "Enter any year:2023\n",
      "2023 is not a prime year.\n"
     ]
    }
   ],
   "source": [
    "year27 = int(input('Enter any year:'))\n",
    "\n",
    "if year27 <=1:\n",
    "    print('Given year is not a prime number.')\n",
    "else:\n",
    "    is_prime = True\n",
    "    for i in range(1, (int(year27*0.5)+1)):\n",
    "        if year27%i == 0:\n",
    "            is_prime = False\n",
    "            break\n",
    "\n",
    "if is_prime:\n",
    "    print(f'{year27} is a prime year.')\n",
    "else:\n",
    "    print(f'{year27} is not a prime year.')"
   ]
  },
  {
   "cell_type": "code",
   "execution_count": 15,
   "id": "3b37cf80",
   "metadata": {},
   "outputs": [
    {
     "data": {
      "text/plain": [
       "'28. Create a program that sorts three numbers in ascending order using conditional statements.'"
      ]
     },
     "execution_count": 15,
     "metadata": {},
     "output_type": "execute_result"
    }
   ],
   "source": [
    "'''28. Create a program that sorts three numbers in ascending order using conditional statements.'''"
   ]
  },
  {
   "cell_type": "code",
   "execution_count": 29,
   "id": "0144cde7",
   "metadata": {},
   "outputs": [
    {
     "name": "stdout",
     "output_type": "stream",
     "text": [
      "Sorted list in Descending order is: [100, 35, 12]\n",
      "Sorted list in Ascending order is: [12, 35, 100]\n"
     ]
    }
   ],
   "source": [
    "list28 = [12, 35, 100]\n",
    "sorted_list = []\n",
    "if list28[0] > list28[1] and list28[0] > list28[2]:\n",
    "    sorted_list.append(list28[0])\n",
    "    if list28[1] > list28[2]:\n",
    "        sorted_list.append(list28[1])\n",
    "        sorted_list.append(list28[2])\n",
    "    else:\n",
    "        sorted_list.append(list28[2])\n",
    "        sorted_list.append(list28[1])\n",
    "    print('Sorted list in Descending order is:', sorted_list)\n",
    "    print('Sorted list in Ascending order is:', sorted_list[::-1])\n",
    "\n",
    "elif list28[1] > list28[0] and list28[1] > list28[2]:\n",
    "    sorted_list.append(list28[1])\n",
    "    if list28[0] > list28[2]:\n",
    "        sorted_list.append(list28[0])\n",
    "        sorted_list.append(list28[2])\n",
    "    else:\n",
    "        sorted_list.append(list28[2])\n",
    "        sorted_list.append(list28[0])\n",
    "    print('Sorted list in Descending order is:', sorted_list)\n",
    "    print('Sorted list in Ascending order is:', sorted_list[::-1])\n",
    "else:\n",
    "    sorted_list.append(list28[2])\n",
    "    if list28[1] > list28[0]:\n",
    "        sorted_list.append(list28[1])\n",
    "        sorted_list.append(list28[0])\n",
    "    else:\n",
    "        sorted_list.append(list28[0])\n",
    "        sorted_list.append(list28[1])\n",
    "    print('Sorted list in Descending order is:', sorted_list)\n",
    "    print('Sorted list in Ascending order is:', sorted_list[::-1])\n",
    "    \n",
    "    \n"
   ]
  },
  {
   "cell_type": "code",
   "execution_count": 30,
   "id": "4810eb92",
   "metadata": {},
   "outputs": [
    {
     "data": {
      "text/plain": [
       "'29. Build a program that determines the roots of a quartic equation using numerical methods.'"
      ]
     },
     "execution_count": 30,
     "metadata": {},
     "output_type": "execute_result"
    }
   ],
   "source": [
    "'''29. Build a program that determines the roots of a quartic equation using numerical methods.'''"
   ]
  },
  {
   "cell_type": "code",
   "execution_count": 43,
   "id": "ba5ce943",
   "metadata": {},
   "outputs": [
    {
     "name": "stdout",
     "output_type": "stream",
     "text": [
      "Enter coefficient of X^2: 200\n",
      "Enter coefficient of x: 23\n",
      "Enter constant value: 3\n",
      "First root of quardatic equation will be -0.06 + 0.11i\n",
      "Second root of quardatic equation will be -0.06 + 0.11i\n"
     ]
    }
   ],
   "source": [
    "a = float(input('Enter coefficient of X^2: '))\n",
    "b = float(input('Enter coefficient of x: '))\n",
    "c = float(input('Enter constant value: '))\n",
    "\n",
    "d = (b**2) - (4*a*c)\n",
    "\n",
    "if d == 0:\n",
    "    root1 = root2 = (-b)/(2*a)\n",
    "    print('Both roots will be equal.i.e.:', root1)\n",
    "elif d>0:\n",
    "    root1 = round(((-b) + (d**0.5))/(2*a), 2)\n",
    "    root2 = round(((-b) - (d**0.5))/(2*a), 2)\n",
    "    print('First root of quardatic equation will be:', root1)\n",
    "    print('Second root of quardatic equation will be:', root2)\n",
    "else:\n",
    "    real_part = (-b)/(2*a)\n",
    "    imag_part = ((-d)**0.5)/(2*a)\n",
    "    #root1 = 'real_part' + '(imag_part)i'\n",
    "    print(f'First root of quardatic equation will be {round(real_part, 2)} + {round(imag_part, 2)}i')\n",
    "    print(f'Second root of quardatic equation will be {real_part:.2f} + {imag_part:.2f}i')\n",
    "    "
   ]
  },
  {
   "cell_type": "code",
   "execution_count": 44,
   "id": "b2547d35",
   "metadata": {},
   "outputs": [
    {
     "data": {
      "text/plain": [
       "\"30. Write a program that calculates the BMI (Body Mass Index) and provides health recommendations based\\non the user's input.\""
      ]
     },
     "execution_count": 44,
     "metadata": {},
     "output_type": "execute_result"
    }
   ],
   "source": [
    "'''30. Write a program that calculates the BMI (Body Mass Index) and provides health recommendations based\n",
    "on the user's input.'''"
   ]
  },
  {
   "cell_type": "code",
   "execution_count": 48,
   "id": "6c517d5a",
   "metadata": {},
   "outputs": [
    {
     "name": "stdout",
     "output_type": "stream",
     "text": [
      "Enter your weight in kilograms:62\n",
      "Enter your height in meters:1.6\n",
      "Your BMI is 24.218749999999996.\n",
      "Your category is Normal Weight.\n",
      "Recomandation: You are healthy. Please keep up the good work.\n"
     ]
    }
   ],
   "source": [
    "weight = float(input('Enter your weight in kilograms:'))\n",
    "height = float(input('Enter your height in meters:'))\n",
    "\n",
    "bmi = float(weight/(height**2))\n",
    "\n",
    "if bmi < 18.5:\n",
    "    category = 'Underweight'\n",
    "    recommendation = 'You need to gain some weight. Please consult a nutritionist.'\n",
    "elif 18.5 <=bmi <= 24.9:\n",
    "    category = 'Normal Weight'\n",
    "    recommendation = 'You are healthy. Please keep up the good work.'\n",
    "elif 25<= bmi <= 29.9:\n",
    "    category = 'Overwight'\n",
    "    recommendation = 'Consider loosing some weight through diet and excercise.'\n",
    "else:\n",
    "    category = 'Obese'\n",
    "    recommendation = 'It is important to loose weight for your health. Please consult a Doctor.'\n",
    "    \n",
    "print(f'Your BMI is {bmi}.')\n",
    "print(f'Your category is {category}.')\n",
    "print(f'Recomandation: {recommendation}')\n"
   ]
  },
  {
   "cell_type": "code",
   "execution_count": 49,
   "id": "03475f27",
   "metadata": {},
   "outputs": [
    {
     "data": {
      "text/plain": [
       "'31. Create a program that validates a password based on complexity rules (length, characters, etc.).'"
      ]
     },
     "execution_count": 49,
     "metadata": {},
     "output_type": "execute_result"
    }
   ],
   "source": [
    "'''31. Create a program that validates a password based on complexity rules (length, characters, etc.).'''"
   ]
  },
  {
   "cell_type": "code",
   "execution_count": 58,
   "id": "dc5b9289",
   "metadata": {},
   "outputs": [
    {
     "name": "stdout",
     "output_type": "stream",
     "text": [
      "Please enter your password: ptuiugjhkj\n",
      "Invalid password! Password must cotain at least one uppercase charaters.\n"
     ]
    }
   ],
   "source": [
    "password = input('Please enter your password: ')\n",
    "\n",
    "has_upper = any(char.isupper() for char in password)\n",
    "has_lower = any(char.islower() for char in password)\n",
    "has_digit = any(char.isdigit() for char in password)\n",
    "\n",
    "specail_charcters = '!@#$%^&*()-_=+[]{}<>?|'\n",
    "\n",
    "if len(password) < 8:\n",
    "    print('Invalid password! Password should be at least 8 characters long.')\n",
    "else:\n",
    "    if not has_upper:\n",
    "        print('Invalid password! Password must cotain at least one uppercase charaters.')\n",
    "    elif not has_lower:\n",
    "        print('Invalid password! Password must cotain at leats one lowercase charaters.')\n",
    "    elif not has_digit:\n",
    "        print('Invalid password! Password must cotain at least one digit charaters.')\n",
    "    elif not any(char in specail_charcters for char in password):\n",
    "        print('Invalid password! Password must cotain at least one specail charaters.')\n",
    "    else:\n",
    "        print('Password is valid.')"
   ]
  },
  {
   "cell_type": "code",
   "execution_count": 59,
   "id": "bf27ba57",
   "metadata": {},
   "outputs": [
    {
     "data": {
      "text/plain": [
       "'32. Develop a program that performs matrix addition and subtraction based on user input.'"
      ]
     },
     "execution_count": 59,
     "metadata": {},
     "output_type": "execute_result"
    }
   ],
   "source": [
    "'''32. Develop a program that performs matrix addition and subtraction based on user input.'''"
   ]
  },
  {
   "cell_type": "code",
   "execution_count": 64,
   "id": "d4cd9dc5",
   "metadata": {},
   "outputs": [
    {
     "name": "stdout",
     "output_type": "stream",
     "text": [
      "Enter the number of rows:2\n",
      "Enter the number of colums:2\n",
      "Enter the first matrix.\n",
      "Enter element at row 1, colums 110\n",
      "Enter element at row 1, colums 220\n",
      "Enter element at row 2, colums 130\n",
      "Enter element at row 2, colums 240\n",
      "Enter the second matrix.\n",
      "Enter element at row 1, colums 11\n",
      "Enter element at row 1, colums 22\n",
      "Enter element at row 2, colums 13\n",
      "Enter element at row 2, colums 24\n",
      "\n",
      "Matrix1:\n",
      "10.0 20.0\n",
      "30.0 40.0\n",
      "\n",
      "Matrix2:\n",
      "1.0 2.0\n",
      "3.0 4.0\n",
      "\n",
      "Matrix Sum:\n",
      "11.0 22.0\n",
      "33.0 44.0\n",
      "\n",
      "Matrix Difference:\n",
      "9.0 18.0\n",
      "27.0 36.0\n"
     ]
    }
   ],
   "source": [
    "rows = int(input('Enter the number of rows:'))\n",
    "colums = int(input('Enter the number of colums:'))\n",
    "\n",
    "print('Enter the first matrix.:')\n",
    "\n",
    "matrix1 = []\n",
    "\n",
    "for i in range(rows):\n",
    "    row =[]\n",
    "    for j in range(colums):\n",
    "        element = float(input(f'Enter element at row {i+1}, colums {j+1}'))\n",
    "        row.append(element)\n",
    "    matrix1.append(row)\n",
    "    \n",
    "print('Enter the second matrix.:')\n",
    "\n",
    "matrix2 = []\n",
    "\n",
    "for i in range(rows):\n",
    "    row = []\n",
    "    for j in range(colums):\n",
    "        element = float(input(f'Enter element at row {i+1}, colums {j+1}'))\n",
    "        row.append(element)\n",
    "    matrix2.append(row)\n",
    "    \n",
    "sum_matrix = []\n",
    "\n",
    "for i in range(rows):\n",
    "    row = []\n",
    "    for j in range(colums):\n",
    "        row.append(matrix1[i][j] + matrix2[i][j])\n",
    "    sum_matrix.append(row)\n",
    "    \n",
    "difference_matrix = []\n",
    "\n",
    "for i in range(rows):\n",
    "    row = []\n",
    "    for j in range(colums):\n",
    "        row.append(matrix1[i][j] - matrix2[i][j])\n",
    "    difference_matrix.append(row)\n",
    "\n",
    "print('\\nMatrix1:')\n",
    "\n",
    "for row in matrix1:\n",
    "    print(' '.join(map(str, row)))\n",
    "\n",
    "print('\\nMatrix2:')\n",
    "for row in matrix2:\n",
    "    print(' '.join(map(str, row)))\n",
    "\n",
    "print('\\nMatrix Sum:')\n",
    "for row in sum_matrix:\n",
    "    print(' '.join(map(str, row)))\n",
    "\n",
    "print('\\nMatrix Difference:')\n",
    "for row in difference_matrix:\n",
    "    print(' '.join(map(str, row)))\n"
   ]
  },
  {
   "cell_type": "code",
   "execution_count": 65,
   "id": "6e8e7ef4",
   "metadata": {},
   "outputs": [
    {
     "data": {
      "text/plain": [
       "'33. Write a program that calculates the greatest common divisor (GCD) of two numbers using the Euclidean\\nalgorithm.'"
      ]
     },
     "execution_count": 65,
     "metadata": {},
     "output_type": "execute_result"
    }
   ],
   "source": [
    "'''33. Write a program that calculates the greatest common divisor (GCD) of two numbers using the Euclidean\n",
    "algorithm.'''"
   ]
  },
  {
   "cell_type": "code",
   "execution_count": 67,
   "id": "267b1c53",
   "metadata": {},
   "outputs": [
    {
     "name": "stdout",
     "output_type": "stream",
     "text": [
      "Enter first number:300\n",
      "Enter second number:75\n",
      "Common divisor of 300 and 75 is [75, 25, 15, 5, 3, 1].\n",
      "Greatest common divisor of 300 and 75 is 75.\n"
     ]
    }
   ],
   "source": [
    "num1 = int(input('Enter first number:'))\n",
    "num2 = int(input('Enter second number:'))\n",
    "\n",
    "common_divisor = []\n",
    "\n",
    "if num1 < num2:\n",
    "    num1, num2 = num2, num1\n",
    "    \n",
    "for i in range(num2, 0, -1):\n",
    "    if num1%i == 0 and num2%i ==0:\n",
    "        gcd = i\n",
    "        common_divisor.append(i)\n",
    "print(f'Common divisor of {num1} and {num2} is {common_divisor}.')\n",
    "print(f'Greatest common divisor of {num1} and {num2} is {max(common_divisor)}.')"
   ]
  },
  {
   "cell_type": "code",
   "execution_count": 68,
   "id": "e95809a9",
   "metadata": {},
   "outputs": [
    {
     "data": {
      "text/plain": [
       "'34. Build a program that performs matrix multiplication using nested loops and conditional statements.'"
      ]
     },
     "execution_count": 68,
     "metadata": {},
     "output_type": "execute_result"
    }
   ],
   "source": [
    "'''34. Build a program that performs matrix multiplication using nested loops and conditional statements.'''"
   ]
  },
  {
   "cell_type": "code",
   "execution_count": 69,
   "id": "bffeac12",
   "metadata": {},
   "outputs": [
    {
     "name": "stdout",
     "output_type": "stream",
     "text": [
      "Enter number of rows.2\n",
      "Enter number of colums.2\n",
      "Enter the first matrix.\n",
      "\n",
      "Enter element at row 1, colums 1:1\n",
      "Enter element at row 1, colums 2:1\n",
      "Enter element at row 2, colums 1:1\n",
      "Enter element at row 2, colums 2:1\n",
      "Enter the second matrix.\n",
      "\n",
      "Enter element at row 1, colums 1:2\n",
      "Enter element at row 1, colums 2:2\n",
      "Enter element at row 2, colums 1:2\n",
      "Enter element at row 2, colums 2:2\n",
      "\n",
      "Matrix1\n",
      "1.0 1.0\n",
      "1.0 1.0\n",
      "\n",
      "Matrix2\n",
      "2.0 2.0\n",
      "2.0 2.0\n",
      "\n",
      "Matrix Multiplication\n",
      "2.0 2.0\n",
      "2.0 2.0\n"
     ]
    }
   ],
   "source": [
    "rows = int(input('Enter number of rows.'))\n",
    "colums = int(input('Enter number of colums.'))\n",
    "\n",
    "print('Enter the first matrix.\\n')\n",
    "\n",
    "matrix1 = []\n",
    "\n",
    "for i in range(rows):\n",
    "    row = []\n",
    "    for j in range(colums):\n",
    "        element = float(input(f'Enter element at row {i+1}, colums {j+1}:'))\n",
    "        row.append(element)\n",
    "    matrix1.append(row)\n",
    "    \n",
    "print('Enter the second matrix.\\n')\n",
    "\n",
    "matrix2 = []\n",
    "\n",
    "for i in range(rows):\n",
    "    row = []\n",
    "    for j in range(colums):\n",
    "        element = float(input(f'Enter element at row {i+1}, colums {j+1}:'))\n",
    "        row.append(element)\n",
    "    matrix2.append(row)\n",
    "\n",
    "matrix_multi = []\n",
    "\n",
    "for i in range(rows):\n",
    "    row = []\n",
    "    for j in range(colums):\n",
    "        row.append(matrix1[i][j]*matrix2[i][j])\n",
    "    matrix_multi.append(row)\n",
    "\n",
    "print('\\nMatrix1')\n",
    "for row in matrix1:\n",
    "    print(' '.join(map(str, row)))\n",
    "print('\\nMatrix2')\n",
    "for row in matrix2:\n",
    "    print(' '.join(map(str, row)))\n",
    "print('\\nMatrix Multiplication')\n",
    "for row in matrix_multi:\n",
    "    print(' '.join(map(str, row)))\n",
    "    "
   ]
  },
  {
   "cell_type": "code",
   "execution_count": 70,
   "id": "fe95258f",
   "metadata": {},
   "outputs": [
    {
     "data": {
      "text/plain": [
       "'35. Create a program that simulates a basic text-based tic-tac-toe game against the computer.'"
      ]
     },
     "execution_count": 70,
     "metadata": {},
     "output_type": "execute_result"
    }
   ],
   "source": [
    "'''35. Create a program that simulates a basic text-based tic-tac-toe game against the computer.'''"
   ]
  },
  {
   "cell_type": "code",
   "execution_count": 80,
   "id": "34a70af8",
   "metadata": {},
   "outputs": [
    {
     "name": "stdout",
     "output_type": "stream",
     "text": [
      "Welcome to tic-tac-toe game.\n",
      " 1 | 2 | 3 \n",
      "---+---+---\n",
      " 4 | 5 | 6 \n",
      "---+---+---\n",
      " 7 | 8 | 9 \n",
      "Your are X and computer is O. Let's play.\n",
      "Enter your move(1-9):4\n",
      "  |   |  \n",
      "---+---+---\n",
      "O |   |  \n",
      "---+---+---\n",
      "  |   |  \n",
      "Enter your move(1-9):2\n",
      "  |   |  \n",
      "---+---+---\n",
      "O |   | O\n",
      "---+---+---\n",
      "  |   |  \n",
      "Enter your move(1-9):4\n",
      "Invalid move. Try again!\n",
      "  |   |  \n",
      "---+---+---\n",
      "O | O | O\n",
      "---+---+---\n",
      "  |   |  \n",
      "Computer Wins. Better luck next time!\n"
     ]
    }
   ],
   "source": [
    "import random\n",
    "\n",
    "board = [' ' for _ in range(9)]\n",
    "\n",
    "print('Welcome to tic-tac-toe game.')\n",
    "print(' 1 | 2 | 3 ')\n",
    "print('---+---+---')\n",
    "print(' 4 | 5 | 6 ')\n",
    "print('---+---+---')\n",
    "print(' 7 | 8 | 9 ')\n",
    "\n",
    "print('Your are X and computer is O. Let\\'s play.')\n",
    "\n",
    "for _ in range(9):\n",
    "    player_move = int(input('Enter your move(1-9):')) - 1\n",
    "    if board[player_move] == ' ':\n",
    "        board[player_move] == 'X'\n",
    "    else:\n",
    "        print('Invalid move. Try again!')\n",
    "    \n",
    "    if (board[0]== board[1] == board[2] == 'X' or\n",
    "       board[3] == board[4] == board[5] == 'X' or\n",
    "       board[6] == board[7] == board[8] == 'X' or\n",
    "       board[0] == board[3] == board[6] == 'X' or\n",
    "       board[1] == board[4] == board[7] == 'X' or\n",
    "       board[2] == board[5] == board[8] == 'X' or\n",
    "       board[0] == board[4] == board[8] == 'X' or\n",
    "       board[2] == board[4] == board[6] == 'X'):\n",
    "        print('You win. Congratulations!')\n",
    "        break\n",
    "    if ' ' not in board:\n",
    "        print('It\\'s tie.')\n",
    "        break\n",
    "    computer_move = random.choice([i for i in range(9) if board[i] == ' '])\n",
    "    board[computer_move] = 'O'\n",
    "    \n",
    "    print(f'{board[0]} | {board[1]} | {board[2]}')\n",
    "    print('---+---+---')\n",
    "    print(f'{board[3]} | {board[4]} | {board[5]}')\n",
    "    print('---+---+---')\n",
    "    print(f'{board[6]} | {board[7]} | {board[8]}')\n",
    "\n",
    "\n",
    "    if (board[0] == board[1] == board[2] == 'O' or\n",
    "        board[3] == board[4] == board[5] == 'O' or\n",
    "        board[6] == board[7] == board[8] == 'O' or\n",
    "        board[0] == board[3] == board[6] == 'O' or\n",
    "        board[1] == board[4] == board[7] == 'O' or\n",
    "        board[2] == board[5] == board[8] == 'O' or\n",
    "        board[0] == board[4] == board[8] == 'O' or\n",
    "        board[2] == board[4] == board[6] == 'O'):\n",
    "        print('Computer Wins. Better luck next time!')\n",
    "        break\n"
   ]
  },
  {
   "cell_type": "code",
   "execution_count": 81,
   "id": "90429c1e",
   "metadata": {},
   "outputs": [
    {
     "data": {
      "text/plain": [
       "'36. Write a program that generates Fibonacci numbers up to a specified term using iterative methods.'"
      ]
     },
     "execution_count": 81,
     "metadata": {},
     "output_type": "execute_result"
    }
   ],
   "source": [
    "'''36. Write a program that generates Fibonacci numbers up to a specified term using iterative methods.'''"
   ]
  },
  {
   "cell_type": "code",
   "execution_count": 1,
   "id": "acaad36f",
   "metadata": {},
   "outputs": [
    {
     "data": {
      "text/plain": [
       "55"
      ]
     },
     "execution_count": 1,
     "metadata": {},
     "output_type": "execute_result"
    }
   ],
   "source": [
    "def gen_fib(n):\n",
    "    if n<=1:\n",
    "        return n\n",
    "    else:\n",
    "        return gen_fib(n-1)+gen_fib(n-2)\n",
    "    \n",
    "gen_fib(10)"
   ]
  },
  {
   "cell_type": "code",
   "execution_count": 2,
   "id": "a69a2903",
   "metadata": {},
   "outputs": [
    {
     "data": {
      "text/plain": [
       "'38. Create a program that generates a calendar for a given month and year using conditional statements.'"
      ]
     },
     "execution_count": 2,
     "metadata": {},
     "output_type": "execute_result"
    }
   ],
   "source": [
    "'''38. Create a program that generates a calendar for a given month and year using conditional statements.'''"
   ]
  },
  {
   "cell_type": "code",
   "execution_count": 5,
   "id": "d95926d4",
   "metadata": {},
   "outputs": [
    {
     "name": "stdout",
     "output_type": "stream",
     "text": [
      "Enter year (e.g., 2023):2023\n",
      "Enter month(1-12):9\n",
      "Calendar for September 2023:\n",
      "\n",
      "   September 2023\n",
      "Mo Tu We Th Fr Sa Su\n",
      "             1  2  3\n",
      " 4  5  6  7  8  9 10\n",
      "11 12 13 14 15 16 17\n",
      "18 19 20 21 22 23 24\n",
      "25 26 27 28 29 30\n",
      "\n"
     ]
    }
   ],
   "source": [
    "import calendar\n",
    "\n",
    "year = int(input('Enter year (e.g., 2023):'))\n",
    "month = int(input('Enter month(1-12):'))\n",
    "\n",
    "if month <1 or month > 12:\n",
    "    print('Invlid input. Please enter a number between 1-12')\n",
    "else:\n",
    "    cal = calendar.month(year, month)\n",
    "    print(f'Calendar for {calendar.month_name[month]} {year}:\\n')\n",
    "    print(cal)\n",
    "    "
   ]
  },
  {
   "cell_type": "code",
   "execution_count": 6,
   "id": "bf22cfa5",
   "metadata": {},
   "outputs": [
    {
     "data": {
      "text/plain": [
       "'39. Build a program that simulates a basic text-based blackjack game against the computer.'"
      ]
     },
     "execution_count": 6,
     "metadata": {},
     "output_type": "execute_result"
    }
   ],
   "source": [
    "'''39. Build a program that simulates a basic text-based blackjack game against the computer.'''"
   ]
  },
  {
   "cell_type": "code",
   "execution_count": 7,
   "id": "91083934",
   "metadata": {},
   "outputs": [
    {
     "data": {
      "text/plain": [
       "'40. Write a program that generates the prime factors of a given number using trial division.'"
      ]
     },
     "execution_count": 7,
     "metadata": {},
     "output_type": "execute_result"
    }
   ],
   "source": [
    "'''40. Write a program that generates the prime factors of a given number using trial division.'''"
   ]
  },
  {
   "cell_type": "code",
   "execution_count": 16,
   "id": "10077bd1",
   "metadata": {},
   "outputs": [
    {
     "name": "stdout",
     "output_type": "stream",
     "text": [
      "Enter a number: 15\n",
      "Prime factors of 15 are: 3, 5\n"
     ]
    }
   ],
   "source": [
    "number = int(input(\"Enter a number: \"))\n",
    "numbers = number\n",
    "\n",
    "if number <= 1:\n",
    "    print(\"Prime factors are not defined for numbers less than or equal to 1.\")\n",
    "else:\n",
    "    factors = []\n",
    "    divisor = 2\n",
    "\n",
    "    for divisor in range(2, number + 1):\n",
    "        if number % divisor == 0:\n",
    "            factors.append(divisor)\n",
    "            number //= divisor\n",
    "\n",
    "        while number % divisor == 0:\n",
    "            number //= divisor\n",
    "\n",
    "    if len(factors) == 1:\n",
    "        print(f\"{numbers} is a prime number.\")\n",
    "    else:\n",
    "        print(f\"Prime factors of {numbers} are: {', '.join(map(str, factors))}\")"
   ]
  },
  {
   "cell_type": "code",
   "execution_count": null,
   "id": "89e4ed89",
   "metadata": {},
   "outputs": [],
   "source": []
  }
 ],
 "metadata": {
  "kernelspec": {
   "display_name": "Python 3",
   "language": "python",
   "name": "python3"
  },
  "language_info": {
   "codemirror_mode": {
    "name": "ipython",
    "version": 3
   },
   "file_extension": ".py",
   "mimetype": "text/x-python",
   "name": "python",
   "nbconvert_exporter": "python",
   "pygments_lexer": "ipython3",
   "version": "3.8.8"
  }
 },
 "nbformat": 4,
 "nbformat_minor": 5
}
